{
 "cells": [
  {
   "cell_type": "code",
   "execution_count": 1,
   "id": "5b4ba2d7",
   "metadata": {},
   "outputs": [],
   "source": [
    "%load_ext autoreload\n",
    "%autoreload 2"
   ]
  },
  {
   "cell_type": "code",
   "execution_count": 2,
   "id": "5a23ac1d",
   "metadata": {},
   "outputs": [],
   "source": [
    "from broinsight.data_quality.sql_profile import sql_table_profile, sql_field_profile"
   ]
  },
  {
   "cell_type": "code",
   "execution_count": 3,
   "id": "ee112827",
   "metadata": {},
   "outputs": [],
   "source": [
    "import seaborn as sns\n",
    "\n",
    "df = sns.load_dataset('tips')"
   ]
  },
  {
   "cell_type": "code",
   "execution_count": 13,
   "id": "eaa643dc",
   "metadata": {},
   "outputs": [
    {
     "data": {
      "text/plain": [
       "{'total_bill': {'data_types': 'float',\n",
       "  'missing_values': 0,\n",
       "  'missing_values_pct': 0.0,\n",
       "  'unique_values': 229,\n",
       "  'unique_values_pct': 0.94,\n",
       "  'most_frequent': {13.42: 3, 13.81: 2, 15.98: 2, 17.92: 2, 10.07: 2},\n",
       "  'statistics': {'min': 3.07,\n",
       "   'max': 50.81,\n",
       "   'mean': 19.79,\n",
       "   'median': 17.8,\n",
       "   'std': 8.9,\n",
       "   'var': 79.25,\n",
       "   'skew': 1.13,\n",
       "   'kurt': 1.22,\n",
       "   'iqr': 10.78,\n",
       "   'cv': 0.45,\n",
       "   'lower_bound': -2.82,\n",
       "   'upper_bound': 40.3}},\n",
       " 'tip': {'data_types': 'float',\n",
       "  'missing_values': 0,\n",
       "  'missing_values_pct': 0.0,\n",
       "  'unique_values': 123,\n",
       "  'unique_values_pct': 0.5,\n",
       "  'most_frequent': {2.0: 33, 3.0: 23, 4.0: 12, 5.0: 10, 2.5: 10},\n",
       "  'statistics': {'min': 1.0,\n",
       "   'max': 10.0,\n",
       "   'mean': 3.0,\n",
       "   'median': 2.9,\n",
       "   'std': 1.38,\n",
       "   'var': 1.91,\n",
       "   'skew': 1.47,\n",
       "   'kurt': 3.65,\n",
       "   'iqr': 1.56,\n",
       "   'cv': 0.46,\n",
       "   'lower_bound': -0.34,\n",
       "   'upper_bound': 5.91}},\n",
       " 'sex': {'data_types': 'string',\n",
       "  'missing_values': 0,\n",
       "  'missing_values_pct': 0.0,\n",
       "  'unique_values': 2,\n",
       "  'unique_values_pct': 0.01,\n",
       "  'most_frequent': {'Male': 157, 'Female': 87},\n",
       "  'statistics': {'mode': 'Male',\n",
       "   'avg_length': 4.71,\n",
       "   'min_length': 4.0,\n",
       "   'max_length': 6.0,\n",
       "   'empty_count': 0.0,\n",
       "   'whitespace_count': 0.0,\n",
       "   'pattern_consistency': 0.01}},\n",
       " 'smoker': {'data_types': 'string',\n",
       "  'missing_values': 0,\n",
       "  'missing_values_pct': 0.0,\n",
       "  'unique_values': 2,\n",
       "  'unique_values_pct': 0.01,\n",
       "  'most_frequent': {'No': 151, 'Yes': 93},\n",
       "  'statistics': {'mode': 'No',\n",
       "   'avg_length': 2.38,\n",
       "   'min_length': 2.0,\n",
       "   'max_length': 3.0,\n",
       "   'empty_count': 0.0,\n",
       "   'whitespace_count': 0.0,\n",
       "   'pattern_consistency': 0.01}},\n",
       " 'day': {'data_types': 'string',\n",
       "  'missing_values': 0,\n",
       "  'missing_values_pct': 0.0,\n",
       "  'unique_values': 4,\n",
       "  'unique_values_pct': 0.02,\n",
       "  'most_frequent': {'Sat': 87, 'Sun': 76, 'Thur': 62, 'Fri': 19},\n",
       "  'statistics': {'mode': 'Sat',\n",
       "   'avg_length': 3.25,\n",
       "   'min_length': 3.0,\n",
       "   'max_length': 4.0,\n",
       "   'empty_count': 0.0,\n",
       "   'whitespace_count': 0.0,\n",
       "   'pattern_consistency': 0.02}},\n",
       " 'time': {'data_types': 'string',\n",
       "  'missing_values': 0,\n",
       "  'missing_values_pct': 0.0,\n",
       "  'unique_values': 2,\n",
       "  'unique_values_pct': 0.01,\n",
       "  'most_frequent': {'Dinner': 176, 'Lunch': 68},\n",
       "  'statistics': {'mode': 'Dinner',\n",
       "   'avg_length': 5.72,\n",
       "   'min_length': 5.0,\n",
       "   'max_length': 6.0,\n",
       "   'empty_count': 0.0,\n",
       "   'whitespace_count': 0.0,\n",
       "   'pattern_consistency': 0.01}},\n",
       " 'size': {'data_types': 'integer',\n",
       "  'missing_values': 0,\n",
       "  'missing_values_pct': 0.0,\n",
       "  'unique_values': 6,\n",
       "  'unique_values_pct': 0.02,\n",
       "  'most_frequent': {2: 156, 3: 38, 4: 37, 5: 5, 1: 4},\n",
       "  'statistics': {'min': 1.0,\n",
       "   'max': 6.0,\n",
       "   'mean': 2.57,\n",
       "   'median': 2.0,\n",
       "   'std': 0.95,\n",
       "   'var': 0.9,\n",
       "   'skew': 1.45,\n",
       "   'kurt': 1.73,\n",
       "   'iqr': 1.0,\n",
       "   'cv': 0.37,\n",
       "   'lower_bound': 0.5,\n",
       "   'upper_bound': 4.5}}}"
      ]
     },
     "execution_count": 13,
     "metadata": {},
     "output_type": "execute_result"
    }
   ],
   "source": [
    "from broinsight.data_quality.field_profile import field_profile\n",
    "from broinsight.data_quality.table_profile import table_profile\n",
    "_ = field_profile(df)\n",
    "_"
   ]
  },
  {
   "cell_type": "code",
   "execution_count": 70,
   "id": "3893fd93",
   "metadata": {},
   "outputs": [
    {
     "name": "stdout",
     "output_type": "stream",
     "text": [
      "           data_types  missing_values  missing_values_pct  unique_values  unique_values_pct                                       most_frequent                                                                                                                                                                             statistics\n",
      "total_bill      float               0                 0.0            229               0.94  {13.42: 3, 13.81: 2, 15.98: 2, 17.92: 2, 10.07: 2}  {'min': 3.07, 'max': 50.81, 'mean': 19.79, 'median': 17.8, 'std': 8.9, 'var': 79.25, 'skew': 1.13, 'kurt': 1.22, 'iqr': 10.78, 'cv': 0.45, 'lower_bound': -2.82, 'upper_bound': 40.3}\n",
      "tip             float               0                 0.0            123               0.50       {2.0: 33, 3.0: 23, 4.0: 12, 5.0: 10, 2.5: 10}        {'min': 1.0, 'max': 10.0, 'mean': 3.0, 'median': 2.9, 'std': 1.38, 'var': 1.91, 'skew': 1.47, 'kurt': 3.65, 'iqr': 1.56, 'cv': 0.46, 'lower_bound': -0.34, 'upper_bound': 5.91}\n",
      "sex            string               0                 0.0              2               0.01                         {'Male': 157, 'Female': 87}                                   {'mode': 'Male', 'avg_length': 4.71, 'min_length': 4.0, 'max_length': 6.0, 'empty_count': 0.0, 'whitespace_count': 0.0, 'pattern_consistency': 0.01}\n",
      "smoker         string               0                 0.0              2               0.01                              {'No': 151, 'Yes': 93}                                     {'mode': 'No', 'avg_length': 2.38, 'min_length': 2.0, 'max_length': 3.0, 'empty_count': 0.0, 'whitespace_count': 0.0, 'pattern_consistency': 0.01}\n",
      "day            string               0                 0.0              4               0.02       {'Sat': 87, 'Sun': 76, 'Thur': 62, 'Fri': 19}                                    {'mode': 'Sat', 'avg_length': 3.25, 'min_length': 3.0, 'max_length': 4.0, 'empty_count': 0.0, 'whitespace_count': 0.0, 'pattern_consistency': 0.02}\n",
      "time           string               0                 0.0              2               0.01                        {'Dinner': 176, 'Lunch': 68}                                 {'mode': 'Dinner', 'avg_length': 5.72, 'min_length': 5.0, 'max_length': 6.0, 'empty_count': 0.0, 'whitespace_count': 0.0, 'pattern_consistency': 0.01}\n",
      "size          integer               0                 0.0              6               0.02                  {2: 156, 3: 38, 4: 37, 5: 5, 1: 4}             {'min': 1.0, 'max': 6.0, 'mean': 2.57, 'median': 2.0, 'std': 0.95, 'var': 0.9, 'skew': 1.45, 'kurt': 1.73, 'iqr': 1.0, 'cv': 0.37, 'lower_bound': 0.5, 'upper_bound': 4.5}\n"
     ]
    }
   ],
   "source": [
    "import pandas as pd\n",
    "profile = pd.DataFrame.from_dict(_, orient=\"index\")\n",
    "print(profile.to_string())"
   ]
  },
  {
   "cell_type": "code",
   "execution_count": 71,
   "id": "150c05b7",
   "metadata": {},
   "outputs": [],
   "source": [
    "from broinsight.data_quality.criteria import assess_data_quality\n",
    "\n",
    "dq_summary = assess_data_quality(_)"
   ]
  },
  {
   "cell_type": "code",
   "execution_count": 72,
   "id": "c24b57e7",
   "metadata": {},
   "outputs": [
    {
     "data": {
      "text/plain": [
       "{'total_bill': {'summary': {'quality': 'good',\n",
       "   'issues': [{'type': 'moderate_skewness',\n",
       "     'severity': 'minor',\n",
       "     'description': 'Moderately skewed distribution (skew: 1.13)'}],\n",
       "   'issue_count': 1}},\n",
       " 'tip': {'summary': {'quality': 'good',\n",
       "   'issues': [{'type': 'moderate_skewness',\n",
       "     'severity': 'minor',\n",
       "     'description': 'Moderately skewed distribution (skew: 1.47)'}],\n",
       "   'issue_count': 1}},\n",
       " 'sex': {'summary': {'quality': 'good', 'issues': [], 'issue_count': 0}},\n",
       " 'smoker': {'summary': {'quality': 'good', 'issues': [], 'issue_count': 0}},\n",
       " 'day': {'summary': {'quality': 'good', 'issues': [], 'issue_count': 0}},\n",
       " 'time': {'summary': {'quality': 'good', 'issues': [], 'issue_count': 0}},\n",
       " 'size': {'summary': {'quality': 'good',\n",
       "   'issues': [{'type': 'moderate_skewness',\n",
       "     'severity': 'minor',\n",
       "     'description': 'Moderately skewed distribution (skew: 1.45)'}],\n",
       "   'issue_count': 1}}}"
      ]
     },
     "execution_count": 72,
     "metadata": {},
     "output_type": "execute_result"
    }
   ],
   "source": [
    "dq_summary"
   ]
  },
  {
   "cell_type": "code",
   "execution_count": 73,
   "id": "ba7dbb18",
   "metadata": {},
   "outputs": [],
   "source": [
    "from broinsight.data_quality.create_profile import create_profile, format_profile\n",
    "\n",
    "profile_dict = create_profile(df)\n",
    "profile_str = format_profile(profile_dict)"
   ]
  },
  {
   "cell_type": "code",
   "execution_count": 74,
   "id": "c6549ef5",
   "metadata": {},
   "outputs": [
    {
     "data": {
      "text/plain": [
       "{'dataset_summary': {'rows': 244,\n",
       "  'columns': 7,\n",
       "  'duplicates': 1,\n",
       "  'duplicate_examples': {198: {'total_bill': 13.0,\n",
       "    'tip': 2.0,\n",
       "    'sex': 'Female',\n",
       "    'smoker': 'Yes',\n",
       "    'day': 'Thur',\n",
       "    'time': 'Lunch',\n",
       "    'size': 2},\n",
       "   202: {'total_bill': 13.0,\n",
       "    'tip': 2.0,\n",
       "    'sex': 'Female',\n",
       "    'smoker': 'Yes',\n",
       "    'day': 'Thur',\n",
       "    'time': 'Lunch',\n",
       "    'size': 2}}},\n",
       " 'fields': {'total_bill': {'profile': {'data_types': 'float',\n",
       "    'missing_values': 0,\n",
       "    'missing_values_pct': 0.0,\n",
       "    'unique_values': 229,\n",
       "    'unique_values_pct': 0.94,\n",
       "    'most_frequent': {13.42: 3, 13.81: 2, 15.98: 2, 17.92: 2, 10.07: 2},\n",
       "    'statistics': {'min': 3.07,\n",
       "     'max': 50.81,\n",
       "     'mean': 19.79,\n",
       "     'median': 17.8,\n",
       "     'std': 8.9,\n",
       "     'var': 79.25,\n",
       "     'skew': 1.13,\n",
       "     'kurt': 1.22,\n",
       "     'iqr': 10.78,\n",
       "     'cv': 0.45,\n",
       "     'lower_bound': -2.82,\n",
       "     'upper_bound': 40.3}},\n",
       "   'quality': {'quality': 'good',\n",
       "    'issues': [{'type': 'moderate_skewness',\n",
       "      'severity': 'minor',\n",
       "      'description': 'Moderately skewed distribution (skew: 1.13)'}],\n",
       "    'issue_count': 1}},\n",
       "  'tip': {'profile': {'data_types': 'float',\n",
       "    'missing_values': 0,\n",
       "    'missing_values_pct': 0.0,\n",
       "    'unique_values': 123,\n",
       "    'unique_values_pct': 0.5,\n",
       "    'most_frequent': {2.0: 33, 3.0: 23, 4.0: 12, 5.0: 10, 2.5: 10},\n",
       "    'statistics': {'min': 1.0,\n",
       "     'max': 10.0,\n",
       "     'mean': 3.0,\n",
       "     'median': 2.9,\n",
       "     'std': 1.38,\n",
       "     'var': 1.91,\n",
       "     'skew': 1.47,\n",
       "     'kurt': 3.65,\n",
       "     'iqr': 1.56,\n",
       "     'cv': 0.46,\n",
       "     'lower_bound': -0.34,\n",
       "     'upper_bound': 5.91}},\n",
       "   'quality': {'quality': 'good',\n",
       "    'issues': [{'type': 'moderate_skewness',\n",
       "      'severity': 'minor',\n",
       "      'description': 'Moderately skewed distribution (skew: 1.47)'}],\n",
       "    'issue_count': 1}},\n",
       "  'sex': {'profile': {'data_types': 'string',\n",
       "    'missing_values': 0,\n",
       "    'missing_values_pct': 0.0,\n",
       "    'unique_values': 2,\n",
       "    'unique_values_pct': 0.01,\n",
       "    'most_frequent': {'Male': 157, 'Female': 87},\n",
       "    'statistics': {'mode': 'Male',\n",
       "     'avg_length': 4.71,\n",
       "     'min_length': 4.0,\n",
       "     'max_length': 6.0,\n",
       "     'empty_count': 0.0,\n",
       "     'whitespace_count': 0.0,\n",
       "     'pattern_consistency': 0.01}},\n",
       "   'quality': {'quality': 'good', 'issues': [], 'issue_count': 0}},\n",
       "  'smoker': {'profile': {'data_types': 'string',\n",
       "    'missing_values': 0,\n",
       "    'missing_values_pct': 0.0,\n",
       "    'unique_values': 2,\n",
       "    'unique_values_pct': 0.01,\n",
       "    'most_frequent': {'No': 151, 'Yes': 93},\n",
       "    'statistics': {'mode': 'No',\n",
       "     'avg_length': 2.38,\n",
       "     'min_length': 2.0,\n",
       "     'max_length': 3.0,\n",
       "     'empty_count': 0.0,\n",
       "     'whitespace_count': 0.0,\n",
       "     'pattern_consistency': 0.01}},\n",
       "   'quality': {'quality': 'good', 'issues': [], 'issue_count': 0}},\n",
       "  'day': {'profile': {'data_types': 'string',\n",
       "    'missing_values': 0,\n",
       "    'missing_values_pct': 0.0,\n",
       "    'unique_values': 4,\n",
       "    'unique_values_pct': 0.02,\n",
       "    'most_frequent': {'Sat': 87, 'Sun': 76, 'Thur': 62, 'Fri': 19},\n",
       "    'statistics': {'mode': 'Sat',\n",
       "     'avg_length': 3.25,\n",
       "     'min_length': 3.0,\n",
       "     'max_length': 4.0,\n",
       "     'empty_count': 0.0,\n",
       "     'whitespace_count': 0.0,\n",
       "     'pattern_consistency': 0.02}},\n",
       "   'quality': {'quality': 'good', 'issues': [], 'issue_count': 0}},\n",
       "  'time': {'profile': {'data_types': 'string',\n",
       "    'missing_values': 0,\n",
       "    'missing_values_pct': 0.0,\n",
       "    'unique_values': 2,\n",
       "    'unique_values_pct': 0.01,\n",
       "    'most_frequent': {'Dinner': 176, 'Lunch': 68},\n",
       "    'statistics': {'mode': 'Dinner',\n",
       "     'avg_length': 5.72,\n",
       "     'min_length': 5.0,\n",
       "     'max_length': 6.0,\n",
       "     'empty_count': 0.0,\n",
       "     'whitespace_count': 0.0,\n",
       "     'pattern_consistency': 0.01}},\n",
       "   'quality': {'quality': 'good', 'issues': [], 'issue_count': 0}},\n",
       "  'size': {'profile': {'data_types': 'integer',\n",
       "    'missing_values': 0,\n",
       "    'missing_values_pct': 0.0,\n",
       "    'unique_values': 6,\n",
       "    'unique_values_pct': 0.02,\n",
       "    'most_frequent': {2: 156, 3: 38, 4: 37, 5: 5, 1: 4},\n",
       "    'statistics': {'min': 1.0,\n",
       "     'max': 6.0,\n",
       "     'mean': 2.57,\n",
       "     'median': 2.0,\n",
       "     'std': 0.95,\n",
       "     'var': 0.9,\n",
       "     'skew': 1.45,\n",
       "     'kurt': 1.73,\n",
       "     'iqr': 1.0,\n",
       "     'cv': 0.37,\n",
       "     'lower_bound': 0.5,\n",
       "     'upper_bound': 4.5}},\n",
       "   'quality': {'quality': 'good',\n",
       "    'issues': [{'type': 'moderate_skewness',\n",
       "      'severity': 'minor',\n",
       "      'description': 'Moderately skewed distribution (skew: 1.45)'}],\n",
       "    'issue_count': 1}}}}"
      ]
     },
     "execution_count": 74,
     "metadata": {},
     "output_type": "execute_result"
    }
   ],
   "source": [
    "profile_dict"
   ]
  },
  {
   "cell_type": "code",
   "execution_count": 75,
   "id": "ea93f552",
   "metadata": {},
   "outputs": [
    {
     "name": "stdout",
     "output_type": "stream",
     "text": [
      "# Dataset Overview\n",
      "**Size:** 244 rows × 7 columns\n",
      "**Duplicates:** 1 duplicate record(s) found\n",
      "**Examples:** Rows 198, 202 are identical\n",
      "\n",
      "# Fields\n",
      "## total_bill\n",
      "**Type:** float\n",
      "**Missing:** 0 (0.0%)\n",
      "**Unique:** 229 (94.0%)\n",
      "**Quality:** good\n",
      "**Issues:**\n",
      "  - Moderately skewed distribution (skew: 1.13) (minor)\n",
      "**Stats:** min=3.07, max=50.81, mean=19.79, skew=1.13\n",
      "\n",
      "## tip\n",
      "**Type:** float\n",
      "**Missing:** 0 (0.0%)\n",
      "**Unique:** 123 (50.0%)\n",
      "**Quality:** good\n",
      "**Issues:**\n",
      "  - Moderately skewed distribution (skew: 1.47) (minor)\n",
      "**Stats:** min=1.0, max=10.0, mean=3.0, skew=1.47\n",
      "\n",
      "## sex\n",
      "**Type:** string\n",
      "**Missing:** 0 (0.0%)\n",
      "**Unique:** 2 (1.0%)\n",
      "**Quality:** good\n",
      "**Stats:** mode=Male, avg_length=4.71\n",
      "\n",
      "## smoker\n",
      "**Type:** string\n",
      "**Missing:** 0 (0.0%)\n",
      "**Unique:** 2 (1.0%)\n",
      "**Quality:** good\n",
      "**Stats:** mode=No, avg_length=2.38\n",
      "\n",
      "## day\n",
      "**Type:** string\n",
      "**Missing:** 0 (0.0%)\n",
      "**Unique:** 4 (2.0%)\n",
      "**Quality:** good\n",
      "**Stats:** mode=Sat, avg_length=3.25\n",
      "\n",
      "## time\n",
      "**Type:** string\n",
      "**Missing:** 0 (0.0%)\n",
      "**Unique:** 2 (1.0%)\n",
      "**Quality:** good\n",
      "**Stats:** mode=Dinner, avg_length=5.72\n",
      "\n",
      "## size\n",
      "**Type:** integer\n",
      "**Missing:** 0 (0.0%)\n",
      "**Unique:** 6 (2.0%)\n",
      "**Quality:** good\n",
      "**Issues:**\n",
      "  - Moderately skewed distribution (skew: 1.45) (minor)\n",
      "**Stats:** min=1.0, max=6.0, mean=2.57, skew=1.45\n",
      "\n"
     ]
    }
   ],
   "source": [
    "print(profile_str)"
   ]
  },
  {
   "cell_type": "code",
   "execution_count": 76,
   "id": "6ed16cef",
   "metadata": {},
   "outputs": [
    {
     "data": {
      "text/plain": [
       "{'content': '**Data Quality Assessment:** READY  \\n\\n**Critical Issues Found:** None – all fields are complete and correctly typed.  \\n\\n**Recommended Actions (prioritized):**  \\n1. **Duplicate record** – Rows 198 and 202 are identical.  \\n   *Action:* Decide whether to keep or drop the duplicate based on domain knowledge (e.g., if the duplicate represents a genuine repeated visit, keep it; otherwise, remove it).  \\n2. **Moderate skewness** in `total_bill`, `tip`, and `size` (skew\\u202f≈\\u202f1.1‑1.5).  \\n   *Action:*  \\n   - If using algorithms that assume normality (e.g., linear regression, ANOVA), consider a log or square‑root transformation.  \\n   - For tree‑based models (random forest, gradient boosting) the skewness is usually not a problem.  \\n3. **No missing values** – no imputation needed.  \\n\\n**Next Steps:**  \\n- Proceed with exploratory data analysis (EDA).  \\n- If you plan to build predictive models, evaluate whether transformations improve model assumptions or performance.  \\n- Document the duplicate handling decision for reproducibility.  \\n\\n**Overall Recommendation:** The dataset is in good shape and ready for analysis; just address the duplicate and consider transformations for skewed numeric fields if required by your analytical methods.',\n",
       " 'model_name': 'gpt-oss:latest',\n",
       " 'input_token': 0,\n",
       " 'output_token': 0}"
      ]
     },
     "execution_count": 76,
     "metadata": {},
     "output_type": "execute_result"
    }
   ],
   "source": [
    "from broinsight.experiment.ollama import LocalOpenAI\n",
    "from broprompt import Prompt\n",
    "\n",
    "model = LocalOpenAI()\n",
    "\n",
    "prompt = Prompt.from_markdown(\"broinsight/prompt_hub/dq_suggestion.md\")\n",
    "question = \"Do we have any concern about this one?\"\n",
    "user_input = \"PROFILE:\\n\\n{profile}\\n\\nUSER_INPUT:\\n\\n{question}\\n\\n\".format(profile=profile_str, question=question)\n",
    "response = model.run(system_prompt=prompt.str, messages=[\n",
    "    model.UserMessage(text=user_input)\n",
    "])\n",
    "response"
   ]
  },
  {
   "cell_type": "code",
   "execution_count": 77,
   "id": "b0672685",
   "metadata": {},
   "outputs": [
    {
     "name": "stdout",
     "output_type": "stream",
     "text": [
      "**Data Quality Assessment:** READY  \n",
      "\n",
      "**Critical Issues Found:** None – all fields are complete and correctly typed.  \n",
      "\n",
      "**Recommended Actions (prioritized):**  \n",
      "1. **Duplicate record** – Rows 198 and 202 are identical.  \n",
      "   *Action:* Decide whether to keep or drop the duplicate based on domain knowledge (e.g., if the duplicate represents a genuine repeated visit, keep it; otherwise, remove it).  \n",
      "2. **Moderate skewness** in `total_bill`, `tip`, and `size` (skew ≈ 1.1‑1.5).  \n",
      "   *Action:*  \n",
      "   - If using algorithms that assume normality (e.g., linear regression, ANOVA), consider a log or square‑root transformation.  \n",
      "   - For tree‑based models (random forest, gradient boosting) the skewness is usually not a problem.  \n",
      "3. **No missing values** – no imputation needed.  \n",
      "\n",
      "**Next Steps:**  \n",
      "- Proceed with exploratory data analysis (EDA).  \n",
      "- If you plan to build predictive models, evaluate whether transformations improve model assumptions or performance.  \n",
      "- Document the duplicate handling decision for reproducibility.  \n",
      "\n",
      "**Overall Recommendation:** The dataset is in good shape and ready for analysis; just address the duplicate and consider transformations for skewed numeric fields if required by your analytical methods.\n"
     ]
    }
   ],
   "source": [
    "print(response['content'])"
   ]
  },
  {
   "cell_type": "code",
   "execution_count": 4,
   "id": "a534b6bf",
   "metadata": {},
   "outputs": [
    {
     "data": {
      "text/plain": [
       "<duckdb.duckdb.DuckDBPyConnection at 0x1353d9730>"
      ]
     },
     "execution_count": 4,
     "metadata": {},
     "output_type": "execute_result"
    }
   ],
   "source": [
    "import duckdb\n",
    "\n",
    "conn = duckdb.connect()\n",
    "\n",
    "conn.register(\"tips\", df)"
   ]
  },
  {
   "cell_type": "code",
   "execution_count": 5,
   "id": "f5ec5866",
   "metadata": {},
   "outputs": [
    {
     "name": "stdout",
     "output_type": "stream",
     "text": [
      "  column_name                          data_type is_nullable\n",
      "0  total_bill                             DOUBLE         YES\n",
      "1         tip                             DOUBLE         YES\n",
      "2         sex             ENUM('Male', 'Female')         YES\n",
      "3      smoker                  ENUM('Yes', 'No')         YES\n",
      "4         day  ENUM('Thur', 'Fri', 'Sat', 'Sun')         YES\n",
      "5        time            ENUM('Lunch', 'Dinner')         YES\n",
      "6        size                             BIGINT         YES\n"
     ]
    }
   ],
   "source": [
    "# More detailed schema information\n",
    "result = conn.execute(\"\"\"\n",
    "    SELECT column_name, data_type, is_nullable\n",
    "    FROM information_schema.columns \n",
    "    WHERE table_name = 'tips'\n",
    "\"\"\").fetchdf()\n",
    "print(result)"
   ]
  },
  {
   "cell_type": "code",
   "execution_count": 14,
   "id": "78b38314",
   "metadata": {},
   "outputs": [
    {
     "data": {
      "text/plain": [
       "{'rows': 244,\n",
       " 'columns': 7,\n",
       " 'duplicates': 1,\n",
       " 'evidences': {198: {'total_bill': 13.0,\n",
       "   'tip': 2.0,\n",
       "   'sex': 'Female',\n",
       "   'smoker': 'Yes',\n",
       "   'day': 'Thur',\n",
       "   'time': 'Lunch',\n",
       "   'size': 2},\n",
       "  202: {'total_bill': 13.0,\n",
       "   'tip': 2.0,\n",
       "   'sex': 'Female',\n",
       "   'smoker': 'Yes',\n",
       "   'day': 'Thur',\n",
       "   'time': 'Lunch',\n",
       "   'size': 2}}}"
      ]
     },
     "execution_count": 14,
     "metadata": {},
     "output_type": "execute_result"
    }
   ],
   "source": [
    "table_profile(df)"
   ]
  },
  {
   "cell_type": "code",
   "execution_count": 6,
   "id": "1c6e65d6",
   "metadata": {},
   "outputs": [
    {
     "data": {
      "text/plain": [
       "{'rows': 244,\n",
       " 'columns': 7,\n",
       " 'duplicates': 1,\n",
       " 'evidences': {0: {'total_bill': 13.0,\n",
       "   'tip': 2.0,\n",
       "   'sex': 'Female',\n",
       "   'smoker': 'Yes',\n",
       "   'day': 'Thur',\n",
       "   'time': 'Lunch',\n",
       "   'size': 2,\n",
       "   'dup_count': 2}}}"
      ]
     },
     "execution_count": 6,
     "metadata": {},
     "output_type": "execute_result"
    }
   ],
   "source": [
    "sql_table_profile(conn, \"tips\")"
   ]
  },
  {
   "cell_type": "code",
   "execution_count": 16,
   "id": "b1e34d32",
   "metadata": {},
   "outputs": [],
   "source": [
    "f_p = field_profile(df)"
   ]
  },
  {
   "cell_type": "code",
   "execution_count": 17,
   "id": "636e25f4",
   "metadata": {},
   "outputs": [],
   "source": [
    "s_p = sql_field_profile(conn, \"tips\")"
   ]
  },
  {
   "cell_type": "code",
   "execution_count": 10,
   "id": "14175bdd",
   "metadata": {},
   "outputs": [
    {
     "data": {
      "text/plain": [
       "[('total_bill', 'DOUBLE', 'YES', None, None, None),\n",
       " ('tip', 'DOUBLE', 'YES', None, None, None),\n",
       " ('sex', \"ENUM('Male', 'Female')\", 'YES', None, None, None),\n",
       " ('smoker', \"ENUM('Yes', 'No')\", 'YES', None, None, None),\n",
       " ('day', \"ENUM('Thur', 'Fri', 'Sat', 'Sun')\", 'YES', None, None, None),\n",
       " ('time', \"ENUM('Lunch', 'Dinner')\", 'YES', None, None, None),\n",
       " ('size', 'BIGINT', 'YES', None, None, None)]"
      ]
     },
     "execution_count": 10,
     "metadata": {},
     "output_type": "execute_result"
    }
   ],
   "source": [
    "conn.execute(\"DESCRIBE tips\").fetchall()"
   ]
  },
  {
   "cell_type": "code",
   "execution_count": 11,
   "id": "e0389565",
   "metadata": {},
   "outputs": [
    {
     "name": "stdout",
     "output_type": "stream",
     "text": [
      "<class 'pandas.core.frame.DataFrame'>\n",
      "RangeIndex: 244 entries, 0 to 243\n",
      "Data columns (total 7 columns):\n",
      " #   Column      Non-Null Count  Dtype   \n",
      "---  ------      --------------  -----   \n",
      " 0   total_bill  244 non-null    float64 \n",
      " 1   tip         244 non-null    float64 \n",
      " 2   sex         244 non-null    category\n",
      " 3   smoker      244 non-null    category\n",
      " 4   day         244 non-null    category\n",
      " 5   time        244 non-null    category\n",
      " 6   size        244 non-null    int64   \n",
      "dtypes: category(4), float64(2), int64(1)\n",
      "memory usage: 7.4 KB\n"
     ]
    }
   ],
   "source": [
    "df.info()"
   ]
  },
  {
   "cell_type": "code",
   "execution_count": 19,
   "id": "25f28d1b",
   "metadata": {},
   "outputs": [
    {
     "data": {
      "text/plain": [
       "dict_keys(['total_bill', 'tip', 'sex', 'smoker', 'day', 'time', 'size'])"
      ]
     },
     "execution_count": 19,
     "metadata": {},
     "output_type": "execute_result"
    }
   ],
   "source": [
    "f_p.keys()"
   ]
  },
  {
   "cell_type": "code",
   "execution_count": 20,
   "id": "66481c81",
   "metadata": {},
   "outputs": [
    {
     "data": {
      "text/plain": [
       "dict_keys(['total_bill', 'tip', 'sex', 'smoker', 'day', 'time', 'size'])"
      ]
     },
     "execution_count": 20,
     "metadata": {},
     "output_type": "execute_result"
    }
   ],
   "source": [
    "s_p.keys()"
   ]
  },
  {
   "cell_type": "code",
   "execution_count": 23,
   "id": "5ef1902e",
   "metadata": {},
   "outputs": [
    {
     "data": {
      "text/plain": [
       "{'data_types': 'string',\n",
       " 'missing_values': 0,\n",
       " 'missing_values_pct': 0.0,\n",
       " 'unique_values': 2,\n",
       " 'unique_values_pct': 0.01,\n",
       " 'most_frequent': {'Male': 157, 'Female': 87},\n",
       " 'statistics': {'mode': 'Male',\n",
       "  'avg_length': 4.71,\n",
       "  'min_length': 4.0,\n",
       "  'max_length': 6.0,\n",
       "  'empty_count': 0.0,\n",
       "  'whitespace_count': 0.0,\n",
       "  'pattern_consistency': 0.01}}"
      ]
     },
     "execution_count": 23,
     "metadata": {},
     "output_type": "execute_result"
    }
   ],
   "source": [
    "field = 'sex'\n",
    "f_p[field]"
   ]
  },
  {
   "cell_type": "code",
   "execution_count": 24,
   "id": "4eea8b44",
   "metadata": {},
   "outputs": [
    {
     "data": {
      "text/plain": [
       "{'data_types': 'string',\n",
       " 'missing_values': 0,\n",
       " 'missing_values_pct': 0.0,\n",
       " 'unique_values': 2,\n",
       " 'unique_values_pct': 0.01,\n",
       " 'most_frequent': {'Male': 157, 'Female': 87},\n",
       " 'statistics': {'mode': 'Male',\n",
       "  'avg_length': 4.71,\n",
       "  'min_length': 4,\n",
       "  'max_length': 6,\n",
       "  'empty_count': 0,\n",
       "  'whitespace_count': 0,\n",
       "  'pattern_consistency': 0.01}}"
      ]
     },
     "execution_count": 24,
     "metadata": {},
     "output_type": "execute_result"
    }
   ],
   "source": [
    "s_p[field]"
   ]
  },
  {
   "cell_type": "code",
   "execution_count": 25,
   "id": "83dd77dc",
   "metadata": {},
   "outputs": [
    {
     "data": {
      "text/plain": [
       "{'total_bill': {'summary': {'quality': 'good',\n",
       "   'issues': [{'type': 'moderate_skewness',\n",
       "     'severity': 'minor',\n",
       "     'description': 'Moderately skewed distribution (skew: 1.13)'}],\n",
       "   'issue_count': 1}},\n",
       " 'tip': {'summary': {'quality': 'good',\n",
       "   'issues': [{'type': 'moderate_skewness',\n",
       "     'severity': 'minor',\n",
       "     'description': 'Moderately skewed distribution (skew: 1.47)'}],\n",
       "   'issue_count': 1}},\n",
       " 'sex': {'summary': {'quality': 'good', 'issues': [], 'issue_count': 0}},\n",
       " 'smoker': {'summary': {'quality': 'good', 'issues': [], 'issue_count': 0}},\n",
       " 'day': {'summary': {'quality': 'good', 'issues': [], 'issue_count': 0}},\n",
       " 'time': {'summary': {'quality': 'good', 'issues': [], 'issue_count': 0}},\n",
       " 'size': {'summary': {'quality': 'good',\n",
       "   'issues': [{'type': 'moderate_skewness',\n",
       "     'severity': 'minor',\n",
       "     'description': 'Moderately skewed distribution (skew: 1.45)'}],\n",
       "   'issue_count': 1}}}"
      ]
     },
     "execution_count": 25,
     "metadata": {},
     "output_type": "execute_result"
    }
   ],
   "source": [
    "from broinsight.data_quality.criteria import assess_data_quality\n",
    "assess_data_quality(s_p)"
   ]
  },
  {
   "cell_type": "code",
   "execution_count": null,
   "id": "488b4bad",
   "metadata": {},
   "outputs": [],
   "source": []
  }
 ],
 "metadata": {
  "kernelspec": {
   "display_name": "broinsight",
   "language": "python",
   "name": "python3"
  },
  "language_info": {
   "codemirror_mode": {
    "name": "ipython",
    "version": 3
   },
   "file_extension": ".py",
   "mimetype": "text/x-python",
   "name": "python",
   "nbconvert_exporter": "python",
   "pygments_lexer": "ipython3",
   "version": "3.12.11"
  }
 },
 "nbformat": 4,
 "nbformat_minor": 5
}
