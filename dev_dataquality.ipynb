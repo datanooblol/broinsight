{
 "cells": [
  {
   "cell_type": "code",
   "execution_count": 1,
   "id": "5b4ba2d7",
   "metadata": {},
   "outputs": [],
   "source": [
    "%load_ext autoreload\n",
    "%autoreload 2"
   ]
  },
  {
   "cell_type": "markdown",
   "id": "d9f1ce76",
   "metadata": {},
   "source": [
    "# Using pandas dataframe for profiling data quality"
   ]
  },
  {
   "cell_type": "code",
   "execution_count": 2,
   "id": "18772513",
   "metadata": {},
   "outputs": [],
   "source": [
    "from broinsight.data_quality.create_profile import create_profile, format_profile\n",
    "import seaborn as sns\n",
    "\n",
    "df = sns.load_dataset('tips')\n",
    "profile_dict = create_profile(df)\n",
    "profile_str = format_profile(profile_dict)"
   ]
  },
  {
   "cell_type": "code",
   "execution_count": 3,
   "id": "c2efeb63",
   "metadata": {},
   "outputs": [
    {
     "data": {
      "text/plain": [
       "{'content': '**Data Quality Assessment: READY**  \\n\\n**Critical Issues Found:** None – all fields have complete data and no severe inconsistencies.  \\n\\n**Recommended Actions:**  \\n1. **Duplicate Check** – There is one duplicate record (rows\\u202f198\\u202f&\\u202f202).  \\n   - *Option A:* Remove the duplicate to avoid any minor bias.  \\n   - *Option B:* Keep it if the duplicate represents a legitimate repeat visit and you want to preserve frequency.  \\n2. **Skewness Awareness** – The `total_bill`, `tip`, and `size` columns show moderate right‑skewness (skew\\u202f≈\\u202f1.1–1.5).  \\n   - If you plan to use algorithms sensitive to distribution shape (e.g., linear regression, k‑means), consider applying a log or Box‑Cox transform.  \\n   - For tree‑based models (random forest, gradient boosting), the skewness is usually not problematic.  \\n3. **Documentation** – Note the duplicate and skewness in your data dictionary so downstream users are aware.  \\n\\n**Next Steps:**  \\n- Proceed with exploratory data analysis and modeling.  \\n- If you decide to transform skewed variables, validate the impact on model performance.  \\n- Keep an eye on the duplicate in any downstream aggregations to ensure it doesn’t inflate counts.\\n\\n**Overall Recommendation:** The dataset is clean and ready for analysis; the only minor concern is a single duplicate record, which can be handled easily.',\n",
       " 'model_name': 'gpt-oss:latest',\n",
       " 'input_token': 0,\n",
       " 'output_token': 0}"
      ]
     },
     "execution_count": 3,
     "metadata": {},
     "output_type": "execute_result"
    }
   ],
   "source": [
    "from broinsight.experiment.ollama import LocalOpenAI\n",
    "from broprompt import Prompt\n",
    "\n",
    "model = LocalOpenAI()\n",
    "\n",
    "prompt = Prompt.from_markdown(\"broinsight/prompt_hub/dq_suggestion.md\")\n",
    "question = \"Do we have any concern about this one?\"\n",
    "user_input = \"PROFILE:\\n\\n{profile}\\n\\nUSER_INPUT:\\n\\n{question}\\n\\n\".format(profile=profile_str, question=question)\n",
    "response = model.run(system_prompt=prompt.str, messages=[\n",
    "    model.UserMessage(text=user_input)\n",
    "])\n",
    "response"
   ]
  },
  {
   "cell_type": "code",
   "execution_count": 4,
   "id": "8bb460c6",
   "metadata": {},
   "outputs": [
    {
     "name": "stdout",
     "output_type": "stream",
     "text": [
      "**Data Quality Assessment: READY**  \n",
      "\n",
      "**Critical Issues Found:** None – all fields have complete data and no severe inconsistencies.  \n",
      "\n",
      "**Recommended Actions:**  \n",
      "1. **Duplicate Check** – There is one duplicate record (rows 198 & 202).  \n",
      "   - *Option A:* Remove the duplicate to avoid any minor bias.  \n",
      "   - *Option B:* Keep it if the duplicate represents a legitimate repeat visit and you want to preserve frequency.  \n",
      "2. **Skewness Awareness** – The `total_bill`, `tip`, and `size` columns show moderate right‑skewness (skew ≈ 1.1–1.5).  \n",
      "   - If you plan to use algorithms sensitive to distribution shape (e.g., linear regression, k‑means), consider applying a log or Box‑Cox transform.  \n",
      "   - For tree‑based models (random forest, gradient boosting), the skewness is usually not problematic.  \n",
      "3. **Documentation** – Note the duplicate and skewness in your data dictionary so downstream users are aware.  \n",
      "\n",
      "**Next Steps:**  \n",
      "- Proceed with exploratory data analysis and modeling.  \n",
      "- If you decide to transform skewed variables, validate the impact on model performance.  \n",
      "- Keep an eye on the duplicate in any downstream aggregations to ensure it doesn’t inflate counts.\n",
      "\n",
      "**Overall Recommendation:** The dataset is clean and ready for analysis; the only minor concern is a single duplicate record, which can be handled easily.\n"
     ]
    }
   ],
   "source": [
    "print(response['content'])"
   ]
  },
  {
   "cell_type": "markdown",
   "id": "3e44bf7e",
   "metadata": {},
   "source": [
    "# Using duckdb for profiling data quality"
   ]
  },
  {
   "cell_type": "code",
   "execution_count": 5,
   "id": "c4120d2f",
   "metadata": {},
   "outputs": [],
   "source": [
    "import pandas as pd\n",
    "import seaborn as sns\n",
    "import duckdb\n",
    "from broinsight.data_quality.sql_profile import sql_table_profile, sql_field_profile\n",
    "from broinsight.data_quality.create_profile import create_profile, format_profile\n",
    "from broinsight.data_quality.criteria import assess_data_quality\n",
    "df = sns.load_dataset('tips')\n",
    "conn = duckdb.connect()\n",
    "conn.register(\"tips\", df)\n",
    "profile_dict = sql_field_profile(conn, \"tips\")\n",
    "dataset_summary = sql_table_profile(conn, \"tips\")\n",
    "dq_summary = assess_data_quality(profile_dict)"
   ]
  },
  {
   "cell_type": "code",
   "execution_count": 6,
   "id": "460c56ed",
   "metadata": {},
   "outputs": [
    {
     "name": "stdout",
     "output_type": "stream",
     "text": [
      "           data_types  missing_values  missing_values_pct  unique_values  unique_values_pct                                     most_frequent                                                                                                                                                                             statistics\n",
      "total_bill      float               0                 0.0            229               0.94  {13.42: 3, 20.29: 2, 13.0: 2, 7.25: 2, 10.07: 2}  {'min': 3.07, 'max': 50.81, 'mean': 19.79, 'median': 17.8, 'std': 8.9, 'var': 79.25, 'skew': 1.13, 'kurt': 1.22, 'iqr': 10.78, 'cv': 0.45, 'lower_bound': -2.82, 'upper_bound': 40.3}\n",
      "tip             float               0                 0.0            123               0.50     {2.0: 33, 3.0: 23, 4.0: 12, 5.0: 10, 2.5: 10}        {'min': 1.0, 'max': 10.0, 'mean': 3.0, 'median': 2.9, 'std': 1.38, 'var': 1.91, 'skew': 1.47, 'kurt': 3.65, 'iqr': 1.56, 'cv': 0.46, 'lower_bound': -0.34, 'upper_bound': 5.91}\n",
      "sex            string               0                 0.0              2               0.01                       {'Male': 157, 'Female': 87}                                           {'mode': 'Male', 'avg_length': 4.71, 'min_length': 4, 'max_length': 6, 'empty_count': 0, 'whitespace_count': 0, 'pattern_consistency': 0.01}\n",
      "smoker         string               0                 0.0              2               0.01                            {'No': 151, 'Yes': 93}                                             {'mode': 'No', 'avg_length': 2.38, 'min_length': 2, 'max_length': 3, 'empty_count': 0, 'whitespace_count': 0, 'pattern_consistency': 0.01}\n",
      "day            string               0                 0.0              4               0.02     {'Sat': 87, 'Sun': 76, 'Thur': 62, 'Fri': 19}                                            {'mode': 'Sat', 'avg_length': 3.25, 'min_length': 3, 'max_length': 4, 'empty_count': 0, 'whitespace_count': 0, 'pattern_consistency': 0.02}\n",
      "time           string               0                 0.0              2               0.01                      {'Dinner': 176, 'Lunch': 68}                                         {'mode': 'Dinner', 'avg_length': 5.72, 'min_length': 5, 'max_length': 6, 'empty_count': 0, 'whitespace_count': 0, 'pattern_consistency': 0.01}\n",
      "size          integer               0                 0.0              6               0.02                {2: 156, 3: 38, 4: 37, 5: 5, 1: 4}                 {'min': 1, 'max': 6, 'mean': 2.57, 'median': 2.0, 'std': 0.95, 'var': 0.9, 'skew': 1.45, 'kurt': 1.73, 'iqr': 1.0, 'cv': 0.37, 'lower_bound': 0.5, 'upper_bound': 4.5}\n"
     ]
    }
   ],
   "source": [
    "profile_df = pd.DataFrame.from_dict(profile_dict, orient=\"index\")\n",
    "print(profile_df.to_string())"
   ]
  },
  {
   "cell_type": "code",
   "execution_count": 7,
   "id": "6f9b14de",
   "metadata": {},
   "outputs": [
    {
     "name": "stdout",
     "output_type": "stream",
     "text": [
      "# Dataset Overview\n",
      "**Size:** 244 rows × 7 columns\n",
      "**Duplicates:** 1 duplicate record(s) found\n",
      "\n",
      "# Fields\n",
      "## total_bill\n",
      "**Type:** float\n",
      "**Missing:** 0 (0.0%)\n",
      "**Unique:** 229 (94.0%)\n",
      "**Quality:** good\n",
      "**Issues:**\n",
      "  - Moderately skewed distribution (skew: 1.13) (minor)\n",
      "**Stats:** min=3.07, max=50.81, mean=19.79, skew=1.13\n",
      "\n",
      "## tip\n",
      "**Type:** float\n",
      "**Missing:** 0 (0.0%)\n",
      "**Unique:** 123 (50.0%)\n",
      "**Quality:** good\n",
      "**Issues:**\n",
      "  - Moderately skewed distribution (skew: 1.47) (minor)\n",
      "**Stats:** min=1.0, max=10.0, mean=3.0, skew=1.47\n",
      "\n",
      "## sex\n",
      "**Type:** string\n",
      "**Missing:** 0 (0.0%)\n",
      "**Unique:** 2 (1.0%)\n",
      "**Quality:** good\n",
      "**Stats:** mode=Male, avg_length=4.71\n",
      "\n",
      "## smoker\n",
      "**Type:** string\n",
      "**Missing:** 0 (0.0%)\n",
      "**Unique:** 2 (1.0%)\n",
      "**Quality:** good\n",
      "**Stats:** mode=No, avg_length=2.38\n",
      "\n",
      "## day\n",
      "**Type:** string\n",
      "**Missing:** 0 (0.0%)\n",
      "**Unique:** 4 (2.0%)\n",
      "**Quality:** good\n",
      "**Stats:** mode=Sat, avg_length=3.25\n",
      "\n",
      "## time\n",
      "**Type:** string\n",
      "**Missing:** 0 (0.0%)\n",
      "**Unique:** 2 (1.0%)\n",
      "**Quality:** good\n",
      "**Stats:** mode=Dinner, avg_length=5.72\n",
      "\n",
      "## size\n",
      "**Type:** integer\n",
      "**Missing:** 0 (0.0%)\n",
      "**Unique:** 6 (2.0%)\n",
      "**Quality:** good\n",
      "**Issues:**\n",
      "  - Moderately skewed distribution (skew: 1.45) (minor)\n",
      "**Stats:** min=1, max=6, mean=2.57, skew=1.45\n",
      "\n"
     ]
    }
   ],
   "source": [
    "profile = dict(\n",
    "    dataset_summary=dataset_summary,\n",
    "    fields={k: {'profile': v, 'quality': dq_summary[k]['summary']} for k, v in profile_dict.items()}\n",
    ")\n",
    "profile_str = format_profile(profile)\n",
    "print(profile_str)"
   ]
  },
  {
   "cell_type": "code",
   "execution_count": 8,
   "id": "89722b68",
   "metadata": {},
   "outputs": [
    {
     "data": {
      "text/plain": [
       "{'content': '**Data Quality Assessment:** READY  \\n**Critical Issues Found:** None  \\n\\n**Recommended Actions:**  \\n1. **Duplicate Record** – One duplicate exists (≈0.4\\u202f% of rows).  \\n   - *Action:* Decide whether to keep it (e.g., if it represents a genuine repeat visit) or drop it for a cleaner dataset.  \\n2. **Minor Skewness** – All numeric fields (`total_bill`, `tip`, `size`) show moderate positive skew (1.13–1.47).  \\n   - *Action:* If you plan to use models sensitive to distribution shape (e.g., linear regression, Gaussian‑based clustering), consider a log or Box‑Cox transformation. Otherwise, the skew is acceptable for most machine‑learning or descriptive tasks.  \\n\\n**Next Steps:**  \\n- Proceed with exploratory data analysis and model building.  \\n- If you encounter any modeling issues that hint at distributional assumptions, revisit the skewness handling step.  \\n\\n**Overall Recommendation:**  \\nThe dataset is in good shape for analysis. A single duplicate and minor skewness do not impede typical analyses; address them only if they become relevant to your specific modeling or reporting goals.',\n",
       " 'model_name': 'gpt-oss:latest',\n",
       " 'input_token': 0,\n",
       " 'output_token': 0}"
      ]
     },
     "execution_count": 8,
     "metadata": {},
     "output_type": "execute_result"
    }
   ],
   "source": [
    "from broinsight.experiment.ollama import LocalOpenAI\n",
    "from broprompt import Prompt\n",
    "\n",
    "model = LocalOpenAI()\n",
    "\n",
    "prompt = Prompt.from_markdown(\"broinsight/prompt_hub/dq_suggestion.md\")\n",
    "question = \"Do we have any concern about this one?\"\n",
    "user_input = \"PROFILE:\\n\\n{profile}\\n\\nUSER_INPUT:\\n\\n{question}\\n\\n\".format(profile=profile_str, question=question)\n",
    "response = model.run(system_prompt=prompt.str, messages=[\n",
    "    model.UserMessage(text=user_input)\n",
    "])\n",
    "response"
   ]
  },
  {
   "cell_type": "code",
   "execution_count": 9,
   "id": "4ff32ca2",
   "metadata": {},
   "outputs": [
    {
     "name": "stdout",
     "output_type": "stream",
     "text": [
      "**Data Quality Assessment:** READY  \n",
      "**Critical Issues Found:** None  \n",
      "\n",
      "**Recommended Actions:**  \n",
      "1. **Duplicate Record** – One duplicate exists (≈0.4 % of rows).  \n",
      "   - *Action:* Decide whether to keep it (e.g., if it represents a genuine repeat visit) or drop it for a cleaner dataset.  \n",
      "2. **Minor Skewness** – All numeric fields (`total_bill`, `tip`, `size`) show moderate positive skew (1.13–1.47).  \n",
      "   - *Action:* If you plan to use models sensitive to distribution shape (e.g., linear regression, Gaussian‑based clustering), consider a log or Box‑Cox transformation. Otherwise, the skew is acceptable for most machine‑learning or descriptive tasks.  \n",
      "\n",
      "**Next Steps:**  \n",
      "- Proceed with exploratory data analysis and model building.  \n",
      "- If you encounter any modeling issues that hint at distributional assumptions, revisit the skewness handling step.  \n",
      "\n",
      "**Overall Recommendation:**  \n",
      "The dataset is in good shape for analysis. A single duplicate and minor skewness do not impede typical analyses; address them only if they become relevant to your specific modeling or reporting goals.\n"
     ]
    }
   ],
   "source": [
    "print(response['content'])"
   ]
  },
  {
   "cell_type": "code",
   "execution_count": null,
   "id": "cc5b8d18",
   "metadata": {},
   "outputs": [],
   "source": []
  }
 ],
 "metadata": {
  "kernelspec": {
   "display_name": "broinsight",
   "language": "python",
   "name": "python3"
  },
  "language_info": {
   "codemirror_mode": {
    "name": "ipython",
    "version": 3
   },
   "file_extension": ".py",
   "mimetype": "text/x-python",
   "name": "python",
   "nbconvert_exporter": "python",
   "pygments_lexer": "ipython3",
   "version": "3.12.9"
  }
 },
 "nbformat": 4,
 "nbformat_minor": 5
}
