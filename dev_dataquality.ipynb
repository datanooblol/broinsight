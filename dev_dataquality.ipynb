{
 "cells": [
  {
   "cell_type": "code",
   "execution_count": 12,
   "id": "5b4ba2d7",
   "metadata": {},
   "outputs": [],
   "source": [
    "%load_ext autoreload\n",
    "%autoreload 2"
   ]
  },
  {
   "cell_type": "markdown",
   "id": "3c62b4d1",
   "metadata": {},
   "source": [
    "# DataCatalog"
   ]
  },
  {
   "cell_type": "code",
   "execution_count": 24,
   "id": "4890396a",
   "metadata": {},
   "outputs": [],
   "source": [
    "# from broinsight.utils.data_catalog import DataCatalog\n",
    "from broinsight import DataCatalog\n",
    "import seaborn as sns\n",
    "import boto3\n",
    "\n",
    "bucket='dev-broinsight'\n",
    "\n",
    "s3_client = boto3.client('s3')\n",
    "for file in [\"tips\", \"iris\"]:\n",
    "    df = sns.load_dataset(file)\n",
    "    s3_client.put_object(Bucket=bucket, Key=f'{file}.csv', Body=df.to_csv(index=False))"
   ]
  },
  {
   "cell_type": "code",
   "execution_count": 25,
   "id": "9f3cfd36",
   "metadata": {},
   "outputs": [],
   "source": [
    "session = boto3.Session()\n",
    "credentials = session.get_credentials()\n",
    "\n",
    "catalog = DataCatalog(s3_config={\n",
    "    'key_id': credentials.access_key,\n",
    "    'secret': credentials.secret_key,\n",
    "    'region': session.region_name,\n",
    "})"
   ]
  },
  {
   "cell_type": "code",
   "execution_count": 26,
   "id": "bd584caf",
   "metadata": {},
   "outputs": [],
   "source": [
    "# catalog.create_table('tips', f's3://{bucket}/tips.csv')\n",
    "catalog.create_table('tips', sns.load_dataset('tips'))\n",
    "catalog.create_table('iris', f's3://{bucket}/iris.csv')"
   ]
  },
  {
   "cell_type": "code",
   "execution_count": 27,
   "id": "257eaa89",
   "metadata": {},
   "outputs": [
    {
     "data": {
      "text/html": [
       "<div>\n",
       "<style scoped>\n",
       "    .dataframe tbody tr th:only-of-type {\n",
       "        vertical-align: middle;\n",
       "    }\n",
       "\n",
       "    .dataframe tbody tr th {\n",
       "        vertical-align: top;\n",
       "    }\n",
       "\n",
       "    .dataframe thead th {\n",
       "        text-align: right;\n",
       "    }\n",
       "</style>\n",
       "<table border=\"1\" class=\"dataframe\">\n",
       "  <thead>\n",
       "    <tr style=\"text-align: right;\">\n",
       "      <th></th>\n",
       "      <th>total_bill</th>\n",
       "      <th>tip</th>\n",
       "      <th>sex</th>\n",
       "      <th>smoker</th>\n",
       "      <th>day</th>\n",
       "      <th>time</th>\n",
       "      <th>size</th>\n",
       "    </tr>\n",
       "  </thead>\n",
       "  <tbody>\n",
       "    <tr>\n",
       "      <th>0</th>\n",
       "      <td>16.99</td>\n",
       "      <td>1.01</td>\n",
       "      <td>Female</td>\n",
       "      <td>No</td>\n",
       "      <td>Sun</td>\n",
       "      <td>Dinner</td>\n",
       "      <td>2</td>\n",
       "    </tr>\n",
       "    <tr>\n",
       "      <th>1</th>\n",
       "      <td>10.34</td>\n",
       "      <td>1.66</td>\n",
       "      <td>Male</td>\n",
       "      <td>No</td>\n",
       "      <td>Sun</td>\n",
       "      <td>Dinner</td>\n",
       "      <td>3</td>\n",
       "    </tr>\n",
       "    <tr>\n",
       "      <th>2</th>\n",
       "      <td>21.01</td>\n",
       "      <td>3.50</td>\n",
       "      <td>Male</td>\n",
       "      <td>No</td>\n",
       "      <td>Sun</td>\n",
       "      <td>Dinner</td>\n",
       "      <td>3</td>\n",
       "    </tr>\n",
       "    <tr>\n",
       "      <th>3</th>\n",
       "      <td>23.68</td>\n",
       "      <td>3.31</td>\n",
       "      <td>Male</td>\n",
       "      <td>No</td>\n",
       "      <td>Sun</td>\n",
       "      <td>Dinner</td>\n",
       "      <td>2</td>\n",
       "    </tr>\n",
       "    <tr>\n",
       "      <th>4</th>\n",
       "      <td>24.59</td>\n",
       "      <td>3.61</td>\n",
       "      <td>Female</td>\n",
       "      <td>No</td>\n",
       "      <td>Sun</td>\n",
       "      <td>Dinner</td>\n",
       "      <td>4</td>\n",
       "    </tr>\n",
       "  </tbody>\n",
       "</table>\n",
       "</div>"
      ],
      "text/plain": [
       "   total_bill   tip     sex smoker  day    time  size\n",
       "0       16.99  1.01  Female     No  Sun  Dinner     2\n",
       "1       10.34  1.66    Male     No  Sun  Dinner     3\n",
       "2       21.01  3.50    Male     No  Sun  Dinner     3\n",
       "3       23.68  3.31    Male     No  Sun  Dinner     2\n",
       "4       24.59  3.61  Female     No  Sun  Dinner     4"
      ]
     },
     "execution_count": 27,
     "metadata": {},
     "output_type": "execute_result"
    }
   ],
   "source": [
    "catalog.query('SELECT * FROM tips').head()"
   ]
  },
  {
   "cell_type": "code",
   "execution_count": 28,
   "id": "b7233692",
   "metadata": {},
   "outputs": [
    {
     "data": {
      "text/plain": [
       "['tips', 'iris']"
      ]
     },
     "execution_count": 28,
     "metadata": {},
     "output_type": "execute_result"
    }
   ],
   "source": [
    "catalog.list_tables()"
   ]
  },
  {
   "cell_type": "code",
   "execution_count": 29,
   "id": "51407cb1",
   "metadata": {},
   "outputs": [
    {
     "data": {
      "text/html": [
       "<div>\n",
       "<style scoped>\n",
       "    .dataframe tbody tr th:only-of-type {\n",
       "        vertical-align: middle;\n",
       "    }\n",
       "\n",
       "    .dataframe tbody tr th {\n",
       "        vertical-align: top;\n",
       "    }\n",
       "\n",
       "    .dataframe thead th {\n",
       "        text-align: right;\n",
       "    }\n",
       "</style>\n",
       "<table border=\"1\" class=\"dataframe\">\n",
       "  <thead>\n",
       "    <tr style=\"text-align: right;\">\n",
       "      <th></th>\n",
       "      <th>sepal_length</th>\n",
       "      <th>sepal_width</th>\n",
       "      <th>petal_length</th>\n",
       "      <th>petal_width</th>\n",
       "      <th>species</th>\n",
       "    </tr>\n",
       "  </thead>\n",
       "  <tbody>\n",
       "    <tr>\n",
       "      <th>0</th>\n",
       "      <td>5.1</td>\n",
       "      <td>3.5</td>\n",
       "      <td>1.4</td>\n",
       "      <td>0.2</td>\n",
       "      <td>setosa</td>\n",
       "    </tr>\n",
       "    <tr>\n",
       "      <th>1</th>\n",
       "      <td>4.9</td>\n",
       "      <td>3.0</td>\n",
       "      <td>1.4</td>\n",
       "      <td>0.2</td>\n",
       "      <td>setosa</td>\n",
       "    </tr>\n",
       "    <tr>\n",
       "      <th>2</th>\n",
       "      <td>4.7</td>\n",
       "      <td>3.2</td>\n",
       "      <td>1.3</td>\n",
       "      <td>0.2</td>\n",
       "      <td>setosa</td>\n",
       "    </tr>\n",
       "    <tr>\n",
       "      <th>3</th>\n",
       "      <td>4.6</td>\n",
       "      <td>3.1</td>\n",
       "      <td>1.5</td>\n",
       "      <td>0.2</td>\n",
       "      <td>setosa</td>\n",
       "    </tr>\n",
       "    <tr>\n",
       "      <th>4</th>\n",
       "      <td>5.0</td>\n",
       "      <td>3.6</td>\n",
       "      <td>1.4</td>\n",
       "      <td>0.2</td>\n",
       "      <td>setosa</td>\n",
       "    </tr>\n",
       "  </tbody>\n",
       "</table>\n",
       "</div>"
      ],
      "text/plain": [
       "   sepal_length  sepal_width  petal_length  petal_width species\n",
       "0           5.1          3.5           1.4          0.2  setosa\n",
       "1           4.9          3.0           1.4          0.2  setosa\n",
       "2           4.7          3.2           1.3          0.2  setosa\n",
       "3           4.6          3.1           1.5          0.2  setosa\n",
       "4           5.0          3.6           1.4          0.2  setosa"
      ]
     },
     "execution_count": 29,
     "metadata": {},
     "output_type": "execute_result"
    }
   ],
   "source": [
    "catalog.query('SELECT * FROM iris').head()"
   ]
  },
  {
   "cell_type": "code",
   "execution_count": 30,
   "id": "36e3cd73",
   "metadata": {},
   "outputs": [
    {
     "data": {
      "text/plain": [
       "{'rows': 150,\n",
       " 'columns': 5,\n",
       " 'duplicates': 1,\n",
       " 'evidences': {0: {'sepal_length': 5.8,\n",
       "   'sepal_width': 2.7,\n",
       "   'petal_length': 5.1,\n",
       "   'petal_width': 1.9,\n",
       "   'species': 'virginica',\n",
       "   'dup_count': 2}}}"
      ]
     },
     "execution_count": 30,
     "metadata": {},
     "output_type": "execute_result"
    }
   ],
   "source": [
    "catalog.get_table_profile(\"iris\")"
   ]
  },
  {
   "cell_type": "code",
   "execution_count": 31,
   "id": "1c49ed74",
   "metadata": {},
   "outputs": [
    {
     "data": {
      "text/plain": [
       "{'sepal_length': {'data_types': 'float',\n",
       "  'missing_values': 0,\n",
       "  'missing_values_pct': 0.0,\n",
       "  'unique_values': 35,\n",
       "  'unique_values_pct': 0.23,\n",
       "  'most_frequent': {5.0: 10, 5.1: 9, 6.3: 9, 5.7: 8, 6.7: 8},\n",
       "  'statistics': {'min': 4.3,\n",
       "   'max': 7.9,\n",
       "   'mean': 5.84,\n",
       "   'median': 5.8,\n",
       "   'std': 0.83,\n",
       "   'var': 0.69,\n",
       "   'skew': 0.31,\n",
       "   'kurt': -0.55,\n",
       "   'iqr': 1.3,\n",
       "   'cv': 0.14,\n",
       "   'lower_bound': 3.15,\n",
       "   'upper_bound': 8.35}},\n",
       " 'sepal_width': {'data_types': 'float',\n",
       "  'missing_values': 0,\n",
       "  'missing_values_pct': 0.0,\n",
       "  'unique_values': 23,\n",
       "  'unique_values_pct': 0.15,\n",
       "  'most_frequent': {3.0: 26, 2.8: 14, 3.2: 13, 3.4: 12, 3.1: 11},\n",
       "  'statistics': {'min': 2.0,\n",
       "   'max': 4.4,\n",
       "   'mean': 3.06,\n",
       "   'median': 3.0,\n",
       "   'std': 0.44,\n",
       "   'var': 0.19,\n",
       "   'skew': 0.32,\n",
       "   'kurt': 0.23,\n",
       "   'iqr': 0.5,\n",
       "   'cv': 0.14,\n",
       "   'lower_bound': 2.05,\n",
       "   'upper_bound': 4.05}},\n",
       " 'petal_length': {'data_types': 'float',\n",
       "  'missing_values': 0,\n",
       "  'missing_values_pct': 0.0,\n",
       "  'unique_values': 43,\n",
       "  'unique_values_pct': 0.29,\n",
       "  'most_frequent': {1.4: 13, 1.5: 13, 5.1: 8, 4.5: 8, 1.6: 7},\n",
       "  'statistics': {'min': 1.0,\n",
       "   'max': 6.9,\n",
       "   'mean': 3.76,\n",
       "   'median': 4.35,\n",
       "   'std': 1.77,\n",
       "   'var': 3.12,\n",
       "   'skew': -0.27,\n",
       "   'kurt': -1.4,\n",
       "   'iqr': 3.5,\n",
       "   'cv': 0.47,\n",
       "   'lower_bound': -3.65,\n",
       "   'upper_bound': 10.35}},\n",
       " 'petal_width': {'data_types': 'float',\n",
       "  'missing_values': 0,\n",
       "  'missing_values_pct': 0.0,\n",
       "  'unique_values': 22,\n",
       "  'unique_values_pct': 0.15,\n",
       "  'most_frequent': {0.2: 29, 1.3: 13, 1.8: 12, 1.5: 12, 2.3: 8},\n",
       "  'statistics': {'min': 0.1,\n",
       "   'max': 2.5,\n",
       "   'mean': 1.2,\n",
       "   'median': 1.3,\n",
       "   'std': 0.76,\n",
       "   'var': 0.58,\n",
       "   'skew': -0.1,\n",
       "   'kurt': -1.34,\n",
       "   'iqr': 1.5,\n",
       "   'cv': 0.64,\n",
       "   'lower_bound': -1.95,\n",
       "   'upper_bound': 4.05}},\n",
       " 'species': {'data_types': 'string',\n",
       "  'missing_values': 0,\n",
       "  'missing_values_pct': 0.0,\n",
       "  'unique_values': 3,\n",
       "  'unique_values_pct': 0.02,\n",
       "  'most_frequent': {'virginica': 50, 'setosa': 50, 'versicolor': 50},\n",
       "  'statistics': {'mode': 'virginica',\n",
       "   'avg_length': 8.33,\n",
       "   'min_length': 6,\n",
       "   'max_length': 10,\n",
       "   'empty_count': 0,\n",
       "   'whitespace_count': 0,\n",
       "   'pattern_consistency': 0.02}}}"
      ]
     },
     "execution_count": 31,
     "metadata": {},
     "output_type": "execute_result"
    }
   ],
   "source": [
    "catalog.get_field_profile(\"iris\")"
   ]
  },
  {
   "cell_type": "code",
   "execution_count": 32,
   "id": "e6c2b8f4",
   "metadata": {},
   "outputs": [
    {
     "name": "stdout",
     "output_type": "stream",
     "text": [
      "# Dataset Overview\n",
      "**Size:** 150 rows × 5 columns\n",
      "**Duplicates:** 1 duplicate record(s) found\n",
      "\n",
      "# Fields\n",
      "## sepal_length\n",
      "**Type:** float\n",
      "**Missing:** 0 (0.0%)\n",
      "**Unique:** 35 (23.0%)\n",
      "**Quality:** good\n",
      "**Stats:** min=4.3, max=7.9, mean=5.84, skew=0.31\n",
      "\n",
      "## sepal_width\n",
      "**Type:** float\n",
      "**Missing:** 0 (0.0%)\n",
      "**Unique:** 23 (15.0%)\n",
      "**Quality:** good\n",
      "**Stats:** min=2.0, max=4.4, mean=3.06, skew=0.32\n",
      "\n",
      "## petal_length\n",
      "**Type:** float\n",
      "**Missing:** 0 (0.0%)\n",
      "**Unique:** 43 (29.0%)\n",
      "**Quality:** good\n",
      "**Stats:** min=1.0, max=6.9, mean=3.76, skew=-0.27\n",
      "\n",
      "## petal_width\n",
      "**Type:** float\n",
      "**Missing:** 0 (0.0%)\n",
      "**Unique:** 22 (15.0%)\n",
      "**Quality:** good\n",
      "**Stats:** min=0.1, max=2.5, mean=1.2, skew=-0.1\n",
      "\n",
      "## species\n",
      "**Type:** string\n",
      "**Missing:** 0 (0.0%)\n",
      "**Unique:** 3 (2.0%)\n",
      "**Quality:** good\n",
      "**Stats:** mode=virginica, avg_length=8.33\n",
      "\n"
     ]
    }
   ],
   "source": [
    "profile_str = catalog.get_formatted_profile(\"iris\")\n",
    "print(profile_str)"
   ]
  },
  {
   "cell_type": "code",
   "execution_count": 33,
   "id": "bd8a0090",
   "metadata": {},
   "outputs": [
    {
     "data": {
      "text/plain": [
       "{'content': \"**Data Quality Assessment:** READY  \\nThe dataset is complete, with no missing values and only a single duplicate record. All numeric fields are of type `float`, and the target (`species`) is a clean string with no missing entries. The statistics show reasonable ranges and low skewness, indicating no obvious outliers or extreme values.\\n\\n---\\n\\n### Recommended Transformations for Machine‑Learning Use\\n\\n| # | Transformation | Why It Matters | Practical Steps |\\n|---|----------------|----------------|-----------------|\\n| 1 | **Remove duplicate record** | Duplicate can bias model training (especially if the duplicate is a repeated instance). | Use `drop_duplicates()` in pandas or equivalent. |\\n| 2 | **Encode target variable** | Most algorithms expect numeric labels. | Map `species` to integers (e.g., `{'setosa':0, 'versicolor':1, 'virginica':2}`) or use one‑hot encoding if required. |\\n| 3 | **Scale/normalize numeric features** | Algorithms that use distance metrics (k‑NN, SVM, neural nets) or regularization benefit from features on a comparable scale. | Standardization (`z = (x - mean)/std`) or Min‑Max scaling (`(x - min)/(max - min)`). |\\n| 4 | **Optional – Feature engineering** | If you plan to use models that can exploit interactions (e.g., polynomial regression) you might create interaction terms or squared features. | Use `PolynomialFeatures` or manually create new columns. |\\n| 5 | **Split into train/test (and optionally validation)** | Needed for unbiased model evaluation. | Typical split: 80/20 or 70/30; use stratified sampling to preserve class balance. |\\n\\n---\\n\\n### Next Steps\\n\\n1. **Clean the data**: drop the duplicate, encode the target, and apply scaling to the four numeric predictors.  \\n2. **Split** the dataset into training and testing sets (stratified).  \\n3. **Choose a baseline model** (e.g., logistic regression, decision tree) and evaluate with cross‑validation.  \\n4. **Iterate**: If you need higher accuracy, consider more sophisticated models (e.g., Random Forest, SVM, neural network) and tune hyperparameters.\\n\\n---\\n\\n### Overall Recommendation\\n\\nThe data is *ready* for machine‑learning after minimal preprocessing. Implement the transformations above, and you can proceed directly to model building and evaluation.\",\n",
       " 'model_name': 'gpt-oss:latest',\n",
       " 'input_token': 0,\n",
       " 'output_token': 0}"
      ]
     },
     "execution_count": 33,
     "metadata": {},
     "output_type": "execute_result"
    }
   ],
   "source": [
    "from broinsight.experiment.ollama import LocalOpenAI\n",
    "from broprompt import Prompt\n",
    "\n",
    "model = LocalOpenAI()\n",
    "\n",
    "prompt = Prompt.from_markdown(\"broinsight/prompt_hub/dq_suggestion.md\")\n",
    "# question = \"Do we have any concern about this one?\"\n",
    "question = \"Any data transformation needed for machine learning project here?\"\n",
    "user_input = \"PROFILE:\\n\\n{profile}\\n\\nUSER_INPUT:\\n\\n{question}\\n\\n\".format(profile=profile_str, question=question)\n",
    "response = model.run(system_prompt=prompt.str, messages=[\n",
    "    model.UserMessage(text=user_input)\n",
    "])\n",
    "response"
   ]
  },
  {
   "cell_type": "code",
   "execution_count": 34,
   "id": "e3736f1b",
   "metadata": {},
   "outputs": [
    {
     "name": "stdout",
     "output_type": "stream",
     "text": [
      "**Data Quality Assessment:** READY  \n",
      "The dataset is complete, with no missing values and only a single duplicate record. All numeric fields are of type `float`, and the target (`species`) is a clean string with no missing entries. The statistics show reasonable ranges and low skewness, indicating no obvious outliers or extreme values.\n",
      "\n",
      "---\n",
      "\n",
      "### Recommended Transformations for Machine‑Learning Use\n",
      "\n",
      "| # | Transformation | Why It Matters | Practical Steps |\n",
      "|---|----------------|----------------|-----------------|\n",
      "| 1 | **Remove duplicate record** | Duplicate can bias model training (especially if the duplicate is a repeated instance). | Use `drop_duplicates()` in pandas or equivalent. |\n",
      "| 2 | **Encode target variable** | Most algorithms expect numeric labels. | Map `species` to integers (e.g., `{'setosa':0, 'versicolor':1, 'virginica':2}`) or use one‑hot encoding if required. |\n",
      "| 3 | **Scale/normalize numeric features** | Algorithms that use distance metrics (k‑NN, SVM, neural nets) or regularization benefit from features on a comparable scale. | Standardization (`z = (x - mean)/std`) or Min‑Max scaling (`(x - min)/(max - min)`). |\n",
      "| 4 | **Optional – Feature engineering** | If you plan to use models that can exploit interactions (e.g., polynomial regression) you might create interaction terms or squared features. | Use `PolynomialFeatures` or manually create new columns. |\n",
      "| 5 | **Split into train/test (and optionally validation)** | Needed for unbiased model evaluation. | Typical split: 80/20 or 70/30; use stratified sampling to preserve class balance. |\n",
      "\n",
      "---\n",
      "\n",
      "### Next Steps\n",
      "\n",
      "1. **Clean the data**: drop the duplicate, encode the target, and apply scaling to the four numeric predictors.  \n",
      "2. **Split** the dataset into training and testing sets (stratified).  \n",
      "3. **Choose a baseline model** (e.g., logistic regression, decision tree) and evaluate with cross‑validation.  \n",
      "4. **Iterate**: If you need higher accuracy, consider more sophisticated models (e.g., Random Forest, SVM, neural network) and tune hyperparameters.\n",
      "\n",
      "---\n",
      "\n",
      "### Overall Recommendation\n",
      "\n",
      "The data is *ready* for machine‑learning after minimal preprocessing. Implement the transformations above, and you can proceed directly to model building and evaluation.\n"
     ]
    }
   ],
   "source": [
    "print(response['content'])"
   ]
  },
  {
   "cell_type": "code",
   "execution_count": null,
   "id": "c2fcd5d7",
   "metadata": {},
   "outputs": [],
   "source": []
  }
 ],
 "metadata": {
  "kernelspec": {
   "display_name": "broinsight",
   "language": "python",
   "name": "python3"
  },
  "language_info": {
   "codemirror_mode": {
    "name": "ipython",
    "version": 3
   },
   "file_extension": ".py",
   "mimetype": "text/x-python",
   "name": "python",
   "nbconvert_exporter": "python",
   "pygments_lexer": "ipython3",
   "version": "3.12.11"
  }
 },
 "nbformat": 4,
 "nbformat_minor": 5
}
