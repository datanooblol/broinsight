{
 "cells": [
  {
   "cell_type": "code",
   "execution_count": 1,
   "id": "b3362ead",
   "metadata": {},
   "outputs": [],
   "source": [
    "%load_ext autoreload\n",
    "%autoreload 2"
   ]
  },
  {
   "cell_type": "markdown",
   "id": "d396ac7d",
   "metadata": {},
   "source": [
    "# Test Metadata"
   ]
  },
  {
   "cell_type": "code",
   "execution_count": 2,
   "id": "204cfced",
   "metadata": {},
   "outputs": [
    {
     "data": {
      "text/html": [
       "<div>\n",
       "<style scoped>\n",
       "    .dataframe tbody tr th:only-of-type {\n",
       "        vertical-align: middle;\n",
       "    }\n",
       "\n",
       "    .dataframe tbody tr th {\n",
       "        vertical-align: top;\n",
       "    }\n",
       "\n",
       "    .dataframe thead th {\n",
       "        text-align: right;\n",
       "    }\n",
       "</style>\n",
       "<table border=\"1\" class=\"dataframe\">\n",
       "  <thead>\n",
       "    <tr style=\"text-align: right;\">\n",
       "      <th></th>\n",
       "      <th>total_bill</th>\n",
       "      <th>tip</th>\n",
       "      <th>sex</th>\n",
       "      <th>smoker</th>\n",
       "      <th>day</th>\n",
       "      <th>time</th>\n",
       "      <th>size</th>\n",
       "    </tr>\n",
       "  </thead>\n",
       "  <tbody>\n",
       "    <tr>\n",
       "      <th>0</th>\n",
       "      <td>16.99</td>\n",
       "      <td>1.01</td>\n",
       "      <td>Female</td>\n",
       "      <td>No</td>\n",
       "      <td>Sun</td>\n",
       "      <td>Dinner</td>\n",
       "      <td>2</td>\n",
       "    </tr>\n",
       "    <tr>\n",
       "      <th>1</th>\n",
       "      <td>10.34</td>\n",
       "      <td>1.66</td>\n",
       "      <td>Male</td>\n",
       "      <td>No</td>\n",
       "      <td>Sun</td>\n",
       "      <td>Dinner</td>\n",
       "      <td>3</td>\n",
       "    </tr>\n",
       "    <tr>\n",
       "      <th>2</th>\n",
       "      <td>21.01</td>\n",
       "      <td>3.50</td>\n",
       "      <td>Male</td>\n",
       "      <td>No</td>\n",
       "      <td>Sun</td>\n",
       "      <td>Dinner</td>\n",
       "      <td>3</td>\n",
       "    </tr>\n",
       "    <tr>\n",
       "      <th>3</th>\n",
       "      <td>23.68</td>\n",
       "      <td>3.31</td>\n",
       "      <td>Male</td>\n",
       "      <td>No</td>\n",
       "      <td>Sun</td>\n",
       "      <td>Dinner</td>\n",
       "      <td>2</td>\n",
       "    </tr>\n",
       "    <tr>\n",
       "      <th>4</th>\n",
       "      <td>24.59</td>\n",
       "      <td>3.61</td>\n",
       "      <td>Female</td>\n",
       "      <td>No</td>\n",
       "      <td>Sun</td>\n",
       "      <td>Dinner</td>\n",
       "      <td>4</td>\n",
       "    </tr>\n",
       "    <tr>\n",
       "      <th>...</th>\n",
       "      <td>...</td>\n",
       "      <td>...</td>\n",
       "      <td>...</td>\n",
       "      <td>...</td>\n",
       "      <td>...</td>\n",
       "      <td>...</td>\n",
       "      <td>...</td>\n",
       "    </tr>\n",
       "    <tr>\n",
       "      <th>239</th>\n",
       "      <td>29.03</td>\n",
       "      <td>5.92</td>\n",
       "      <td>Male</td>\n",
       "      <td>No</td>\n",
       "      <td>Sat</td>\n",
       "      <td>Dinner</td>\n",
       "      <td>3</td>\n",
       "    </tr>\n",
       "    <tr>\n",
       "      <th>240</th>\n",
       "      <td>27.18</td>\n",
       "      <td>2.00</td>\n",
       "      <td>Female</td>\n",
       "      <td>Yes</td>\n",
       "      <td>Sat</td>\n",
       "      <td>Dinner</td>\n",
       "      <td>2</td>\n",
       "    </tr>\n",
       "    <tr>\n",
       "      <th>241</th>\n",
       "      <td>22.67</td>\n",
       "      <td>2.00</td>\n",
       "      <td>Male</td>\n",
       "      <td>Yes</td>\n",
       "      <td>Sat</td>\n",
       "      <td>Dinner</td>\n",
       "      <td>2</td>\n",
       "    </tr>\n",
       "    <tr>\n",
       "      <th>242</th>\n",
       "      <td>17.82</td>\n",
       "      <td>1.75</td>\n",
       "      <td>Male</td>\n",
       "      <td>No</td>\n",
       "      <td>Sat</td>\n",
       "      <td>Dinner</td>\n",
       "      <td>2</td>\n",
       "    </tr>\n",
       "    <tr>\n",
       "      <th>243</th>\n",
       "      <td>18.78</td>\n",
       "      <td>3.00</td>\n",
       "      <td>Female</td>\n",
       "      <td>No</td>\n",
       "      <td>Thur</td>\n",
       "      <td>Dinner</td>\n",
       "      <td>2</td>\n",
       "    </tr>\n",
       "  </tbody>\n",
       "</table>\n",
       "<p>244 rows × 7 columns</p>\n",
       "</div>"
      ],
      "text/plain": [
       "     total_bill   tip     sex smoker   day    time  size\n",
       "0         16.99  1.01  Female     No   Sun  Dinner     2\n",
       "1         10.34  1.66    Male     No   Sun  Dinner     3\n",
       "2         21.01  3.50    Male     No   Sun  Dinner     3\n",
       "3         23.68  3.31    Male     No   Sun  Dinner     2\n",
       "4         24.59  3.61  Female     No   Sun  Dinner     4\n",
       "..          ...   ...     ...    ...   ...     ...   ...\n",
       "239       29.03  5.92    Male     No   Sat  Dinner     3\n",
       "240       27.18  2.00  Female    Yes   Sat  Dinner     2\n",
       "241       22.67  2.00    Male    Yes   Sat  Dinner     2\n",
       "242       17.82  1.75    Male     No   Sat  Dinner     2\n",
       "243       18.78  3.00  Female     No  Thur  Dinner     2\n",
       "\n",
       "[244 rows x 7 columns]"
      ]
     },
     "execution_count": 2,
     "metadata": {},
     "output_type": "execute_result"
    }
   ],
   "source": [
    "import seaborn as sns\n",
    "import duckdb\n",
    "\n",
    "conn = duckdb.connect()\n",
    "conn.register(\"tips\", sns.load_dataset(\"tips\"))\n",
    "conn.execute(\"SELECT * FROM tips;\").df()"
   ]
  },
  {
   "cell_type": "code",
   "execution_count": 3,
   "id": "c24f313b",
   "metadata": {},
   "outputs": [],
   "source": [
    "from broinsight.utils.data_spec import Metadata, TableSpec, FieldSpec, create_field_specs_from_profile, FieldDescription, FieldDescriptions\n",
    "from broinsight.data_quality.sql_profile import sql_field_profile, sql_table_profile\n",
    "\n",
    "# Get profiles\n",
    "tbl_prof = sql_table_profile(conn, \"tips\")\n",
    "field_prof = sql_field_profile(conn, \"tips\")\n",
    "\n",
    "# Create specs\n",
    "table_spec = TableSpec(**tbl_prof)\n",
    "field_specs = create_field_specs_from_profile(field_prof)\n",
    "\n",
    "# Create metadata\n",
    "metadata = Metadata(\n",
    "    table_name=\"tips\", # this must matches the table name of data\n",
    "    table_description=\"Restaurant tips dataset\", # this should be human-readable summary\n",
    "    table_spec=table_spec, # mandatory\n",
    "    field_spec=field_specs # mandatory\n",
    ")"
   ]
  },
  {
   "cell_type": "code",
   "execution_count": 4,
   "id": "9b6e1918",
   "metadata": {},
   "outputs": [],
   "source": [
    "# field description here is important because it'll convert to LLM context later by DataCatalog and fetch it to BroInsight.method(...)\n",
    "\n",
    "descriptions = dict(\n",
    "    total_bill=\"the amount of paid bill of the meal\",\n",
    "    tip=\"the amount of tip that customers paid\",\n",
    "    sex=\"the gender of customers\",\n",
    "    smoker=\"it indicates that a customer is a smoker or not. if No means a customer is a non-smoker, Yes means a customer is a smoker.\",\n",
    "    day=\"this is a day of the week when a customer having a meal here. i.e. Mon, Tue, Wed, Thu, Fri, Sat, Sun\",\n",
    "    time=\"the time of the meal. it can be either Dinner or Lunch\",\n",
    "    size=\"the number of dishes that customers have\",\n",
    ")\n",
    "\n",
    "field_descriptions = [\n",
    "    FieldDescription(field_name=k, description=v) for k, v in descriptions.items()\n",
    "]\n",
    "\n",
    "metadata.add_field_descriptions(field_descriptions=FieldDescriptions(descriptions=field_descriptions))"
   ]
  },
  {
   "cell_type": "code",
   "execution_count": 5,
   "id": "5bbffd68",
   "metadata": {},
   "outputs": [],
   "source": [
    "from broinsight.utils.data_spec import create_data_quality_assessment\n",
    "\n",
    "# Add quality assessment to metadata\n",
    "quality_assessment = create_data_quality_assessment(field_prof)\n",
    "metadata.add_data_quality_assessment(quality_assessment)"
   ]
  },
  {
   "cell_type": "code",
   "execution_count": 6,
   "id": "44e64c0f",
   "metadata": {},
   "outputs": [
    {
     "data": {
      "text/plain": [
       "Metadata(table_name='tips', table_description='Restaurant tips dataset', table_spec=TableSpec(rows=244, columns=7, duplicates=1, evidences={0: {'total_bill': 13.0, 'tip': 2.0, 'sex': 'Female', 'smoker': 'Yes', 'day': 'Thur', 'time': 'Lunch', 'size': 2, 'dup_count': 2}}), field_spec=[FieldSpec(field_name='total_bill', data_type='float', missing_values=0, missing_values_pct=0.0, unique_values=229, unique_values_pct=0.94, most_frequent={13.42: 3, 15.98: 2, 10.07: 2, 20.69: 2, 13.81: 2}, statistics={'min': 3.07, 'max': 50.81, 'mean': 19.79, 'median': 17.8, 'std': 8.9, 'var': 79.25, 'skew': 1.13, 'kurt': 1.22, 'iqr': 10.78, 'cv': 0.45, 'lower_bound': -2.82, 'upper_bound': 40.3}, description='the amount of paid bill of the meal'), FieldSpec(field_name='tip', data_type='float', missing_values=0, missing_values_pct=0.0, unique_values=123, unique_values_pct=0.5, most_frequent={2.0: 33, 3.0: 23, 4.0: 12, 2.5: 10, 5.0: 10}, statistics={'min': 1.0, 'max': 10.0, 'mean': 3.0, 'median': 2.9, 'std': 1.38, 'var': 1.91, 'skew': 1.47, 'kurt': 3.65, 'iqr': 1.56, 'cv': 0.46, 'lower_bound': -0.34, 'upper_bound': 5.91}, description='the amount of tip that customers paid'), FieldSpec(field_name='sex', data_type='string', missing_values=0, missing_values_pct=0.0, unique_values=2, unique_values_pct=0.01, most_frequent={'Male': 157, 'Female': 87}, statistics={'mode': 'Male', 'avg_length': 4.71, 'min_length': 4, 'max_length': 6, 'empty_count': 0, 'whitespace_count': 0, 'pattern_consistency': 0.01}, description='the gender of customers'), FieldSpec(field_name='smoker', data_type='string', missing_values=0, missing_values_pct=0.0, unique_values=2, unique_values_pct=0.01, most_frequent={'No': 151, 'Yes': 93}, statistics={'mode': 'No', 'avg_length': 2.38, 'min_length': 2, 'max_length': 3, 'empty_count': 0, 'whitespace_count': 0, 'pattern_consistency': 0.01}, description='it indicates that a customer is a smoker or not. if No means a customer is a non-smoker, Yes means a customer is a smoker.'), FieldSpec(field_name='day', data_type='string', missing_values=0, missing_values_pct=0.0, unique_values=4, unique_values_pct=0.02, most_frequent={'Sat': 87, 'Sun': 76, 'Thur': 62, 'Fri': 19}, statistics={'mode': 'Sat', 'avg_length': 3.25, 'min_length': 3, 'max_length': 4, 'empty_count': 0, 'whitespace_count': 0, 'pattern_consistency': 0.02}, description='this is a day of the week when a customer having a meal here. i.e. Mon, Tue, Wed, Thu, Fri, Sat, Sun'), FieldSpec(field_name='time', data_type='string', missing_values=0, missing_values_pct=0.0, unique_values=2, unique_values_pct=0.01, most_frequent={'Dinner': 176, 'Lunch': 68}, statistics={'mode': 'Dinner', 'avg_length': 5.72, 'min_length': 5, 'max_length': 6, 'empty_count': 0, 'whitespace_count': 0, 'pattern_consistency': 0.01}, description='the time of the meal. it can be either Dinner or Lunch'), FieldSpec(field_name='size', data_type='integer', missing_values=0, missing_values_pct=0.0, unique_values=6, unique_values_pct=0.02, most_frequent={2: 156, 3: 38, 4: 37, 5: 5, 6: 4}, statistics={'min': 1, 'max': 6, 'mean': 2.57, 'median': 2.0, 'std': 0.95, 'var': 0.9, 'skew': 1.45, 'kurt': 1.73, 'iqr': 1.0, 'cv': 0.37, 'lower_bound': 0.5, 'upper_bound': 4.5}, description='the number of dishes that customers have')], field_descriptions=FieldDescriptions(descriptions=[FieldDescription(field_name='total_bill', description='the amount of paid bill of the meal'), FieldDescription(field_name='tip', description='the amount of tip that customers paid'), FieldDescription(field_name='sex', description='the gender of customers'), FieldDescription(field_name='smoker', description='it indicates that a customer is a smoker or not. if No means a customer is a non-smoker, Yes means a customer is a smoker.'), FieldDescription(field_name='day', description='this is a day of the week when a customer having a meal here. i.e. Mon, Tue, Wed, Thu, Fri, Sat, Sun'), FieldDescription(field_name='time', description='the time of the meal. it can be either Dinner or Lunch'), FieldDescription(field_name='size', description='the number of dishes that customers have')]), data_quality=DataQualityAssessment(field_assessments=[FieldQualityAssessment(field_name='total_bill', quality='good', issues=[QualityIssue(type='moderate_skewness', severity='minor', description='Moderately skewed distribution (skew: 1.13)')], issue_count=1), FieldQualityAssessment(field_name='tip', quality='good', issues=[QualityIssue(type='moderate_skewness', severity='minor', description='Moderately skewed distribution (skew: 1.47)')], issue_count=1), FieldQualityAssessment(field_name='sex', quality='good', issues=[], issue_count=0), FieldQualityAssessment(field_name='smoker', quality='good', issues=[], issue_count=0), FieldQualityAssessment(field_name='day', quality='good', issues=[], issue_count=0), FieldQualityAssessment(field_name='time', quality='good', issues=[], issue_count=0), FieldQualityAssessment(field_name='size', quality='good', issues=[QualityIssue(type='moderate_skewness', severity='minor', description='Moderately skewed distribution (skew: 1.45)')], issue_count=1)], overall_quality='good', total_issues=3))"
      ]
     },
     "execution_count": 6,
     "metadata": {},
     "output_type": "execute_result"
    }
   ],
   "source": [
    "metadata"
   ]
  },
  {
   "cell_type": "code",
   "execution_count": 7,
   "id": "091c2ab9",
   "metadata": {},
   "outputs": [
    {
     "data": {
      "text/plain": [
       "dict_keys(['table_name', 'table_description', 'table_spec', 'field_spec', 'field_descriptions', 'data_quality'])"
      ]
     },
     "execution_count": 7,
     "metadata": {},
     "output_type": "execute_result"
    }
   ],
   "source": [
    "metadata.__dict__.keys()"
   ]
  },
  {
   "cell_type": "code",
   "execution_count": 8,
   "id": "be886620",
   "metadata": {},
   "outputs": [
    {
     "data": {
      "text/plain": [
       "'tips'"
      ]
     },
     "execution_count": 8,
     "metadata": {},
     "output_type": "execute_result"
    }
   ],
   "source": [
    "metadata.table_name"
   ]
  },
  {
   "cell_type": "code",
   "execution_count": 9,
   "id": "5f9332da",
   "metadata": {},
   "outputs": [
    {
     "data": {
      "text/plain": [
       "'Restaurant tips dataset'"
      ]
     },
     "execution_count": 9,
     "metadata": {},
     "output_type": "execute_result"
    }
   ],
   "source": [
    "metadata.table_description"
   ]
  },
  {
   "cell_type": "code",
   "execution_count": 10,
   "id": "6267c666",
   "metadata": {},
   "outputs": [
    {
     "data": {
      "text/plain": [
       "dict_keys(['rows', 'columns', 'duplicates', 'evidences'])"
      ]
     },
     "execution_count": 10,
     "metadata": {},
     "output_type": "execute_result"
    }
   ],
   "source": [
    "metadata.table_spec.__dict__.keys()"
   ]
  },
  {
   "cell_type": "code",
   "execution_count": 11,
   "id": "f458e0f8",
   "metadata": {},
   "outputs": [
    {
     "data": {
      "text/plain": [
       "[FieldSpec(field_name='total_bill', data_type='float', missing_values=0, missing_values_pct=0.0, unique_values=229, unique_values_pct=0.94, most_frequent={13.42: 3, 15.98: 2, 10.07: 2, 20.69: 2, 13.81: 2}, statistics={'min': 3.07, 'max': 50.81, 'mean': 19.79, 'median': 17.8, 'std': 8.9, 'var': 79.25, 'skew': 1.13, 'kurt': 1.22, 'iqr': 10.78, 'cv': 0.45, 'lower_bound': -2.82, 'upper_bound': 40.3}, description='the amount of paid bill of the meal'),\n",
       " FieldSpec(field_name='tip', data_type='float', missing_values=0, missing_values_pct=0.0, unique_values=123, unique_values_pct=0.5, most_frequent={2.0: 33, 3.0: 23, 4.0: 12, 2.5: 10, 5.0: 10}, statistics={'min': 1.0, 'max': 10.0, 'mean': 3.0, 'median': 2.9, 'std': 1.38, 'var': 1.91, 'skew': 1.47, 'kurt': 3.65, 'iqr': 1.56, 'cv': 0.46, 'lower_bound': -0.34, 'upper_bound': 5.91}, description='the amount of tip that customers paid'),\n",
       " FieldSpec(field_name='sex', data_type='string', missing_values=0, missing_values_pct=0.0, unique_values=2, unique_values_pct=0.01, most_frequent={'Male': 157, 'Female': 87}, statistics={'mode': 'Male', 'avg_length': 4.71, 'min_length': 4, 'max_length': 6, 'empty_count': 0, 'whitespace_count': 0, 'pattern_consistency': 0.01}, description='the gender of customers'),\n",
       " FieldSpec(field_name='smoker', data_type='string', missing_values=0, missing_values_pct=0.0, unique_values=2, unique_values_pct=0.01, most_frequent={'No': 151, 'Yes': 93}, statistics={'mode': 'No', 'avg_length': 2.38, 'min_length': 2, 'max_length': 3, 'empty_count': 0, 'whitespace_count': 0, 'pattern_consistency': 0.01}, description='it indicates that a customer is a smoker or not. if No means a customer is a non-smoker, Yes means a customer is a smoker.'),\n",
       " FieldSpec(field_name='day', data_type='string', missing_values=0, missing_values_pct=0.0, unique_values=4, unique_values_pct=0.02, most_frequent={'Sat': 87, 'Sun': 76, 'Thur': 62, 'Fri': 19}, statistics={'mode': 'Sat', 'avg_length': 3.25, 'min_length': 3, 'max_length': 4, 'empty_count': 0, 'whitespace_count': 0, 'pattern_consistency': 0.02}, description='this is a day of the week when a customer having a meal here. i.e. Mon, Tue, Wed, Thu, Fri, Sat, Sun'),\n",
       " FieldSpec(field_name='time', data_type='string', missing_values=0, missing_values_pct=0.0, unique_values=2, unique_values_pct=0.01, most_frequent={'Dinner': 176, 'Lunch': 68}, statistics={'mode': 'Dinner', 'avg_length': 5.72, 'min_length': 5, 'max_length': 6, 'empty_count': 0, 'whitespace_count': 0, 'pattern_consistency': 0.01}, description='the time of the meal. it can be either Dinner or Lunch'),\n",
       " FieldSpec(field_name='size', data_type='integer', missing_values=0, missing_values_pct=0.0, unique_values=6, unique_values_pct=0.02, most_frequent={2: 156, 3: 38, 4: 37, 5: 5, 6: 4}, statistics={'min': 1, 'max': 6, 'mean': 2.57, 'median': 2.0, 'std': 0.95, 'var': 0.9, 'skew': 1.45, 'kurt': 1.73, 'iqr': 1.0, 'cv': 0.37, 'lower_bound': 0.5, 'upper_bound': 4.5}, description='the number of dishes that customers have')]"
      ]
     },
     "execution_count": 11,
     "metadata": {},
     "output_type": "execute_result"
    }
   ],
   "source": [
    "metadata.field_spec"
   ]
  },
  {
   "cell_type": "code",
   "execution_count": 12,
   "id": "30d62bbd",
   "metadata": {},
   "outputs": [
    {
     "data": {
      "text/plain": [
       "dict_keys(['field_name', 'data_type', 'missing_values', 'missing_values_pct', 'unique_values', 'unique_values_pct', 'most_frequent', 'statistics', 'description'])"
      ]
     },
     "execution_count": 12,
     "metadata": {},
     "output_type": "execute_result"
    }
   ],
   "source": [
    "metadata.field_spec[0].__dict__.keys()"
   ]
  },
  {
   "cell_type": "markdown",
   "id": "4b955e76",
   "metadata": {},
   "source": [
    "# Test with AWS Bedrock"
   ]
  },
  {
   "cell_type": "markdown",
   "id": "8d6b594e",
   "metadata": {},
   "source": [
    "## One pandas table"
   ]
  },
  {
   "cell_type": "code",
   "execution_count": 13,
   "id": "edbefa70",
   "metadata": {},
   "outputs": [],
   "source": [
    "from broinsight.experiment.bedrock import AWSConfig, BedrockOpenAI\n",
    "from broinsight.experiment.ollama import LocalOpenAI\n",
    "from broinsight.broinsight import BroInsight\n",
    "import boto3\n",
    "\n",
    "from broinsight.utils.data_catalog import DataCatalog\n",
    "import seaborn as sns\n",
    "\n",
    "field_descriptions = FieldDescriptions(descriptions=[\n",
    "    FieldDescription(field_name=\"total_bill\", description=\"Total bill amount in dollars\"),\n",
    "    FieldDescription(field_name=\"tip\", description=\"Tip amount in dollars\"),\n",
    "    FieldDescription(field_name=\"sex\", description=\"Customer gender\"),\n",
    "    FieldDescription(field_name=\"smoker\", description=\"Whether customer smokes\"),\n",
    "    FieldDescription(field_name=\"day\", description=\"Day of the week\"),\n",
    "    FieldDescription(field_name=\"time\", description=\"Meal time (Lunch/Dinner)\"),\n",
    "    FieldDescription(field_name=\"size\", description=\"Party size\")\n",
    "])\n",
    "\n",
    "# Create catalog and register data\n",
    "catalog = DataCatalog()\n",
    "catalog.register(\"tips\", sns.load_dataset(\"tips\"), \"Restaurant tips dataset\")\n",
    "\n",
    "# Profile the table\n",
    "catalog.profile_tables([\"tips\"])\n",
    "\n",
    "# Add field descriptions\n",
    "catalog.add_field_descriptions(\"tips\", field_descriptions)\n",
    "\n",
    "session = boto3.Session()\n",
    "credentials = session.get_credentials()\n",
    "\n",
    "aws_configs = AWSConfig(\n",
    "    aws_access_key_id=credentials.access_key,\n",
    "    aws_secret_access_key=credentials.secret_key,\n",
    "    aws_session_token=credentials.token or None,\n",
    "    region_name='us-west-2'\n",
    ")\n",
    "\n",
    "model_id=\"openai.gpt-oss-20b-1:0\"\n",
    "bedrock = BedrockOpenAI(\n",
    "    model_id=model_id,\n",
    "    aws_configs=aws_configs\n",
    ")\n",
    "\n",
    "# broinsight = BroInsight(model=LocalOpenAI())\n",
    "broinsight = BroInsight(model=bedrock)"
   ]
  },
  {
   "cell_type": "code",
   "execution_count": 14,
   "id": "008af445",
   "metadata": {},
   "outputs": [
    {
     "name": "stdout",
     "output_type": "stream",
     "text": [
      "**Data Quality Assessment:** READY  \n",
      "**Critical Issues Found:** None  \n",
      "\n",
      "**Recommended Actions (Minor Issues):**  \n",
      "1. **Skewed Variables** – `total_bill`, `tip`, and `size` show moderate right‑skew (skew ≈ 1.1–1.5).  \n",
      "   - *If you plan to use models that assume normality (e.g., linear regression, ANOVA), consider applying a log or square‑root transformation to these columns.*  \n",
      "   - *For non‑parametric or tree‑based methods (e.g., random forests, gradient boosting), the skewness is usually not a problem.*  \n",
      "\n",
      "2. **Duplicate Row** – Only one duplicate exists.  \n",
      "   - *Verify that the duplicate is truly identical; if so, you can safely drop it. If it contains slightly different values, investigate why it was duplicated.*\n",
      "\n",
      "**Next Steps:**  \n",
      "- Proceed with your analysis.  \n",
      "- If you encounter model diagnostics indicating non‑normal residuals or heteroscedasticity, revisit the transformations above.  \n",
      "\n",
      "**Overall Recommendation:** The dataset is in good shape for most analytical tasks. Minor skewness can be addressed on a case‑by‑case basis depending on the modeling approach.\n"
     ]
    }
   ],
   "source": [
    "# check data quality\n",
    "response = broinsight.assess_data_quality(\n",
    "    context=catalog.to_dq_profile(\"tips\"),\n",
    "    message=\"Do we have any concern about this one?\"\n",
    ")\n",
    "print(response['content'])"
   ]
  },
  {
   "cell_type": "code",
   "execution_count": 15,
   "id": "79dee02b",
   "metadata": {},
   "outputs": [
    {
     "name": "stdout",
     "output_type": "stream",
     "text": [
      "Based on your role and goals, here are some areas you might want to explore:\n",
      "\n",
      "Customer Segmentation  \n",
      "- How many customers are Male versus Female in the dataset?  \n",
      "- How many customers are Smoker versus No in the dataset?  \n",
      "- Which day of the week has the highest average total_bill?  \n",
      "\n",
      "Spending Patterns  \n",
      "- What is the average total_bill for each party size (size)?  \n",
      "- What is the average tip amount for each day of the week (day)?  \n",
      "- Which day has the highest average tip percentage (tip / total_bill)?  \n",
      "\n",
      "Promotion Targeting  \n",
      "- Which day and time combination (day + time) has the lowest average tip amount?  \n",
      "- Which day and time combination has the highest average total_bill?  \n",
      "- Which party size group (size) has the highest average tip amount?  \n",
      "\n",
      "Tip Behavior  \n",
      "- What is the average tip amount for Smokers versus Non-smokers?  \n",
      "- What is the average tip percentage for Male versus Female customers?  \n",
      "- Which day of the week has the highest average tip percentage?  \n",
      "\n",
      "Just ask me any of these questions and I'll analyze your data to get the answers!\n"
     ]
    }
   ],
   "source": [
    "# ask for suggestions based on specific data in data catalog\n",
    "response = broinsight.suggest_questions(\n",
    "    context=catalog.to_guide_metadata(\"tips\"),\n",
    "    message=\"I'm a new manager and I wanna make a promotion for the shop but I don't know how to start.\"\n",
    ")\n",
    "print(response['content'])"
   ]
  },
  {
   "cell_type": "code",
   "execution_count": 16,
   "id": "3aa544a1",
   "metadata": {},
   "outputs": [
    {
     "name": "stdout",
     "output_type": "stream",
     "text": [
      "```sql\n",
      "SELECT\n",
      "    CASE\n",
      "        WHEN size = 1 THEN 'size = 1'\n",
      "        WHEN size >= 4 THEN 'size >= 4'\n",
      "    END AS size_category,\n",
      "    AVG(total_bill) AS avg_total_bill\n",
      "FROM tips\n",
      "WHERE size = 1 OR size >= 4\n",
      "GROUP BY size_category\n",
      "ORDER BY size_category;\n",
      "```\n"
     ]
    }
   ],
   "source": [
    "# create sql query from selected table\n",
    "question = \"What is the average total_bill for size = 1 compared to size = 4 or more?\"\n",
    "response = broinsight.generate_sql(\n",
    "    context=catalog.to_sql_metadata(\"tips\"),\n",
    "    message=question\n",
    ")\n",
    "print(response['content'])"
   ]
  },
  {
   "cell_type": "code",
   "execution_count": 17,
   "id": "542a52ef",
   "metadata": {},
   "outputs": [
    {
     "data": {
      "text/html": [
       "<div>\n",
       "<style scoped>\n",
       "    .dataframe tbody tr th:only-of-type {\n",
       "        vertical-align: middle;\n",
       "    }\n",
       "\n",
       "    .dataframe tbody tr th {\n",
       "        vertical-align: top;\n",
       "    }\n",
       "\n",
       "    .dataframe thead th {\n",
       "        text-align: right;\n",
       "    }\n",
       "</style>\n",
       "<table border=\"1\" class=\"dataframe\">\n",
       "  <thead>\n",
       "    <tr style=\"text-align: right;\">\n",
       "      <th></th>\n",
       "      <th>size_category</th>\n",
       "      <th>avg_total_bill</th>\n",
       "    </tr>\n",
       "  </thead>\n",
       "  <tbody>\n",
       "    <tr>\n",
       "      <th>0</th>\n",
       "      <td>size = 1</td>\n",
       "      <td>7.242500</td>\n",
       "    </tr>\n",
       "    <tr>\n",
       "      <th>1</th>\n",
       "      <td>size &gt;= 4</td>\n",
       "      <td>29.312174</td>\n",
       "    </tr>\n",
       "  </tbody>\n",
       "</table>\n",
       "</div>"
      ],
      "text/plain": [
       "  size_category  avg_total_bill\n",
       "0      size = 1        7.242500\n",
       "1     size >= 4       29.312174"
      ]
     },
     "execution_count": 17,
     "metadata": {},
     "output_type": "execute_result"
    }
   ],
   "source": [
    "# parsing sql query and get result\n",
    "sql_query = response['content'].split(\"```sql\")[-1].split(\"```\")[0]\n",
    "result = catalog.query(sql_query)\n",
    "result"
   ]
  },
  {
   "cell_type": "code",
   "execution_count": 18,
   "id": "0855361b",
   "metadata": {},
   "outputs": [
    {
     "name": "stdout",
     "output_type": "stream",
     "text": [
      "For groups that dine alone (size = 1), the average bill is **$7.24**.  \n",
      "For larger parties (size ≥ 4), the average bill jumps to **$29.31**.\n",
      "\n",
      "That’s a difference of roughly $22, meaning larger groups spend far more per visit.  \n",
      "\n",
      "**What this tells us:**\n",
      "\n",
      "- **Higher spend per table**: Bigger parties are a more lucrative segment.  \n",
      "- **Potential upsell opportunities**: Consider targeted promotions or menu bundles for larger groups to boost that already high average.  \n",
      "- **Capacity planning**: If you’re looking to increase revenue, focus on attracting more groups of four or more—perhaps by highlighting family‑friendly seating or group‑discount specials.\n",
      "\n",
      "**Next steps to explore:**\n",
      "\n",
      "1. Look at the frequency of each group size to see how many visits come from each segment.  \n",
      "2. Check if the higher average for larger groups is driven by higher‑priced items or simply more items per person.  \n",
      "3. Test a small pilot of a group‑discount menu to see if it can further lift the average for size ≥ 4.\n",
      "\n",
      "Let me know if you’d like to dive deeper into any of these areas!\n"
     ]
    }
   ],
   "source": [
    "# ask data is just asking data that we get from sql query and put it as a context\n",
    "response = broinsight.ask_data(\n",
    "    context=result.to_string(),\n",
    "    message=question\n",
    ")\n",
    "print(response['content'])"
   ]
  },
  {
   "cell_type": "code",
   "execution_count": 19,
   "id": "c4037696",
   "metadata": {},
   "outputs": [
    {
     "data": {
      "application/vnd.plotly.v1+json": {
       "config": {
        "plotlyServerURL": "https://plot.ly"
       },
       "data": [
        {
         "hovertemplate": "Party Size=%{x}<br>Average Total Bill ($)=%{text}<extra></extra>",
         "legendgroup": "size = 1",
         "marker": {
          "color": "rgb(102, 197, 204)",
          "pattern": {
           "shape": ""
          }
         },
         "name": "size = 1",
         "orientation": "v",
         "showlegend": true,
         "text": {
          "bdata": "uB6F61H4HEA=",
          "dtype": "f8"
         },
         "textposition": "outside",
         "type": "bar",
         "x": [
          "size = 1"
         ],
         "xaxis": "x",
         "y": {
          "bdata": "uB6F61H4HEA=",
          "dtype": "f8"
         },
         "yaxis": "y"
        },
        {
         "hovertemplate": "Party Size=%{x}<br>Average Total Bill ($)=%{text}<extra></extra>",
         "legendgroup": "size >= 4",
         "marker": {
          "color": "rgb(246, 207, 113)",
          "pattern": {
           "shape": ""
          }
         },
         "name": "size >= 4",
         "orientation": "v",
         "showlegend": true,
         "text": {
          "bdata": "oy8roepPPUA=",
          "dtype": "f8"
         },
         "textposition": "outside",
         "type": "bar",
         "x": [
          "size >= 4"
         ],
         "xaxis": "x",
         "y": {
          "bdata": "oy8roepPPUA=",
          "dtype": "f8"
         },
         "yaxis": "y"
        }
       ],
       "layout": {
        "barmode": "relative",
        "legend": {
         "title": {
          "text": "Party Size"
         },
         "tracegroupgap": 0
        },
        "margin": {
         "b": 40,
         "l": 40,
         "r": 40,
         "t": 60
        },
        "template": {
         "data": {
          "bar": [
           {
            "error_x": {
             "color": "#2a3f5f"
            },
            "error_y": {
             "color": "#2a3f5f"
            },
            "marker": {
             "line": {
              "color": "white",
              "width": 0.5
             },
             "pattern": {
              "fillmode": "overlay",
              "size": 10,
              "solidity": 0.2
             }
            },
            "type": "bar"
           }
          ],
          "barpolar": [
           {
            "marker": {
             "line": {
              "color": "white",
              "width": 0.5
             },
             "pattern": {
              "fillmode": "overlay",
              "size": 10,
              "solidity": 0.2
             }
            },
            "type": "barpolar"
           }
          ],
          "carpet": [
           {
            "aaxis": {
             "endlinecolor": "#2a3f5f",
             "gridcolor": "#C8D4E3",
             "linecolor": "#C8D4E3",
             "minorgridcolor": "#C8D4E3",
             "startlinecolor": "#2a3f5f"
            },
            "baxis": {
             "endlinecolor": "#2a3f5f",
             "gridcolor": "#C8D4E3",
             "linecolor": "#C8D4E3",
             "minorgridcolor": "#C8D4E3",
             "startlinecolor": "#2a3f5f"
            },
            "type": "carpet"
           }
          ],
          "choropleth": [
           {
            "colorbar": {
             "outlinewidth": 0,
             "ticks": ""
            },
            "type": "choropleth"
           }
          ],
          "contour": [
           {
            "colorbar": {
             "outlinewidth": 0,
             "ticks": ""
            },
            "colorscale": [
             [
              0,
              "#0d0887"
             ],
             [
              0.1111111111111111,
              "#46039f"
             ],
             [
              0.2222222222222222,
              "#7201a8"
             ],
             [
              0.3333333333333333,
              "#9c179e"
             ],
             [
              0.4444444444444444,
              "#bd3786"
             ],
             [
              0.5555555555555556,
              "#d8576b"
             ],
             [
              0.6666666666666666,
              "#ed7953"
             ],
             [
              0.7777777777777778,
              "#fb9f3a"
             ],
             [
              0.8888888888888888,
              "#fdca26"
             ],
             [
              1,
              "#f0f921"
             ]
            ],
            "type": "contour"
           }
          ],
          "contourcarpet": [
           {
            "colorbar": {
             "outlinewidth": 0,
             "ticks": ""
            },
            "type": "contourcarpet"
           }
          ],
          "heatmap": [
           {
            "colorbar": {
             "outlinewidth": 0,
             "ticks": ""
            },
            "colorscale": [
             [
              0,
              "#0d0887"
             ],
             [
              0.1111111111111111,
              "#46039f"
             ],
             [
              0.2222222222222222,
              "#7201a8"
             ],
             [
              0.3333333333333333,
              "#9c179e"
             ],
             [
              0.4444444444444444,
              "#bd3786"
             ],
             [
              0.5555555555555556,
              "#d8576b"
             ],
             [
              0.6666666666666666,
              "#ed7953"
             ],
             [
              0.7777777777777778,
              "#fb9f3a"
             ],
             [
              0.8888888888888888,
              "#fdca26"
             ],
             [
              1,
              "#f0f921"
             ]
            ],
            "type": "heatmap"
           }
          ],
          "histogram": [
           {
            "marker": {
             "pattern": {
              "fillmode": "overlay",
              "size": 10,
              "solidity": 0.2
             }
            },
            "type": "histogram"
           }
          ],
          "histogram2d": [
           {
            "colorbar": {
             "outlinewidth": 0,
             "ticks": ""
            },
            "colorscale": [
             [
              0,
              "#0d0887"
             ],
             [
              0.1111111111111111,
              "#46039f"
             ],
             [
              0.2222222222222222,
              "#7201a8"
             ],
             [
              0.3333333333333333,
              "#9c179e"
             ],
             [
              0.4444444444444444,
              "#bd3786"
             ],
             [
              0.5555555555555556,
              "#d8576b"
             ],
             [
              0.6666666666666666,
              "#ed7953"
             ],
             [
              0.7777777777777778,
              "#fb9f3a"
             ],
             [
              0.8888888888888888,
              "#fdca26"
             ],
             [
              1,
              "#f0f921"
             ]
            ],
            "type": "histogram2d"
           }
          ],
          "histogram2dcontour": [
           {
            "colorbar": {
             "outlinewidth": 0,
             "ticks": ""
            },
            "colorscale": [
             [
              0,
              "#0d0887"
             ],
             [
              0.1111111111111111,
              "#46039f"
             ],
             [
              0.2222222222222222,
              "#7201a8"
             ],
             [
              0.3333333333333333,
              "#9c179e"
             ],
             [
              0.4444444444444444,
              "#bd3786"
             ],
             [
              0.5555555555555556,
              "#d8576b"
             ],
             [
              0.6666666666666666,
              "#ed7953"
             ],
             [
              0.7777777777777778,
              "#fb9f3a"
             ],
             [
              0.8888888888888888,
              "#fdca26"
             ],
             [
              1,
              "#f0f921"
             ]
            ],
            "type": "histogram2dcontour"
           }
          ],
          "mesh3d": [
           {
            "colorbar": {
             "outlinewidth": 0,
             "ticks": ""
            },
            "type": "mesh3d"
           }
          ],
          "parcoords": [
           {
            "line": {
             "colorbar": {
              "outlinewidth": 0,
              "ticks": ""
             }
            },
            "type": "parcoords"
           }
          ],
          "pie": [
           {
            "automargin": true,
            "type": "pie"
           }
          ],
          "scatter": [
           {
            "fillpattern": {
             "fillmode": "overlay",
             "size": 10,
             "solidity": 0.2
            },
            "type": "scatter"
           }
          ],
          "scatter3d": [
           {
            "line": {
             "colorbar": {
              "outlinewidth": 0,
              "ticks": ""
             }
            },
            "marker": {
             "colorbar": {
              "outlinewidth": 0,
              "ticks": ""
             }
            },
            "type": "scatter3d"
           }
          ],
          "scattercarpet": [
           {
            "marker": {
             "colorbar": {
              "outlinewidth": 0,
              "ticks": ""
             }
            },
            "type": "scattercarpet"
           }
          ],
          "scattergeo": [
           {
            "marker": {
             "colorbar": {
              "outlinewidth": 0,
              "ticks": ""
             }
            },
            "type": "scattergeo"
           }
          ],
          "scattergl": [
           {
            "marker": {
             "colorbar": {
              "outlinewidth": 0,
              "ticks": ""
             }
            },
            "type": "scattergl"
           }
          ],
          "scattermap": [
           {
            "marker": {
             "colorbar": {
              "outlinewidth": 0,
              "ticks": ""
             }
            },
            "type": "scattermap"
           }
          ],
          "scattermapbox": [
           {
            "marker": {
             "colorbar": {
              "outlinewidth": 0,
              "ticks": ""
             }
            },
            "type": "scattermapbox"
           }
          ],
          "scatterpolar": [
           {
            "marker": {
             "colorbar": {
              "outlinewidth": 0,
              "ticks": ""
             }
            },
            "type": "scatterpolar"
           }
          ],
          "scatterpolargl": [
           {
            "marker": {
             "colorbar": {
              "outlinewidth": 0,
              "ticks": ""
             }
            },
            "type": "scatterpolargl"
           }
          ],
          "scatterternary": [
           {
            "marker": {
             "colorbar": {
              "outlinewidth": 0,
              "ticks": ""
             }
            },
            "type": "scatterternary"
           }
          ],
          "surface": [
           {
            "colorbar": {
             "outlinewidth": 0,
             "ticks": ""
            },
            "colorscale": [
             [
              0,
              "#0d0887"
             ],
             [
              0.1111111111111111,
              "#46039f"
             ],
             [
              0.2222222222222222,
              "#7201a8"
             ],
             [
              0.3333333333333333,
              "#9c179e"
             ],
             [
              0.4444444444444444,
              "#bd3786"
             ],
             [
              0.5555555555555556,
              "#d8576b"
             ],
             [
              0.6666666666666666,
              "#ed7953"
             ],
             [
              0.7777777777777778,
              "#fb9f3a"
             ],
             [
              0.8888888888888888,
              "#fdca26"
             ],
             [
              1,
              "#f0f921"
             ]
            ],
            "type": "surface"
           }
          ],
          "table": [
           {
            "cells": {
             "fill": {
              "color": "#EBF0F8"
             },
             "line": {
              "color": "white"
             }
            },
            "header": {
             "fill": {
              "color": "#C8D4E3"
             },
             "line": {
              "color": "white"
             }
            },
            "type": "table"
           }
          ]
         },
         "layout": {
          "annotationdefaults": {
           "arrowcolor": "#2a3f5f",
           "arrowhead": 0,
           "arrowwidth": 1
          },
          "autotypenumbers": "strict",
          "coloraxis": {
           "colorbar": {
            "outlinewidth": 0,
            "ticks": ""
           }
          },
          "colorscale": {
           "diverging": [
            [
             0,
             "#8e0152"
            ],
            [
             0.1,
             "#c51b7d"
            ],
            [
             0.2,
             "#de77ae"
            ],
            [
             0.3,
             "#f1b6da"
            ],
            [
             0.4,
             "#fde0ef"
            ],
            [
             0.5,
             "#f7f7f7"
            ],
            [
             0.6,
             "#e6f5d0"
            ],
            [
             0.7,
             "#b8e186"
            ],
            [
             0.8,
             "#7fbc41"
            ],
            [
             0.9,
             "#4d9221"
            ],
            [
             1,
             "#276419"
            ]
           ],
           "sequential": [
            [
             0,
             "#0d0887"
            ],
            [
             0.1111111111111111,
             "#46039f"
            ],
            [
             0.2222222222222222,
             "#7201a8"
            ],
            [
             0.3333333333333333,
             "#9c179e"
            ],
            [
             0.4444444444444444,
             "#bd3786"
            ],
            [
             0.5555555555555556,
             "#d8576b"
            ],
            [
             0.6666666666666666,
             "#ed7953"
            ],
            [
             0.7777777777777778,
             "#fb9f3a"
            ],
            [
             0.8888888888888888,
             "#fdca26"
            ],
            [
             1,
             "#f0f921"
            ]
           ],
           "sequentialminus": [
            [
             0,
             "#0d0887"
            ],
            [
             0.1111111111111111,
             "#46039f"
            ],
            [
             0.2222222222222222,
             "#7201a8"
            ],
            [
             0.3333333333333333,
             "#9c179e"
            ],
            [
             0.4444444444444444,
             "#bd3786"
            ],
            [
             0.5555555555555556,
             "#d8576b"
            ],
            [
             0.6666666666666666,
             "#ed7953"
            ],
            [
             0.7777777777777778,
             "#fb9f3a"
            ],
            [
             0.8888888888888888,
             "#fdca26"
            ],
            [
             1,
             "#f0f921"
            ]
           ]
          },
          "colorway": [
           "#636efa",
           "#EF553B",
           "#00cc96",
           "#ab63fa",
           "#FFA15A",
           "#19d3f3",
           "#FF6692",
           "#B6E880",
           "#FF97FF",
           "#FECB52"
          ],
          "font": {
           "color": "#2a3f5f"
          },
          "geo": {
           "bgcolor": "white",
           "lakecolor": "white",
           "landcolor": "white",
           "showlakes": true,
           "showland": true,
           "subunitcolor": "#C8D4E3"
          },
          "hoverlabel": {
           "align": "left"
          },
          "hovermode": "closest",
          "mapbox": {
           "style": "light"
          },
          "paper_bgcolor": "white",
          "plot_bgcolor": "white",
          "polar": {
           "angularaxis": {
            "gridcolor": "#EBF0F8",
            "linecolor": "#EBF0F8",
            "ticks": ""
           },
           "bgcolor": "white",
           "radialaxis": {
            "gridcolor": "#EBF0F8",
            "linecolor": "#EBF0F8",
            "ticks": ""
           }
          },
          "scene": {
           "xaxis": {
            "backgroundcolor": "white",
            "gridcolor": "#DFE8F3",
            "gridwidth": 2,
            "linecolor": "#EBF0F8",
            "showbackground": true,
            "ticks": "",
            "zerolinecolor": "#EBF0F8"
           },
           "yaxis": {
            "backgroundcolor": "white",
            "gridcolor": "#DFE8F3",
            "gridwidth": 2,
            "linecolor": "#EBF0F8",
            "showbackground": true,
            "ticks": "",
            "zerolinecolor": "#EBF0F8"
           },
           "zaxis": {
            "backgroundcolor": "white",
            "gridcolor": "#DFE8F3",
            "gridwidth": 2,
            "linecolor": "#EBF0F8",
            "showbackground": true,
            "ticks": "",
            "zerolinecolor": "#EBF0F8"
           }
          },
          "shapedefaults": {
           "line": {
            "color": "#2a3f5f"
           }
          },
          "ternary": {
           "aaxis": {
            "gridcolor": "#DFE8F3",
            "linecolor": "#A2B1C6",
            "ticks": ""
           },
           "baxis": {
            "gridcolor": "#DFE8F3",
            "linecolor": "#A2B1C6",
            "ticks": ""
           },
           "bgcolor": "white",
           "caxis": {
            "gridcolor": "#DFE8F3",
            "linecolor": "#A2B1C6",
            "ticks": ""
           }
          },
          "title": {
           "x": 0.05
          },
          "xaxis": {
           "automargin": true,
           "gridcolor": "#EBF0F8",
           "linecolor": "#EBF0F8",
           "ticks": "",
           "title": {
            "standoff": 15
           },
           "zerolinecolor": "#EBF0F8",
           "zerolinewidth": 2
          },
          "yaxis": {
           "automargin": true,
           "gridcolor": "#EBF0F8",
           "linecolor": "#EBF0F8",
           "ticks": "",
           "title": {
            "standoff": 15
           },
           "zerolinecolor": "#EBF0F8",
           "zerolinewidth": 2
          }
         }
        },
        "title": {
         "text": "Average Total Bill by Party Size"
        },
        "xaxis": {
         "anchor": "y",
         "categoryarray": [
          "size = 1",
          "size >= 4"
         ],
         "categoryorder": "array",
         "domain": [
          0,
          1
         ],
         "title": {
          "text": "Party Size"
         }
        },
        "yaxis": {
         "anchor": "x",
         "domain": [
          0,
          1
         ],
         "tickformat": ".2f",
         "title": {
          "text": "Average Total Bill ($)"
         }
        }
       }
      }
     },
     "metadata": {},
     "output_type": "display_data"
    }
   ],
   "source": [
    "# it's almost the same flow as above but it will return a chart, instead of text\n",
    "response = broinsight.create_chart(\n",
    "    query_result=result,\n",
    "    message=question\n",
    ")\n",
    "response['chart']\n",
    "# print(response['fig'])"
   ]
  },
  {
   "cell_type": "markdown",
   "id": "7681261e",
   "metadata": {},
   "source": [
    "## Two s3 tables\n",
    "\n",
    "Down below is almost the above example except it takes more than one table to do the job"
   ]
  },
  {
   "cell_type": "code",
   "execution_count": 20,
   "id": "c0f00bbc",
   "metadata": {},
   "outputs": [],
   "source": [
    "import pandas as pd\n",
    "import numpy as np\n",
    "from datetime import datetime, timedelta\n",
    "\n",
    "# Dataset 1: Customers\n",
    "np.random.seed(42)\n",
    "customers_data = {\n",
    "    'customer_id': range(1, 101),\n",
    "    'name': [f'Customer_{i}' for i in range(1, 101)],\n",
    "    'email': [f'customer{i}@email.com' for i in range(1, 101)],\n",
    "    'age': np.random.randint(18, 75, 100),\n",
    "    'city': np.random.choice(['New York', 'Los Angeles', 'Chicago', 'Houston', 'Phoenix'], 100),\n",
    "    'signup_date': [datetime(2023, 1, 1) + timedelta(days=np.random.randint(0, 365)) for _ in range(100)],\n",
    "    'status': np.random.choice(['Active', 'Inactive'], 100, p=[0.8, 0.2])\n",
    "}\n",
    "customers_df = pd.DataFrame(customers_data)\n",
    "\n",
    "# Dataset 2: Orders (with foreign key to customers)\n",
    "np.random.seed(42)\n",
    "orders_data = {\n",
    "    'order_id': range(1, 251),\n",
    "    'customer_id': np.random.choice(range(1, 101), 250),  # Foreign key to customers\n",
    "    'order_date': [datetime(2023, 1, 1) + timedelta(days=np.random.randint(0, 365)) for _ in range(250)],\n",
    "    'product_category': np.random.choice(['Electronics', 'Clothing', 'Books', 'Home', 'Sports'], 250),\n",
    "    'order_amount': np.round(np.random.uniform(10.0, 500.0, 250), 2),\n",
    "    'shipping_cost': np.round(np.random.uniform(0.0, 25.0, 250), 2),\n",
    "    'order_status': np.random.choice(['Completed', 'Pending', 'Cancelled'], 250, p=[0.7, 0.2, 0.1]),\n",
    "    'payment_method': np.random.choice(['Credit Card', 'PayPal', 'Bank Transfer'], 250)\n",
    "}\n",
    "orders_df = pd.DataFrame(orders_data)\n",
    "\n",
    "# Field descriptions for customers\n",
    "customers_descriptions = FieldDescriptions(descriptions=[\n",
    "    FieldDescription(field_name=\"customer_id\", description=\"Unique customer identifier\"),\n",
    "    FieldDescription(field_name=\"name\", description=\"Customer full name\"),\n",
    "    FieldDescription(field_name=\"email\", description=\"Customer email address\"),\n",
    "    FieldDescription(field_name=\"age\", description=\"Customer age in years\"),\n",
    "    FieldDescription(field_name=\"city\", description=\"Customer's city of residence\"),\n",
    "    FieldDescription(field_name=\"signup_date\", description=\"Date when customer registered\"),\n",
    "    FieldDescription(field_name=\"status\", description=\"Current customer account status\")\n",
    "])\n",
    "\n",
    "# Field descriptions for orders\n",
    "orders_descriptions = FieldDescriptions(descriptions=[\n",
    "    FieldDescription(field_name=\"order_id\", description=\"Unique order identifier\"),\n",
    "    FieldDescription(field_name=\"customer_id\", description=\"Links to customer who placed the order\"),\n",
    "    FieldDescription(field_name=\"order_date\", description=\"Date when order was placed\"),\n",
    "    FieldDescription(field_name=\"product_category\", description=\"Category of products ordered\"),\n",
    "    FieldDescription(field_name=\"order_amount\", description=\"Total order value in dollars\"),\n",
    "    FieldDescription(field_name=\"shipping_cost\", description=\"Shipping fee charged\"),\n",
    "    FieldDescription(field_name=\"order_status\", description=\"Current status of the order\"),\n",
    "    FieldDescription(field_name=\"payment_method\", description=\"Payment method used\")\n",
    "])"
   ]
  },
  {
   "cell_type": "code",
   "execution_count": 21,
   "id": "f2a11051",
   "metadata": {},
   "outputs": [
    {
     "name": "stdout",
     "output_type": "stream",
     "text": [
      "METADATAS:\n",
      "\n",
      "Table: customers\n",
      "Columns:\n",
      "- customer_id (integer): Unique customer identifier, NOT NULL\n",
      "  Range: 1 - 100, Average: 50.50\n",
      "- name (string): Customer full name, NOT NULL\n",
      "  Examples: \"Customer_10\", \"Customer_23\", \"Customer_30\"\n",
      "- email (string): Customer email address, NOT NULL\n",
      "  Examples: \"customer20@email.com\", \"customer52@email.com\", \"customer56@email.com\"\n",
      "- age (integer): Customer age in years, NOT NULL\n",
      "  Range: 19 - 74, Average: 45.19\n",
      "- city (string): Customer's city of residence, NOT NULL\n",
      "  Examples: \"New York\", \"Houston\", \"Chicago\"\n",
      "- signup_date (datetime): Date when customer registered, NOT NULL\n",
      "  Range: 2023-01-02 00:00:00 to 2023-12-26 00:00:00, 77 unique days\n",
      "- status (string): Current customer account status, NOT NULL\n",
      "  Examples: \"Active\", \"Inactive\"\n",
      "\n",
      "Table: orders\n",
      "Relationships:\n",
      "  customer_id -> customers.customer_id\n",
      "Columns:\n",
      "- order_id (integer): Unique order identifier, NOT NULL\n",
      "  Range: 1 - 250, Average: 125.50\n",
      "- customer_id (integer): Links to customer who placed the order, NOT NULL\n",
      "  Range: 1 - 100, Average: 50.34\n",
      "- order_date (datetime): Date when order was placed, NOT NULL\n",
      "  Range: 2023-01-01 00:00:00 to 2023-12-31 00:00:00, 176 unique days\n",
      "- product_category (string): Category of products ordered, NOT NULL\n",
      "  Examples: \"Sports\", \"Home\", \"Electronics\"\n",
      "- order_amount (float): Total order value in dollars, NOT NULL\n",
      "  Range: 11.27 - 498.87, Average: 260.16\n",
      "- shipping_cost (float): Shipping fee charged, NOT NULL\n",
      "  Range: 0.06 - 24.98, Average: 12.95\n",
      "- order_status (string): Current status of the order, NOT NULL\n",
      "  Examples: \"Completed\", \"Pending\", \"Cancelled\"\n",
      "- payment_method (string): Payment method used, NOT NULL\n",
      "  Examples: \"PayPal\", \"Credit Card\", \"Bank Transfer\"\n"
     ]
    }
   ],
   "source": [
    "from broinsight.utils.data_catalog import DataCatalog\n",
    "import boto3\n",
    "\n",
    "s3_client = boto3.client('s3')\n",
    "bucket='dev-broinsight'\n",
    "\n",
    "aws_configs = AWSConfig(\n",
    "    aws_access_key_id=credentials.access_key,\n",
    "    aws_secret_access_key=credentials.secret_key,\n",
    "    aws_session_token=credentials.token or None,\n",
    "    region_name='ap-southeast-1'\n",
    ")\n",
    "\n",
    "s3_client.put_object(Bucket=bucket, Key='customers.csv', Body=customers_df.to_csv(index=False))\n",
    "s3_client.put_object(Bucket=bucket, Key='orders.csv', Body=orders_df.to_csv(index=False))\n",
    "\n",
    "s3_customers = f\"s3://{bucket}/customers.csv\"\n",
    "s3_orders = f\"s3://{bucket}/orders.csv\"\n",
    "\n",
    "catalog = DataCatalog(aws_configs=aws_configs)\n",
    "# catalog.register(\"customers\", customers_df, \"Customer information and demographics\")\n",
    "# catalog.register(\"orders\", orders_df, \"Customer order transactions and details\")\n",
    "\n",
    "catalog.register(\"customers\", s3_customers, \"Customer information and demographics\")\n",
    "catalog.register(\"orders\", s3_orders, \"Customer order transactions and details\")\n",
    "# # Profile tables\n",
    "catalog.profile_tables([\"customers\", \"orders\"])\n",
    "\n",
    "# # Add field descriptions\n",
    "catalog.add_field_descriptions(\"customers\", customers_descriptions)\n",
    "catalog.add_field_descriptions(\"orders\", orders_descriptions)\n",
    "\n",
    "# # Add relationship\n",
    "# catalog.add_relationship(\"orders\", \"customer_id\", \"customers\", \"customer_id\")\n",
    "catalog.add_relationship(foreign_table=\"orders\", foreign_key=\"customer_id\", primary_table=\"customers\", primary_key=\"customer_id\")\n",
    "\n",
    "# # Test SQL metadata generation\n",
    "sql_metadata = catalog.to_sql_metadata([\"customers\", \"orders\"])\n",
    "print(sql_metadata)"
   ]
  },
  {
   "cell_type": "code",
   "execution_count": 22,
   "id": "82420d99",
   "metadata": {},
   "outputs": [
    {
     "name": "stdout",
     "output_type": "stream",
     "text": [
      "Based on your role and goals, here are some areas you might want to explore:\n",
      "\n",
      "Customer Overview\n",
      "- How many customers are Active versus Inactive in customers.status?\n",
      "- What is the average age of customers in each city from customers.city and customers.age?\n",
      "\n",
      "Order Performance\n",
      "- What is the total and average order_amount for each product_category in orders.product_category?\n",
      "- How many orders are Completed, Pending, or Cancelled in orders.order_status?\n",
      "\n",
      "Revenue Insights\n",
      "- What is the total revenue (sum of orders.order_amount) for each month in orders.order_date?\n",
      "- What is the average shipping_cost for orders in each order_status category?\n",
      "\n",
      "Customer Acquisition\n",
      "- How many new customers signed up each month from customers.signup_date?\n",
      "- What is the distribution of payment_method used in orders.payment_method?\n",
      "\n",
      "Just ask me any of these questions and I'll analyze your data to get the answers!\n"
     ]
    }
   ],
   "source": [
    "response = broinsight.suggest_questions(\n",
    "    context=catalog.to_guide_metadata([\"customers\", \"orders\"]),\n",
    "    message=\"I'm a new manager here. I don't know what to look to know more about our business.\"\n",
    "\n",
    ")\n",
    "print(response['content'])"
   ]
  },
  {
   "cell_type": "code",
   "execution_count": 23,
   "id": "4a4be850",
   "metadata": {},
   "outputs": [
    {
     "name": "stdout",
     "output_type": "stream",
     "text": [
      "```sql\n",
      "SELECT\n",
      "    EXTRACT(YEAR FROM o.order_date)  AS year,\n",
      "    EXTRACT(MONTH FROM o.order_date) AS month,\n",
      "    SUM(o.order_amount)              AS total_sales,\n",
      "    COUNT(*)                         AS order_count\n",
      "FROM orders o\n",
      "WHERE o.order_status = 'Completed'\n",
      "GROUP BY year, month\n",
      "ORDER BY year, month;\n",
      "```\n"
     ]
    }
   ],
   "source": [
    "# question = \"How many orders were paid using each payment_method in the orders table?\"\n",
    "# question = \"Who are the top 5 customers payting with PayPal method? I wanna know thier ages and names\"\n",
    "# question = \"Who are the top 5 spenders? I wanna know thier ages and names and their most payment method\"\n",
    "question = \"Show me monthly sales trends of each year\"\n",
    "response = broinsight.generate_sql(\n",
    "    context=catalog.to_sql_metadata([\"customers\", \"orders\"]),\n",
    "    message=question\n",
    "\n",
    ")\n",
    "print(response['content'])"
   ]
  },
  {
   "cell_type": "code",
   "execution_count": 24,
   "id": "60fc39ac",
   "metadata": {},
   "outputs": [],
   "source": [
    "sql_query = response['content'].split(\"```sql\")[-1].split(\"```\")[0]\n",
    "result = catalog.query(sql_query)"
   ]
  },
  {
   "cell_type": "code",
   "execution_count": 25,
   "id": "f8a5d7fd",
   "metadata": {},
   "outputs": [
    {
     "data": {
      "text/html": [
       "<div>\n",
       "<style scoped>\n",
       "    .dataframe tbody tr th:only-of-type {\n",
       "        vertical-align: middle;\n",
       "    }\n",
       "\n",
       "    .dataframe tbody tr th {\n",
       "        vertical-align: top;\n",
       "    }\n",
       "\n",
       "    .dataframe thead th {\n",
       "        text-align: right;\n",
       "    }\n",
       "</style>\n",
       "<table border=\"1\" class=\"dataframe\">\n",
       "  <thead>\n",
       "    <tr style=\"text-align: right;\">\n",
       "      <th></th>\n",
       "      <th>year</th>\n",
       "      <th>month</th>\n",
       "      <th>total_sales</th>\n",
       "      <th>order_count</th>\n",
       "    </tr>\n",
       "  </thead>\n",
       "  <tbody>\n",
       "    <tr>\n",
       "      <th>0</th>\n",
       "      <td>2023</td>\n",
       "      <td>1</td>\n",
       "      <td>2427.12</td>\n",
       "      <td>8</td>\n",
       "    </tr>\n",
       "    <tr>\n",
       "      <th>1</th>\n",
       "      <td>2023</td>\n",
       "      <td>2</td>\n",
       "      <td>3037.51</td>\n",
       "      <td>15</td>\n",
       "    </tr>\n",
       "    <tr>\n",
       "      <th>2</th>\n",
       "      <td>2023</td>\n",
       "      <td>3</td>\n",
       "      <td>1549.73</td>\n",
       "      <td>6</td>\n",
       "    </tr>\n",
       "    <tr>\n",
       "      <th>3</th>\n",
       "      <td>2023</td>\n",
       "      <td>4</td>\n",
       "      <td>3798.10</td>\n",
       "      <td>16</td>\n",
       "    </tr>\n",
       "    <tr>\n",
       "      <th>4</th>\n",
       "      <td>2023</td>\n",
       "      <td>5</td>\n",
       "      <td>5520.59</td>\n",
       "      <td>23</td>\n",
       "    </tr>\n",
       "    <tr>\n",
       "      <th>5</th>\n",
       "      <td>2023</td>\n",
       "      <td>6</td>\n",
       "      <td>5578.09</td>\n",
       "      <td>18</td>\n",
       "    </tr>\n",
       "    <tr>\n",
       "      <th>6</th>\n",
       "      <td>2023</td>\n",
       "      <td>7</td>\n",
       "      <td>2987.18</td>\n",
       "      <td>13</td>\n",
       "    </tr>\n",
       "    <tr>\n",
       "      <th>7</th>\n",
       "      <td>2023</td>\n",
       "      <td>8</td>\n",
       "      <td>2729.77</td>\n",
       "      <td>11</td>\n",
       "    </tr>\n",
       "    <tr>\n",
       "      <th>8</th>\n",
       "      <td>2023</td>\n",
       "      <td>9</td>\n",
       "      <td>4984.97</td>\n",
       "      <td>15</td>\n",
       "    </tr>\n",
       "    <tr>\n",
       "      <th>9</th>\n",
       "      <td>2023</td>\n",
       "      <td>10</td>\n",
       "      <td>3243.12</td>\n",
       "      <td>14</td>\n",
       "    </tr>\n",
       "    <tr>\n",
       "      <th>10</th>\n",
       "      <td>2023</td>\n",
       "      <td>11</td>\n",
       "      <td>3134.15</td>\n",
       "      <td>12</td>\n",
       "    </tr>\n",
       "    <tr>\n",
       "      <th>11</th>\n",
       "      <td>2023</td>\n",
       "      <td>12</td>\n",
       "      <td>3930.74</td>\n",
       "      <td>15</td>\n",
       "    </tr>\n",
       "  </tbody>\n",
       "</table>\n",
       "</div>"
      ],
      "text/plain": [
       "    year  month  total_sales  order_count\n",
       "0   2023      1      2427.12            8\n",
       "1   2023      2      3037.51           15\n",
       "2   2023      3      1549.73            6\n",
       "3   2023      4      3798.10           16\n",
       "4   2023      5      5520.59           23\n",
       "5   2023      6      5578.09           18\n",
       "6   2023      7      2987.18           13\n",
       "7   2023      8      2729.77           11\n",
       "8   2023      9      4984.97           15\n",
       "9   2023     10      3243.12           14\n",
       "10  2023     11      3134.15           12\n",
       "11  2023     12      3930.74           15"
      ]
     },
     "execution_count": 25,
     "metadata": {},
     "output_type": "execute_result"
    }
   ],
   "source": [
    "result"
   ]
  },
  {
   "cell_type": "code",
   "execution_count": 26,
   "id": "97dfbe4f",
   "metadata": {},
   "outputs": [
    {
     "name": "stdout",
     "output_type": "stream",
     "text": [
      "Here’s a quick look at how sales moved month‑to‑month in 2023:\n",
      "\n",
      "| Month | Total Sales | Order Count |\n",
      "|-------|-------------|-------------|\n",
      "| Jan   | $2,427.12   | 8 |\n",
      "| Feb   | $3,037.51   | 15 |\n",
      "| Mar   | $1,549.73   | 6 |\n",
      "| Apr   | $3,798.10   | 16 |\n",
      "| May   | $5,520.59   | 23 |\n",
      "| Jun   | $5,578.09   | 18 |\n",
      "| Jul   | $2,987.18   | 13 |\n",
      "| Aug   | $2,729.77   | 11 |\n",
      "| Sep   | $4,984.97   | 15 |\n",
      "| Oct   | $3,243.12   | 14 |\n",
      "| Nov   | $3,134.15   | 12 |\n",
      "| Dec   | $3,930.74   | 15 |\n",
      "\n",
      "**What the numbers tell us**\n",
      "\n",
      "- **Peak performance**: May and June were the strongest months, with sales above $5,500 each. Those months also saw the highest order counts (23 in May, 18 in June).\n",
      "- **Lowest point**: March dipped to just $1,549 in sales and only 6 orders, suggesting a seasonal lull or a promotional gap.\n",
      "- **Mid‑year rebound**: After the March low, sales climbed steadily through April, peaking again in May and June before tapering off in July and August.\n",
      "- **Consistent end‑of‑year**: September through December stayed in the $3,000–$5,000 range, with December slightly higher than the other months in that quarter.\n",
      "\n",
      "**Business takeaways**\n",
      "\n",
      "1. **Capitalize on the May–June surge** – consider targeted marketing or inventory boosts before those months to capture the high demand.\n",
      "2. **Investigate March’s dip** – look at marketing spend, product availability, or external factors that might explain the low sales and orders.\n",
      "3. **Maintain momentum in Q3** – the jump from July to September shows a rebound; keep the momentum by ensuring supply chain readiness and promotional support.\n",
      "4. **Plan for a steady Q4** – December’s sales are solid; a focused holiday campaign could push it even higher.\n",
      "\n",
      "If you’d like to dig deeper—say, compare these trends to previous years or break them down by product category—just let me know!\n"
     ]
    }
   ],
   "source": [
    "response = broinsight.ask_data(\n",
    "    context=result.to_string(),\n",
    "    message=question\n",
    ")\n",
    "print(response['content'])"
   ]
  },
  {
   "cell_type": "code",
   "execution_count": 27,
   "id": "5ab616d5",
   "metadata": {},
   "outputs": [
    {
     "data": {
      "application/vnd.plotly.v1+json": {
       "config": {
        "plotlyServerURL": "https://plot.ly"
       },
       "data": [
        {
         "hovertemplate": "Year=2023<br>Month=%{x}<br>Total Sales=%{y}<extra></extra>",
         "legendgroup": "2023",
         "line": {
          "color": "#636efa",
          "dash": "solid"
         },
         "marker": {
          "symbol": "circle"
         },
         "mode": "lines+markers",
         "name": "2023",
         "orientation": "v",
         "showlegend": true,
         "type": "scatter",
         "x": [
          "Jan",
          "Feb",
          "Mar",
          "Apr",
          "May",
          "Jun",
          "Jul",
          "Aug",
          "Sep",
          "Oct",
          "Nov",
          "Dec"
         ],
         "xaxis": "x",
         "y": {
          "bdata": "CtejcD32okDsUbgeBbunQFK4HoXrNphANDMzMzOsrUCjcD0Kl5C1QKNwPQoXyrVAj8L1KFxWp0DXo3A9ilOlQB+F61H4eLNACtejcD1WqUDMzMzMTHyoQBauR+F6ta5A",
          "dtype": "f8"
         },
         "yaxis": "y"
        }
       ],
       "layout": {
        "hovermode": "x unified",
        "legend": {
         "title": {
          "text": "Year"
         },
         "tracegroupgap": 0
        },
        "template": {
         "data": {
          "bar": [
           {
            "error_x": {
             "color": "#2a3f5f"
            },
            "error_y": {
             "color": "#2a3f5f"
            },
            "marker": {
             "line": {
              "color": "white",
              "width": 0.5
             },
             "pattern": {
              "fillmode": "overlay",
              "size": 10,
              "solidity": 0.2
             }
            },
            "type": "bar"
           }
          ],
          "barpolar": [
           {
            "marker": {
             "line": {
              "color": "white",
              "width": 0.5
             },
             "pattern": {
              "fillmode": "overlay",
              "size": 10,
              "solidity": 0.2
             }
            },
            "type": "barpolar"
           }
          ],
          "carpet": [
           {
            "aaxis": {
             "endlinecolor": "#2a3f5f",
             "gridcolor": "#C8D4E3",
             "linecolor": "#C8D4E3",
             "minorgridcolor": "#C8D4E3",
             "startlinecolor": "#2a3f5f"
            },
            "baxis": {
             "endlinecolor": "#2a3f5f",
             "gridcolor": "#C8D4E3",
             "linecolor": "#C8D4E3",
             "minorgridcolor": "#C8D4E3",
             "startlinecolor": "#2a3f5f"
            },
            "type": "carpet"
           }
          ],
          "choropleth": [
           {
            "colorbar": {
             "outlinewidth": 0,
             "ticks": ""
            },
            "type": "choropleth"
           }
          ],
          "contour": [
           {
            "colorbar": {
             "outlinewidth": 0,
             "ticks": ""
            },
            "colorscale": [
             [
              0,
              "#0d0887"
             ],
             [
              0.1111111111111111,
              "#46039f"
             ],
             [
              0.2222222222222222,
              "#7201a8"
             ],
             [
              0.3333333333333333,
              "#9c179e"
             ],
             [
              0.4444444444444444,
              "#bd3786"
             ],
             [
              0.5555555555555556,
              "#d8576b"
             ],
             [
              0.6666666666666666,
              "#ed7953"
             ],
             [
              0.7777777777777778,
              "#fb9f3a"
             ],
             [
              0.8888888888888888,
              "#fdca26"
             ],
             [
              1,
              "#f0f921"
             ]
            ],
            "type": "contour"
           }
          ],
          "contourcarpet": [
           {
            "colorbar": {
             "outlinewidth": 0,
             "ticks": ""
            },
            "type": "contourcarpet"
           }
          ],
          "heatmap": [
           {
            "colorbar": {
             "outlinewidth": 0,
             "ticks": ""
            },
            "colorscale": [
             [
              0,
              "#0d0887"
             ],
             [
              0.1111111111111111,
              "#46039f"
             ],
             [
              0.2222222222222222,
              "#7201a8"
             ],
             [
              0.3333333333333333,
              "#9c179e"
             ],
             [
              0.4444444444444444,
              "#bd3786"
             ],
             [
              0.5555555555555556,
              "#d8576b"
             ],
             [
              0.6666666666666666,
              "#ed7953"
             ],
             [
              0.7777777777777778,
              "#fb9f3a"
             ],
             [
              0.8888888888888888,
              "#fdca26"
             ],
             [
              1,
              "#f0f921"
             ]
            ],
            "type": "heatmap"
           }
          ],
          "histogram": [
           {
            "marker": {
             "pattern": {
              "fillmode": "overlay",
              "size": 10,
              "solidity": 0.2
             }
            },
            "type": "histogram"
           }
          ],
          "histogram2d": [
           {
            "colorbar": {
             "outlinewidth": 0,
             "ticks": ""
            },
            "colorscale": [
             [
              0,
              "#0d0887"
             ],
             [
              0.1111111111111111,
              "#46039f"
             ],
             [
              0.2222222222222222,
              "#7201a8"
             ],
             [
              0.3333333333333333,
              "#9c179e"
             ],
             [
              0.4444444444444444,
              "#bd3786"
             ],
             [
              0.5555555555555556,
              "#d8576b"
             ],
             [
              0.6666666666666666,
              "#ed7953"
             ],
             [
              0.7777777777777778,
              "#fb9f3a"
             ],
             [
              0.8888888888888888,
              "#fdca26"
             ],
             [
              1,
              "#f0f921"
             ]
            ],
            "type": "histogram2d"
           }
          ],
          "histogram2dcontour": [
           {
            "colorbar": {
             "outlinewidth": 0,
             "ticks": ""
            },
            "colorscale": [
             [
              0,
              "#0d0887"
             ],
             [
              0.1111111111111111,
              "#46039f"
             ],
             [
              0.2222222222222222,
              "#7201a8"
             ],
             [
              0.3333333333333333,
              "#9c179e"
             ],
             [
              0.4444444444444444,
              "#bd3786"
             ],
             [
              0.5555555555555556,
              "#d8576b"
             ],
             [
              0.6666666666666666,
              "#ed7953"
             ],
             [
              0.7777777777777778,
              "#fb9f3a"
             ],
             [
              0.8888888888888888,
              "#fdca26"
             ],
             [
              1,
              "#f0f921"
             ]
            ],
            "type": "histogram2dcontour"
           }
          ],
          "mesh3d": [
           {
            "colorbar": {
             "outlinewidth": 0,
             "ticks": ""
            },
            "type": "mesh3d"
           }
          ],
          "parcoords": [
           {
            "line": {
             "colorbar": {
              "outlinewidth": 0,
              "ticks": ""
             }
            },
            "type": "parcoords"
           }
          ],
          "pie": [
           {
            "automargin": true,
            "type": "pie"
           }
          ],
          "scatter": [
           {
            "fillpattern": {
             "fillmode": "overlay",
             "size": 10,
             "solidity": 0.2
            },
            "type": "scatter"
           }
          ],
          "scatter3d": [
           {
            "line": {
             "colorbar": {
              "outlinewidth": 0,
              "ticks": ""
             }
            },
            "marker": {
             "colorbar": {
              "outlinewidth": 0,
              "ticks": ""
             }
            },
            "type": "scatter3d"
           }
          ],
          "scattercarpet": [
           {
            "marker": {
             "colorbar": {
              "outlinewidth": 0,
              "ticks": ""
             }
            },
            "type": "scattercarpet"
           }
          ],
          "scattergeo": [
           {
            "marker": {
             "colorbar": {
              "outlinewidth": 0,
              "ticks": ""
             }
            },
            "type": "scattergeo"
           }
          ],
          "scattergl": [
           {
            "marker": {
             "colorbar": {
              "outlinewidth": 0,
              "ticks": ""
             }
            },
            "type": "scattergl"
           }
          ],
          "scattermap": [
           {
            "marker": {
             "colorbar": {
              "outlinewidth": 0,
              "ticks": ""
             }
            },
            "type": "scattermap"
           }
          ],
          "scattermapbox": [
           {
            "marker": {
             "colorbar": {
              "outlinewidth": 0,
              "ticks": ""
             }
            },
            "type": "scattermapbox"
           }
          ],
          "scatterpolar": [
           {
            "marker": {
             "colorbar": {
              "outlinewidth": 0,
              "ticks": ""
             }
            },
            "type": "scatterpolar"
           }
          ],
          "scatterpolargl": [
           {
            "marker": {
             "colorbar": {
              "outlinewidth": 0,
              "ticks": ""
             }
            },
            "type": "scatterpolargl"
           }
          ],
          "scatterternary": [
           {
            "marker": {
             "colorbar": {
              "outlinewidth": 0,
              "ticks": ""
             }
            },
            "type": "scatterternary"
           }
          ],
          "surface": [
           {
            "colorbar": {
             "outlinewidth": 0,
             "ticks": ""
            },
            "colorscale": [
             [
              0,
              "#0d0887"
             ],
             [
              0.1111111111111111,
              "#46039f"
             ],
             [
              0.2222222222222222,
              "#7201a8"
             ],
             [
              0.3333333333333333,
              "#9c179e"
             ],
             [
              0.4444444444444444,
              "#bd3786"
             ],
             [
              0.5555555555555556,
              "#d8576b"
             ],
             [
              0.6666666666666666,
              "#ed7953"
             ],
             [
              0.7777777777777778,
              "#fb9f3a"
             ],
             [
              0.8888888888888888,
              "#fdca26"
             ],
             [
              1,
              "#f0f921"
             ]
            ],
            "type": "surface"
           }
          ],
          "table": [
           {
            "cells": {
             "fill": {
              "color": "#EBF0F8"
             },
             "line": {
              "color": "white"
             }
            },
            "header": {
             "fill": {
              "color": "#C8D4E3"
             },
             "line": {
              "color": "white"
             }
            },
            "type": "table"
           }
          ]
         },
         "layout": {
          "annotationdefaults": {
           "arrowcolor": "#2a3f5f",
           "arrowhead": 0,
           "arrowwidth": 1
          },
          "autotypenumbers": "strict",
          "coloraxis": {
           "colorbar": {
            "outlinewidth": 0,
            "ticks": ""
           }
          },
          "colorscale": {
           "diverging": [
            [
             0,
             "#8e0152"
            ],
            [
             0.1,
             "#c51b7d"
            ],
            [
             0.2,
             "#de77ae"
            ],
            [
             0.3,
             "#f1b6da"
            ],
            [
             0.4,
             "#fde0ef"
            ],
            [
             0.5,
             "#f7f7f7"
            ],
            [
             0.6,
             "#e6f5d0"
            ],
            [
             0.7,
             "#b8e186"
            ],
            [
             0.8,
             "#7fbc41"
            ],
            [
             0.9,
             "#4d9221"
            ],
            [
             1,
             "#276419"
            ]
           ],
           "sequential": [
            [
             0,
             "#0d0887"
            ],
            [
             0.1111111111111111,
             "#46039f"
            ],
            [
             0.2222222222222222,
             "#7201a8"
            ],
            [
             0.3333333333333333,
             "#9c179e"
            ],
            [
             0.4444444444444444,
             "#bd3786"
            ],
            [
             0.5555555555555556,
             "#d8576b"
            ],
            [
             0.6666666666666666,
             "#ed7953"
            ],
            [
             0.7777777777777778,
             "#fb9f3a"
            ],
            [
             0.8888888888888888,
             "#fdca26"
            ],
            [
             1,
             "#f0f921"
            ]
           ],
           "sequentialminus": [
            [
             0,
             "#0d0887"
            ],
            [
             0.1111111111111111,
             "#46039f"
            ],
            [
             0.2222222222222222,
             "#7201a8"
            ],
            [
             0.3333333333333333,
             "#9c179e"
            ],
            [
             0.4444444444444444,
             "#bd3786"
            ],
            [
             0.5555555555555556,
             "#d8576b"
            ],
            [
             0.6666666666666666,
             "#ed7953"
            ],
            [
             0.7777777777777778,
             "#fb9f3a"
            ],
            [
             0.8888888888888888,
             "#fdca26"
            ],
            [
             1,
             "#f0f921"
            ]
           ]
          },
          "colorway": [
           "#636efa",
           "#EF553B",
           "#00cc96",
           "#ab63fa",
           "#FFA15A",
           "#19d3f3",
           "#FF6692",
           "#B6E880",
           "#FF97FF",
           "#FECB52"
          ],
          "font": {
           "color": "#2a3f5f"
          },
          "geo": {
           "bgcolor": "white",
           "lakecolor": "white",
           "landcolor": "white",
           "showlakes": true,
           "showland": true,
           "subunitcolor": "#C8D4E3"
          },
          "hoverlabel": {
           "align": "left"
          },
          "hovermode": "closest",
          "mapbox": {
           "style": "light"
          },
          "paper_bgcolor": "white",
          "plot_bgcolor": "white",
          "polar": {
           "angularaxis": {
            "gridcolor": "#EBF0F8",
            "linecolor": "#EBF0F8",
            "ticks": ""
           },
           "bgcolor": "white",
           "radialaxis": {
            "gridcolor": "#EBF0F8",
            "linecolor": "#EBF0F8",
            "ticks": ""
           }
          },
          "scene": {
           "xaxis": {
            "backgroundcolor": "white",
            "gridcolor": "#DFE8F3",
            "gridwidth": 2,
            "linecolor": "#EBF0F8",
            "showbackground": true,
            "ticks": "",
            "zerolinecolor": "#EBF0F8"
           },
           "yaxis": {
            "backgroundcolor": "white",
            "gridcolor": "#DFE8F3",
            "gridwidth": 2,
            "linecolor": "#EBF0F8",
            "showbackground": true,
            "ticks": "",
            "zerolinecolor": "#EBF0F8"
           },
           "zaxis": {
            "backgroundcolor": "white",
            "gridcolor": "#DFE8F3",
            "gridwidth": 2,
            "linecolor": "#EBF0F8",
            "showbackground": true,
            "ticks": "",
            "zerolinecolor": "#EBF0F8"
           }
          },
          "shapedefaults": {
           "line": {
            "color": "#2a3f5f"
           }
          },
          "ternary": {
           "aaxis": {
            "gridcolor": "#DFE8F3",
            "linecolor": "#A2B1C6",
            "ticks": ""
           },
           "baxis": {
            "gridcolor": "#DFE8F3",
            "linecolor": "#A2B1C6",
            "ticks": ""
           },
           "bgcolor": "white",
           "caxis": {
            "gridcolor": "#DFE8F3",
            "linecolor": "#A2B1C6",
            "ticks": ""
           }
          },
          "title": {
           "x": 0.05
          },
          "xaxis": {
           "automargin": true,
           "gridcolor": "#EBF0F8",
           "linecolor": "#EBF0F8",
           "ticks": "",
           "title": {
            "standoff": 15
           },
           "zerolinecolor": "#EBF0F8",
           "zerolinewidth": 2
          },
          "yaxis": {
           "automargin": true,
           "gridcolor": "#EBF0F8",
           "linecolor": "#EBF0F8",
           "ticks": "",
           "title": {
            "standoff": 15
           },
           "zerolinecolor": "#EBF0F8",
           "zerolinewidth": 2
          }
         }
        },
        "title": {
         "text": "Monthly Sales Trends by Year"
        },
        "xaxis": {
         "anchor": "y",
         "categoryarray": [
          "Jan",
          "Feb",
          "Mar",
          "Apr",
          "May",
          "Jun",
          "Jul",
          "Aug",
          "Sep",
          "Oct",
          "Nov",
          "Dec"
         ],
         "categoryorder": "array",
         "domain": [
          0,
          1
         ],
         "tickmode": "array",
         "ticktext": [
          "Jan",
          "Feb",
          "Mar",
          "Apr",
          "May",
          "Jun",
          "Jul",
          "Aug",
          "Sep",
          "Oct",
          "Nov",
          "Dec"
         ],
         "tickvals": [
          "Jan",
          "Feb",
          "Mar",
          "Apr",
          "May",
          "Jun",
          "Jul",
          "Aug",
          "Sep",
          "Oct",
          "Nov",
          "Dec"
         ],
         "title": {
          "text": "Month"
         }
        },
        "yaxis": {
         "anchor": "x",
         "domain": [
          0,
          1
         ],
         "title": {
          "text": "Total Sales ($)"
         }
        }
       }
      }
     },
     "metadata": {},
     "output_type": "display_data"
    }
   ],
   "source": [
    "response = broinsight.create_chart(\n",
    "    query_result=result,\n",
    "    message=question\n",
    ")\n",
    "response['chart']"
   ]
  },
  {
   "cell_type": "code",
   "execution_count": 28,
   "id": "56ddefd1",
   "metadata": {},
   "outputs": [
    {
     "data": {
      "text/plain": [
       "['customers', 'orders']"
      ]
     },
     "execution_count": 28,
     "metadata": {},
     "output_type": "execute_result"
    }
   ],
   "source": [
    "catalog.list_tables()"
   ]
  },
  {
   "cell_type": "code",
   "execution_count": 29,
   "id": "391ec66e",
   "metadata": {},
   "outputs": [
    {
     "data": {
      "text/html": [
       "<div>\n",
       "<style scoped>\n",
       "    .dataframe tbody tr th:only-of-type {\n",
       "        vertical-align: middle;\n",
       "    }\n",
       "\n",
       "    .dataframe tbody tr th {\n",
       "        vertical-align: top;\n",
       "    }\n",
       "\n",
       "    .dataframe thead th {\n",
       "        text-align: right;\n",
       "    }\n",
       "</style>\n",
       "<table border=\"1\" class=\"dataframe\">\n",
       "  <thead>\n",
       "    <tr style=\"text-align: right;\">\n",
       "      <th></th>\n",
       "      <th>customer_id</th>\n",
       "      <th>name</th>\n",
       "      <th>email</th>\n",
       "      <th>age</th>\n",
       "      <th>city</th>\n",
       "      <th>signup_date</th>\n",
       "      <th>status</th>\n",
       "    </tr>\n",
       "  </thead>\n",
       "  <tbody>\n",
       "    <tr>\n",
       "      <th>0</th>\n",
       "      <td>1</td>\n",
       "      <td>Customer_1</td>\n",
       "      <td>customer1@email.com</td>\n",
       "      <td>56</td>\n",
       "      <td>Phoenix</td>\n",
       "      <td>2023-09-25</td>\n",
       "      <td>Active</td>\n",
       "    </tr>\n",
       "    <tr>\n",
       "      <th>1</th>\n",
       "      <td>2</td>\n",
       "      <td>Customer_2</td>\n",
       "      <td>customer2@email.com</td>\n",
       "      <td>69</td>\n",
       "      <td>Los Angeles</td>\n",
       "      <td>2023-10-22</td>\n",
       "      <td>Active</td>\n",
       "    </tr>\n",
       "    <tr>\n",
       "      <th>2</th>\n",
       "      <td>3</td>\n",
       "      <td>Customer_3</td>\n",
       "      <td>customer3@email.com</td>\n",
       "      <td>46</td>\n",
       "      <td>New York</td>\n",
       "      <td>2023-04-23</td>\n",
       "      <td>Active</td>\n",
       "    </tr>\n",
       "    <tr>\n",
       "      <th>3</th>\n",
       "      <td>4</td>\n",
       "      <td>Customer_4</td>\n",
       "      <td>customer4@email.com</td>\n",
       "      <td>32</td>\n",
       "      <td>Houston</td>\n",
       "      <td>2023-04-11</td>\n",
       "      <td>Active</td>\n",
       "    </tr>\n",
       "    <tr>\n",
       "      <th>4</th>\n",
       "      <td>5</td>\n",
       "      <td>Customer_5</td>\n",
       "      <td>customer5@email.com</td>\n",
       "      <td>60</td>\n",
       "      <td>Houston</td>\n",
       "      <td>2023-04-23</td>\n",
       "      <td>Active</td>\n",
       "    </tr>\n",
       "  </tbody>\n",
       "</table>\n",
       "</div>"
      ],
      "text/plain": [
       "   customer_id        name                email  age         city signup_date  \\\n",
       "0            1  Customer_1  customer1@email.com   56      Phoenix  2023-09-25   \n",
       "1            2  Customer_2  customer2@email.com   69  Los Angeles  2023-10-22   \n",
       "2            3  Customer_3  customer3@email.com   46     New York  2023-04-23   \n",
       "3            4  Customer_4  customer4@email.com   32      Houston  2023-04-11   \n",
       "4            5  Customer_5  customer5@email.com   60      Houston  2023-04-23   \n",
       "\n",
       "   status  \n",
       "0  Active  \n",
       "1  Active  \n",
       "2  Active  \n",
       "3  Active  \n",
       "4  Active  "
      ]
     },
     "execution_count": 29,
     "metadata": {},
     "output_type": "execute_result"
    }
   ],
   "source": [
    "catalog.query(\"SELECT * FROM customers LIMIT 5\")"
   ]
  },
  {
   "cell_type": "code",
   "execution_count": 30,
   "id": "e3fe9003",
   "metadata": {},
   "outputs": [
    {
     "name": "stdout",
     "output_type": "stream",
     "text": [
      "<class 'pandas.core.frame.DataFrame'>\n",
      "RangeIndex: 5 entries, 0 to 4\n",
      "Data columns (total 7 columns):\n",
      " #   Column       Non-Null Count  Dtype         \n",
      "---  ------       --------------  -----         \n",
      " 0   customer_id  5 non-null      int64         \n",
      " 1   name         5 non-null      object        \n",
      " 2   email        5 non-null      object        \n",
      " 3   age          5 non-null      int64         \n",
      " 4   city         5 non-null      object        \n",
      " 5   signup_date  5 non-null      datetime64[us]\n",
      " 6   status       5 non-null      object        \n",
      "dtypes: datetime64[us](1), int64(2), object(4)\n",
      "memory usage: 412.0+ bytes\n"
     ]
    }
   ],
   "source": [
    "catalog.query(\"SELECT * FROM customers LIMIT 5\").info()"
   ]
  },
  {
   "cell_type": "code",
   "execution_count": 31,
   "id": "46c9180b",
   "metadata": {},
   "outputs": [
    {
     "name": "stdout",
     "output_type": "stream",
     "text": [
      "DATASET: customers\n",
      "DESCRIPTION: Customer information and demographics\n",
      "ROWS: 100\n",
      "COLUMNS: 7\n",
      "DUPLICATES: 0\n",
      "OVERALL QUALITY: GOOD\n",
      "TOTAL ISSUES: 0\n",
      "\n",
      "FIELD PROFILES:\n",
      "\n",
      "customer_id (integer):\n",
      "  Missing: 0 (0.0%)\n",
      "  Unique: 100 (1.0%)\n",
      "  Description: Unique customer identifier\n",
      "\n",
      "name (string):\n",
      "  Missing: 0 (0.0%)\n",
      "  Unique: 100 (1.0%)\n",
      "  Description: Customer full name\n",
      "\n",
      "email (string):\n",
      "  Missing: 0 (0.0%)\n",
      "  Unique: 100 (1.0%)\n",
      "  Description: Customer email address\n",
      "\n",
      "age (integer):\n",
      "  Missing: 0 (0.0%)\n",
      "  Unique: 50 (0.5%)\n",
      "  Description: Customer age in years\n",
      "\n",
      "city (string):\n",
      "  Missing: 0 (0.0%)\n",
      "  Unique: 5 (0.1%)\n",
      "  Description: Customer's city of residence\n",
      "\n",
      "signup_date (datetime):\n",
      "  Missing: 0 (0.0%)\n",
      "  Unique: 77 (0.8%)\n",
      "  Description: Date when customer registered\n",
      "\n",
      "status (string):\n",
      "  Missing: 0 (0.0%)\n",
      "  Unique: 2 (0.0%)\n",
      "  Description: Current customer account status\n",
      "\n"
     ]
    }
   ],
   "source": [
    "print(catalog.to_dq_profile(\"customers\"))"
   ]
  },
  {
   "cell_type": "code",
   "execution_count": 32,
   "id": "37fb739c",
   "metadata": {},
   "outputs": [
    {
     "name": "stdout",
     "output_type": "stream",
     "text": [
      "METADATA:\n",
      "\n",
      "Table: customers (Customer information and demographics)\n",
      "Fields:\n",
      "- customer_id (integer): Unique customer identifier\n",
      "  Range: 1 - 100, Average: 50.50\n",
      "- name (string): Customer full name\n",
      "  Values: Customer_10 (1), Customer_23 (1), Customer_30 (1)\n",
      "- email (string): Customer email address\n",
      "  Values: customer20@email.com (1), customer52@email.com (1), customer56@email.com (1)\n",
      "- age (integer): Customer age in years\n",
      "  Range: 19 - 74, Average: 45.19\n",
      "- city (string): Customer's city of residence\n",
      "  Values: New York (27), Houston (22), Chicago (21)\n",
      "- signup_date (datetime): Date when customer registered\n",
      "  Range: 2023-01-02 00:00:00 to 2023-12-26 00:00:00, 77 unique days\n",
      "- status (string): Current customer account status\n",
      "  Values: Active (82), Inactive (18)\n"
     ]
    }
   ],
   "source": [
    "print(catalog.to_guide_metadata(\"customers\"))"
   ]
  },
  {
   "cell_type": "code",
   "execution_count": 33,
   "id": "45f12e7b",
   "metadata": {},
   "outputs": [
    {
     "name": "stdout",
     "output_type": "stream",
     "text": [
      "METADATA:\n",
      "\n",
      "Table: customers (Customer information and demographics)\n",
      "Fields:\n",
      "- customer_id (integer): Unique customer identifier\n",
      "  Range: 1 - 100, Average: 50.50\n",
      "- name (string): Customer full name\n",
      "  Values: Customer_10 (1), Customer_23 (1), Customer_30 (1)\n",
      "- email (string): Customer email address\n",
      "  Values: customer20@email.com (1), customer52@email.com (1), customer56@email.com (1)\n",
      "- age (integer): Customer age in years\n",
      "  Range: 19 - 74, Average: 45.19\n",
      "- city (string): Customer's city of residence\n",
      "  Values: New York (27), Houston (22), Chicago (21)\n",
      "- signup_date (datetime): Date when customer registered\n",
      "  Range: 2023-01-02 00:00:00 to 2023-12-26 00:00:00, 77 unique days\n",
      "- status (string): Current customer account status\n",
      "  Values: Active (82), Inactive (18)\n",
      "\n",
      "Table: orders (Customer order transactions and details)\n",
      "Fields:\n",
      "- order_id (integer): Unique order identifier\n",
      "  Range: 1 - 250, Average: 125.50\n",
      "- customer_id (integer): Links to customer who placed the order\n",
      "  Range: 1 - 100, Average: 50.34\n",
      "- order_date (datetime): Date when order was placed\n",
      "  Range: 2023-01-01 00:00:00 to 2023-12-31 00:00:00, 176 unique days\n",
      "- product_category (string): Category of products ordered\n",
      "  Values: Sports (59), Home (51), Electronics (50)\n",
      "- order_amount (float): Total order value in dollars\n",
      "  Range: 11.27 - 498.87, Average: 260.16\n",
      "- shipping_cost (float): Shipping fee charged\n",
      "  Range: 0.06 - 24.98, Average: 12.95\n",
      "- order_status (string): Current status of the order\n",
      "  Values: Completed (166), Pending (56), Cancelled (28)\n",
      "- payment_method (string): Payment method used\n",
      "  Values: PayPal (91), Credit Card (81), Bank Transfer (78)\n"
     ]
    }
   ],
   "source": [
    "print(catalog.to_guide_metadata(table_names=[\"customers\", \"orders\"]))"
   ]
  },
  {
   "cell_type": "code",
   "execution_count": 34,
   "id": "3531cfc1",
   "metadata": {},
   "outputs": [
    {
     "name": "stdout",
     "output_type": "stream",
     "text": [
      "METADATAS:\n",
      "\n",
      "Table: customers\n",
      "Columns:\n",
      "- customer_id (integer): Unique customer identifier, NOT NULL\n",
      "  Range: 1 - 100, Average: 50.50\n",
      "- name (string): Customer full name, NOT NULL\n",
      "  Examples: \"Customer_10\", \"Customer_23\", \"Customer_30\"\n",
      "- email (string): Customer email address, NOT NULL\n",
      "  Examples: \"customer20@email.com\", \"customer52@email.com\", \"customer56@email.com\"\n",
      "- age (integer): Customer age in years, NOT NULL\n",
      "  Range: 19 - 74, Average: 45.19\n",
      "- city (string): Customer's city of residence, NOT NULL\n",
      "  Examples: \"New York\", \"Houston\", \"Chicago\"\n",
      "- signup_date (datetime): Date when customer registered, NOT NULL\n",
      "  Range: 2023-01-02 00:00:00 to 2023-12-26 00:00:00, 77 unique days\n",
      "- status (string): Current customer account status, NOT NULL\n",
      "  Examples: \"Active\", \"Inactive\"\n",
      "\n",
      "Table: orders\n",
      "Relationships:\n",
      "  customer_id -> customers.customer_id\n",
      "Columns:\n",
      "- order_id (integer): Unique order identifier, NOT NULL\n",
      "  Range: 1 - 250, Average: 125.50\n",
      "- customer_id (integer): Links to customer who placed the order, NOT NULL\n",
      "  Range: 1 - 100, Average: 50.34\n",
      "- order_date (datetime): Date when order was placed, NOT NULL\n",
      "  Range: 2023-01-01 00:00:00 to 2023-12-31 00:00:00, 176 unique days\n",
      "- product_category (string): Category of products ordered, NOT NULL\n",
      "  Examples: \"Sports\", \"Home\", \"Electronics\"\n",
      "- order_amount (float): Total order value in dollars, NOT NULL\n",
      "  Range: 11.27 - 498.87, Average: 260.16\n",
      "- shipping_cost (float): Shipping fee charged, NOT NULL\n",
      "  Range: 0.06 - 24.98, Average: 12.95\n",
      "- order_status (string): Current status of the order, NOT NULL\n",
      "  Examples: \"Completed\", \"Pending\", \"Cancelled\"\n",
      "- payment_method (string): Payment method used, NOT NULL\n",
      "  Examples: \"PayPal\", \"Credit Card\", \"Bank Transfer\"\n"
     ]
    }
   ],
   "source": [
    "print(catalog.to_sql_metadata(table_names=[\"customers\", \"orders\"]))"
   ]
  },
  {
   "cell_type": "code",
   "execution_count": null,
   "id": "2408001f",
   "metadata": {},
   "outputs": [],
   "source": []
  }
 ],
 "metadata": {
  "kernelspec": {
   "display_name": "broinsight",
   "language": "python",
   "name": "python3"
  },
  "language_info": {
   "codemirror_mode": {
    "name": "ipython",
    "version": 3
   },
   "file_extension": ".py",
   "mimetype": "text/x-python",
   "name": "python",
   "nbconvert_exporter": "python",
   "pygments_lexer": "ipython3",
   "version": "3.12.9"
  }
 },
 "nbformat": 4,
 "nbformat_minor": 5
}
