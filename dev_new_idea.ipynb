{
 "cells": [
  {
   "cell_type": "code",
   "execution_count": 1,
   "id": "b3362ead",
   "metadata": {},
   "outputs": [],
   "source": [
    "%load_ext autoreload\n",
    "%autoreload 2"
   ]
  },
  {
   "cell_type": "markdown",
   "id": "d396ac7d",
   "metadata": {},
   "source": [
    "# Test Metadata"
   ]
  },
  {
   "cell_type": "code",
   "execution_count": 24,
   "id": "204cfced",
   "metadata": {},
   "outputs": [
    {
     "data": {
      "text/html": [
       "<div>\n",
       "<style scoped>\n",
       "    .dataframe tbody tr th:only-of-type {\n",
       "        vertical-align: middle;\n",
       "    }\n",
       "\n",
       "    .dataframe tbody tr th {\n",
       "        vertical-align: top;\n",
       "    }\n",
       "\n",
       "    .dataframe thead th {\n",
       "        text-align: right;\n",
       "    }\n",
       "</style>\n",
       "<table border=\"1\" class=\"dataframe\">\n",
       "  <thead>\n",
       "    <tr style=\"text-align: right;\">\n",
       "      <th></th>\n",
       "      <th>total_bill</th>\n",
       "      <th>tip</th>\n",
       "      <th>sex</th>\n",
       "      <th>smoker</th>\n",
       "      <th>day</th>\n",
       "      <th>time</th>\n",
       "      <th>size</th>\n",
       "    </tr>\n",
       "  </thead>\n",
       "  <tbody>\n",
       "    <tr>\n",
       "      <th>0</th>\n",
       "      <td>16.99</td>\n",
       "      <td>1.01</td>\n",
       "      <td>Female</td>\n",
       "      <td>No</td>\n",
       "      <td>Sun</td>\n",
       "      <td>Dinner</td>\n",
       "      <td>2</td>\n",
       "    </tr>\n",
       "    <tr>\n",
       "      <th>1</th>\n",
       "      <td>10.34</td>\n",
       "      <td>1.66</td>\n",
       "      <td>Male</td>\n",
       "      <td>No</td>\n",
       "      <td>Sun</td>\n",
       "      <td>Dinner</td>\n",
       "      <td>3</td>\n",
       "    </tr>\n",
       "    <tr>\n",
       "      <th>2</th>\n",
       "      <td>21.01</td>\n",
       "      <td>3.50</td>\n",
       "      <td>Male</td>\n",
       "      <td>No</td>\n",
       "      <td>Sun</td>\n",
       "      <td>Dinner</td>\n",
       "      <td>3</td>\n",
       "    </tr>\n",
       "    <tr>\n",
       "      <th>3</th>\n",
       "      <td>23.68</td>\n",
       "      <td>3.31</td>\n",
       "      <td>Male</td>\n",
       "      <td>No</td>\n",
       "      <td>Sun</td>\n",
       "      <td>Dinner</td>\n",
       "      <td>2</td>\n",
       "    </tr>\n",
       "    <tr>\n",
       "      <th>4</th>\n",
       "      <td>24.59</td>\n",
       "      <td>3.61</td>\n",
       "      <td>Female</td>\n",
       "      <td>No</td>\n",
       "      <td>Sun</td>\n",
       "      <td>Dinner</td>\n",
       "      <td>4</td>\n",
       "    </tr>\n",
       "    <tr>\n",
       "      <th>...</th>\n",
       "      <td>...</td>\n",
       "      <td>...</td>\n",
       "      <td>...</td>\n",
       "      <td>...</td>\n",
       "      <td>...</td>\n",
       "      <td>...</td>\n",
       "      <td>...</td>\n",
       "    </tr>\n",
       "    <tr>\n",
       "      <th>239</th>\n",
       "      <td>29.03</td>\n",
       "      <td>5.92</td>\n",
       "      <td>Male</td>\n",
       "      <td>No</td>\n",
       "      <td>Sat</td>\n",
       "      <td>Dinner</td>\n",
       "      <td>3</td>\n",
       "    </tr>\n",
       "    <tr>\n",
       "      <th>240</th>\n",
       "      <td>27.18</td>\n",
       "      <td>2.00</td>\n",
       "      <td>Female</td>\n",
       "      <td>Yes</td>\n",
       "      <td>Sat</td>\n",
       "      <td>Dinner</td>\n",
       "      <td>2</td>\n",
       "    </tr>\n",
       "    <tr>\n",
       "      <th>241</th>\n",
       "      <td>22.67</td>\n",
       "      <td>2.00</td>\n",
       "      <td>Male</td>\n",
       "      <td>Yes</td>\n",
       "      <td>Sat</td>\n",
       "      <td>Dinner</td>\n",
       "      <td>2</td>\n",
       "    </tr>\n",
       "    <tr>\n",
       "      <th>242</th>\n",
       "      <td>17.82</td>\n",
       "      <td>1.75</td>\n",
       "      <td>Male</td>\n",
       "      <td>No</td>\n",
       "      <td>Sat</td>\n",
       "      <td>Dinner</td>\n",
       "      <td>2</td>\n",
       "    </tr>\n",
       "    <tr>\n",
       "      <th>243</th>\n",
       "      <td>18.78</td>\n",
       "      <td>3.00</td>\n",
       "      <td>Female</td>\n",
       "      <td>No</td>\n",
       "      <td>Thur</td>\n",
       "      <td>Dinner</td>\n",
       "      <td>2</td>\n",
       "    </tr>\n",
       "  </tbody>\n",
       "</table>\n",
       "<p>244 rows × 7 columns</p>\n",
       "</div>"
      ],
      "text/plain": [
       "     total_bill   tip     sex smoker   day    time  size\n",
       "0         16.99  1.01  Female     No   Sun  Dinner     2\n",
       "1         10.34  1.66    Male     No   Sun  Dinner     3\n",
       "2         21.01  3.50    Male     No   Sun  Dinner     3\n",
       "3         23.68  3.31    Male     No   Sun  Dinner     2\n",
       "4         24.59  3.61  Female     No   Sun  Dinner     4\n",
       "..          ...   ...     ...    ...   ...     ...   ...\n",
       "239       29.03  5.92    Male     No   Sat  Dinner     3\n",
       "240       27.18  2.00  Female    Yes   Sat  Dinner     2\n",
       "241       22.67  2.00    Male    Yes   Sat  Dinner     2\n",
       "242       17.82  1.75    Male     No   Sat  Dinner     2\n",
       "243       18.78  3.00  Female     No  Thur  Dinner     2\n",
       "\n",
       "[244 rows x 7 columns]"
      ]
     },
     "execution_count": 24,
     "metadata": {},
     "output_type": "execute_result"
    }
   ],
   "source": [
    "import seaborn as sns\n",
    "import duckdb\n",
    "\n",
    "conn = duckdb.connect()\n",
    "conn.register(\"tips\", sns.load_dataset(\"tips\"))\n",
    "conn.execute(\"SELECT * FROM tips;\").df()"
   ]
  },
  {
   "cell_type": "code",
   "execution_count": null,
   "id": "c24f313b",
   "metadata": {},
   "outputs": [],
   "source": [
    "from broinsight.utils.data_spec import Metadata, TableSpec, FieldSpec, create_field_specs_from_profile, FieldDescription, FieldDescriptions\n",
    "from broinsight.data_quality.sql_profile import sql_field_profile, sql_table_profile\n",
    "\n",
    "# Get profiles\n",
    "tbl_prof = sql_table_profile(conn, \"tips\")\n",
    "field_prof = sql_field_profile(conn, \"tips\")\n",
    "\n",
    "# Create specs\n",
    "table_spec = TableSpec(**tbl_prof)\n",
    "field_specs = create_field_specs_from_profile(field_prof)\n",
    "\n",
    "# Create metadata\n",
    "metadata = Metadata(\n",
    "    table_name=\"tips\", # this must matches the table name of data\n",
    "    table_description=\"Restaurant tips dataset\", # this should be human-readable summary\n",
    "    table_spec=table_spec, # mandatory\n",
    "    field_spec=field_specs # mandatory\n",
    ")"
   ]
  },
  {
   "cell_type": "code",
   "execution_count": null,
   "id": "9b6e1918",
   "metadata": {},
   "outputs": [],
   "source": [
    "# field description here is important because it'll convert to LLM context later by DataCatalog and fetch it to BroInsight.method(...)\n",
    "\n",
    "descriptions = dict(\n",
    "    total_bill=\"the amount of paid bill of the meal\",\n",
    "    tip=\"the amount of tip that customers paid\",\n",
    "    sex=\"the gender of customers\",\n",
    "    smoker=\"it indicates that a customer is a smoker or not. if No means a customer is a non-smoker, Yes means a customer is a smoker.\",\n",
    "    day=\"this is a day of the week when a customer having a meal here. i.e. Mon, Tue, Wed, Thu, Fri, Sat, Sun\",\n",
    "    time=\"the time of the meal. it can be either Dinner or Lunch\",\n",
    "    size=\"the number of dishes that customers have\",\n",
    ")\n",
    "\n",
    "field_descriptions = [\n",
    "    FieldDescription(field_name=k, description=v) for k, v in descriptions.items()\n",
    "]\n",
    "\n",
    "metadata.add_field_descriptions(field_descriptions=FieldDescriptions(descriptions=field_descriptions))"
   ]
  },
  {
   "cell_type": "code",
   "execution_count": 6,
   "id": "5bbffd68",
   "metadata": {},
   "outputs": [],
   "source": [
    "from broinsight.utils.data_spec import create_data_quality_assessment\n",
    "\n",
    "# Add quality assessment to metadata\n",
    "quality_assessment = create_data_quality_assessment(field_prof)\n",
    "metadata.add_data_quality_assessment(quality_assessment)"
   ]
  },
  {
   "cell_type": "code",
   "execution_count": 7,
   "id": "44e64c0f",
   "metadata": {},
   "outputs": [
    {
     "data": {
      "text/plain": [
       "Metadata(table_name='tips', table_description='Restaurant tips dataset', table_spec=TableSpec(rows=244, columns=7, duplicates=1, evidences={0: {'total_bill': 13.0, 'tip': 2.0, 'sex': 'Female', 'smoker': 'Yes', 'day': 'Thur', 'time': 'Lunch', 'size': 2, 'dup_count': 2}}), field_spec=[FieldSpec(field_name='total_bill', data_type='float', missing_values=0, missing_values_pct=0.0, unique_values=229, unique_values_pct=0.94, most_frequent={13.42: 3, 7.25: 2, 20.29: 2, 10.34: 2, 15.69: 2}, statistics={'min': 3.07, 'max': 50.81, 'mean': 19.79, 'median': 17.8, 'std': 8.9, 'var': 79.25, 'skew': 1.13, 'kurt': 1.22, 'iqr': 10.78, 'cv': 0.45, 'lower_bound': -2.82, 'upper_bound': 40.3}, description='the amount of paid bill of the meal'), FieldSpec(field_name='tip', data_type='float', missing_values=0, missing_values_pct=0.0, unique_values=123, unique_values_pct=0.5, most_frequent={2.0: 33, 3.0: 23, 4.0: 12, 5.0: 10, 2.5: 10}, statistics={'min': 1.0, 'max': 10.0, 'mean': 3.0, 'median': 2.9, 'std': 1.38, 'var': 1.91, 'skew': 1.47, 'kurt': 3.65, 'iqr': 1.56, 'cv': 0.46, 'lower_bound': -0.34, 'upper_bound': 5.91}, description='the amount of tip that customers paid'), FieldSpec(field_name='sex', data_type='string', missing_values=0, missing_values_pct=0.0, unique_values=2, unique_values_pct=0.01, most_frequent={'Male': 157, 'Female': 87}, statistics={'mode': 'Male', 'avg_length': 4.71, 'min_length': 4, 'max_length': 6, 'empty_count': 0, 'whitespace_count': 0, 'pattern_consistency': 0.01}, description='the gender of customers'), FieldSpec(field_name='smoker', data_type='string', missing_values=0, missing_values_pct=0.0, unique_values=2, unique_values_pct=0.01, most_frequent={'No': 151, 'Yes': 93}, statistics={'mode': 'No', 'avg_length': 2.38, 'min_length': 2, 'max_length': 3, 'empty_count': 0, 'whitespace_count': 0, 'pattern_consistency': 0.01}, description='it indicates that a customer is a smoker or not. if No means a customer is a non-smoker, Yes means a customer is a smoker.'), FieldSpec(field_name='day', data_type='string', missing_values=0, missing_values_pct=0.0, unique_values=4, unique_values_pct=0.02, most_frequent={'Sat': 87, 'Sun': 76, 'Thur': 62, 'Fri': 19}, statistics={'mode': 'Sat', 'avg_length': 3.25, 'min_length': 3, 'max_length': 4, 'empty_count': 0, 'whitespace_count': 0, 'pattern_consistency': 0.02}, description='this is a day of the week when a customer having a meal here. i.e. Mon, Tue, Wed, Thu, Fri, Sat, Sun'), FieldSpec(field_name='time', data_type='string', missing_values=0, missing_values_pct=0.0, unique_values=2, unique_values_pct=0.01, most_frequent={'Dinner': 176, 'Lunch': 68}, statistics={'mode': 'Dinner', 'avg_length': 5.72, 'min_length': 5, 'max_length': 6, 'empty_count': 0, 'whitespace_count': 0, 'pattern_consistency': 0.01}, description='the time of the meal. it can be either Dinner or Lunch'), FieldSpec(field_name='size', data_type='integer', missing_values=0, missing_values_pct=0.0, unique_values=6, unique_values_pct=0.02, most_frequent={2: 156, 3: 38, 4: 37, 5: 5, 6: 4}, statistics={'min': 1, 'max': 6, 'mean': 2.57, 'median': 2.0, 'std': 0.95, 'var': 0.9, 'skew': 1.45, 'kurt': 1.73, 'iqr': 1.0, 'cv': 0.37, 'lower_bound': 0.5, 'upper_bound': 4.5}, description='the number of dishes that customers have')], field_descriptions=FieldDescriptions(descriptions=[FieldDescription(field_name='total_bill', description='the amount of paid bill of the meal'), FieldDescription(field_name='tip', description='the amount of tip that customers paid'), FieldDescription(field_name='sex', description='the gender of customers'), FieldDescription(field_name='smoker', description='it indicates that a customer is a smoker or not. if No means a customer is a non-smoker, Yes means a customer is a smoker.'), FieldDescription(field_name='day', description='this is a day of the week when a customer having a meal here. i.e. Mon, Tue, Wed, Thu, Fri, Sat, Sun'), FieldDescription(field_name='time', description='the time of the meal. it can be either Dinner or Lunch'), FieldDescription(field_name='size', description='the number of dishes that customers have')]), data_quality=DataQualityAssessment(field_assessments=[FieldQualityAssessment(field_name='total_bill', quality='good', issues=[QualityIssue(type='moderate_skewness', severity='minor', description='Moderately skewed distribution (skew: 1.13)')], issue_count=1), FieldQualityAssessment(field_name='tip', quality='good', issues=[QualityIssue(type='moderate_skewness', severity='minor', description='Moderately skewed distribution (skew: 1.47)')], issue_count=1), FieldQualityAssessment(field_name='sex', quality='good', issues=[], issue_count=0), FieldQualityAssessment(field_name='smoker', quality='good', issues=[], issue_count=0), FieldQualityAssessment(field_name='day', quality='good', issues=[], issue_count=0), FieldQualityAssessment(field_name='time', quality='good', issues=[], issue_count=0), FieldQualityAssessment(field_name='size', quality='good', issues=[QualityIssue(type='moderate_skewness', severity='minor', description='Moderately skewed distribution (skew: 1.45)')], issue_count=1)], overall_quality='good', total_issues=3))"
      ]
     },
     "execution_count": 7,
     "metadata": {},
     "output_type": "execute_result"
    }
   ],
   "source": [
    "metadata"
   ]
  },
  {
   "cell_type": "code",
   "execution_count": 25,
   "id": "091c2ab9",
   "metadata": {},
   "outputs": [
    {
     "data": {
      "text/plain": [
       "dict_keys(['table_name', 'table_description', 'table_spec', 'field_spec', 'field_descriptions', 'data_quality'])"
      ]
     },
     "execution_count": 25,
     "metadata": {},
     "output_type": "execute_result"
    }
   ],
   "source": [
    "metadata.__dict__.keys()"
   ]
  },
  {
   "cell_type": "code",
   "execution_count": 26,
   "id": "be886620",
   "metadata": {},
   "outputs": [
    {
     "data": {
      "text/plain": [
       "'tips'"
      ]
     },
     "execution_count": 26,
     "metadata": {},
     "output_type": "execute_result"
    }
   ],
   "source": [
    "metadata.table_name"
   ]
  },
  {
   "cell_type": "code",
   "execution_count": 27,
   "id": "5f9332da",
   "metadata": {},
   "outputs": [
    {
     "data": {
      "text/plain": [
       "'Restaurant tips dataset'"
      ]
     },
     "execution_count": 27,
     "metadata": {},
     "output_type": "execute_result"
    }
   ],
   "source": [
    "metadata.table_description"
   ]
  },
  {
   "cell_type": "code",
   "execution_count": 29,
   "id": "6267c666",
   "metadata": {},
   "outputs": [
    {
     "data": {
      "text/plain": [
       "dict_keys(['rows', 'columns', 'duplicates', 'evidences'])"
      ]
     },
     "execution_count": 29,
     "metadata": {},
     "output_type": "execute_result"
    }
   ],
   "source": [
    "metadata.table_spec.__dict__.keys()"
   ]
  },
  {
   "cell_type": "code",
   "execution_count": 31,
   "id": "f458e0f8",
   "metadata": {},
   "outputs": [
    {
     "data": {
      "text/plain": [
       "[FieldSpec(field_name='total_bill', data_type='float', missing_values=0, missing_values_pct=0.0, unique_values=229, unique_values_pct=0.94, most_frequent={13.42: 3, 7.25: 2, 20.29: 2, 10.34: 2, 15.69: 2}, statistics={'min': 3.07, 'max': 50.81, 'mean': 19.79, 'median': 17.8, 'std': 8.9, 'var': 79.25, 'skew': 1.13, 'kurt': 1.22, 'iqr': 10.78, 'cv': 0.45, 'lower_bound': -2.82, 'upper_bound': 40.3}, description='the amount of paid bill of the meal'),\n",
       " FieldSpec(field_name='tip', data_type='float', missing_values=0, missing_values_pct=0.0, unique_values=123, unique_values_pct=0.5, most_frequent={2.0: 33, 3.0: 23, 4.0: 12, 5.0: 10, 2.5: 10}, statistics={'min': 1.0, 'max': 10.0, 'mean': 3.0, 'median': 2.9, 'std': 1.38, 'var': 1.91, 'skew': 1.47, 'kurt': 3.65, 'iqr': 1.56, 'cv': 0.46, 'lower_bound': -0.34, 'upper_bound': 5.91}, description='the amount of tip that customers paid'),\n",
       " FieldSpec(field_name='sex', data_type='string', missing_values=0, missing_values_pct=0.0, unique_values=2, unique_values_pct=0.01, most_frequent={'Male': 157, 'Female': 87}, statistics={'mode': 'Male', 'avg_length': 4.71, 'min_length': 4, 'max_length': 6, 'empty_count': 0, 'whitespace_count': 0, 'pattern_consistency': 0.01}, description='the gender of customers'),\n",
       " FieldSpec(field_name='smoker', data_type='string', missing_values=0, missing_values_pct=0.0, unique_values=2, unique_values_pct=0.01, most_frequent={'No': 151, 'Yes': 93}, statistics={'mode': 'No', 'avg_length': 2.38, 'min_length': 2, 'max_length': 3, 'empty_count': 0, 'whitespace_count': 0, 'pattern_consistency': 0.01}, description='it indicates that a customer is a smoker or not. if No means a customer is a non-smoker, Yes means a customer is a smoker.'),\n",
       " FieldSpec(field_name='day', data_type='string', missing_values=0, missing_values_pct=0.0, unique_values=4, unique_values_pct=0.02, most_frequent={'Sat': 87, 'Sun': 76, 'Thur': 62, 'Fri': 19}, statistics={'mode': 'Sat', 'avg_length': 3.25, 'min_length': 3, 'max_length': 4, 'empty_count': 0, 'whitespace_count': 0, 'pattern_consistency': 0.02}, description='this is a day of the week when a customer having a meal here. i.e. Mon, Tue, Wed, Thu, Fri, Sat, Sun'),\n",
       " FieldSpec(field_name='time', data_type='string', missing_values=0, missing_values_pct=0.0, unique_values=2, unique_values_pct=0.01, most_frequent={'Dinner': 176, 'Lunch': 68}, statistics={'mode': 'Dinner', 'avg_length': 5.72, 'min_length': 5, 'max_length': 6, 'empty_count': 0, 'whitespace_count': 0, 'pattern_consistency': 0.01}, description='the time of the meal. it can be either Dinner or Lunch'),\n",
       " FieldSpec(field_name='size', data_type='integer', missing_values=0, missing_values_pct=0.0, unique_values=6, unique_values_pct=0.02, most_frequent={2: 156, 3: 38, 4: 37, 5: 5, 6: 4}, statistics={'min': 1, 'max': 6, 'mean': 2.57, 'median': 2.0, 'std': 0.95, 'var': 0.9, 'skew': 1.45, 'kurt': 1.73, 'iqr': 1.0, 'cv': 0.37, 'lower_bound': 0.5, 'upper_bound': 4.5}, description='the number of dishes that customers have')]"
      ]
     },
     "execution_count": 31,
     "metadata": {},
     "output_type": "execute_result"
    }
   ],
   "source": [
    "metadata.field_spec"
   ]
  },
  {
   "cell_type": "code",
   "execution_count": 32,
   "id": "30d62bbd",
   "metadata": {},
   "outputs": [
    {
     "data": {
      "text/plain": [
       "dict_keys(['field_name', 'data_type', 'missing_values', 'missing_values_pct', 'unique_values', 'unique_values_pct', 'most_frequent', 'statistics', 'description'])"
      ]
     },
     "execution_count": 32,
     "metadata": {},
     "output_type": "execute_result"
    }
   ],
   "source": [
    "metadata.field_spec[0].__dict__.keys()"
   ]
  },
  {
   "cell_type": "markdown",
   "id": "4b955e76",
   "metadata": {},
   "source": [
    "# Test with AWS Bedrock"
   ]
  },
  {
   "cell_type": "markdown",
   "id": "8d6b594e",
   "metadata": {},
   "source": [
    "## One pandas table"
   ]
  },
  {
   "cell_type": "code",
   "execution_count": 8,
   "id": "edbefa70",
   "metadata": {},
   "outputs": [],
   "source": [
    "from broinsight.experiment.bedrock import AWSConfig, BedrockOpenAI\n",
    "from broinsight.experiment.ollama import LocalOpenAI\n",
    "from broinsight.broinsight import BroInsight\n",
    "import boto3\n",
    "\n",
    "from broinsight.utils.data_catalog import DataCatalog\n",
    "import seaborn as sns\n",
    "\n",
    "field_descriptions = FieldDescriptions(descriptions=[\n",
    "    FieldDescription(field_name=\"total_bill\", description=\"Total bill amount in dollars\"),\n",
    "    FieldDescription(field_name=\"tip\", description=\"Tip amount in dollars\"),\n",
    "    FieldDescription(field_name=\"sex\", description=\"Customer gender\"),\n",
    "    FieldDescription(field_name=\"smoker\", description=\"Whether customer smokes\"),\n",
    "    FieldDescription(field_name=\"day\", description=\"Day of the week\"),\n",
    "    FieldDescription(field_name=\"time\", description=\"Meal time (Lunch/Dinner)\"),\n",
    "    FieldDescription(field_name=\"size\", description=\"Party size\")\n",
    "])\n",
    "\n",
    "# Create catalog and register data\n",
    "catalog = DataCatalog()\n",
    "catalog.register(\"tips\", sns.load_dataset(\"tips\"), \"Restaurant tips dataset\")\n",
    "\n",
    "# Profile the table\n",
    "catalog.profile_tables([\"tips\"])\n",
    "\n",
    "# Add field descriptions\n",
    "catalog.add_field_descriptions(\"tips\", field_descriptions)\n",
    "\n",
    "session = boto3.Session()\n",
    "credentials = session.get_credentials()\n",
    "\n",
    "aws_configs = AWSConfig(\n",
    "    aws_access_key_id=credentials.access_key,\n",
    "    aws_secret_access_key=credentials.secret_key,\n",
    "    aws_session_token=credentials.token or None,\n",
    "    region_name='us-west-2'\n",
    ")\n",
    "\n",
    "model_id=\"openai.gpt-oss-20b-1:0\"\n",
    "bedrock = BedrockOpenAI(\n",
    "    model_id=model_id,\n",
    "    aws_configs=aws_configs\n",
    ")\n",
    "\n",
    "# broinsight = BroInsight(model=LocalOpenAI())\n",
    "broinsight = BroInsight(model=bedrock)"
   ]
  },
  {
   "cell_type": "code",
   "execution_count": null,
   "id": "008af445",
   "metadata": {},
   "outputs": [
    {
     "name": "stdout",
     "output_type": "stream",
     "text": [
      "**Data Quality Assessment:** READY  \n",
      "**Overall Status:** The dataset is in good shape—no missing values, only one duplicate row, and the overall quality rating is “GOOD.”  \n",
      "\n",
      "**Minor Issues Identified:**  \n",
      "- **total_bill, tip, size** – each shows moderate right‑skew (skew ≈ 1.1–1.5).  \n",
      "\n",
      "**Impact on Analysis:**  \n",
      "- For descriptive statistics and non‑parametric tests, skewness is usually fine.  \n",
      "- If you plan to use linear regression, ANOVA, or other parametric models that assume normality of residuals, the skewness could affect model fit and inference.  \n",
      "- Skewed variables can also influence clustering or distance‑based methods.\n",
      "\n",
      "**Recommended Actions (if needed):**  \n",
      "1. **Transform Skewed Variables** – log, square‑root, or Box‑Cox transformations can reduce skewness.  \n",
      "2. **Robust Modeling** – use models that are less sensitive to non‑normality (e.g., tree‑based methods, generalized linear models with appropriate link functions).  \n",
      "3. **Diagnostics** – after transformation or modeling, check residuals or model assumptions to confirm improvement.\n",
      "\n",
      "**Next Steps:**  \n",
      "- **Proceed with analysis** as the data is ready.  \n",
      "- **Monitor** the distribution of these variables when applying parametric techniques and apply transformations or robust methods if diagnostics indicate issues.\n",
      "\n",
      "**Overall Recommendation:** The dataset is ready for analysis; only consider addressing the moderate skewness if your chosen analytical methods require normally distributed predictors or residuals.\n"
     ]
    }
   ],
   "source": [
    "# check data quality\n",
    "response = broinsight.assess_data_quality(\n",
    "    context=catalog.to_dq_profile(\"tips\"),\n",
    "    message=\"Do we have any concern about this one?\"\n",
    ")\n",
    "print(response['content'])"
   ]
  },
  {
   "cell_type": "code",
   "execution_count": null,
   "id": "79dee02b",
   "metadata": {},
   "outputs": [
    {
     "name": "stdout",
     "output_type": "stream",
     "text": [
      "Based on your role and goals, here are some areas you might want to explore:\n",
      "\n",
      "Customer Spending Patterns  \n",
      "- What is the average total_bill for each day?  \n",
      "- Which day has the highest average tip?  \n",
      "- How does the average total_bill differ between Lunch and Dinner?\n",
      "\n",
      "Party Size Insights  \n",
      "- What is the average party size for each day?  \n",
      "- Which party size group spends the most on average?  \n",
      "- How does tip amount vary with party size?\n",
      "\n",
      "Customer Demographics  \n",
      "- What is the average tip for Male vs Female customers?  \n",
      "- Do smokers tip more or less than non-smokers on average?  \n",
      "- Which gender has the highest average total_bill?\n",
      "\n",
      "Promotion Timing  \n",
      "- Which day/time combination has the lowest average total_bill?  \n",
      "- How many customers dine during Lunch vs Dinner?  \n",
      "- What is the average tip amount for each time of day?  \n",
      "\n",
      "Just ask me any of these questions and I'll analyze your data to get the answers!\n"
     ]
    }
   ],
   "source": [
    "# ask for suggestions based on specific data in data catalog\n",
    "response = broinsight.suggest_questions(\n",
    "    context=catalog.to_guide_metadata(\"tips\"),\n",
    "    message=\"I'm a new manager and I wanna make a promotion for the shop but I don't know how to start.\"\n",
    ")\n",
    "print(response['content'])"
   ]
  },
  {
   "cell_type": "code",
   "execution_count": null,
   "id": "3aa544a1",
   "metadata": {},
   "outputs": [
    {
     "name": "stdout",
     "output_type": "stream",
     "text": [
      "```sql\n",
      "SELECT\n",
      "    AVG(CASE WHEN size = 1 THEN total_bill END)   AS avg_total_bill_size1,\n",
      "    AVG(CASE WHEN size >= 4 THEN total_bill END) AS avg_total_bill_size4plus\n",
      "FROM tips;\n",
      "```\n"
     ]
    }
   ],
   "source": [
    "# create sql query from selected table\n",
    "question = \"What is the average total_bill for size = 1 compared to size = 4 or more?\"\n",
    "response = broinsight.generate_sql(\n",
    "    context=catalog.to_sql_metadata(\"tips\"),\n",
    "    message=question\n",
    ")\n",
    "print(response['content'])"
   ]
  },
  {
   "cell_type": "code",
   "execution_count": null,
   "id": "542a52ef",
   "metadata": {},
   "outputs": [
    {
     "data": {
      "text/html": [
       "<div>\n",
       "<style scoped>\n",
       "    .dataframe tbody tr th:only-of-type {\n",
       "        vertical-align: middle;\n",
       "    }\n",
       "\n",
       "    .dataframe tbody tr th {\n",
       "        vertical-align: top;\n",
       "    }\n",
       "\n",
       "    .dataframe thead th {\n",
       "        text-align: right;\n",
       "    }\n",
       "</style>\n",
       "<table border=\"1\" class=\"dataframe\">\n",
       "  <thead>\n",
       "    <tr style=\"text-align: right;\">\n",
       "      <th></th>\n",
       "      <th>avg_total_bill_size1</th>\n",
       "      <th>avg_total_bill_size4plus</th>\n",
       "    </tr>\n",
       "  </thead>\n",
       "  <tbody>\n",
       "    <tr>\n",
       "      <th>0</th>\n",
       "      <td>7.2425</td>\n",
       "      <td>29.312174</td>\n",
       "    </tr>\n",
       "  </tbody>\n",
       "</table>\n",
       "</div>"
      ],
      "text/plain": [
       "   avg_total_bill_size1  avg_total_bill_size4plus\n",
       "0                7.2425                 29.312174"
      ]
     },
     "execution_count": 12,
     "metadata": {},
     "output_type": "execute_result"
    }
   ],
   "source": [
    "# parsing sql query and get result\n",
    "sql_query = response['content'].split(\"```sql\")[-1].split(\"```\")[0]\n",
    "result = catalog.query(sql_query)\n",
    "result"
   ]
  },
  {
   "cell_type": "code",
   "execution_count": null,
   "id": "0855361b",
   "metadata": {},
   "outputs": [
    {
     "name": "stdout",
     "output_type": "stream",
     "text": [
      "For a single‑person table the average total bill is **about $7.24**.  \n",
      "When the party is four people or larger, the average climbs to **about $29.31**.\n",
      "\n",
      "That’s roughly a four‑fold jump in spend when you move from a solo diner to a group of four or more. It suggests that larger parties are a much higher‑value segment for the restaurant—each additional guest brings a significant bump in revenue.  \n",
      "\n",
      "**What to do next?**  \n",
      "- Consider targeted promotions or upsell strategies for larger groups (e.g., group menus, special offers).  \n",
      "- Look at how seating capacity or table layout might accommodate more 4+ parties.  \n",
      "- Check if the higher spend is driven by specific menu items or service levels, and see if those can be highlighted in marketing.  \n",
      "\n",
      "Let me know if you’d like to dig deeper into the drivers behind that difference!\n"
     ]
    }
   ],
   "source": [
    "# ask data is just asking data that we get from sql query and put it as a context\n",
    "response = broinsight.ask_data(\n",
    "    context=result.to_string(),\n",
    "    message=question\n",
    ")\n",
    "print(response['content'])"
   ]
  },
  {
   "cell_type": "code",
   "execution_count": null,
   "id": "c4037696",
   "metadata": {},
   "outputs": [
    {
     "data": {
      "application/vnd.plotly.v1+json": {
       "config": {
        "plotlyServerURL": "https://plot.ly"
       },
       "data": [
        {
         "hovertemplate": "Party Size=%{x}<br>Average Total Bill ($)=%{text}<extra></extra>",
         "legendgroup": "",
         "marker": {
          "color": "#636efa",
          "pattern": {
           "shape": ""
          }
         },
         "name": "",
         "orientation": "v",
         "showlegend": false,
         "text": {
          "bdata": "uB6F61H4HECjLyuh6k89QA==",
          "dtype": "f8"
         },
         "textposition": "outside",
         "texttemplate": "%{text:.2f}",
         "type": "bar",
         "x": [
          "Size 1",
          "Size 4+"
         ],
         "xaxis": "x",
         "y": {
          "bdata": "uB6F61H4HECjLyuh6k89QA==",
          "dtype": "f8"
         },
         "yaxis": "y"
        }
       ],
       "layout": {
        "barmode": "relative",
        "legend": {
         "tracegroupgap": 0
        },
        "template": {
         "data": {
          "bar": [
           {
            "error_x": {
             "color": "#2a3f5f"
            },
            "error_y": {
             "color": "#2a3f5f"
            },
            "marker": {
             "line": {
              "color": "#E5ECF6",
              "width": 0.5
             },
             "pattern": {
              "fillmode": "overlay",
              "size": 10,
              "solidity": 0.2
             }
            },
            "type": "bar"
           }
          ],
          "barpolar": [
           {
            "marker": {
             "line": {
              "color": "#E5ECF6",
              "width": 0.5
             },
             "pattern": {
              "fillmode": "overlay",
              "size": 10,
              "solidity": 0.2
             }
            },
            "type": "barpolar"
           }
          ],
          "carpet": [
           {
            "aaxis": {
             "endlinecolor": "#2a3f5f",
             "gridcolor": "white",
             "linecolor": "white",
             "minorgridcolor": "white",
             "startlinecolor": "#2a3f5f"
            },
            "baxis": {
             "endlinecolor": "#2a3f5f",
             "gridcolor": "white",
             "linecolor": "white",
             "minorgridcolor": "white",
             "startlinecolor": "#2a3f5f"
            },
            "type": "carpet"
           }
          ],
          "choropleth": [
           {
            "colorbar": {
             "outlinewidth": 0,
             "ticks": ""
            },
            "type": "choropleth"
           }
          ],
          "contour": [
           {
            "colorbar": {
             "outlinewidth": 0,
             "ticks": ""
            },
            "colorscale": [
             [
              0,
              "#0d0887"
             ],
             [
              0.1111111111111111,
              "#46039f"
             ],
             [
              0.2222222222222222,
              "#7201a8"
             ],
             [
              0.3333333333333333,
              "#9c179e"
             ],
             [
              0.4444444444444444,
              "#bd3786"
             ],
             [
              0.5555555555555556,
              "#d8576b"
             ],
             [
              0.6666666666666666,
              "#ed7953"
             ],
             [
              0.7777777777777778,
              "#fb9f3a"
             ],
             [
              0.8888888888888888,
              "#fdca26"
             ],
             [
              1,
              "#f0f921"
             ]
            ],
            "type": "contour"
           }
          ],
          "contourcarpet": [
           {
            "colorbar": {
             "outlinewidth": 0,
             "ticks": ""
            },
            "type": "contourcarpet"
           }
          ],
          "heatmap": [
           {
            "colorbar": {
             "outlinewidth": 0,
             "ticks": ""
            },
            "colorscale": [
             [
              0,
              "#0d0887"
             ],
             [
              0.1111111111111111,
              "#46039f"
             ],
             [
              0.2222222222222222,
              "#7201a8"
             ],
             [
              0.3333333333333333,
              "#9c179e"
             ],
             [
              0.4444444444444444,
              "#bd3786"
             ],
             [
              0.5555555555555556,
              "#d8576b"
             ],
             [
              0.6666666666666666,
              "#ed7953"
             ],
             [
              0.7777777777777778,
              "#fb9f3a"
             ],
             [
              0.8888888888888888,
              "#fdca26"
             ],
             [
              1,
              "#f0f921"
             ]
            ],
            "type": "heatmap"
           }
          ],
          "histogram": [
           {
            "marker": {
             "pattern": {
              "fillmode": "overlay",
              "size": 10,
              "solidity": 0.2
             }
            },
            "type": "histogram"
           }
          ],
          "histogram2d": [
           {
            "colorbar": {
             "outlinewidth": 0,
             "ticks": ""
            },
            "colorscale": [
             [
              0,
              "#0d0887"
             ],
             [
              0.1111111111111111,
              "#46039f"
             ],
             [
              0.2222222222222222,
              "#7201a8"
             ],
             [
              0.3333333333333333,
              "#9c179e"
             ],
             [
              0.4444444444444444,
              "#bd3786"
             ],
             [
              0.5555555555555556,
              "#d8576b"
             ],
             [
              0.6666666666666666,
              "#ed7953"
             ],
             [
              0.7777777777777778,
              "#fb9f3a"
             ],
             [
              0.8888888888888888,
              "#fdca26"
             ],
             [
              1,
              "#f0f921"
             ]
            ],
            "type": "histogram2d"
           }
          ],
          "histogram2dcontour": [
           {
            "colorbar": {
             "outlinewidth": 0,
             "ticks": ""
            },
            "colorscale": [
             [
              0,
              "#0d0887"
             ],
             [
              0.1111111111111111,
              "#46039f"
             ],
             [
              0.2222222222222222,
              "#7201a8"
             ],
             [
              0.3333333333333333,
              "#9c179e"
             ],
             [
              0.4444444444444444,
              "#bd3786"
             ],
             [
              0.5555555555555556,
              "#d8576b"
             ],
             [
              0.6666666666666666,
              "#ed7953"
             ],
             [
              0.7777777777777778,
              "#fb9f3a"
             ],
             [
              0.8888888888888888,
              "#fdca26"
             ],
             [
              1,
              "#f0f921"
             ]
            ],
            "type": "histogram2dcontour"
           }
          ],
          "mesh3d": [
           {
            "colorbar": {
             "outlinewidth": 0,
             "ticks": ""
            },
            "type": "mesh3d"
           }
          ],
          "parcoords": [
           {
            "line": {
             "colorbar": {
              "outlinewidth": 0,
              "ticks": ""
             }
            },
            "type": "parcoords"
           }
          ],
          "pie": [
           {
            "automargin": true,
            "type": "pie"
           }
          ],
          "scatter": [
           {
            "fillpattern": {
             "fillmode": "overlay",
             "size": 10,
             "solidity": 0.2
            },
            "type": "scatter"
           }
          ],
          "scatter3d": [
           {
            "line": {
             "colorbar": {
              "outlinewidth": 0,
              "ticks": ""
             }
            },
            "marker": {
             "colorbar": {
              "outlinewidth": 0,
              "ticks": ""
             }
            },
            "type": "scatter3d"
           }
          ],
          "scattercarpet": [
           {
            "marker": {
             "colorbar": {
              "outlinewidth": 0,
              "ticks": ""
             }
            },
            "type": "scattercarpet"
           }
          ],
          "scattergeo": [
           {
            "marker": {
             "colorbar": {
              "outlinewidth": 0,
              "ticks": ""
             }
            },
            "type": "scattergeo"
           }
          ],
          "scattergl": [
           {
            "marker": {
             "colorbar": {
              "outlinewidth": 0,
              "ticks": ""
             }
            },
            "type": "scattergl"
           }
          ],
          "scattermap": [
           {
            "marker": {
             "colorbar": {
              "outlinewidth": 0,
              "ticks": ""
             }
            },
            "type": "scattermap"
           }
          ],
          "scattermapbox": [
           {
            "marker": {
             "colorbar": {
              "outlinewidth": 0,
              "ticks": ""
             }
            },
            "type": "scattermapbox"
           }
          ],
          "scatterpolar": [
           {
            "marker": {
             "colorbar": {
              "outlinewidth": 0,
              "ticks": ""
             }
            },
            "type": "scatterpolar"
           }
          ],
          "scatterpolargl": [
           {
            "marker": {
             "colorbar": {
              "outlinewidth": 0,
              "ticks": ""
             }
            },
            "type": "scatterpolargl"
           }
          ],
          "scatterternary": [
           {
            "marker": {
             "colorbar": {
              "outlinewidth": 0,
              "ticks": ""
             }
            },
            "type": "scatterternary"
           }
          ],
          "surface": [
           {
            "colorbar": {
             "outlinewidth": 0,
             "ticks": ""
            },
            "colorscale": [
             [
              0,
              "#0d0887"
             ],
             [
              0.1111111111111111,
              "#46039f"
             ],
             [
              0.2222222222222222,
              "#7201a8"
             ],
             [
              0.3333333333333333,
              "#9c179e"
             ],
             [
              0.4444444444444444,
              "#bd3786"
             ],
             [
              0.5555555555555556,
              "#d8576b"
             ],
             [
              0.6666666666666666,
              "#ed7953"
             ],
             [
              0.7777777777777778,
              "#fb9f3a"
             ],
             [
              0.8888888888888888,
              "#fdca26"
             ],
             [
              1,
              "#f0f921"
             ]
            ],
            "type": "surface"
           }
          ],
          "table": [
           {
            "cells": {
             "fill": {
              "color": "#EBF0F8"
             },
             "line": {
              "color": "white"
             }
            },
            "header": {
             "fill": {
              "color": "#C8D4E3"
             },
             "line": {
              "color": "white"
             }
            },
            "type": "table"
           }
          ]
         },
         "layout": {
          "annotationdefaults": {
           "arrowcolor": "#2a3f5f",
           "arrowhead": 0,
           "arrowwidth": 1
          },
          "autotypenumbers": "strict",
          "coloraxis": {
           "colorbar": {
            "outlinewidth": 0,
            "ticks": ""
           }
          },
          "colorscale": {
           "diverging": [
            [
             0,
             "#8e0152"
            ],
            [
             0.1,
             "#c51b7d"
            ],
            [
             0.2,
             "#de77ae"
            ],
            [
             0.3,
             "#f1b6da"
            ],
            [
             0.4,
             "#fde0ef"
            ],
            [
             0.5,
             "#f7f7f7"
            ],
            [
             0.6,
             "#e6f5d0"
            ],
            [
             0.7,
             "#b8e186"
            ],
            [
             0.8,
             "#7fbc41"
            ],
            [
             0.9,
             "#4d9221"
            ],
            [
             1,
             "#276419"
            ]
           ],
           "sequential": [
            [
             0,
             "#0d0887"
            ],
            [
             0.1111111111111111,
             "#46039f"
            ],
            [
             0.2222222222222222,
             "#7201a8"
            ],
            [
             0.3333333333333333,
             "#9c179e"
            ],
            [
             0.4444444444444444,
             "#bd3786"
            ],
            [
             0.5555555555555556,
             "#d8576b"
            ],
            [
             0.6666666666666666,
             "#ed7953"
            ],
            [
             0.7777777777777778,
             "#fb9f3a"
            ],
            [
             0.8888888888888888,
             "#fdca26"
            ],
            [
             1,
             "#f0f921"
            ]
           ],
           "sequentialminus": [
            [
             0,
             "#0d0887"
            ],
            [
             0.1111111111111111,
             "#46039f"
            ],
            [
             0.2222222222222222,
             "#7201a8"
            ],
            [
             0.3333333333333333,
             "#9c179e"
            ],
            [
             0.4444444444444444,
             "#bd3786"
            ],
            [
             0.5555555555555556,
             "#d8576b"
            ],
            [
             0.6666666666666666,
             "#ed7953"
            ],
            [
             0.7777777777777778,
             "#fb9f3a"
            ],
            [
             0.8888888888888888,
             "#fdca26"
            ],
            [
             1,
             "#f0f921"
            ]
           ]
          },
          "colorway": [
           "#636efa",
           "#EF553B",
           "#00cc96",
           "#ab63fa",
           "#FFA15A",
           "#19d3f3",
           "#FF6692",
           "#B6E880",
           "#FF97FF",
           "#FECB52"
          ],
          "font": {
           "color": "#2a3f5f"
          },
          "geo": {
           "bgcolor": "white",
           "lakecolor": "white",
           "landcolor": "#E5ECF6",
           "showlakes": true,
           "showland": true,
           "subunitcolor": "white"
          },
          "hoverlabel": {
           "align": "left"
          },
          "hovermode": "closest",
          "mapbox": {
           "style": "light"
          },
          "paper_bgcolor": "white",
          "plot_bgcolor": "#E5ECF6",
          "polar": {
           "angularaxis": {
            "gridcolor": "white",
            "linecolor": "white",
            "ticks": ""
           },
           "bgcolor": "#E5ECF6",
           "radialaxis": {
            "gridcolor": "white",
            "linecolor": "white",
            "ticks": ""
           }
          },
          "scene": {
           "xaxis": {
            "backgroundcolor": "#E5ECF6",
            "gridcolor": "white",
            "gridwidth": 2,
            "linecolor": "white",
            "showbackground": true,
            "ticks": "",
            "zerolinecolor": "white"
           },
           "yaxis": {
            "backgroundcolor": "#E5ECF6",
            "gridcolor": "white",
            "gridwidth": 2,
            "linecolor": "white",
            "showbackground": true,
            "ticks": "",
            "zerolinecolor": "white"
           },
           "zaxis": {
            "backgroundcolor": "#E5ECF6",
            "gridcolor": "white",
            "gridwidth": 2,
            "linecolor": "white",
            "showbackground": true,
            "ticks": "",
            "zerolinecolor": "white"
           }
          },
          "shapedefaults": {
           "line": {
            "color": "#2a3f5f"
           }
          },
          "ternary": {
           "aaxis": {
            "gridcolor": "white",
            "linecolor": "white",
            "ticks": ""
           },
           "baxis": {
            "gridcolor": "white",
            "linecolor": "white",
            "ticks": ""
           },
           "bgcolor": "#E5ECF6",
           "caxis": {
            "gridcolor": "white",
            "linecolor": "white",
            "ticks": ""
           }
          },
          "title": {
           "x": 0.05
          },
          "xaxis": {
           "automargin": true,
           "gridcolor": "white",
           "linecolor": "white",
           "ticks": "",
           "title": {
            "standoff": 15
           },
           "zerolinecolor": "white",
           "zerolinewidth": 2
          },
          "yaxis": {
           "automargin": true,
           "gridcolor": "white",
           "linecolor": "white",
           "ticks": "",
           "title": {
            "standoff": 15
           },
           "zerolinecolor": "white",
           "zerolinewidth": 2
          }
         }
        },
        "title": {
         "text": "Average Total Bill by Party Size"
        },
        "uniformtext": {
         "minsize": 8,
         "mode": "hide"
        },
        "xaxis": {
         "anchor": "y",
         "domain": [
          0,
          1
         ],
         "title": {
          "text": "Party Size"
         }
        },
        "yaxis": {
         "anchor": "x",
         "domain": [
          0,
          1
         ],
         "tickformat": "$,.2f",
         "title": {
          "text": "Average Total Bill ($)"
         }
        }
       }
      }
     },
     "metadata": {},
     "output_type": "display_data"
    }
   ],
   "source": [
    "# it's almost the same flow as above but it will return a chart, instead of text\n",
    "response = broinsight.create_chart(\n",
    "    query_result=result,\n",
    "    message=question\n",
    ")\n",
    "response['chart']\n",
    "# print(response['fig'])"
   ]
  },
  {
   "cell_type": "markdown",
   "id": "7681261e",
   "metadata": {},
   "source": [
    "## Two s3 tables\n",
    "\n",
    "Down below is almost the above example except it takes more than one table to do the job"
   ]
  },
  {
   "cell_type": "code",
   "execution_count": 15,
   "id": "c0f00bbc",
   "metadata": {},
   "outputs": [],
   "source": [
    "import pandas as pd\n",
    "import numpy as np\n",
    "from datetime import datetime, timedelta\n",
    "\n",
    "# Dataset 1: Customers\n",
    "np.random.seed(42)\n",
    "customers_data = {\n",
    "    'customer_id': range(1, 101),\n",
    "    'name': [f'Customer_{i}' for i in range(1, 101)],\n",
    "    'email': [f'customer{i}@email.com' for i in range(1, 101)],\n",
    "    'age': np.random.randint(18, 75, 100),\n",
    "    'city': np.random.choice(['New York', 'Los Angeles', 'Chicago', 'Houston', 'Phoenix'], 100),\n",
    "    'signup_date': [datetime(2023, 1, 1) + timedelta(days=np.random.randint(0, 365)) for _ in range(100)],\n",
    "    'status': np.random.choice(['Active', 'Inactive'], 100, p=[0.8, 0.2])\n",
    "}\n",
    "customers_df = pd.DataFrame(customers_data)\n",
    "\n",
    "# Dataset 2: Orders (with foreign key to customers)\n",
    "np.random.seed(42)\n",
    "orders_data = {\n",
    "    'order_id': range(1, 251),\n",
    "    'customer_id': np.random.choice(range(1, 101), 250),  # Foreign key to customers\n",
    "    'order_date': [datetime(2023, 1, 1) + timedelta(days=np.random.randint(0, 365)) for _ in range(250)],\n",
    "    'product_category': np.random.choice(['Electronics', 'Clothing', 'Books', 'Home', 'Sports'], 250),\n",
    "    'order_amount': np.round(np.random.uniform(10.0, 500.0, 250), 2),\n",
    "    'shipping_cost': np.round(np.random.uniform(0.0, 25.0, 250), 2),\n",
    "    'order_status': np.random.choice(['Completed', 'Pending', 'Cancelled'], 250, p=[0.7, 0.2, 0.1]),\n",
    "    'payment_method': np.random.choice(['Credit Card', 'PayPal', 'Bank Transfer'], 250)\n",
    "}\n",
    "orders_df = pd.DataFrame(orders_data)\n",
    "\n",
    "# Field descriptions for customers\n",
    "customers_descriptions = FieldDescriptions(descriptions=[\n",
    "    FieldDescription(field_name=\"customer_id\", description=\"Unique customer identifier\"),\n",
    "    FieldDescription(field_name=\"name\", description=\"Customer full name\"),\n",
    "    FieldDescription(field_name=\"email\", description=\"Customer email address\"),\n",
    "    FieldDescription(field_name=\"age\", description=\"Customer age in years\"),\n",
    "    FieldDescription(field_name=\"city\", description=\"Customer's city of residence\"),\n",
    "    FieldDescription(field_name=\"signup_date\", description=\"Date when customer registered\"),\n",
    "    FieldDescription(field_name=\"status\", description=\"Current customer account status\")\n",
    "])\n",
    "\n",
    "# Field descriptions for orders\n",
    "orders_descriptions = FieldDescriptions(descriptions=[\n",
    "    FieldDescription(field_name=\"order_id\", description=\"Unique order identifier\"),\n",
    "    FieldDescription(field_name=\"customer_id\", description=\"Links to customer who placed the order\"),\n",
    "    FieldDescription(field_name=\"order_date\", description=\"Date when order was placed\"),\n",
    "    FieldDescription(field_name=\"product_category\", description=\"Category of products ordered\"),\n",
    "    FieldDescription(field_name=\"order_amount\", description=\"Total order value in dollars\"),\n",
    "    FieldDescription(field_name=\"shipping_cost\", description=\"Shipping fee charged\"),\n",
    "    FieldDescription(field_name=\"order_status\", description=\"Current status of the order\"),\n",
    "    FieldDescription(field_name=\"payment_method\", description=\"Payment method used\")\n",
    "])"
   ]
  },
  {
   "cell_type": "code",
   "execution_count": 16,
   "id": "f2a11051",
   "metadata": {},
   "outputs": [
    {
     "name": "stdout",
     "output_type": "stream",
     "text": [
      "METADATAS:\n",
      "\n",
      "Table: customers\n",
      "Columns:\n",
      "- customer_id (integer): Unique customer identifier, NOT NULL\n",
      "  Range: 1 - 100, Average: 50.50\n",
      "- name (string): Customer full name, NOT NULL\n",
      "  Examples: \"Customer_3\", \"Customer_5\", \"Customer_32\"\n",
      "- email (string): Customer email address, NOT NULL\n",
      "  Examples: \"customer3@email.com\", \"customer17@email.com\", \"customer33@email.com\"\n",
      "- age (integer): Customer age in years, NOT NULL\n",
      "  Range: 19 - 74, Average: 45.19\n",
      "- city (string): Customer's city of residence, NOT NULL\n",
      "  Examples: \"New York\", \"Houston\", \"Chicago\"\n",
      "- signup_date (unknown): Date when customer registered, NOT NULL\n",
      "- status (string): Current customer account status, NOT NULL\n",
      "  Examples: \"Active\", \"Inactive\"\n",
      "\n",
      "Table: orders\n",
      "Relationships:\n",
      "  customer_id -> customers.customer_id\n",
      "Columns:\n",
      "- order_id (integer): Unique order identifier, NOT NULL\n",
      "  Range: 1 - 250, Average: 125.50\n",
      "- customer_id (integer): Links to customer who placed the order, NOT NULL\n",
      "  Range: 1 - 100, Average: 50.34\n",
      "- order_date (unknown): Date when order was placed, NOT NULL\n",
      "- product_category (string): Category of products ordered, NOT NULL\n",
      "  Examples: \"Sports\", \"Home\", \"Electronics\"\n",
      "- order_amount (float): Total order value in dollars, NOT NULL\n",
      "  Range: 11.27 - 498.87, Average: 260.16\n",
      "- shipping_cost (float): Shipping fee charged, NOT NULL\n",
      "  Range: 0.06 - 24.98, Average: 12.95\n",
      "- order_status (string): Current status of the order, NOT NULL\n",
      "  Examples: \"Completed\", \"Pending\", \"Cancelled\"\n",
      "- payment_method (string): Payment method used, NOT NULL\n",
      "  Examples: \"PayPal\", \"Credit Card\", \"Bank Transfer\"\n"
     ]
    }
   ],
   "source": [
    "from broinsight.utils.data_catalog import DataCatalog\n",
    "import boto3\n",
    "\n",
    "s3_client = boto3.client('s3')\n",
    "bucket='dev-broinsight'\n",
    "\n",
    "aws_configs = AWSConfig(\n",
    "    aws_access_key_id=credentials.access_key,\n",
    "    aws_secret_access_key=credentials.secret_key,\n",
    "    aws_session_token=credentials.token or None,\n",
    "    region_name='ap-southeast-1'\n",
    ")\n",
    "\n",
    "s3_client.put_object(Bucket=bucket, Key='customers.csv', Body=customers_df.to_csv(index=False))\n",
    "s3_client.put_object(Bucket=bucket, Key='orders.csv', Body=orders_df.to_csv(index=False))\n",
    "\n",
    "s3_customers = f\"s3://{bucket}/customers.csv\"\n",
    "s3_orders = f\"s3://{bucket}/orders.csv\"\n",
    "\n",
    "catalog = DataCatalog(aws_configs=aws_configs)\n",
    "# catalog.register(\"customers\", customers_df, \"Customer information and demographics\")\n",
    "# catalog.register(\"orders\", orders_df, \"Customer order transactions and details\")\n",
    "\n",
    "catalog.register(\"customers\", s3_customers, \"Customer information and demographics\")\n",
    "catalog.register(\"orders\", s3_orders, \"Customer order transactions and details\")\n",
    "# # Profile tables\n",
    "catalog.profile_tables([\"customers\", \"orders\"])\n",
    "\n",
    "# # Add field descriptions\n",
    "catalog.add_field_descriptions(\"customers\", customers_descriptions)\n",
    "catalog.add_field_descriptions(\"orders\", orders_descriptions)\n",
    "\n",
    "# # Add relationship\n",
    "# catalog.add_relationship(\"orders\", \"customer_id\", \"customers\", \"customer_id\")\n",
    "catalog.add_relationship(foreign_table=\"orders\", foreign_key=\"customer_id\", primary_table=\"customers\", primary_key=\"customer_id\")\n",
    "\n",
    "# # Test SQL metadata generation\n",
    "sql_metadata = catalog.to_sql_metadata([\"customers\", \"orders\"])\n",
    "print(sql_metadata)"
   ]
  },
  {
   "cell_type": "code",
   "execution_count": 17,
   "id": "82420d99",
   "metadata": {},
   "outputs": [
    {
     "name": "stdout",
     "output_type": "stream",
     "text": [
      "Based on your role and goals, here are some areas you might want to explore:\n",
      "\n",
      "Customer Profile & Retention\n",
      "- How many customers are Active versus Inactive?\n",
      "- What is the average age of Active customers?\n",
      "- Which city has the highest number of Active customers?\n",
      "\n",
      "Sales & Order Performance\n",
      "- What is the average order_amount for Completed orders?\n",
      "- How many orders are Pending, Completed, or Cancelled?\n",
      "- Which product_category has the highest total order_amount?\n",
      "\n",
      "Payment & Shipping Insights\n",
      "- What is the average shipping_cost for orders paid with PayPal, Credit Card, and Bank Transfer?\n",
      "- How many orders use each payment_method?\n",
      "- What is the average order_amount by payment_method?\n",
      "\n",
      "Product Category Trends\n",
      "- Which product_category has the highest average order_amount?\n",
      "- How many orders were placed for each product_category?\n",
      "- What is the average shipping_cost for each product_category?\n",
      "\n",
      "Just ask me any of these questions and I'll analyze your data to get the answers!\n"
     ]
    }
   ],
   "source": [
    "response = broinsight.suggest_questions(\n",
    "    context=catalog.to_guide_metadata([\"customers\", \"orders\"]),\n",
    "    message=\"I'm a new manager here. I don't know what to look to know more about our business.\"\n",
    "\n",
    ")\n",
    "print(response['content'])"
   ]
  },
  {
   "cell_type": "code",
   "execution_count": 18,
   "id": "4a4be850",
   "metadata": {},
   "outputs": [
    {
     "name": "stdout",
     "output_type": "stream",
     "text": [
      "```sql\n",
      "WITH total_spent AS (\n",
      "    SELECT\n",
      "        o.customer_id,\n",
      "        SUM(o.order_amount) AS total_amount\n",
      "    FROM orders o\n",
      "    GROUP BY o.customer_id\n",
      "),\n",
      "ranked_customers AS (\n",
      "    SELECT\n",
      "        ts.customer_id,\n",
      "        ts.total_amount,\n",
      "        ROW_NUMBER() OVER (ORDER BY ts.total_amount DESC) AS rn\n",
      "    FROM total_spent ts\n",
      "),\n",
      "most_used_payment AS (\n",
      "    SELECT\n",
      "        o.customer_id,\n",
      "        o.payment_method,\n",
      "        COUNT(*) AS method_count,\n",
      "        ROW_NUMBER() OVER (\n",
      "            PARTITION BY o.customer_id\n",
      "            ORDER BY COUNT(*) DESC\n",
      "        ) AS rn\n",
      "    FROM orders o\n",
      "    GROUP BY o.customer_id, o.payment_method\n",
      ")\n",
      "SELECT\n",
      "    c.name,\n",
      "    c.age,\n",
      "    mup.payment_method\n",
      "FROM ranked_customers rc\n",
      "JOIN customers c\n",
      "    ON rc.customer_id = c.customer_id\n",
      "JOIN most_used_payment mup\n",
      "    ON mup.customer_id = rc.customer_id\n",
      "    AND mup.rn = 1\n",
      "WHERE rc.rn <= 5\n",
      "ORDER BY rc.total_amount DESC;\n",
      "```\n"
     ]
    }
   ],
   "source": [
    "# question = \"How many orders were paid using each payment_method in the orders table?\"\n",
    "# question = \"Who are the top 5 customers payting with PayPal method? I wanna know thier ages and names\"\n",
    "question = \"Who are the top 5 spenders? I wanna know thier ages and names and their most payment method\"\n",
    "response = broinsight.generate_sql(\n",
    "    context=catalog.to_sql_metadata([\"customers\", \"orders\"]),\n",
    "    message=question\n",
    "\n",
    ")\n",
    "print(response['content'])"
   ]
  },
  {
   "cell_type": "code",
   "execution_count": 19,
   "id": "60fc39ac",
   "metadata": {},
   "outputs": [],
   "source": [
    "sql_query = response['content'].split(\"```sql\")[-1].split(\"```\")[0]\n",
    "result = catalog.query(sql_query)"
   ]
  },
  {
   "cell_type": "code",
   "execution_count": 20,
   "id": "f8a5d7fd",
   "metadata": {},
   "outputs": [
    {
     "data": {
      "text/html": [
       "<div>\n",
       "<style scoped>\n",
       "    .dataframe tbody tr th:only-of-type {\n",
       "        vertical-align: middle;\n",
       "    }\n",
       "\n",
       "    .dataframe tbody tr th {\n",
       "        vertical-align: top;\n",
       "    }\n",
       "\n",
       "    .dataframe thead th {\n",
       "        text-align: right;\n",
       "    }\n",
       "</style>\n",
       "<table border=\"1\" class=\"dataframe\">\n",
       "  <thead>\n",
       "    <tr style=\"text-align: right;\">\n",
       "      <th></th>\n",
       "      <th>name</th>\n",
       "      <th>age</th>\n",
       "      <th>payment_method</th>\n",
       "    </tr>\n",
       "  </thead>\n",
       "  <tbody>\n",
       "    <tr>\n",
       "      <th>0</th>\n",
       "      <td>Customer_62</td>\n",
       "      <td>45</td>\n",
       "      <td>Bank Transfer</td>\n",
       "    </tr>\n",
       "    <tr>\n",
       "      <th>1</th>\n",
       "      <td>Customer_2</td>\n",
       "      <td>69</td>\n",
       "      <td>Credit Card</td>\n",
       "    </tr>\n",
       "    <tr>\n",
       "      <th>2</th>\n",
       "      <td>Customer_89</td>\n",
       "      <td>48</td>\n",
       "      <td>PayPal</td>\n",
       "    </tr>\n",
       "    <tr>\n",
       "      <th>3</th>\n",
       "      <td>Customer_44</td>\n",
       "      <td>74</td>\n",
       "      <td>Bank Transfer</td>\n",
       "    </tr>\n",
       "    <tr>\n",
       "      <th>4</th>\n",
       "      <td>Customer_88</td>\n",
       "      <td>31</td>\n",
       "      <td>Credit Card</td>\n",
       "    </tr>\n",
       "  </tbody>\n",
       "</table>\n",
       "</div>"
      ],
      "text/plain": [
       "          name  age payment_method\n",
       "0  Customer_62   45  Bank Transfer\n",
       "1   Customer_2   69    Credit Card\n",
       "2  Customer_89   48         PayPal\n",
       "3  Customer_44   74  Bank Transfer\n",
       "4  Customer_88   31    Credit Card"
      ]
     },
     "execution_count": 20,
     "metadata": {},
     "output_type": "execute_result"
    }
   ],
   "source": [
    "result"
   ]
  },
  {
   "cell_type": "code",
   "execution_count": 21,
   "id": "97dfbe4f",
   "metadata": {},
   "outputs": [
    {
     "name": "stdout",
     "output_type": "stream",
     "text": [
      "I’m sorry, but the data you shared only lists each customer’s name, age, and payment method. It doesn’t include any spending amounts or rankings, so I can’t identify who the top 5 spenders are. If you can provide the spend figures or a column that indicates total purchases, I’d be happy to help you sort them and pull out the ages, names, and preferred payment methods.\n"
     ]
    }
   ],
   "source": [
    "response = broinsight.ask_data(\n",
    "    context=result.to_string(),\n",
    "    message=question\n",
    ")\n",
    "print(response['content'])"
   ]
  },
  {
   "cell_type": "code",
   "execution_count": 23,
   "id": "5ab616d5",
   "metadata": {},
   "outputs": [
    {
     "data": {
      "application/vnd.plotly.v1+json": {
       "config": {
        "plotlyServerURL": "https://plot.ly"
       },
       "data": [
        {
         "customdata": [
          [
           "Bank Transfer"
          ],
          [
           "Bank Transfer"
          ]
         ],
         "hovertemplate": "Payment Method=%{customdata[0]}<br>Age=%{x}<br>Customer Name=%{y}<extra></extra>",
         "legendgroup": "Bank Transfer",
         "marker": {
          "color": "#636efa",
          "pattern": {
           "shape": ""
          }
         },
         "name": "Bank Transfer",
         "orientation": "h",
         "showlegend": true,
         "textposition": "auto",
         "type": "bar",
         "x": {
          "bdata": "LUo=",
          "dtype": "i1"
         },
         "xaxis": "x",
         "y": [
          "Customer_62",
          "Customer_44"
         ],
         "yaxis": "y"
        },
        {
         "customdata": [
          [
           "Credit Card"
          ],
          [
           "Credit Card"
          ]
         ],
         "hovertemplate": "Payment Method=%{customdata[0]}<br>Age=%{x}<br>Customer Name=%{y}<extra></extra>",
         "legendgroup": "Credit Card",
         "marker": {
          "color": "#EF553B",
          "pattern": {
           "shape": ""
          }
         },
         "name": "Credit Card",
         "orientation": "h",
         "showlegend": true,
         "textposition": "auto",
         "type": "bar",
         "x": {
          "bdata": "RR8=",
          "dtype": "i1"
         },
         "xaxis": "x",
         "y": [
          "Customer_2",
          "Customer_88"
         ],
         "yaxis": "y"
        },
        {
         "customdata": [
          [
           "PayPal"
          ]
         ],
         "hovertemplate": "Payment Method=%{customdata[0]}<br>Age=%{x}<br>Customer Name=%{y}<extra></extra>",
         "legendgroup": "PayPal",
         "marker": {
          "color": "#00cc96",
          "pattern": {
           "shape": ""
          }
         },
         "name": "PayPal",
         "orientation": "h",
         "showlegend": true,
         "textposition": "auto",
         "type": "bar",
         "x": {
          "bdata": "MA==",
          "dtype": "i1"
         },
         "xaxis": "x",
         "y": [
          "Customer_89"
         ],
         "yaxis": "y"
        }
       ],
       "layout": {
        "barmode": "relative",
        "height": 400,
        "legend": {
         "title": {
          "text": "Payment Method"
         },
         "tracegroupgap": 0
        },
        "margin": {
         "b": 50,
         "l": 100,
         "r": 20,
         "t": 80
        },
        "template": {
         "data": {
          "bar": [
           {
            "error_x": {
             "color": "#2a3f5f"
            },
            "error_y": {
             "color": "#2a3f5f"
            },
            "marker": {
             "line": {
              "color": "#E5ECF6",
              "width": 0.5
             },
             "pattern": {
              "fillmode": "overlay",
              "size": 10,
              "solidity": 0.2
             }
            },
            "type": "bar"
           }
          ],
          "barpolar": [
           {
            "marker": {
             "line": {
              "color": "#E5ECF6",
              "width": 0.5
             },
             "pattern": {
              "fillmode": "overlay",
              "size": 10,
              "solidity": 0.2
             }
            },
            "type": "barpolar"
           }
          ],
          "carpet": [
           {
            "aaxis": {
             "endlinecolor": "#2a3f5f",
             "gridcolor": "white",
             "linecolor": "white",
             "minorgridcolor": "white",
             "startlinecolor": "#2a3f5f"
            },
            "baxis": {
             "endlinecolor": "#2a3f5f",
             "gridcolor": "white",
             "linecolor": "white",
             "minorgridcolor": "white",
             "startlinecolor": "#2a3f5f"
            },
            "type": "carpet"
           }
          ],
          "choropleth": [
           {
            "colorbar": {
             "outlinewidth": 0,
             "ticks": ""
            },
            "type": "choropleth"
           }
          ],
          "contour": [
           {
            "colorbar": {
             "outlinewidth": 0,
             "ticks": ""
            },
            "colorscale": [
             [
              0,
              "#0d0887"
             ],
             [
              0.1111111111111111,
              "#46039f"
             ],
             [
              0.2222222222222222,
              "#7201a8"
             ],
             [
              0.3333333333333333,
              "#9c179e"
             ],
             [
              0.4444444444444444,
              "#bd3786"
             ],
             [
              0.5555555555555556,
              "#d8576b"
             ],
             [
              0.6666666666666666,
              "#ed7953"
             ],
             [
              0.7777777777777778,
              "#fb9f3a"
             ],
             [
              0.8888888888888888,
              "#fdca26"
             ],
             [
              1,
              "#f0f921"
             ]
            ],
            "type": "contour"
           }
          ],
          "contourcarpet": [
           {
            "colorbar": {
             "outlinewidth": 0,
             "ticks": ""
            },
            "type": "contourcarpet"
           }
          ],
          "heatmap": [
           {
            "colorbar": {
             "outlinewidth": 0,
             "ticks": ""
            },
            "colorscale": [
             [
              0,
              "#0d0887"
             ],
             [
              0.1111111111111111,
              "#46039f"
             ],
             [
              0.2222222222222222,
              "#7201a8"
             ],
             [
              0.3333333333333333,
              "#9c179e"
             ],
             [
              0.4444444444444444,
              "#bd3786"
             ],
             [
              0.5555555555555556,
              "#d8576b"
             ],
             [
              0.6666666666666666,
              "#ed7953"
             ],
             [
              0.7777777777777778,
              "#fb9f3a"
             ],
             [
              0.8888888888888888,
              "#fdca26"
             ],
             [
              1,
              "#f0f921"
             ]
            ],
            "type": "heatmap"
           }
          ],
          "histogram": [
           {
            "marker": {
             "pattern": {
              "fillmode": "overlay",
              "size": 10,
              "solidity": 0.2
             }
            },
            "type": "histogram"
           }
          ],
          "histogram2d": [
           {
            "colorbar": {
             "outlinewidth": 0,
             "ticks": ""
            },
            "colorscale": [
             [
              0,
              "#0d0887"
             ],
             [
              0.1111111111111111,
              "#46039f"
             ],
             [
              0.2222222222222222,
              "#7201a8"
             ],
             [
              0.3333333333333333,
              "#9c179e"
             ],
             [
              0.4444444444444444,
              "#bd3786"
             ],
             [
              0.5555555555555556,
              "#d8576b"
             ],
             [
              0.6666666666666666,
              "#ed7953"
             ],
             [
              0.7777777777777778,
              "#fb9f3a"
             ],
             [
              0.8888888888888888,
              "#fdca26"
             ],
             [
              1,
              "#f0f921"
             ]
            ],
            "type": "histogram2d"
           }
          ],
          "histogram2dcontour": [
           {
            "colorbar": {
             "outlinewidth": 0,
             "ticks": ""
            },
            "colorscale": [
             [
              0,
              "#0d0887"
             ],
             [
              0.1111111111111111,
              "#46039f"
             ],
             [
              0.2222222222222222,
              "#7201a8"
             ],
             [
              0.3333333333333333,
              "#9c179e"
             ],
             [
              0.4444444444444444,
              "#bd3786"
             ],
             [
              0.5555555555555556,
              "#d8576b"
             ],
             [
              0.6666666666666666,
              "#ed7953"
             ],
             [
              0.7777777777777778,
              "#fb9f3a"
             ],
             [
              0.8888888888888888,
              "#fdca26"
             ],
             [
              1,
              "#f0f921"
             ]
            ],
            "type": "histogram2dcontour"
           }
          ],
          "mesh3d": [
           {
            "colorbar": {
             "outlinewidth": 0,
             "ticks": ""
            },
            "type": "mesh3d"
           }
          ],
          "parcoords": [
           {
            "line": {
             "colorbar": {
              "outlinewidth": 0,
              "ticks": ""
             }
            },
            "type": "parcoords"
           }
          ],
          "pie": [
           {
            "automargin": true,
            "type": "pie"
           }
          ],
          "scatter": [
           {
            "fillpattern": {
             "fillmode": "overlay",
             "size": 10,
             "solidity": 0.2
            },
            "type": "scatter"
           }
          ],
          "scatter3d": [
           {
            "line": {
             "colorbar": {
              "outlinewidth": 0,
              "ticks": ""
             }
            },
            "marker": {
             "colorbar": {
              "outlinewidth": 0,
              "ticks": ""
             }
            },
            "type": "scatter3d"
           }
          ],
          "scattercarpet": [
           {
            "marker": {
             "colorbar": {
              "outlinewidth": 0,
              "ticks": ""
             }
            },
            "type": "scattercarpet"
           }
          ],
          "scattergeo": [
           {
            "marker": {
             "colorbar": {
              "outlinewidth": 0,
              "ticks": ""
             }
            },
            "type": "scattergeo"
           }
          ],
          "scattergl": [
           {
            "marker": {
             "colorbar": {
              "outlinewidth": 0,
              "ticks": ""
             }
            },
            "type": "scattergl"
           }
          ],
          "scattermap": [
           {
            "marker": {
             "colorbar": {
              "outlinewidth": 0,
              "ticks": ""
             }
            },
            "type": "scattermap"
           }
          ],
          "scattermapbox": [
           {
            "marker": {
             "colorbar": {
              "outlinewidth": 0,
              "ticks": ""
             }
            },
            "type": "scattermapbox"
           }
          ],
          "scatterpolar": [
           {
            "marker": {
             "colorbar": {
              "outlinewidth": 0,
              "ticks": ""
             }
            },
            "type": "scatterpolar"
           }
          ],
          "scatterpolargl": [
           {
            "marker": {
             "colorbar": {
              "outlinewidth": 0,
              "ticks": ""
             }
            },
            "type": "scatterpolargl"
           }
          ],
          "scatterternary": [
           {
            "marker": {
             "colorbar": {
              "outlinewidth": 0,
              "ticks": ""
             }
            },
            "type": "scatterternary"
           }
          ],
          "surface": [
           {
            "colorbar": {
             "outlinewidth": 0,
             "ticks": ""
            },
            "colorscale": [
             [
              0,
              "#0d0887"
             ],
             [
              0.1111111111111111,
              "#46039f"
             ],
             [
              0.2222222222222222,
              "#7201a8"
             ],
             [
              0.3333333333333333,
              "#9c179e"
             ],
             [
              0.4444444444444444,
              "#bd3786"
             ],
             [
              0.5555555555555556,
              "#d8576b"
             ],
             [
              0.6666666666666666,
              "#ed7953"
             ],
             [
              0.7777777777777778,
              "#fb9f3a"
             ],
             [
              0.8888888888888888,
              "#fdca26"
             ],
             [
              1,
              "#f0f921"
             ]
            ],
            "type": "surface"
           }
          ],
          "table": [
           {
            "cells": {
             "fill": {
              "color": "#EBF0F8"
             },
             "line": {
              "color": "white"
             }
            },
            "header": {
             "fill": {
              "color": "#C8D4E3"
             },
             "line": {
              "color": "white"
             }
            },
            "type": "table"
           }
          ]
         },
         "layout": {
          "annotationdefaults": {
           "arrowcolor": "#2a3f5f",
           "arrowhead": 0,
           "arrowwidth": 1
          },
          "autotypenumbers": "strict",
          "coloraxis": {
           "colorbar": {
            "outlinewidth": 0,
            "ticks": ""
           }
          },
          "colorscale": {
           "diverging": [
            [
             0,
             "#8e0152"
            ],
            [
             0.1,
             "#c51b7d"
            ],
            [
             0.2,
             "#de77ae"
            ],
            [
             0.3,
             "#f1b6da"
            ],
            [
             0.4,
             "#fde0ef"
            ],
            [
             0.5,
             "#f7f7f7"
            ],
            [
             0.6,
             "#e6f5d0"
            ],
            [
             0.7,
             "#b8e186"
            ],
            [
             0.8,
             "#7fbc41"
            ],
            [
             0.9,
             "#4d9221"
            ],
            [
             1,
             "#276419"
            ]
           ],
           "sequential": [
            [
             0,
             "#0d0887"
            ],
            [
             0.1111111111111111,
             "#46039f"
            ],
            [
             0.2222222222222222,
             "#7201a8"
            ],
            [
             0.3333333333333333,
             "#9c179e"
            ],
            [
             0.4444444444444444,
             "#bd3786"
            ],
            [
             0.5555555555555556,
             "#d8576b"
            ],
            [
             0.6666666666666666,
             "#ed7953"
            ],
            [
             0.7777777777777778,
             "#fb9f3a"
            ],
            [
             0.8888888888888888,
             "#fdca26"
            ],
            [
             1,
             "#f0f921"
            ]
           ],
           "sequentialminus": [
            [
             0,
             "#0d0887"
            ],
            [
             0.1111111111111111,
             "#46039f"
            ],
            [
             0.2222222222222222,
             "#7201a8"
            ],
            [
             0.3333333333333333,
             "#9c179e"
            ],
            [
             0.4444444444444444,
             "#bd3786"
            ],
            [
             0.5555555555555556,
             "#d8576b"
            ],
            [
             0.6666666666666666,
             "#ed7953"
            ],
            [
             0.7777777777777778,
             "#fb9f3a"
            ],
            [
             0.8888888888888888,
             "#fdca26"
            ],
            [
             1,
             "#f0f921"
            ]
           ]
          },
          "colorway": [
           "#636efa",
           "#EF553B",
           "#00cc96",
           "#ab63fa",
           "#FFA15A",
           "#19d3f3",
           "#FF6692",
           "#B6E880",
           "#FF97FF",
           "#FECB52"
          ],
          "font": {
           "color": "#2a3f5f"
          },
          "geo": {
           "bgcolor": "white",
           "lakecolor": "white",
           "landcolor": "#E5ECF6",
           "showlakes": true,
           "showland": true,
           "subunitcolor": "white"
          },
          "hoverlabel": {
           "align": "left"
          },
          "hovermode": "closest",
          "mapbox": {
           "style": "light"
          },
          "paper_bgcolor": "white",
          "plot_bgcolor": "#E5ECF6",
          "polar": {
           "angularaxis": {
            "gridcolor": "white",
            "linecolor": "white",
            "ticks": ""
           },
           "bgcolor": "#E5ECF6",
           "radialaxis": {
            "gridcolor": "white",
            "linecolor": "white",
            "ticks": ""
           }
          },
          "scene": {
           "xaxis": {
            "backgroundcolor": "#E5ECF6",
            "gridcolor": "white",
            "gridwidth": 2,
            "linecolor": "white",
            "showbackground": true,
            "ticks": "",
            "zerolinecolor": "white"
           },
           "yaxis": {
            "backgroundcolor": "#E5ECF6",
            "gridcolor": "white",
            "gridwidth": 2,
            "linecolor": "white",
            "showbackground": true,
            "ticks": "",
            "zerolinecolor": "white"
           },
           "zaxis": {
            "backgroundcolor": "#E5ECF6",
            "gridcolor": "white",
            "gridwidth": 2,
            "linecolor": "white",
            "showbackground": true,
            "ticks": "",
            "zerolinecolor": "white"
           }
          },
          "shapedefaults": {
           "line": {
            "color": "#2a3f5f"
           }
          },
          "ternary": {
           "aaxis": {
            "gridcolor": "white",
            "linecolor": "white",
            "ticks": ""
           },
           "baxis": {
            "gridcolor": "white",
            "linecolor": "white",
            "ticks": ""
           },
           "bgcolor": "#E5ECF6",
           "caxis": {
            "gridcolor": "white",
            "linecolor": "white",
            "ticks": ""
           }
          },
          "title": {
           "x": 0.05
          },
          "xaxis": {
           "automargin": true,
           "gridcolor": "white",
           "linecolor": "white",
           "ticks": "",
           "title": {
            "standoff": 15
           },
           "zerolinecolor": "white",
           "zerolinewidth": 2
          },
          "yaxis": {
           "automargin": true,
           "gridcolor": "white",
           "linecolor": "white",
           "ticks": "",
           "title": {
            "standoff": 15
           },
           "zerolinecolor": "white",
           "zerolinewidth": 2
          }
         }
        },
        "title": {
         "text": "Top 5 Customers: Age and Payment Method"
        },
        "xaxis": {
         "anchor": "y",
         "domain": [
          0,
          1
         ],
         "title": {
          "text": "Age"
         }
        },
        "yaxis": {
         "anchor": "x",
         "automargin": true,
         "domain": [
          0,
          1
         ],
         "title": {
          "text": "Customer Name"
         }
        }
       }
      }
     },
     "metadata": {},
     "output_type": "display_data"
    }
   ],
   "source": [
    "response = broinsight.create_chart(\n",
    "    query_result=result,\n",
    "    message=question\n",
    ")\n",
    "response['chart']"
   ]
  },
  {
   "cell_type": "code",
   "execution_count": null,
   "id": "56ddefd1",
   "metadata": {},
   "outputs": [],
   "source": []
  }
 ],
 "metadata": {
  "kernelspec": {
   "display_name": "broinsight",
   "language": "python",
   "name": "python3"
  },
  "language_info": {
   "codemirror_mode": {
    "name": "ipython",
    "version": 3
   },
   "file_extension": ".py",
   "mimetype": "text/x-python",
   "name": "python",
   "nbconvert_exporter": "python",
   "pygments_lexer": "ipython3",
   "version": "3.12.11"
  }
 },
 "nbformat": 4,
 "nbformat_minor": 5
}
