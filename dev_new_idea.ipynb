{
 "cells": [
  {
   "cell_type": "code",
   "execution_count": 12,
   "id": "b3362ead",
   "metadata": {},
   "outputs": [
    {
     "name": "stdout",
     "output_type": "stream",
     "text": [
      "The autoreload extension is already loaded. To reload it, use:\n",
      "  %reload_ext autoreload\n"
     ]
    }
   ],
   "source": [
    "%load_ext autoreload\n",
    "%autoreload 2"
   ]
  },
  {
   "cell_type": "code",
   "execution_count": 13,
   "id": "204cfced",
   "metadata": {},
   "outputs": [
    {
     "data": {
      "text/plain": [
       "<duckdb.duckdb.DuckDBPyConnection at 0x117ac9f30>"
      ]
     },
     "execution_count": 13,
     "metadata": {},
     "output_type": "execute_result"
    }
   ],
   "source": [
    "from broinsight.utils.data_spec import Metadata, TableSpec, FieldSpec\n",
    "from broinsight.data_quality.sql_profile import sql_field_profile, sql_table_profile\n",
    "import seaborn as sns\n",
    "import pandas as pd\n",
    "import duckdb\n",
    "\n",
    "conn = duckdb.connect()\n",
    "conn.register(\"tips\", sns.load_dataset(\"tips\"))"
   ]
  },
  {
   "cell_type": "code",
   "execution_count": 14,
   "id": "f767dfcb",
   "metadata": {},
   "outputs": [
    {
     "data": {
      "text/html": [
       "<div>\n",
       "<style scoped>\n",
       "    .dataframe tbody tr th:only-of-type {\n",
       "        vertical-align: middle;\n",
       "    }\n",
       "\n",
       "    .dataframe tbody tr th {\n",
       "        vertical-align: top;\n",
       "    }\n",
       "\n",
       "    .dataframe thead th {\n",
       "        text-align: right;\n",
       "    }\n",
       "</style>\n",
       "<table border=\"1\" class=\"dataframe\">\n",
       "  <thead>\n",
       "    <tr style=\"text-align: right;\">\n",
       "      <th></th>\n",
       "      <th>total_bill</th>\n",
       "      <th>tip</th>\n",
       "      <th>sex</th>\n",
       "      <th>smoker</th>\n",
       "      <th>day</th>\n",
       "      <th>time</th>\n",
       "      <th>size</th>\n",
       "    </tr>\n",
       "  </thead>\n",
       "  <tbody>\n",
       "    <tr>\n",
       "      <th>0</th>\n",
       "      <td>16.99</td>\n",
       "      <td>1.01</td>\n",
       "      <td>Female</td>\n",
       "      <td>No</td>\n",
       "      <td>Sun</td>\n",
       "      <td>Dinner</td>\n",
       "      <td>2</td>\n",
       "    </tr>\n",
       "    <tr>\n",
       "      <th>1</th>\n",
       "      <td>10.34</td>\n",
       "      <td>1.66</td>\n",
       "      <td>Male</td>\n",
       "      <td>No</td>\n",
       "      <td>Sun</td>\n",
       "      <td>Dinner</td>\n",
       "      <td>3</td>\n",
       "    </tr>\n",
       "    <tr>\n",
       "      <th>2</th>\n",
       "      <td>21.01</td>\n",
       "      <td>3.50</td>\n",
       "      <td>Male</td>\n",
       "      <td>No</td>\n",
       "      <td>Sun</td>\n",
       "      <td>Dinner</td>\n",
       "      <td>3</td>\n",
       "    </tr>\n",
       "    <tr>\n",
       "      <th>3</th>\n",
       "      <td>23.68</td>\n",
       "      <td>3.31</td>\n",
       "      <td>Male</td>\n",
       "      <td>No</td>\n",
       "      <td>Sun</td>\n",
       "      <td>Dinner</td>\n",
       "      <td>2</td>\n",
       "    </tr>\n",
       "    <tr>\n",
       "      <th>4</th>\n",
       "      <td>24.59</td>\n",
       "      <td>3.61</td>\n",
       "      <td>Female</td>\n",
       "      <td>No</td>\n",
       "      <td>Sun</td>\n",
       "      <td>Dinner</td>\n",
       "      <td>4</td>\n",
       "    </tr>\n",
       "    <tr>\n",
       "      <th>...</th>\n",
       "      <td>...</td>\n",
       "      <td>...</td>\n",
       "      <td>...</td>\n",
       "      <td>...</td>\n",
       "      <td>...</td>\n",
       "      <td>...</td>\n",
       "      <td>...</td>\n",
       "    </tr>\n",
       "    <tr>\n",
       "      <th>239</th>\n",
       "      <td>29.03</td>\n",
       "      <td>5.92</td>\n",
       "      <td>Male</td>\n",
       "      <td>No</td>\n",
       "      <td>Sat</td>\n",
       "      <td>Dinner</td>\n",
       "      <td>3</td>\n",
       "    </tr>\n",
       "    <tr>\n",
       "      <th>240</th>\n",
       "      <td>27.18</td>\n",
       "      <td>2.00</td>\n",
       "      <td>Female</td>\n",
       "      <td>Yes</td>\n",
       "      <td>Sat</td>\n",
       "      <td>Dinner</td>\n",
       "      <td>2</td>\n",
       "    </tr>\n",
       "    <tr>\n",
       "      <th>241</th>\n",
       "      <td>22.67</td>\n",
       "      <td>2.00</td>\n",
       "      <td>Male</td>\n",
       "      <td>Yes</td>\n",
       "      <td>Sat</td>\n",
       "      <td>Dinner</td>\n",
       "      <td>2</td>\n",
       "    </tr>\n",
       "    <tr>\n",
       "      <th>242</th>\n",
       "      <td>17.82</td>\n",
       "      <td>1.75</td>\n",
       "      <td>Male</td>\n",
       "      <td>No</td>\n",
       "      <td>Sat</td>\n",
       "      <td>Dinner</td>\n",
       "      <td>2</td>\n",
       "    </tr>\n",
       "    <tr>\n",
       "      <th>243</th>\n",
       "      <td>18.78</td>\n",
       "      <td>3.00</td>\n",
       "      <td>Female</td>\n",
       "      <td>No</td>\n",
       "      <td>Thur</td>\n",
       "      <td>Dinner</td>\n",
       "      <td>2</td>\n",
       "    </tr>\n",
       "  </tbody>\n",
       "</table>\n",
       "<p>244 rows × 7 columns</p>\n",
       "</div>"
      ],
      "text/plain": [
       "     total_bill   tip     sex smoker   day    time  size\n",
       "0         16.99  1.01  Female     No   Sun  Dinner     2\n",
       "1         10.34  1.66    Male     No   Sun  Dinner     3\n",
       "2         21.01  3.50    Male     No   Sun  Dinner     3\n",
       "3         23.68  3.31    Male     No   Sun  Dinner     2\n",
       "4         24.59  3.61  Female     No   Sun  Dinner     4\n",
       "..          ...   ...     ...    ...   ...     ...   ...\n",
       "239       29.03  5.92    Male     No   Sat  Dinner     3\n",
       "240       27.18  2.00  Female    Yes   Sat  Dinner     2\n",
       "241       22.67  2.00    Male    Yes   Sat  Dinner     2\n",
       "242       17.82  1.75    Male     No   Sat  Dinner     2\n",
       "243       18.78  3.00  Female     No  Thur  Dinner     2\n",
       "\n",
       "[244 rows x 7 columns]"
      ]
     },
     "execution_count": 14,
     "metadata": {},
     "output_type": "execute_result"
    }
   ],
   "source": [
    "conn.execute(\"SELECT * FROM tips;\").df()"
   ]
  },
  {
   "cell_type": "code",
   "execution_count": 5,
   "id": "c24f313b",
   "metadata": {},
   "outputs": [],
   "source": [
    "from broinsight.utils.data_spec import Metadata, TableSpec, FieldSpec, create_field_specs_from_profile, FieldDescription, FieldDescriptions\n",
    "\n",
    "# Get profiles\n",
    "tbl_prof = sql_table_profile(conn, \"tips\")\n",
    "field_prof = sql_field_profile(conn, \"tips\")\n",
    "\n",
    "# Create specs\n",
    "table_spec = TableSpec(**tbl_prof)\n",
    "field_specs = create_field_specs_from_profile(field_prof)\n",
    "\n",
    "# Create metadata (this should work now)\n",
    "metadata = Metadata(\n",
    "    table_name=\"tips\",\n",
    "    table_description=\"Restaurant tips dataset\",\n",
    "    table_spec=table_spec,\n",
    "    field_spec=field_specs\n",
    ")"
   ]
  },
  {
   "cell_type": "code",
   "execution_count": 9,
   "id": "3169be85",
   "metadata": {},
   "outputs": [
    {
     "data": {
      "text/plain": [
       "Metadata(table_name='tips', table_description='Restaurant tips dataset', table_spec=TableSpec(rows=244, columns=7, duplicates=1, evidences={0: {'total_bill': 13.0, 'tip': 2.0, 'sex': 'Female', 'smoker': 'Yes', 'day': 'Thur', 'time': 'Lunch', 'size': 2, 'dup_count': 2}}), field_spec=[FieldSpec(field_name='total_bill', data_type='float', missing_values=0, missing_values_pct=0.0, unique_values=229, unique_values_pct=0.94, most_frequent={13.42: 3, 15.98: 2, 20.29: 2, 10.33: 2, 7.25: 2}, statistics={'min': 3.07, 'max': 50.81, 'mean': 19.79, 'median': 17.8, 'std': 8.9, 'var': 79.25, 'skew': 1.13, 'kurt': 1.22, 'iqr': 10.78, 'cv': 0.45, 'lower_bound': -2.82, 'upper_bound': 40.3}, description=None), FieldSpec(field_name='tip', data_type='float', missing_values=0, missing_values_pct=0.0, unique_values=123, unique_values_pct=0.5, most_frequent={2.0: 33, 3.0: 23, 4.0: 12, 2.5: 10, 5.0: 10}, statistics={'min': 1.0, 'max': 10.0, 'mean': 3.0, 'median': 2.9, 'std': 1.38, 'var': 1.91, 'skew': 1.47, 'kurt': 3.65, 'iqr': 1.56, 'cv': 0.46, 'lower_bound': -0.34, 'upper_bound': 5.91}, description=None), FieldSpec(field_name='sex', data_type='string', missing_values=0, missing_values_pct=0.0, unique_values=2, unique_values_pct=0.01, most_frequent={'Male': 157, 'Female': 87}, statistics={'mode': 'Male', 'avg_length': 4.71, 'min_length': 4, 'max_length': 6, 'empty_count': 0, 'whitespace_count': 0, 'pattern_consistency': 0.01}, description=None), FieldSpec(field_name='smoker', data_type='string', missing_values=0, missing_values_pct=0.0, unique_values=2, unique_values_pct=0.01, most_frequent={'No': 151, 'Yes': 93}, statistics={'mode': 'No', 'avg_length': 2.38, 'min_length': 2, 'max_length': 3, 'empty_count': 0, 'whitespace_count': 0, 'pattern_consistency': 0.01}, description=None), FieldSpec(field_name='day', data_type='string', missing_values=0, missing_values_pct=0.0, unique_values=4, unique_values_pct=0.02, most_frequent={'Sat': 87, 'Sun': 76, 'Thur': 62, 'Fri': 19}, statistics={'mode': 'Sat', 'avg_length': 3.25, 'min_length': 3, 'max_length': 4, 'empty_count': 0, 'whitespace_count': 0, 'pattern_consistency': 0.02}, description=None), FieldSpec(field_name='time', data_type='string', missing_values=0, missing_values_pct=0.0, unique_values=2, unique_values_pct=0.01, most_frequent={'Dinner': 176, 'Lunch': 68}, statistics={'mode': 'Dinner', 'avg_length': 5.72, 'min_length': 5, 'max_length': 6, 'empty_count': 0, 'whitespace_count': 0, 'pattern_consistency': 0.01}, description=None), FieldSpec(field_name='size', data_type='integer', missing_values=0, missing_values_pct=0.0, unique_values=6, unique_values_pct=0.02, most_frequent={2: 156, 3: 38, 4: 37, 5: 5, 6: 4}, statistics={'min': 1, 'max': 6, 'mean': 2.57, 'median': 2.0, 'std': 0.95, 'var': 0.9, 'skew': 1.45, 'kurt': 1.73, 'iqr': 1.0, 'cv': 0.37, 'lower_bound': 0.5, 'upper_bound': 4.5}, description=None)], field_descriptions=None)"
      ]
     },
     "execution_count": 9,
     "metadata": {},
     "output_type": "execute_result"
    }
   ],
   "source": [
    "metadata"
   ]
  },
  {
   "cell_type": "code",
   "execution_count": 10,
   "id": "9b6e1918",
   "metadata": {},
   "outputs": [],
   "source": [
    "descriptions = dict(\n",
    "    total_bill=\"the amount of paid bill of the meal\",\n",
    "    tip=\"the amount of tip that customers paid\",\n",
    "    sex=\"the gender of customers\",\n",
    "    smoker=\"it indicates that a customer is a smoker or not. if No means a customer is a non-smoker, Yes means a customer is a smoker.\",\n",
    "    day=\"this is a day of the week when a customer having a meal here. i.e. Mon, Tue, Wed, Thu, Fri, Sat, Sun\",\n",
    "    time=\"the time of the meal. it can be either Dinner or Lunch\",\n",
    "    size=\"the number of dishes that customers have\",\n",
    ")\n",
    "\n",
    "field_descriptions = [\n",
    "    FieldDescription(field_name=k, description=v) for k, v in descriptions.items()\n",
    "]\n",
    "\n",
    "metadata.add_field_descriptions(field_descriptions=FieldDescriptions(descriptions=field_descriptions))"
   ]
  },
  {
   "cell_type": "code",
   "execution_count": 11,
   "id": "d1a8a1f9",
   "metadata": {},
   "outputs": [
    {
     "data": {
      "text/plain": [
       "Metadata(table_name='tips', table_description='Restaurant tips dataset', table_spec=TableSpec(rows=244, columns=7, duplicates=1, evidences={0: {'total_bill': 13.0, 'tip': 2.0, 'sex': 'Female', 'smoker': 'Yes', 'day': 'Thur', 'time': 'Lunch', 'size': 2, 'dup_count': 2}}), field_spec=[FieldSpec(field_name='total_bill', data_type='float', missing_values=0, missing_values_pct=0.0, unique_values=229, unique_values_pct=0.94, most_frequent={13.42: 3, 15.98: 2, 20.29: 2, 10.33: 2, 7.25: 2}, statistics={'min': 3.07, 'max': 50.81, 'mean': 19.79, 'median': 17.8, 'std': 8.9, 'var': 79.25, 'skew': 1.13, 'kurt': 1.22, 'iqr': 10.78, 'cv': 0.45, 'lower_bound': -2.82, 'upper_bound': 40.3}, description='the amount of paid bill of the meal'), FieldSpec(field_name='tip', data_type='float', missing_values=0, missing_values_pct=0.0, unique_values=123, unique_values_pct=0.5, most_frequent={2.0: 33, 3.0: 23, 4.0: 12, 2.5: 10, 5.0: 10}, statistics={'min': 1.0, 'max': 10.0, 'mean': 3.0, 'median': 2.9, 'std': 1.38, 'var': 1.91, 'skew': 1.47, 'kurt': 3.65, 'iqr': 1.56, 'cv': 0.46, 'lower_bound': -0.34, 'upper_bound': 5.91}, description='the amount of tip that customers paid'), FieldSpec(field_name='sex', data_type='string', missing_values=0, missing_values_pct=0.0, unique_values=2, unique_values_pct=0.01, most_frequent={'Male': 157, 'Female': 87}, statistics={'mode': 'Male', 'avg_length': 4.71, 'min_length': 4, 'max_length': 6, 'empty_count': 0, 'whitespace_count': 0, 'pattern_consistency': 0.01}, description='the gender of customers'), FieldSpec(field_name='smoker', data_type='string', missing_values=0, missing_values_pct=0.0, unique_values=2, unique_values_pct=0.01, most_frequent={'No': 151, 'Yes': 93}, statistics={'mode': 'No', 'avg_length': 2.38, 'min_length': 2, 'max_length': 3, 'empty_count': 0, 'whitespace_count': 0, 'pattern_consistency': 0.01}, description='it indicates that a customer is a smoker or not. if No means a customer is a non-smoker, Yes means a customer is a smoker.'), FieldSpec(field_name='day', data_type='string', missing_values=0, missing_values_pct=0.0, unique_values=4, unique_values_pct=0.02, most_frequent={'Sat': 87, 'Sun': 76, 'Thur': 62, 'Fri': 19}, statistics={'mode': 'Sat', 'avg_length': 3.25, 'min_length': 3, 'max_length': 4, 'empty_count': 0, 'whitespace_count': 0, 'pattern_consistency': 0.02}, description='this is a day of the week when a customer having a meal here. i.e. Mon, Tue, Wed, Thu, Fri, Sat, Sun'), FieldSpec(field_name='time', data_type='string', missing_values=0, missing_values_pct=0.0, unique_values=2, unique_values_pct=0.01, most_frequent={'Dinner': 176, 'Lunch': 68}, statistics={'mode': 'Dinner', 'avg_length': 5.72, 'min_length': 5, 'max_length': 6, 'empty_count': 0, 'whitespace_count': 0, 'pattern_consistency': 0.01}, description='the time of the meal. it can be either Dinner or Lunch'), FieldSpec(field_name='size', data_type='integer', missing_values=0, missing_values_pct=0.0, unique_values=6, unique_values_pct=0.02, most_frequent={2: 156, 3: 38, 4: 37, 5: 5, 6: 4}, statistics={'min': 1, 'max': 6, 'mean': 2.57, 'median': 2.0, 'std': 0.95, 'var': 0.9, 'skew': 1.45, 'kurt': 1.73, 'iqr': 1.0, 'cv': 0.37, 'lower_bound': 0.5, 'upper_bound': 4.5}, description='the number of dishes that customers have')], field_descriptions=FieldDescriptions(descriptions=[FieldDescription(field_name='total_bill', description='the amount of paid bill of the meal'), FieldDescription(field_name='tip', description='the amount of tip that customers paid'), FieldDescription(field_name='sex', description='the gender of customers'), FieldDescription(field_name='smoker', description='it indicates that a customer is a smoker or not. if No means a customer is a non-smoker, Yes means a customer is a smoker.'), FieldDescription(field_name='day', description='this is a day of the week when a customer having a meal here. i.e. Mon, Tue, Wed, Thu, Fri, Sat, Sun'), FieldDescription(field_name='time', description='the time of the meal. it can be either Dinner or Lunch'), FieldDescription(field_name='size', description='the number of dishes that customers have')]))"
      ]
     },
     "execution_count": 11,
     "metadata": {},
     "output_type": "execute_result"
    }
   ],
   "source": [
    "metadata"
   ]
  },
  {
   "cell_type": "code",
   "execution_count": null,
   "id": "5bbffd68",
   "metadata": {},
   "outputs": [],
   "source": [
    "from broinsight.utils.data_spec import (\n",
    "    Metadata, TableSpec, create_field_specs_from_profile, \n",
    "    create_data_quality_assessment\n",
    ")\n",
    "\n",
    "# Get profiles\n",
    "tbl_prof = sql_table_profile(conn, \"tips\")\n",
    "field_prof = sql_field_profile(conn, \"tips\")\n",
    "\n",
    "# Create all specs\n",
    "table_spec = TableSpec(**tbl_prof)\n",
    "field_specs = create_field_specs_from_profile(field_prof)\n",
    "quality_assessment = create_data_quality_assessment(field_prof)\n",
    "\n",
    "# Create complete metadata\n",
    "metadata = Metadata(\n",
    "    table_name=\"tips\",\n",
    "    table_description=\"Restaurant tips dataset\",\n",
    "    table_spec=table_spec,\n",
    "    field_spec=field_specs,\n",
    "    data_quality=quality_assessment\n",
    ")\n"
   ]
  },
  {
   "cell_type": "code",
   "execution_count": 16,
   "id": "dc4b2a4a",
   "metadata": {},
   "outputs": [
    {
     "data": {
      "text/plain": [
       "DataQualityAssessment(field_assessments=[FieldQualityAssessment(field_name='total_bill', quality='good', issues=[QualityIssue(type='moderate_skewness', severity='minor', description='Moderately skewed distribution (skew: 1.13)')], issue_count=1), FieldQualityAssessment(field_name='tip', quality='good', issues=[QualityIssue(type='moderate_skewness', severity='minor', description='Moderately skewed distribution (skew: 1.47)')], issue_count=1), FieldQualityAssessment(field_name='sex', quality='good', issues=[], issue_count=0), FieldQualityAssessment(field_name='smoker', quality='good', issues=[], issue_count=0), FieldQualityAssessment(field_name='day', quality='good', issues=[], issue_count=0), FieldQualityAssessment(field_name='time', quality='good', issues=[], issue_count=0), FieldQualityAssessment(field_name='size', quality='good', issues=[QualityIssue(type='moderate_skewness', severity='minor', description='Moderately skewed distribution (skew: 1.45)')], issue_count=1)], overall_quality='good', total_issues=3, assessment_summary=None)"
      ]
     },
     "execution_count": 16,
     "metadata": {},
     "output_type": "execute_result"
    }
   ],
   "source": [
    "metadata.data_quality"
   ]
  },
  {
   "cell_type": "code",
   "execution_count": 8,
   "id": "068bfa31",
   "metadata": {},
   "outputs": [
    {
     "name": "stdout",
     "output_type": "stream",
     "text": [
      "DATA QUALITY CONTEXT:\n",
      "TABLE: tips\n",
      "DESCRIPTION: Restaurant tips dataset\n",
      "ROWS: 244, COLUMNS: 7\n",
      "\n",
      "OVERALL QUALITY: good\n",
      "TOTAL ISSUES: 3\n",
      "\n",
      "total_bill (good):\n",
      "  - minor: Moderately skewed distribution (skew: 1.13)\n",
      "\n",
      "tip (good):\n",
      "  - minor: Moderately skewed distribution (skew: 1.47)\n",
      "\n",
      "size (good):\n",
      "  - minor: Moderately skewed distribution (skew: 1.45)\n",
      "\n",
      "SQL CONTEXT:\n",
      "TABLE: tips\n",
      "total_bill: float (range: 3.07-50.81, avg: 19.79)\n",
      "tip: float (range: 1.0-10.0, avg: 3.0)\n",
      "sex: string (values: Male, Female)\n",
      "smoker: string (values: No, Yes)\n",
      "day: string (values: Sat, Sun, Thur)\n",
      "time: string (values: Dinner, Lunch)\n",
      "size: integer (range: 1-6, avg: 2.57)\n",
      "\n",
      "QUESTION CONTEXT:\n",
      "TABLE: tips - Restaurant tips dataset\n",
      "SIZE: 244 rows, 7 columns\n",
      "\n",
      "FIELDS:\n",
      "- total_bill (float) [min: 3.07, max: 50.81, avg: 19.79]\n",
      "- tip (float) [min: 1.0, max: 10.0, avg: 3.00]\n",
      "- sex (string) [2 unique values]\n",
      "- smoker (string) [2 unique values]\n",
      "- day (string) [4 unique values]\n",
      "- time (string) [2 unique values]\n",
      "- size (integer) [min: 1, max: 6, avg: 2.57]\n",
      "\n",
      "ANSWER CONTEXT:\n",
      "DATASET: tips - Restaurant tips dataset\n",
      "FIELDS: total_bill (float), tip (float), sex (string), smoker (string), day (string), time (string), size (integer)\n"
     ]
    }
   ],
   "source": [
    "# For data quality assessment\n",
    "dq_context = metadata.to_data_quality_context()\n",
    "print(\"DATA QUALITY CONTEXT:\")\n",
    "print(dq_context)\n",
    "\n",
    "# For SQL generation  \n",
    "sql_context = metadata.to_sql_context()\n",
    "print(\"\\nSQL CONTEXT:\")\n",
    "print(sql_context)\n",
    "\n",
    "# For suggested questions\n",
    "question_context = metadata.to_question_context()\n",
    "print(\"\\nQUESTION CONTEXT:\")\n",
    "print(question_context)\n",
    "\n",
    "# For answering based on results\n",
    "answer_context = metadata.to_answer_context()\n",
    "print(\"\\nANSWER CONTEXT:\")\n",
    "print(answer_context)\n"
   ]
  },
  {
   "cell_type": "code",
   "execution_count": 11,
   "id": "264ad266",
   "metadata": {},
   "outputs": [
    {
     "name": "stdout",
     "output_type": "stream",
     "text": [
      "=== 1. DATA QUALITY PROFILE ===\n",
      "# Dataset Overview\n",
      "**Size:** 244 rows × 7 columns\n",
      "**Duplicates:** 1 duplicate record(s) found\n",
      "\n",
      "# Fields\n",
      "## total_bill\n",
      "**Type:** float\n",
      "**Missing:** 0 (0.0%)\n",
      "**Unique:** 229 (94.0%)\n",
      "**Quality:** good\n",
      "**Issues:**\n",
      "  - Moderately skewed distribution (skew: 1.13) (minor)\n",
      "**Stats:** min=3.07, max=50.81, mean=19.79, skew=1.13\n",
      "\n",
      "## tip\n",
      "**Type:** float\n",
      "**Missing:** 0 (0.0%)\n",
      "**Unique:** 123 (50.0%)\n",
      "**Quality:** good\n",
      "**Issues:**\n",
      "  - Moderately skewed distribution (skew: 1.47) (minor)\n",
      "**Stats:** min=1.0, max=10.0, mean=3.0, skew=1.47\n",
      "\n",
      "## sex\n",
      "**Type:** string\n",
      "**Missing:** 0 (0.0%)\n",
      "**Unique:** 2 (1.0%)\n",
      "**Quality:** good\n",
      "**Stats:** mode=Male, avg_length=4.71\n",
      "\n",
      "## smoker\n",
      "**Type:** string\n",
      "**Missing:** 0 (0.0%)\n",
      "**Unique:** 2 (1.0%)\n",
      "**Quality:** good\n",
      "**Stats:** mode=No, avg_length=2.38\n",
      "\n",
      "## day\n",
      "**Type:** string\n",
      "**Missing:** 0 (0.0%)\n",
      "**Unique:** 4 (2.0%)\n",
      "**Quality:** good\n",
      "**Stats:** mode=Sat, avg_length=3.25\n",
      "\n",
      "## time\n",
      "**Type:** string\n",
      "**Missing:** 0 (0.0%)\n",
      "**Unique:** 2 (1.0%)\n",
      "**Quality:** good\n",
      "**Stats:** mode=Dinner, avg_length=5.72\n",
      "\n",
      "## size\n",
      "**Type:** integer\n",
      "**Missing:** 0 (0.0%)\n",
      "**Unique:** 6 (2.0%)\n",
      "**Quality:** good\n",
      "**Issues:**\n",
      "  - Moderately skewed distribution (skew: 1.45) (minor)\n",
      "**Stats:** min=1, max=6, mean=2.57, skew=1.45\n",
      "\n",
      "\n",
      "=== 2. SQL METADATA ===\n",
      "total_bill: {'data_type': 'float', 'missing_values': 0, 'missing_values_pct': 0.0, 'unique_values': 229, 'unique_values_pct': 0.94, 'most_frequent': {13.42: 3, 21.01: 2, 20.29: 2, 17.92: 2, 7.25: 2}, 'statistics': {'min': 3.07, 'max': 50.81, 'mean': 19.79, 'median': 17.8, 'std': 8.9, 'var': 79.25, 'skew': 1.13, 'kurt': 1.22, 'iqr': 10.78, 'cv': 0.45, 'lower_bound': -2.82, 'upper_bound': 40.3}}\n",
      "tip: {'data_type': 'float', 'missing_values': 0, 'missing_values_pct': 0.0, 'unique_values': 123, 'unique_values_pct': 0.5, 'most_frequent': {2.0: 33, 3.0: 23, 4.0: 12, 5.0: 10, 2.5: 10}, 'statistics': {'min': 1.0, 'max': 10.0, 'mean': 3.0, 'median': 2.9, 'std': 1.38, 'var': 1.91, 'skew': 1.47, 'kurt': 3.65, 'iqr': 1.56, 'cv': 0.46, 'lower_bound': -0.34, 'upper_bound': 5.91}}\n",
      "sex: {'data_type': 'string', 'missing_values': 0, 'missing_values_pct': 0.0, 'unique_values': 2, 'unique_values_pct': 0.01, 'most_frequent': {'Male': 157, 'Female': 87}, 'statistics': {'mode': 'Male', 'avg_length': 4.71, 'min_length': 4, 'max_length': 6, 'empty_count': 0, 'whitespace_count': 0, 'pattern_consistency': 0.01}}\n",
      "smoker: {'data_type': 'string', 'missing_values': 0, 'missing_values_pct': 0.0, 'unique_values': 2, 'unique_values_pct': 0.01, 'most_frequent': {'No': 151, 'Yes': 93}, 'statistics': {'mode': 'No', 'avg_length': 2.38, 'min_length': 2, 'max_length': 3, 'empty_count': 0, 'whitespace_count': 0, 'pattern_consistency': 0.01}}\n",
      "day: {'data_type': 'string', 'missing_values': 0, 'missing_values_pct': 0.0, 'unique_values': 4, 'unique_values_pct': 0.02, 'most_frequent': {'Sat': 87, 'Sun': 76, 'Thur': 62, 'Fri': 19}, 'statistics': {'mode': 'Sat', 'avg_length': 3.25, 'min_length': 3, 'max_length': 4, 'empty_count': 0, 'whitespace_count': 0, 'pattern_consistency': 0.02}}\n",
      "time: {'data_type': 'string', 'missing_values': 0, 'missing_values_pct': 0.0, 'unique_values': 2, 'unique_values_pct': 0.01, 'most_frequent': {'Dinner': 176, 'Lunch': 68}, 'statistics': {'mode': 'Dinner', 'avg_length': 5.72, 'min_length': 5, 'max_length': 6, 'empty_count': 0, 'whitespace_count': 0, 'pattern_consistency': 0.01}}\n",
      "size: {'data_type': 'integer', 'missing_values': 0, 'missing_values_pct': 0.0, 'unique_values': 6, 'unique_values_pct': 0.02, 'most_frequent': {2: 156, 3: 38, 4: 37, 5: 5, 6: 4}, 'statistics': {'min': 1, 'max': 6, 'mean': 2.57, 'median': 2.0, 'std': 0.95, 'var': 0.9, 'skew': 1.45, 'kurt': 1.73, 'iqr': 1.0, 'cv': 0.37, 'lower_bound': 0.5, 'upper_bound': 4.5}}\n",
      "\n",
      "=== 3. GUIDE METADATA ===\n",
      "total_bill: float (min: 3.07, max: 50.81, avg: 19.79)\n",
      "tip: float (min: 1.0, max: 10.0, avg: 3.0)\n",
      "sex: string (top values: Male, Female)\n",
      "smoker: string (top values: No, Yes)\n",
      "day: string (top values: Sat, Sun, Thur)\n",
      "time: string (top values: Dinner, Lunch)\n",
      "size: integer (min: 1, max: 6, avg: 2.57)\n",
      "\n",
      "=== 4. BROINSIGHT INPUT FORMATS ===\n",
      "DQ Assessment Input:\n",
      "PROFILE:\n",
      "\n",
      "# Dataset Overview\n",
      "**Size:** 244 rows × 7 columns\n",
      "**Duplicates:** 1 duplicate record(s) found\n",
      "\n",
      "# Fields\n",
      "## total_bill\n",
      "**Type:** float\n",
      "**Missing:** 0 (0.0%)\n",
      "**Unique:** 229 (94.0%)\n",
      "**Quality:...\n",
      "\n",
      "SQL Generation Input:\n",
      "METADATA:\n",
      "\n",
      "total_bill: {'data_type': 'float', 'missing_values': 0, 'missing_values_pct': 0.0, 'unique_values': 229, 'unique_values_pct': 0.94, 'most_frequent': {13.42: 3, 21.01: 2, 20.29: 2, 17.92: 2,...\n",
      "\n",
      "Question Suggestion Input:\n",
      "METADATA:\n",
      "total_bill: float (min: 3.07, max: 50.81, avg: 19.79)\n",
      "tip: float (min: 1.0, max: 10.0, avg: 3.0)\n",
      "sex: string (top values: Male, Female)\n",
      "smoker: string (top values: No, Yes)\n",
      "day: string (top ...\n"
     ]
    }
   ],
   "source": [
    "# Test complete metadata with quality assessment\n",
    "from broinsight.utils.data_spec import create_data_quality_assessment\n",
    "\n",
    "# Add quality assessment to metadata\n",
    "quality_assessment = create_data_quality_assessment(field_prof)\n",
    "metadata.add_data_quality_assessment(quality_assessment)\n",
    "\n",
    "# Test all formatters\n",
    "print(\"=== 1. DATA QUALITY PROFILE ===\")\n",
    "dq_profile = metadata.to_dq_profile()\n",
    "print(dq_profile)\n",
    "\n",
    "print(\"\\n=== 2. SQL METADATA ===\")\n",
    "sql_metadata = metadata.to_sql_metadata()\n",
    "print(sql_metadata)\n",
    "\n",
    "print(\"\\n=== 3. GUIDE METADATA ===\")\n",
    "guide_metadata = metadata.to_guide_metadata()\n",
    "print(guide_metadata)\n",
    "\n",
    "# Test how BroInsight would use these\n",
    "print(\"\\n=== 4. BROINSIGHT INPUT FORMATS ===\")\n",
    "\n",
    "# For data quality assessment\n",
    "print(\"DQ Assessment Input:\")\n",
    "dq_input = f\"PROFILE:\\n\\n{dq_profile}\\n\\nUSER_INPUT:\\n\\nWhat data quality issues should I be aware of?\\n\\n\"\n",
    "print(dq_input[:200] + \"...\")\n",
    "\n",
    "# For SQL generation\n",
    "print(\"\\nSQL Generation Input:\")\n",
    "sql_input = f\"METADATA:\\n\\n{sql_metadata}\\n\\nUSER_INPUT:\\n\\nWhat's the average tip amount?\"\n",
    "print(sql_input[:200] + \"...\")\n",
    "\n",
    "# For question suggestions\n",
    "print(\"\\nQuestion Suggestion Input:\")\n",
    "guide_input = f\"METADATA:\\n{guide_metadata}\\n\\nUSER_CONTEXT:\\nI'm a restaurant manager looking to understand tipping patterns\\n\\n\"\n",
    "print(guide_input[:200] + \"...\")\n"
   ]
  },
  {
   "cell_type": "code",
   "execution_count": 17,
   "id": "d238141b",
   "metadata": {},
   "outputs": [
    {
     "name": "stdout",
     "output_type": "stream",
     "text": [
      "The autoreload extension is already loaded. To reload it, use:\n",
      "  %reload_ext autoreload\n",
      "Registered tables: ['tips']\n",
      "✅ Profiling completed!\n",
      "Table name: tips\n",
      "Description: Restaurant tips dataset with customer information\n",
      "Rows: 244\n",
      "Columns: 7\n",
      "Overall quality: good\n",
      "Total issues: 3\n",
      "✅ Field descriptions added!\n",
      "total_bill: Total bill amount in dollars\n",
      "tip: Tip amount in dollars\n",
      "sex: Customer gender\n",
      "smoker: Whether customer smokes\n",
      "day: Day of the week\n",
      "time: Meal time (Lunch/Dinner)\n",
      "size: Party size\n",
      "Query result:\n",
      "    avg_tip   avg_bill\n",
      "0  2.998279  19.785943\n"
     ]
    }
   ],
   "source": [
    "# Cell 1: Setup\n",
    "%load_ext autoreload\n",
    "%autoreload 2\n",
    "\n",
    "import seaborn as sns\n",
    "import pandas as pd\n",
    "from broinsight.utils.data_catalog import DataCatalog\n",
    "from broinsight.utils.data_spec import FieldDescriptions, FieldDescription\n",
    "\n",
    "# Cell 2: Create DataCatalog and register data\n",
    "catalog = DataCatalog()\n",
    "\n",
    "# Register tips dataset\n",
    "tips_df = sns.load_dataset(\"tips\")\n",
    "catalog.register(\n",
    "    name=\"tips\", \n",
    "    source=tips_df, \n",
    "    table_description=\"Restaurant tips dataset with customer information\"\n",
    ")\n",
    "\n",
    "print(\"Registered tables:\", catalog.list_tables())\n",
    "\n",
    "# Cell 3: Profile the table\n",
    "catalog.profile_tables([\"tips\"])\n",
    "print(\"✅ Profiling completed!\")\n",
    "\n",
    "# Cell 4: Check the metadata object\n",
    "metadata = catalog._tables[\"tips\"][\"metadata\"]\n",
    "print(\"Table name:\", metadata.table_name)\n",
    "print(\"Description:\", metadata.table_description)\n",
    "print(\"Rows:\", metadata.table_spec.rows)\n",
    "print(\"Columns:\", metadata.table_spec.columns)\n",
    "print(\"Overall quality:\", metadata.data_quality.overall_quality)\n",
    "print(\"Total issues:\", metadata.data_quality.total_issues)\n",
    "\n",
    "# Cell 5: Add field descriptions\n",
    "field_descriptions = FieldDescriptions(descriptions=[\n",
    "    FieldDescription(field_name=\"total_bill\", description=\"Total bill amount in dollars\"),\n",
    "    FieldDescription(field_name=\"tip\", description=\"Tip amount in dollars\"),\n",
    "    FieldDescription(field_name=\"sex\", description=\"Customer gender\"),\n",
    "    FieldDescription(field_name=\"smoker\", description=\"Whether customer smokes\"),\n",
    "    FieldDescription(field_name=\"day\", description=\"Day of the week\"),\n",
    "    FieldDescription(field_name=\"time\", description=\"Meal time (Lunch/Dinner)\"),\n",
    "    FieldDescription(field_name=\"size\", description=\"Party size\")\n",
    "])\n",
    "\n",
    "catalog.add_field_descriptions(\"tips\", field_descriptions)\n",
    "print(\"✅ Field descriptions added!\")\n",
    "\n",
    "# Cell 6: Verify descriptions were added\n",
    "for field in metadata.field_spec:\n",
    "    print(f\"{field.field_name}: {field.description}\")\n",
    "\n",
    "# Cell 7: Test SQL query\n",
    "result = catalog.query(\"SELECT AVG(tip) as avg_tip, AVG(total_bill) as avg_bill FROM tips\")\n",
    "print(\"Query result:\")\n",
    "print(result)\n"
   ]
  },
  {
   "cell_type": "code",
   "execution_count": 20,
   "id": "d041f269",
   "metadata": {},
   "outputs": [
    {
     "data": {
      "text/plain": [
       "[FieldSpec(field_name='total_bill', data_type='float', missing_values=0, missing_values_pct=0.0, unique_values=229, unique_values_pct=0.94, most_frequent={13.42: 3, 15.98: 2, 17.92: 2, 13.0: 2, 13.81: 2}, statistics={'min': 3.07, 'max': 50.81, 'mean': 19.79, 'median': 17.8, 'std': 8.9, 'var': 79.25, 'skew': 1.13, 'kurt': 1.22, 'iqr': 10.78, 'cv': 0.45, 'lower_bound': -2.82, 'upper_bound': 40.3}, description='Total bill amount in dollars'),\n",
       " FieldSpec(field_name='tip', data_type='float', missing_values=0, missing_values_pct=0.0, unique_values=123, unique_values_pct=0.5, most_frequent={2.0: 33, 3.0: 23, 4.0: 12, 5.0: 10, 2.5: 10}, statistics={'min': 1.0, 'max': 10.0, 'mean': 3.0, 'median': 2.9, 'std': 1.38, 'var': 1.91, 'skew': 1.47, 'kurt': 3.65, 'iqr': 1.56, 'cv': 0.46, 'lower_bound': -0.34, 'upper_bound': 5.91}, description='Tip amount in dollars'),\n",
       " FieldSpec(field_name='sex', data_type='string', missing_values=0, missing_values_pct=0.0, unique_values=2, unique_values_pct=0.01, most_frequent={'Male': 157, 'Female': 87}, statistics={'mode': 'Male', 'avg_length': 4.71, 'min_length': 4, 'max_length': 6, 'empty_count': 0, 'whitespace_count': 0, 'pattern_consistency': 0.01}, description='Customer gender'),\n",
       " FieldSpec(field_name='smoker', data_type='string', missing_values=0, missing_values_pct=0.0, unique_values=2, unique_values_pct=0.01, most_frequent={'No': 151, 'Yes': 93}, statistics={'mode': 'No', 'avg_length': 2.38, 'min_length': 2, 'max_length': 3, 'empty_count': 0, 'whitespace_count': 0, 'pattern_consistency': 0.01}, description='Whether customer smokes'),\n",
       " FieldSpec(field_name='day', data_type='string', missing_values=0, missing_values_pct=0.0, unique_values=4, unique_values_pct=0.02, most_frequent={'Sat': 87, 'Sun': 76, 'Thur': 62, 'Fri': 19}, statistics={'mode': 'Sat', 'avg_length': 3.25, 'min_length': 3, 'max_length': 4, 'empty_count': 0, 'whitespace_count': 0, 'pattern_consistency': 0.02}, description='Day of the week'),\n",
       " FieldSpec(field_name='time', data_type='string', missing_values=0, missing_values_pct=0.0, unique_values=2, unique_values_pct=0.01, most_frequent={'Dinner': 176, 'Lunch': 68}, statistics={'mode': 'Dinner', 'avg_length': 5.72, 'min_length': 5, 'max_length': 6, 'empty_count': 0, 'whitespace_count': 0, 'pattern_consistency': 0.01}, description='Meal time (Lunch/Dinner)'),\n",
       " FieldSpec(field_name='size', data_type='integer', missing_values=0, missing_values_pct=0.0, unique_values=6, unique_values_pct=0.02, most_frequent={2: 156, 3: 38, 4: 37, 5: 5, 1: 4}, statistics={'min': 1, 'max': 6, 'mean': 2.57, 'median': 2.0, 'std': 0.95, 'var': 0.9, 'skew': 1.45, 'kurt': 1.73, 'iqr': 1.0, 'cv': 0.37, 'lower_bound': 0.5, 'upper_bound': 4.5}, description='Party size')]"
      ]
     },
     "execution_count": 20,
     "metadata": {},
     "output_type": "execute_result"
    }
   ],
   "source": [
    "catalog._tables['tips']['metadata'].field_spec"
   ]
  },
  {
   "cell_type": "code",
   "execution_count": 21,
   "id": "26c87176",
   "metadata": {},
   "outputs": [
    {
     "name": "stdout",
     "output_type": "stream",
     "text": [
      "DATASET: tips\n",
      "DESCRIPTION: information of customers' tips of each bill\n",
      "ROWS: 244\n",
      "COLUMNS: 7\n",
      "DUPLICATES: 1\n",
      "OVERALL QUALITY: GOOD\n",
      "TOTAL ISSUES: 3\n",
      "\n",
      "FIELD PROFILES:\n",
      "\n",
      "total_bill (float):\n",
      "  Missing: 0 (0.0%)\n",
      "  Unique: 229 (0.9%)\n",
      "\n",
      "tip (float):\n",
      "  Missing: 0 (0.0%)\n",
      "  Unique: 123 (0.5%)\n",
      "\n",
      "sex (string):\n",
      "  Missing: 0 (0.0%)\n",
      "  Unique: 2 (0.0%)\n",
      "\n",
      "smoker (string):\n",
      "  Missing: 0 (0.0%)\n",
      "  Unique: 2 (0.0%)\n",
      "\n",
      "day (string):\n",
      "  Missing: 0 (0.0%)\n",
      "  Unique: 4 (0.0%)\n",
      "\n",
      "time (string):\n",
      "  Missing: 0 (0.0%)\n",
      "  Unique: 2 (0.0%)\n",
      "\n",
      "size (integer):\n",
      "  Missing: 0 (0.0%)\n",
      "  Unique: 6 (0.0%)\n",
      "\n",
      "MINOR ISSUES:\n",
      "- total_bill: Moderately skewed distribution (skew: 1.13)\n",
      "- tip: Moderately skewed distribution (skew: 1.47)\n",
      "- size: Moderately skewed distribution (skew: 1.45)\n",
      "\n"
     ]
    }
   ],
   "source": [
    "catalog = DataCatalog()\n",
    "catalog.register(\"tips\", sns.load_dataset(\"tips\"), \"information of customers' tips of each bill\")\n",
    "catalog.profile_tables([\"tips\"])\n",
    "profile_text = catalog.to_dq_profile(\"tips\")\n",
    "print(profile_text)"
   ]
  },
  {
   "cell_type": "code",
   "execution_count": 28,
   "id": "76e2da1c",
   "metadata": {},
   "outputs": [
    {
     "name": "stdout",
     "output_type": "stream",
     "text": [
      "DATASET: tips\n",
      "DESCRIPTION: Restaurant tips dataset\n",
      "ROWS: 244\n",
      "COLUMNS: 7\n",
      "DUPLICATES: 1\n",
      "OVERALL QUALITY: GOOD\n",
      "TOTAL ISSUES: 3\n",
      "\n",
      "FIELD PROFILES:\n",
      "\n",
      "total_bill (float):\n",
      "  Missing: 0 (0.0%)\n",
      "  Unique: 229 (0.9%)\n",
      "  Description: Total bill amount in dollars\n",
      "\n",
      "tip (float):\n",
      "  Missing: 0 (0.0%)\n",
      "  Unique: 123 (0.5%)\n",
      "  Description: Tip amount in dollars\n",
      "\n",
      "sex (string):\n",
      "  Missing: 0 (0.0%)\n",
      "  Unique: 2 (0.0%)\n",
      "  Description: Customer gender\n",
      "\n",
      "smoker (string):\n",
      "  Missing: 0 (0.0%)\n",
      "  Unique: 2 (0.0%)\n",
      "  Description: Whether customer smokes\n",
      "\n",
      "day (string):\n",
      "  Missing: 0 (0.0%)\n",
      "  Unique: 4 (0.0%)\n",
      "  Description: Day of the week\n",
      "\n",
      "time (string):\n",
      "  Missing: 0 (0.0%)\n",
      "  Unique: 2 (0.0%)\n",
      "  Description: Meal time (Lunch/Dinner)\n",
      "\n",
      "size (integer):\n",
      "  Missing: 0 (0.0%)\n",
      "  Unique: 6 (0.0%)\n",
      "  Description: Party size\n",
      "\n",
      "MINOR ISSUES:\n",
      "- total_bill: Moderately skewed distribution (skew: 1.13)\n",
      "- tip: Moderately skewed distribution (skew: 1.47)\n",
      "- size: Moderately skewed distribution (skew: 1.45)\n",
      "\n"
     ]
    }
   ],
   "source": [
    "# Test DataCatalog workflow\n",
    "from broinsight.utils.data_catalog import DataCatalog\n",
    "import seaborn as sns\n",
    "\n",
    "field_descriptions = FieldDescriptions(descriptions=[\n",
    "    FieldDescription(field_name=\"total_bill\", description=\"Total bill amount in dollars\"),\n",
    "    FieldDescription(field_name=\"tip\", description=\"Tip amount in dollars\"),\n",
    "    FieldDescription(field_name=\"sex\", description=\"Customer gender\"),\n",
    "    FieldDescription(field_name=\"smoker\", description=\"Whether customer smokes\"),\n",
    "    FieldDescription(field_name=\"day\", description=\"Day of the week\"),\n",
    "    FieldDescription(field_name=\"time\", description=\"Meal time (Lunch/Dinner)\"),\n",
    "    FieldDescription(field_name=\"size\", description=\"Party size\")\n",
    "])\n",
    "\n",
    "# Create catalog and register data\n",
    "catalog = DataCatalog()\n",
    "catalog.register(\"tips\", sns.load_dataset(\"tips\"), \"Restaurant tips dataset\")\n",
    "\n",
    "# Profile the table\n",
    "catalog.profile_tables([\"tips\"])\n",
    "\n",
    "# Add field descriptions\n",
    "catalog.add_field_descriptions(\"tips\", field_descriptions)\n",
    "\n",
    "# Generate DQ profile\n",
    "profile_text = catalog.to_dq_profile(\"tips\")\n",
    "print(profile_text)\n"
   ]
  },
  {
   "cell_type": "code",
   "execution_count": 23,
   "id": "410510ca",
   "metadata": {},
   "outputs": [
    {
     "data": {
      "text/plain": [
       "{'content': \"**Data Quality Assessment: READY**  \\nThe dataset has no missing values, only one duplicate row, and an overall “GOOD” quality rating. The only notable issue is moderate skewness in three numeric fields.\\n\\n---\\n\\n### Minor Issues & Impact\\n| Field | Skewness | Impact on ML |\\n|-------|----------|--------------|\\n| total_bill | 1.13 | Skewed features can bias algorithms that assume normality (e.g., linear regression, Gaussian Naïve Bayes) and may reduce predictive performance. |\\n| tip | 1.47 | As the target variable, skewness can lead to high variance predictions; log‑transforming the target often improves model fit. |\\n| size | 1.45 | Skewness in party size can affect tree‑based models less, but still useful to transform for consistency across algorithms. |\\n\\n---\\n\\n### Recommended Actions (Prioritized)\\n\\n1. **Remove the Duplicate Row**  \\n   - *Why*: Even one duplicate can slightly distort feature distributions and model evaluation.  \\n   - *How*: `df.drop_duplicates(inplace=True)`.\\n\\n2. **Transform Skewed Numerical Features**  \\n   - **Log‑1‑Plus** (`log1p`) or **Box‑Cox** transformation for `total_bill`, `tip`, and `size`.  \\n   - Example:  \\n     ```python\\n     df['total_bill_log'] = np.log1p(df['total_bill'])\\n     df['tip_log'] = np.log1p(df['tip'])\\n     df['size_log'] = np.log1p(df['size'])\\n     ```  \\n   - *Tip*: Keep the original columns for interpretability, but use transformed versions for modeling.\\n\\n3. **Encode Categorical Variables**  \\n   - One‑hot encode `sex`, `smoker`, `day`, and `time`.  \\n   - Example: `pd.get_dummies(df, columns=['sex','smoker','day','time'], drop_first=True)`.  \\n   - *Why*: Most ML algorithms (except tree‑based) require numeric input.\\n\\n4. **Scale/Normalize Features**  \\n   - Standardize transformed numeric columns (`StandardScaler` or `RobustScaler` if you prefer median‑based scaling).  \\n   - Helpful for distance‑based models (k‑NN, SVM) and regularized regression.\\n\\n5. **Check for Outliers**  \\n   - Even with moderate skewness, a quick visual inspection (boxplots) can reveal extreme values that might still affect models.  \\n   - If found, consider winsorizing or capping.\\n\\n6. **Feature Engineering (Optional)**  \\n   - Create interaction terms such as `total_bill_log * size_log` if you suspect tipping behavior depends on party size.  \\n   - Derive a `tip_percent = tip / total_bill` to capture tipping rate.\\n\\n---\\n\\n### Next Steps\\n\\n1. **Data Cleaning**  \\n   - Drop duplicate, transform/skewed fields, encode categoricals, and scale.  \\n\\n2. **Modeling Pipeline**  \\n   - Build a pipeline (`Pipeline` in scikit‑learn) that applies the above preprocessing steps automatically before fitting any estimator.  \\n\\n3. **Model Selection**  \\n   - Start with simple models (Linear Regression, Decision Tree, Random Forest) and evaluate with cross‑validation.  \\n   - If using `tip` as target, consider log‑transformed target and exponentiate predictions back for interpretation.\\n\\n4. **Evaluation**  \\n   - Use metrics appropriate for regression (RMSE, MAE) and, if classification (e.g., high vs. low tip), classification metrics (accuracy, ROC‑AUC).\\n\\n---\\n\\n**Overall Recommendation:**  \\nThe dataset is ready for machine learning after applying the suggested transformations and encodings. These steps will mitigate skewness effects, ensure all features are numeric, and improve model robustness. Proceed with building your modeling pipeline, and revisit any steps if you notice persistent performance issues.\",\n",
       " 'model_name': 'gpt-oss:latest',\n",
       " 'input_token': 0,\n",
       " 'output_token': 0}"
      ]
     },
     "execution_count": 23,
     "metadata": {},
     "output_type": "execute_result"
    }
   ],
   "source": [
    "from broinsight.experiment.ollama import LocalOpenAI\n",
    "from broprompt import Prompt\n",
    "\n",
    "model = LocalOpenAI()\n",
    "\n",
    "prompt = Prompt.from_markdown(\"broinsight/prompt_hub/dq_suggestion.md\")\n",
    "# question = \"Do we have any concern about this one?\"\n",
    "question = \"Any data transformation needed for machine learning project here?\"\n",
    "user_input = \"PROFILE:\\n\\n{profile}\\n\\nUSER_INPUT:\\n\\n{question}\\n\\n\".format(profile=profile_text, question=question)\n",
    "response = model.run(system_prompt=prompt.str, messages=[\n",
    "    model.UserMessage(text=user_input)\n",
    "])\n",
    "response"
   ]
  },
  {
   "cell_type": "code",
   "execution_count": 24,
   "id": "48d877e9",
   "metadata": {},
   "outputs": [
    {
     "name": "stdout",
     "output_type": "stream",
     "text": [
      "**Data Quality Assessment: READY**  \n",
      "The dataset has no missing values, only one duplicate row, and an overall “GOOD” quality rating. The only notable issue is moderate skewness in three numeric fields.\n",
      "\n",
      "---\n",
      "\n",
      "### Minor Issues & Impact\n",
      "| Field | Skewness | Impact on ML |\n",
      "|-------|----------|--------------|\n",
      "| total_bill | 1.13 | Skewed features can bias algorithms that assume normality (e.g., linear regression, Gaussian Naïve Bayes) and may reduce predictive performance. |\n",
      "| tip | 1.47 | As the target variable, skewness can lead to high variance predictions; log‑transforming the target often improves model fit. |\n",
      "| size | 1.45 | Skewness in party size can affect tree‑based models less, but still useful to transform for consistency across algorithms. |\n",
      "\n",
      "---\n",
      "\n",
      "### Recommended Actions (Prioritized)\n",
      "\n",
      "1. **Remove the Duplicate Row**  \n",
      "   - *Why*: Even one duplicate can slightly distort feature distributions and model evaluation.  \n",
      "   - *How*: `df.drop_duplicates(inplace=True)`.\n",
      "\n",
      "2. **Transform Skewed Numerical Features**  \n",
      "   - **Log‑1‑Plus** (`log1p`) or **Box‑Cox** transformation for `total_bill`, `tip`, and `size`.  \n",
      "   - Example:  \n",
      "     ```python\n",
      "     df['total_bill_log'] = np.log1p(df['total_bill'])\n",
      "     df['tip_log'] = np.log1p(df['tip'])\n",
      "     df['size_log'] = np.log1p(df['size'])\n",
      "     ```  \n",
      "   - *Tip*: Keep the original columns for interpretability, but use transformed versions for modeling.\n",
      "\n",
      "3. **Encode Categorical Variables**  \n",
      "   - One‑hot encode `sex`, `smoker`, `day`, and `time`.  \n",
      "   - Example: `pd.get_dummies(df, columns=['sex','smoker','day','time'], drop_first=True)`.  \n",
      "   - *Why*: Most ML algorithms (except tree‑based) require numeric input.\n",
      "\n",
      "4. **Scale/Normalize Features**  \n",
      "   - Standardize transformed numeric columns (`StandardScaler` or `RobustScaler` if you prefer median‑based scaling).  \n",
      "   - Helpful for distance‑based models (k‑NN, SVM) and regularized regression.\n",
      "\n",
      "5. **Check for Outliers**  \n",
      "   - Even with moderate skewness, a quick visual inspection (boxplots) can reveal extreme values that might still affect models.  \n",
      "   - If found, consider winsorizing or capping.\n",
      "\n",
      "6. **Feature Engineering (Optional)**  \n",
      "   - Create interaction terms such as `total_bill_log * size_log` if you suspect tipping behavior depends on party size.  \n",
      "   - Derive a `tip_percent = tip / total_bill` to capture tipping rate.\n",
      "\n",
      "---\n",
      "\n",
      "### Next Steps\n",
      "\n",
      "1. **Data Cleaning**  \n",
      "   - Drop duplicate, transform/skewed fields, encode categoricals, and scale.  \n",
      "\n",
      "2. **Modeling Pipeline**  \n",
      "   - Build a pipeline (`Pipeline` in scikit‑learn) that applies the above preprocessing steps automatically before fitting any estimator.  \n",
      "\n",
      "3. **Model Selection**  \n",
      "   - Start with simple models (Linear Regression, Decision Tree, Random Forest) and evaluate with cross‑validation.  \n",
      "   - If using `tip` as target, consider log‑transformed target and exponentiate predictions back for interpretation.\n",
      "\n",
      "4. **Evaluation**  \n",
      "   - Use metrics appropriate for regression (RMSE, MAE) and, if classification (e.g., high vs. low tip), classification metrics (accuracy, ROC‑AUC).\n",
      "\n",
      "---\n",
      "\n",
      "**Overall Recommendation:**  \n",
      "The dataset is ready for machine learning after applying the suggested transformations and encodings. These steps will mitigate skewness effects, ensure all features are numeric, and improve model robustness. Proceed with building your modeling pipeline, and revisit any steps if you notice persistent performance issues.\n"
     ]
    }
   ],
   "source": [
    "print(response['content'])"
   ]
  },
  {
   "cell_type": "code",
   "execution_count": null,
   "id": "fad49e6c",
   "metadata": {},
   "outputs": [
    {
     "data": {
      "text/plain": [
       "{'content': \"Based on your role and goals, here are some areas you might want to explore:\\n\\n**Customer demographics and preferences**\\n- What is the average tip amount for Male versus Female customers (tip where sex = 'Male' vs sex = 'Female')?\\n- Do smokers tip more on average than non-smokers (average tip where smoker = 'Yes' versus smoker = 'No')?\\n\\n**Timing of visits**\\n- Which day of the week has the highest average total bill (average total_bill where day = 'Sat', 'Sun', or 'Thur')?\\n- Is there a difference in average tip percentage between Lunch and Dinner (average tip/total_bill where time = 'Lunch' versus time = 'Dinner')?\\n\\n**Group size and spending**\\n- How does the average total bill change with party size (average total_bill where size = 1, 2, 3, etc.)?\\n- What is the average tip per person for different party sizes (average tip/size where size = 1, 2, 3, etc.)?\\n\\n**Promotion targeting**\\n- Which combination of day and time yields the highest average total bill (average total_bill where day = 'Sat' and time = 'Dinner', etc.)?\\n- Are there specific days where the tip percentage is lower, indicating a potential opportunity for a discount or promotion (average tip/total_bill where day = 'Thur', etc.)?\\n\\nJust ask me any of these questions and I'll analyze your data to get the answers!\",\n",
       " 'model_name': 'gpt-oss:latest',\n",
       " 'input_token': 0,\n",
       " 'output_token': 0}"
      ]
     },
     "execution_count": 26,
     "metadata": {},
     "output_type": "execute_result"
    }
   ],
   "source": [
    "metadata_text = catalog.to_guide_metadata([\"tips\"])\n",
    "\n",
    "prompt = Prompt.from_markdown(\"broinsight/prompt_hub/guide_question.md\")\n",
    "\n",
    "# question = \"Do we have any concern about this one?\"\n",
    "# question = \"Any data transformation needed for machine learning project here?\"]\n",
    "question = \"I'm a new manager and I wanna make a new promotion for the shop. What should I do?\"\n",
    "user_input = \"METADATA:\\n\\n{context}\\n\\nUSER_INPUT:\\n\\n{question}\\n\\n\".format(context=metadata_text, question=question)\n",
    "response = model.run(system_prompt=prompt.str, messages=[\n",
    "    model.UserMessage(text=user_input)\n",
    "])\n",
    "response"
   ]
  },
  {
   "cell_type": "code",
   "execution_count": 27,
   "id": "abd1e92e",
   "metadata": {},
   "outputs": [
    {
     "name": "stdout",
     "output_type": "stream",
     "text": [
      "Based on your role and goals, here are some areas you might want to explore:\n",
      "\n",
      "**Customer demographics and preferences**\n",
      "- What is the average tip amount for Male versus Female customers (tip where sex = 'Male' vs sex = 'Female')?\n",
      "- Do smokers tip more on average than non-smokers (average tip where smoker = 'Yes' versus smoker = 'No')?\n",
      "\n",
      "**Timing of visits**\n",
      "- Which day of the week has the highest average total bill (average total_bill where day = 'Sat', 'Sun', or 'Thur')?\n",
      "- Is there a difference in average tip percentage between Lunch and Dinner (average tip/total_bill where time = 'Lunch' versus time = 'Dinner')?\n",
      "\n",
      "**Group size and spending**\n",
      "- How does the average total bill change with party size (average total_bill where size = 1, 2, 3, etc.)?\n",
      "- What is the average tip per person for different party sizes (average tip/size where size = 1, 2, 3, etc.)?\n",
      "\n",
      "**Promotion targeting**\n",
      "- Which combination of day and time yields the highest average total bill (average total_bill where day = 'Sat' and time = 'Dinner', etc.)?\n",
      "- Are there specific days where the tip percentage is lower, indicating a potential opportunity for a discount or promotion (average tip/total_bill where day = 'Thur', etc.)?\n",
      "\n",
      "Just ask me any of these questions and I'll analyze your data to get the answers!\n"
     ]
    }
   ],
   "source": [
    "print(response[\"content\"])"
   ]
  },
  {
   "cell_type": "code",
   "execution_count": 31,
   "id": "b6b9b619",
   "metadata": {},
   "outputs": [
    {
     "data": {
      "text/plain": [
       "{'content': \"```sql\\nSELECT\\n    day,\\n    AVG(total_bill) AS avg_total_bill\\nFROM\\n    tips\\nWHERE\\n    day IN ('Sat', 'Sun', 'Thur')\\nGROUP BY\\n    day\\nORDER BY\\n    avg_total_bill DESC\\nLIMIT 1;\\n```\",\n",
       " 'model_name': 'gpt-oss:latest',\n",
       " 'input_token': 0,\n",
       " 'output_token': 0}"
      ]
     },
     "execution_count": 31,
     "metadata": {},
     "output_type": "execute_result"
    }
   ],
   "source": [
    "metadata_text = catalog.to_sql_metadata([\"tips\"])\n",
    "\n",
    "prompt = Prompt.from_markdown(\"broinsight/prompt_hub/generate_sql.md\")\n",
    "\n",
    "# question = \"Do we have any concern about this one?\"\n",
    "# question = \"Any data transformation needed for machine learning project here?\"]\n",
    "# question = \"I'm a new manager and I wanna make a new promotion for the shop. What should I do?\"\n",
    "question = \"Which day of the week has the highest average total bill (average total_bill where day = 'Sat', 'Sun', or 'Thur')?\"\n",
    "user_input = \"METADATA:\\n\\n{context}\\n\\nUSER_INPUT:\\n\\n{question}\\n\\n\".format(context=metadata_text, question=question)\n",
    "response = model.run(system_prompt=prompt.str, messages=[\n",
    "    model.UserMessage(text=user_input)\n",
    "])\n",
    "response"
   ]
  },
  {
   "cell_type": "code",
   "execution_count": 33,
   "id": "85a9b804",
   "metadata": {},
   "outputs": [
    {
     "name": "stdout",
     "output_type": "stream",
     "text": [
      "\n",
      "SELECT\n",
      "    day,\n",
      "    AVG(total_bill) AS avg_total_bill\n",
      "FROM\n",
      "    tips\n",
      "WHERE\n",
      "    day IN ('Sat', 'Sun', 'Thur')\n",
      "GROUP BY\n",
      "    day\n",
      "ORDER BY\n",
      "    avg_total_bill DESC\n",
      "LIMIT 1;\n",
      "\n"
     ]
    }
   ],
   "source": [
    "sql_query = response['content'].split(\"```sql\")[-1].split(\"```\")[0]\n",
    "print(sql_query)"
   ]
  },
  {
   "cell_type": "code",
   "execution_count": 34,
   "id": "6a796aba",
   "metadata": {},
   "outputs": [
    {
     "data": {
      "text/html": [
       "<div>\n",
       "<style scoped>\n",
       "    .dataframe tbody tr th:only-of-type {\n",
       "        vertical-align: middle;\n",
       "    }\n",
       "\n",
       "    .dataframe tbody tr th {\n",
       "        vertical-align: top;\n",
       "    }\n",
       "\n",
       "    .dataframe thead th {\n",
       "        text-align: right;\n",
       "    }\n",
       "</style>\n",
       "<table border=\"1\" class=\"dataframe\">\n",
       "  <thead>\n",
       "    <tr style=\"text-align: right;\">\n",
       "      <th></th>\n",
       "      <th>day</th>\n",
       "      <th>avg_total_bill</th>\n",
       "    </tr>\n",
       "  </thead>\n",
       "  <tbody>\n",
       "    <tr>\n",
       "      <th>0</th>\n",
       "      <td>Sun</td>\n",
       "      <td>21.41</td>\n",
       "    </tr>\n",
       "  </tbody>\n",
       "</table>\n",
       "</div>"
      ],
      "text/plain": [
       "   day  avg_total_bill\n",
       "0  Sun           21.41"
      ]
     },
     "execution_count": 34,
     "metadata": {},
     "output_type": "execute_result"
    }
   ],
   "source": [
    "catalog.query(sql_query)"
   ]
  },
  {
   "cell_type": "code",
   "execution_count": null,
   "id": "bb46ac79",
   "metadata": {},
   "outputs": [],
   "source": [
    "class BroInsight:\n",
    "    def __init__(self, llm): pass\n",
    "    def assess_data_quality(self, context, message): pass\n",
    "    def suggest_questions(self, context, message): pass\n",
    "    def generate_sql(self, context, message): pass\n",
    "    def create_chart(self, context, message): pass\n",
    "    def ask_data(self, context, message): pass"
   ]
  },
  {
   "cell_type": "code",
   "execution_count": 35,
   "id": "d8624182",
   "metadata": {},
   "outputs": [
    {
     "data": {
      "text/plain": [
       "<broinsight.utils.data_catalog.DataCatalog at 0x116f8c260>"
      ]
     },
     "execution_count": 35,
     "metadata": {},
     "output_type": "execute_result"
    }
   ],
   "source": [
    "catalog"
   ]
  },
  {
   "cell_type": "markdown",
   "id": "4b955e76",
   "metadata": {},
   "source": [
    "# Test with AWS Bedrock"
   ]
  },
  {
   "cell_type": "code",
   "execution_count": 167,
   "id": "edbefa70",
   "metadata": {},
   "outputs": [],
   "source": [
    "from broinsight.experiment.bedrock import AWSConfig, BedrockOpenAI\n",
    "from broinsight.broinsight import BroInsight\n",
    "import boto3\n",
    "\n",
    "from broinsight.utils.data_catalog import DataCatalog\n",
    "import seaborn as sns\n",
    "\n",
    "field_descriptions = FieldDescriptions(descriptions=[\n",
    "    FieldDescription(field_name=\"total_bill\", description=\"Total bill amount in dollars\"),\n",
    "    FieldDescription(field_name=\"tip\", description=\"Tip amount in dollars\"),\n",
    "    FieldDescription(field_name=\"sex\", description=\"Customer gender\"),\n",
    "    FieldDescription(field_name=\"smoker\", description=\"Whether customer smokes\"),\n",
    "    FieldDescription(field_name=\"day\", description=\"Day of the week\"),\n",
    "    FieldDescription(field_name=\"time\", description=\"Meal time (Lunch/Dinner)\"),\n",
    "    FieldDescription(field_name=\"size\", description=\"Party size\")\n",
    "])\n",
    "\n",
    "# Create catalog and register data\n",
    "catalog = DataCatalog()\n",
    "catalog.register(\"tips\", sns.load_dataset(\"tips\"), \"Restaurant tips dataset\")\n",
    "\n",
    "# Profile the table\n",
    "catalog.profile_tables([\"tips\"])\n",
    "\n",
    "# Add field descriptions\n",
    "catalog.add_field_descriptions(\"tips\", field_descriptions)\n",
    "\n",
    "session = boto3.Session()\n",
    "credentials = session.get_credentials()\n",
    "\n",
    "aws_configs = AWSConfig(\n",
    "    aws_access_key_id=credentials.access_key,\n",
    "    aws_secret_access_key=credentials.secret_key,\n",
    "    aws_session_token=credentials.token or None,\n",
    "    region_name='us-west-2'\n",
    ")\n",
    "\n",
    "model_id=\"openai.gpt-oss-20b-1:0\"\n",
    "bedrock = BedrockOpenAI(\n",
    "    model_id=model_id,\n",
    "    aws_configs=aws_configs\n",
    ")\n",
    "\n"
   ]
  },
  {
   "cell_type": "code",
   "execution_count": 168,
   "id": "057ae28b",
   "metadata": {},
   "outputs": [
    {
     "data": {
      "text/plain": [
       "{'content': 'Hello! How can I help you today?',\n",
       " 'model': 'openai.gpt-oss-20b-1:0',\n",
       " 'processed': 1.4361209869384766,\n",
       " 'tokens': {'input': 75, 'output': 60}}"
      ]
     },
     "execution_count": 168,
     "metadata": {},
     "output_type": "execute_result"
    }
   ],
   "source": [
    "bedrock.run(\"assistant\", [bedrock.UserMessage(\"hi\")])"
   ]
  },
  {
   "cell_type": "code",
   "execution_count": 169,
   "id": "fe8d3750",
   "metadata": {},
   "outputs": [],
   "source": [
    "from broinsight.broinsight import BroInsight\n",
    "\n",
    "# broinsight = BroInsight(model=LocalOpenAI())\n",
    "broinsight = BroInsight(model=bedrock)"
   ]
  },
  {
   "cell_type": "code",
   "execution_count": 170,
   "id": "008af445",
   "metadata": {},
   "outputs": [
    {
     "name": "stdout",
     "output_type": "stream",
     "text": [
      "**Data Quality Assessment:** READY  \n",
      "**Overall Quality:** Good – the dataset is clean, with no missing values, only one duplicate row, and all fields fully populated.  \n",
      "\n",
      "**Critical Issues Found:** None.  \n",
      "\n",
      "**Recommended Actions (minor‑issue level):**  \n",
      "1. **Skewed numeric fields** – `total_bill`, `tip`, and `size` all show moderate right‑skew (skew ≈ 1.1–1.5).  \n",
      "   - *If you plan to use mean‑based statistics or linear models, consider a log or square‑root transform to reduce skewness.*  \n",
      "   - *Alternatively, use median‑based summaries or non‑parametric tests that are robust to skew.*  \n",
      "2. **Duplicate row** – only one duplicate exists.  \n",
      "   - *Remove it if you want a strictly unique set of observations, though it’s unlikely to bias most analyses.*  \n",
      "\n",
      "**Next Steps:**  \n",
      "- Proceed with your analysis.  \n",
      "- Keep the skewness in mind when interpreting mean‑based results or fitting models that assume normality.  \n",
      "- If you encounter issues with model convergence or residual diagnostics, revisit the transformations above.  \n",
      "\n",
      "**Overall Recommendation:** The dataset is ready for analysis; the only considerations are the moderate skewness of a few numeric fields, which can be addressed with simple transformations or robust statistical techniques.\n"
     ]
    }
   ],
   "source": [
    "response = broinsight.assess_data_quality(\n",
    "    context=catalog.to_dq_profile(\"tips\"),\n",
    "    message=\"Do we have any concern about this one?\"\n",
    ")\n",
    "print(response['content'])"
   ]
  },
  {
   "cell_type": "code",
   "execution_count": 171,
   "id": "79dee02b",
   "metadata": {},
   "outputs": [
    {
     "name": "stdout",
     "output_type": "stream",
     "text": [
      "Based on your role and goals, here are some areas you might want to explore:\n",
      "\n",
      "Customer Spending Patterns  \n",
      "- What is the average total_bill for each day of the week (day)?  \n",
      "- How does the average tip vary between Lunch and Dinner (time)?  \n",
      "\n",
      "Party Size and Revenue  \n",
      "- What is the average total_bill for each party size (size)?  \n",
      "- How many customers are in parties of 4 or more, and what is their average tip?  \n",
      "\n",
      "Customer Demographics and Tipping  \n",
      "- What is the average tip for Male versus Female customers (sex)?  \n",
      "- How does tip amount differ between smokers and non-smokers (smoker)?  \n",
      "\n",
      "Peak Hours and Promotion Timing  \n",
      "- Which day and time combination has the highest average total_bill?  \n",
      "- What is the average party size during the busiest time slots?  \n",
      "\n",
      "Just ask me any of these questions and I'll analyze your data to get the answers!\n"
     ]
    }
   ],
   "source": [
    "response = broinsight.suggest_questions(\n",
    "    context=catalog.to_guide_metadata(\"tips\"),\n",
    "    message=\"I'm a new manager and I wanna make a promotion for the shop but I don't know how to start.\"\n",
    ")\n",
    "print(response['content'])"
   ]
  },
  {
   "cell_type": "code",
   "execution_count": 172,
   "id": "3aa544a1",
   "metadata": {},
   "outputs": [
    {
     "name": "stdout",
     "output_type": "stream",
     "text": [
      "```sql\n",
      "SELECT\n",
      "    day,\n",
      "    AVG(total_bill) AS avg_total_bill\n",
      "FROM\n",
      "    tips\n",
      "GROUP BY\n",
      "    day\n",
      "ORDER BY\n",
      "    day;\n",
      "```\n"
     ]
    }
   ],
   "source": [
    "question = \"What is the average total_bill for each day of the week?\"\n",
    "response = broinsight.generate_sql(\n",
    "    context=catalog.to_sql_metadata(\"tips\"),\n",
    "    message=question\n",
    ")\n",
    "print(response['content'])"
   ]
  },
  {
   "cell_type": "code",
   "execution_count": 173,
   "id": "542a52ef",
   "metadata": {},
   "outputs": [],
   "source": [
    "sql_query = response['content'].split(\"```sql\")[-1].split(\"```\")[0]\n",
    "result = catalog.query(sql_query)"
   ]
  },
  {
   "cell_type": "code",
   "execution_count": 174,
   "id": "0855361b",
   "metadata": {},
   "outputs": [
    {
     "name": "stdout",
     "output_type": "stream",
     "text": [
      "Here’s the average total bill broken down by day of the week:\n",
      "\n",
      "- **Thursday:** $17.68  \n",
      "- **Friday:** $17.15  \n",
      "- **Saturday:** $20.44  \n",
      "- **Sunday:** $21.41  \n",
      "\n",
      "**What this tells us**\n",
      "\n",
      "- **Weekend lift:** Saturday and Sunday are noticeably higher than the weekdays, with Sunday topping the chart. This suggests that customers tend to spend more when they’re off work, especially on Sunday.\n",
      "- **Thursday‑Friday dip:** The averages for Thursday and Friday are fairly close and lower than the weekend figures, indicating a modest drop in spending as the week progresses toward the weekend.\n",
      "\n",
      "**Practical next steps**\n",
      "\n",
      "1. **Targeted promotions:** Consider running special offers or happy‑hour deals on Thursday and Friday to boost spending and bring those days closer to the weekend average.\n",
      "2. **Staffing & inventory:** Since Saturday and Sunday see the highest spend, ensure you have enough staff and inventory to handle the increased demand.\n",
      "3. **Further analysis:** Look at the distribution of bills (e.g., variance, peak times) for each day to see if there are specific periods that drive the higher averages on the weekend.\n",
      "\n",
      "Let me know if you’d like to dig deeper into any of these points or explore other metrics!\n"
     ]
    }
   ],
   "source": [
    "response = broinsight.ask_data(\n",
    "    context=result.to_string(),\n",
    "    message=question\n",
    ")\n",
    "print(response['content'])"
   ]
  },
  {
   "cell_type": "code",
   "execution_count": 175,
   "id": "c4037696",
   "metadata": {},
   "outputs": [],
   "source": [
    "response = broinsight.create_chart(\n",
    "    query_result=result,\n",
    "    message=question\n",
    ")\n",
    "# print(response['fig'])"
   ]
  },
  {
   "cell_type": "code",
   "execution_count": 176,
   "id": "73ee8dd2",
   "metadata": {},
   "outputs": [
    {
     "data": {
      "application/vnd.plotly.v1+json": {
       "config": {
        "plotlyServerURL": "https://plot.ly"
       },
       "data": [
        {
         "hovertemplate": "Day of Week=%{x}<br>Average Total Bill ($)=%{y}<extra></extra>",
         "legendgroup": "Thur",
         "marker": {
          "color": "rgb(102, 197, 204)",
          "line": {
           "width": 0
          },
          "pattern": {
           "shape": ""
          }
         },
         "name": "Thur",
         "orientation": "v",
         "showlegend": true,
         "textposition": "auto",
         "type": "bar",
         "x": [
          "Thur"
         ],
         "xaxis": "x",
         "y": {
          "bdata": "zYLsLMiuMUA=",
          "dtype": "f8"
         },
         "yaxis": "y"
        },
        {
         "hovertemplate": "Day of Week=%{x}<br>Average Total Bill ($)=%{y}<extra></extra>",
         "legendgroup": "Fri",
         "marker": {
          "color": "rgb(246, 207, 113)",
          "line": {
           "width": 0
          },
          "pattern": {
           "shape": ""
          }
         },
         "name": "Fri",
         "orientation": "v",
         "showlegend": true,
         "textposition": "auto",
         "type": "bar",
         "x": [
          "Fri"
         ],
         "xaxis": "x",
         "y": {
          "bdata": "n7W94M0mMUA=",
          "dtype": "f8"
         },
         "yaxis": "y"
        },
        {
         "hovertemplate": "Day of Week=%{x}<br>Average Total Bill ($)=%{y}<extra></extra>",
         "legendgroup": "Sat",
         "marker": {
          "color": "rgb(248, 156, 116)",
          "line": {
           "width": 0
          },
          "pattern": {
           "shape": ""
          }
         },
         "name": "Sat",
         "orientation": "v",
         "showlegend": true,
         "textposition": "auto",
         "type": "bar",
         "x": [
          "Sat"
         ],
         "xaxis": "x",
         "y": {
          "bdata": "4w8HPP5wNEA=",
          "dtype": "f8"
         },
         "yaxis": "y"
        },
        {
         "hovertemplate": "Day of Week=%{x}<br>Average Total Bill ($)=%{y}<extra></extra>",
         "legendgroup": "Sun",
         "marker": {
          "color": "rgb(220, 176, 242)",
          "line": {
           "width": 0
          },
          "pattern": {
           "shape": ""
          }
         },
         "name": "Sun",
         "orientation": "v",
         "showlegend": true,
         "textposition": "auto",
         "type": "bar",
         "x": [
          "Sun"
         ],
         "xaxis": "x",
         "y": {
          "bdata": "KlyPwvVoNUA=",
          "dtype": "f8"
         },
         "yaxis": "y"
        }
       ],
       "layout": {
        "barmode": "relative",
        "legend": {
         "orientation": "h",
         "title": {
          "text": "Day"
         },
         "tracegroupgap": 0,
         "x": 1,
         "xanchor": "right",
         "y": 1.02,
         "yanchor": "bottom"
        },
        "paper_bgcolor": "white",
        "plot_bgcolor": "white",
        "template": {
         "data": {
          "bar": [
           {
            "error_x": {
             "color": "#2a3f5f"
            },
            "error_y": {
             "color": "#2a3f5f"
            },
            "marker": {
             "line": {
              "color": "#E5ECF6",
              "width": 0.5
             },
             "pattern": {
              "fillmode": "overlay",
              "size": 10,
              "solidity": 0.2
             }
            },
            "type": "bar"
           }
          ],
          "barpolar": [
           {
            "marker": {
             "line": {
              "color": "#E5ECF6",
              "width": 0.5
             },
             "pattern": {
              "fillmode": "overlay",
              "size": 10,
              "solidity": 0.2
             }
            },
            "type": "barpolar"
           }
          ],
          "carpet": [
           {
            "aaxis": {
             "endlinecolor": "#2a3f5f",
             "gridcolor": "white",
             "linecolor": "white",
             "minorgridcolor": "white",
             "startlinecolor": "#2a3f5f"
            },
            "baxis": {
             "endlinecolor": "#2a3f5f",
             "gridcolor": "white",
             "linecolor": "white",
             "minorgridcolor": "white",
             "startlinecolor": "#2a3f5f"
            },
            "type": "carpet"
           }
          ],
          "choropleth": [
           {
            "colorbar": {
             "outlinewidth": 0,
             "ticks": ""
            },
            "type": "choropleth"
           }
          ],
          "contour": [
           {
            "colorbar": {
             "outlinewidth": 0,
             "ticks": ""
            },
            "colorscale": [
             [
              0,
              "#0d0887"
             ],
             [
              0.1111111111111111,
              "#46039f"
             ],
             [
              0.2222222222222222,
              "#7201a8"
             ],
             [
              0.3333333333333333,
              "#9c179e"
             ],
             [
              0.4444444444444444,
              "#bd3786"
             ],
             [
              0.5555555555555556,
              "#d8576b"
             ],
             [
              0.6666666666666666,
              "#ed7953"
             ],
             [
              0.7777777777777778,
              "#fb9f3a"
             ],
             [
              0.8888888888888888,
              "#fdca26"
             ],
             [
              1,
              "#f0f921"
             ]
            ],
            "type": "contour"
           }
          ],
          "contourcarpet": [
           {
            "colorbar": {
             "outlinewidth": 0,
             "ticks": ""
            },
            "type": "contourcarpet"
           }
          ],
          "heatmap": [
           {
            "colorbar": {
             "outlinewidth": 0,
             "ticks": ""
            },
            "colorscale": [
             [
              0,
              "#0d0887"
             ],
             [
              0.1111111111111111,
              "#46039f"
             ],
             [
              0.2222222222222222,
              "#7201a8"
             ],
             [
              0.3333333333333333,
              "#9c179e"
             ],
             [
              0.4444444444444444,
              "#bd3786"
             ],
             [
              0.5555555555555556,
              "#d8576b"
             ],
             [
              0.6666666666666666,
              "#ed7953"
             ],
             [
              0.7777777777777778,
              "#fb9f3a"
             ],
             [
              0.8888888888888888,
              "#fdca26"
             ],
             [
              1,
              "#f0f921"
             ]
            ],
            "type": "heatmap"
           }
          ],
          "histogram": [
           {
            "marker": {
             "pattern": {
              "fillmode": "overlay",
              "size": 10,
              "solidity": 0.2
             }
            },
            "type": "histogram"
           }
          ],
          "histogram2d": [
           {
            "colorbar": {
             "outlinewidth": 0,
             "ticks": ""
            },
            "colorscale": [
             [
              0,
              "#0d0887"
             ],
             [
              0.1111111111111111,
              "#46039f"
             ],
             [
              0.2222222222222222,
              "#7201a8"
             ],
             [
              0.3333333333333333,
              "#9c179e"
             ],
             [
              0.4444444444444444,
              "#bd3786"
             ],
             [
              0.5555555555555556,
              "#d8576b"
             ],
             [
              0.6666666666666666,
              "#ed7953"
             ],
             [
              0.7777777777777778,
              "#fb9f3a"
             ],
             [
              0.8888888888888888,
              "#fdca26"
             ],
             [
              1,
              "#f0f921"
             ]
            ],
            "type": "histogram2d"
           }
          ],
          "histogram2dcontour": [
           {
            "colorbar": {
             "outlinewidth": 0,
             "ticks": ""
            },
            "colorscale": [
             [
              0,
              "#0d0887"
             ],
             [
              0.1111111111111111,
              "#46039f"
             ],
             [
              0.2222222222222222,
              "#7201a8"
             ],
             [
              0.3333333333333333,
              "#9c179e"
             ],
             [
              0.4444444444444444,
              "#bd3786"
             ],
             [
              0.5555555555555556,
              "#d8576b"
             ],
             [
              0.6666666666666666,
              "#ed7953"
             ],
             [
              0.7777777777777778,
              "#fb9f3a"
             ],
             [
              0.8888888888888888,
              "#fdca26"
             ],
             [
              1,
              "#f0f921"
             ]
            ],
            "type": "histogram2dcontour"
           }
          ],
          "mesh3d": [
           {
            "colorbar": {
             "outlinewidth": 0,
             "ticks": ""
            },
            "type": "mesh3d"
           }
          ],
          "parcoords": [
           {
            "line": {
             "colorbar": {
              "outlinewidth": 0,
              "ticks": ""
             }
            },
            "type": "parcoords"
           }
          ],
          "pie": [
           {
            "automargin": true,
            "type": "pie"
           }
          ],
          "scatter": [
           {
            "fillpattern": {
             "fillmode": "overlay",
             "size": 10,
             "solidity": 0.2
            },
            "type": "scatter"
           }
          ],
          "scatter3d": [
           {
            "line": {
             "colorbar": {
              "outlinewidth": 0,
              "ticks": ""
             }
            },
            "marker": {
             "colorbar": {
              "outlinewidth": 0,
              "ticks": ""
             }
            },
            "type": "scatter3d"
           }
          ],
          "scattercarpet": [
           {
            "marker": {
             "colorbar": {
              "outlinewidth": 0,
              "ticks": ""
             }
            },
            "type": "scattercarpet"
           }
          ],
          "scattergeo": [
           {
            "marker": {
             "colorbar": {
              "outlinewidth": 0,
              "ticks": ""
             }
            },
            "type": "scattergeo"
           }
          ],
          "scattergl": [
           {
            "marker": {
             "colorbar": {
              "outlinewidth": 0,
              "ticks": ""
             }
            },
            "type": "scattergl"
           }
          ],
          "scattermap": [
           {
            "marker": {
             "colorbar": {
              "outlinewidth": 0,
              "ticks": ""
             }
            },
            "type": "scattermap"
           }
          ],
          "scattermapbox": [
           {
            "marker": {
             "colorbar": {
              "outlinewidth": 0,
              "ticks": ""
             }
            },
            "type": "scattermapbox"
           }
          ],
          "scatterpolar": [
           {
            "marker": {
             "colorbar": {
              "outlinewidth": 0,
              "ticks": ""
             }
            },
            "type": "scatterpolar"
           }
          ],
          "scatterpolargl": [
           {
            "marker": {
             "colorbar": {
              "outlinewidth": 0,
              "ticks": ""
             }
            },
            "type": "scatterpolargl"
           }
          ],
          "scatterternary": [
           {
            "marker": {
             "colorbar": {
              "outlinewidth": 0,
              "ticks": ""
             }
            },
            "type": "scatterternary"
           }
          ],
          "surface": [
           {
            "colorbar": {
             "outlinewidth": 0,
             "ticks": ""
            },
            "colorscale": [
             [
              0,
              "#0d0887"
             ],
             [
              0.1111111111111111,
              "#46039f"
             ],
             [
              0.2222222222222222,
              "#7201a8"
             ],
             [
              0.3333333333333333,
              "#9c179e"
             ],
             [
              0.4444444444444444,
              "#bd3786"
             ],
             [
              0.5555555555555556,
              "#d8576b"
             ],
             [
              0.6666666666666666,
              "#ed7953"
             ],
             [
              0.7777777777777778,
              "#fb9f3a"
             ],
             [
              0.8888888888888888,
              "#fdca26"
             ],
             [
              1,
              "#f0f921"
             ]
            ],
            "type": "surface"
           }
          ],
          "table": [
           {
            "cells": {
             "fill": {
              "color": "#EBF0F8"
             },
             "line": {
              "color": "white"
             }
            },
            "header": {
             "fill": {
              "color": "#C8D4E3"
             },
             "line": {
              "color": "white"
             }
            },
            "type": "table"
           }
          ]
         },
         "layout": {
          "annotationdefaults": {
           "arrowcolor": "#2a3f5f",
           "arrowhead": 0,
           "arrowwidth": 1
          },
          "autotypenumbers": "strict",
          "coloraxis": {
           "colorbar": {
            "outlinewidth": 0,
            "ticks": ""
           }
          },
          "colorscale": {
           "diverging": [
            [
             0,
             "#8e0152"
            ],
            [
             0.1,
             "#c51b7d"
            ],
            [
             0.2,
             "#de77ae"
            ],
            [
             0.3,
             "#f1b6da"
            ],
            [
             0.4,
             "#fde0ef"
            ],
            [
             0.5,
             "#f7f7f7"
            ],
            [
             0.6,
             "#e6f5d0"
            ],
            [
             0.7,
             "#b8e186"
            ],
            [
             0.8,
             "#7fbc41"
            ],
            [
             0.9,
             "#4d9221"
            ],
            [
             1,
             "#276419"
            ]
           ],
           "sequential": [
            [
             0,
             "#0d0887"
            ],
            [
             0.1111111111111111,
             "#46039f"
            ],
            [
             0.2222222222222222,
             "#7201a8"
            ],
            [
             0.3333333333333333,
             "#9c179e"
            ],
            [
             0.4444444444444444,
             "#bd3786"
            ],
            [
             0.5555555555555556,
             "#d8576b"
            ],
            [
             0.6666666666666666,
             "#ed7953"
            ],
            [
             0.7777777777777778,
             "#fb9f3a"
            ],
            [
             0.8888888888888888,
             "#fdca26"
            ],
            [
             1,
             "#f0f921"
            ]
           ],
           "sequentialminus": [
            [
             0,
             "#0d0887"
            ],
            [
             0.1111111111111111,
             "#46039f"
            ],
            [
             0.2222222222222222,
             "#7201a8"
            ],
            [
             0.3333333333333333,
             "#9c179e"
            ],
            [
             0.4444444444444444,
             "#bd3786"
            ],
            [
             0.5555555555555556,
             "#d8576b"
            ],
            [
             0.6666666666666666,
             "#ed7953"
            ],
            [
             0.7777777777777778,
             "#fb9f3a"
            ],
            [
             0.8888888888888888,
             "#fdca26"
            ],
            [
             1,
             "#f0f921"
            ]
           ]
          },
          "colorway": [
           "#636efa",
           "#EF553B",
           "#00cc96",
           "#ab63fa",
           "#FFA15A",
           "#19d3f3",
           "#FF6692",
           "#B6E880",
           "#FF97FF",
           "#FECB52"
          ],
          "font": {
           "color": "#2a3f5f"
          },
          "geo": {
           "bgcolor": "white",
           "lakecolor": "white",
           "landcolor": "#E5ECF6",
           "showlakes": true,
           "showland": true,
           "subunitcolor": "white"
          },
          "hoverlabel": {
           "align": "left"
          },
          "hovermode": "closest",
          "mapbox": {
           "style": "light"
          },
          "paper_bgcolor": "white",
          "plot_bgcolor": "#E5ECF6",
          "polar": {
           "angularaxis": {
            "gridcolor": "white",
            "linecolor": "white",
            "ticks": ""
           },
           "bgcolor": "#E5ECF6",
           "radialaxis": {
            "gridcolor": "white",
            "linecolor": "white",
            "ticks": ""
           }
          },
          "scene": {
           "xaxis": {
            "backgroundcolor": "#E5ECF6",
            "gridcolor": "white",
            "gridwidth": 2,
            "linecolor": "white",
            "showbackground": true,
            "ticks": "",
            "zerolinecolor": "white"
           },
           "yaxis": {
            "backgroundcolor": "#E5ECF6",
            "gridcolor": "white",
            "gridwidth": 2,
            "linecolor": "white",
            "showbackground": true,
            "ticks": "",
            "zerolinecolor": "white"
           },
           "zaxis": {
            "backgroundcolor": "#E5ECF6",
            "gridcolor": "white",
            "gridwidth": 2,
            "linecolor": "white",
            "showbackground": true,
            "ticks": "",
            "zerolinecolor": "white"
           }
          },
          "shapedefaults": {
           "line": {
            "color": "#2a3f5f"
           }
          },
          "ternary": {
           "aaxis": {
            "gridcolor": "white",
            "linecolor": "white",
            "ticks": ""
           },
           "baxis": {
            "gridcolor": "white",
            "linecolor": "white",
            "ticks": ""
           },
           "bgcolor": "#E5ECF6",
           "caxis": {
            "gridcolor": "white",
            "linecolor": "white",
            "ticks": ""
           }
          },
          "title": {
           "x": 0.05
          },
          "xaxis": {
           "automargin": true,
           "gridcolor": "white",
           "linecolor": "white",
           "ticks": "",
           "title": {
            "standoff": 15
           },
           "zerolinecolor": "white",
           "zerolinewidth": 2
          },
          "yaxis": {
           "automargin": true,
           "gridcolor": "white",
           "linecolor": "white",
           "ticks": "",
           "title": {
            "standoff": 15
           },
           "zerolinecolor": "white",
           "zerolinewidth": 2
          }
         }
        },
        "title": {
         "text": "Average Total Bill by Day of Week"
        },
        "xaxis": {
         "anchor": "y",
         "categoryarray": [
          "Thur",
          "Fri",
          "Sat",
          "Sun"
         ],
         "categoryorder": "array",
         "domain": [
          0,
          1
         ],
         "title": {
          "text": "Day of Week"
         }
        },
        "yaxis": {
         "anchor": "x",
         "domain": [
          0,
          1
         ],
         "title": {
          "text": "Average Total Bill ($)"
         }
        }
       }
      }
     },
     "metadata": {},
     "output_type": "display_data"
    }
   ],
   "source": [
    "response['chart']"
   ]
  },
  {
   "cell_type": "code",
   "execution_count": 53,
   "id": "c0f00bbc",
   "metadata": {},
   "outputs": [
    {
     "name": "stdout",
     "output_type": "stream",
     "text": [
      "METADATAS:\n",
      "\n",
      "Table: customers\n",
      "Columns:\n",
      "- customer_id (integer): Unique customer identifier, NOT NULL\n",
      "  Range: 1 - 100, Average: 50.50\n",
      "- name (string): Customer full name, NOT NULL\n",
      "  Examples: \"Customer_30\", \"Customer_76\", \"Customer_94\"\n",
      "- email (string): Customer email address, NOT NULL\n",
      "  Examples: \"customer15@email.com\", \"customer26@email.com\", \"customer40@email.com\"\n",
      "- age (integer): Customer age in years, NOT NULL\n",
      "  Range: 19 - 74, Average: 45.19\n",
      "- city (string): Customer's city of residence, NOT NULL\n",
      "  Examples: \"New York\", \"Houston\", \"Chicago\"\n",
      "- signup_date (unknown): Date when customer registered, NOT NULL\n",
      "- status (string): Current customer account status, NOT NULL\n",
      "  Examples: \"Active\", \"Inactive\"\n",
      "\n",
      "Table: orders\n",
      "Relationships:\n",
      "  customer_id -> customers.customer_id\n",
      "Columns:\n",
      "- order_id (integer): Unique order identifier, NOT NULL\n",
      "  Range: 1 - 250, Average: 125.50\n",
      "- customer_id (integer): Links to customer who placed the order, NOT NULL\n",
      "  Range: 1 - 100, Average: 50.34\n",
      "- order_date (unknown): Date when order was placed, NOT NULL\n",
      "- product_category (string): Category of products ordered, NOT NULL\n",
      "  Examples: \"Sports\", \"Home\", \"Electronics\"\n",
      "- order_amount (float): Total order value in dollars, NOT NULL\n",
      "  Range: 11.27 - 498.87, Average: 260.16\n",
      "- shipping_cost (float): Shipping fee charged, NOT NULL\n",
      "  Range: 0.06 - 24.98, Average: 12.95\n",
      "- order_status (string): Current status of the order, NOT NULL\n",
      "  Examples: \"Completed\", \"Pending\", \"Cancelled\"\n",
      "- payment_method (string): Payment method used, NOT NULL\n",
      "  Examples: \"PayPal\", \"Credit Card\", \"Bank Transfer\"\n"
     ]
    }
   ],
   "source": [
    "import pandas as pd\n",
    "import numpy as np\n",
    "from datetime import datetime, timedelta\n",
    "\n",
    "# Dataset 1: Customers\n",
    "np.random.seed(42)\n",
    "customers_data = {\n",
    "    'customer_id': range(1, 101),\n",
    "    'name': [f'Customer_{i}' for i in range(1, 101)],\n",
    "    'email': [f'customer{i}@email.com' for i in range(1, 101)],\n",
    "    'age': np.random.randint(18, 75, 100),\n",
    "    'city': np.random.choice(['New York', 'Los Angeles', 'Chicago', 'Houston', 'Phoenix'], 100),\n",
    "    'signup_date': [datetime(2023, 1, 1) + timedelta(days=np.random.randint(0, 365)) for _ in range(100)],\n",
    "    'status': np.random.choice(['Active', 'Inactive'], 100, p=[0.8, 0.2])\n",
    "}\n",
    "customers_df = pd.DataFrame(customers_data)\n",
    "\n",
    "# Dataset 2: Orders (with foreign key to customers)\n",
    "np.random.seed(42)\n",
    "orders_data = {\n",
    "    'order_id': range(1, 251),\n",
    "    'customer_id': np.random.choice(range(1, 101), 250),  # Foreign key to customers\n",
    "    'order_date': [datetime(2023, 1, 1) + timedelta(days=np.random.randint(0, 365)) for _ in range(250)],\n",
    "    'product_category': np.random.choice(['Electronics', 'Clothing', 'Books', 'Home', 'Sports'], 250),\n",
    "    'order_amount': np.round(np.random.uniform(10.0, 500.0, 250), 2),\n",
    "    'shipping_cost': np.round(np.random.uniform(0.0, 25.0, 250), 2),\n",
    "    'order_status': np.random.choice(['Completed', 'Pending', 'Cancelled'], 250, p=[0.7, 0.2, 0.1]),\n",
    "    'payment_method': np.random.choice(['Credit Card', 'PayPal', 'Bank Transfer'], 250)\n",
    "}\n",
    "orders_df = pd.DataFrame(orders_data)\n",
    "\n",
    "# Field descriptions for customers\n",
    "customers_descriptions = FieldDescriptions(descriptions=[\n",
    "    FieldDescription(field_name=\"customer_id\", description=\"Unique customer identifier\"),\n",
    "    FieldDescription(field_name=\"name\", description=\"Customer full name\"),\n",
    "    FieldDescription(field_name=\"email\", description=\"Customer email address\"),\n",
    "    FieldDescription(field_name=\"age\", description=\"Customer age in years\"),\n",
    "    FieldDescription(field_name=\"city\", description=\"Customer's city of residence\"),\n",
    "    FieldDescription(field_name=\"signup_date\", description=\"Date when customer registered\"),\n",
    "    FieldDescription(field_name=\"status\", description=\"Current customer account status\")\n",
    "])\n",
    "\n",
    "# Field descriptions for orders\n",
    "orders_descriptions = FieldDescriptions(descriptions=[\n",
    "    FieldDescription(field_name=\"order_id\", description=\"Unique order identifier\"),\n",
    "    FieldDescription(field_name=\"customer_id\", description=\"Links to customer who placed the order\"),\n",
    "    FieldDescription(field_name=\"order_date\", description=\"Date when order was placed\"),\n",
    "    FieldDescription(field_name=\"product_category\", description=\"Category of products ordered\"),\n",
    "    FieldDescription(field_name=\"order_amount\", description=\"Total order value in dollars\"),\n",
    "    FieldDescription(field_name=\"shipping_cost\", description=\"Shipping fee charged\"),\n",
    "    FieldDescription(field_name=\"order_status\", description=\"Current status of the order\"),\n",
    "    FieldDescription(field_name=\"payment_method\", description=\"Payment method used\")\n",
    "])\n",
    "\n",
    "# Setup with DataCatalog\n",
    "from broinsight.utils.data_catalog import DataCatalog\n",
    "\n",
    "catalog = DataCatalog()\n",
    "catalog.register(\"customers\", customers_df, \"Customer information and demographics\")\n",
    "catalog.register(\"orders\", orders_df, \"Customer order transactions and details\")\n",
    "\n",
    "# Profile tables\n",
    "catalog.profile_tables([\"customers\", \"orders\"])\n",
    "\n",
    "# Add field descriptions\n",
    "catalog.add_field_descriptions(\"customers\", customers_descriptions)\n",
    "catalog.add_field_descriptions(\"orders\", orders_descriptions)\n",
    "\n",
    "# Add relationship\n",
    "catalog.add_relationship(\"orders\", \"customer_id\", \"customers\", \"customer_id\")\n",
    "\n",
    "# Test SQL metadata generation\n",
    "sql_metadata = catalog.to_sql_metadata([\"customers\", \"orders\"])\n",
    "print(sql_metadata)"
   ]
  },
  {
   "cell_type": "code",
   "execution_count": 54,
   "id": "82420d99",
   "metadata": {},
   "outputs": [
    {
     "name": "stdout",
     "output_type": "stream",
     "text": [
      "Based on your role and goals, here are some areas you might want to explore:\n",
      "\n",
      "Customer Overview\n",
      "- How many customers are Active versus Inactive in the customers table?\n",
      "- What is the average age of customers in the customers table?\n",
      "- Which city has the highest number of customers?\n",
      "\n",
      "Sales Performance\n",
      "- What is the total order_amount for each product_category in the orders table?\n",
      "- How many orders were Completed, Pending, or Cancelled in the orders table?\n",
      "- What is the average order_amount per order in the orders table?\n",
      "\n",
      "Order Fulfillment\n",
      "- What is the average shipping_cost across all orders in the orders table?\n",
      "- How many orders were placed by customers from each city (join customers.city with orders.customer_id)?\n",
      "\n",
      "Payment Methods\n",
      "- How many orders were paid using each payment_method in the orders table?\n",
      "- What is the total order_amount for orders paid with PayPal versus Credit Card versus Bank Transfer?\n",
      "\n",
      "Just ask me any of these questions and I'll analyze your data to get the answers!\n"
     ]
    }
   ],
   "source": [
    "response = broinsight.suggest_questions(\n",
    "    context=catalog.to_guide_metadata([\"customers\", \"orders\"]),\n",
    "    message=\"I'm a new manager here. I don't know what to look to know more about our business.\"\n",
    "\n",
    ")\n",
    "print(response['content'])"
   ]
  },
  {
   "cell_type": "code",
   "execution_count": 66,
   "id": "4a4be850",
   "metadata": {},
   "outputs": [
    {
     "name": "stdout",
     "output_type": "stream",
     "text": [
      "```sql\n",
      "WITH total_spend AS (\n",
      "    SELECT\n",
      "        customer_id,\n",
      "        SUM(order_amount) AS total_amount\n",
      "    FROM orders\n",
      "    GROUP BY customer_id\n",
      "),\n",
      "most_payment AS (\n",
      "    SELECT\n",
      "        customer_id,\n",
      "        payment_method\n",
      "    FROM (\n",
      "        SELECT\n",
      "            customer_id,\n",
      "            payment_method,\n",
      "            ROW_NUMBER() OVER (PARTITION BY customer_id ORDER BY COUNT(*) DESC) AS rn\n",
      "        FROM orders\n",
      "        GROUP BY customer_id, payment_method\n",
      "    ) t\n",
      "    WHERE rn = 1\n",
      ")\n",
      "SELECT\n",
      "    c.name,\n",
      "    c.age,\n",
      "    mp.payment_method,\n",
      "    ts.total_amount\n",
      "FROM customers c\n",
      "JOIN total_spend ts ON c.customer_id = ts.customer_id\n",
      "JOIN most_payment mp ON c.customer_id = mp.customer_id\n",
      "ORDER BY ts.total_amount DESC\n",
      "LIMIT 5;\n",
      "```\n"
     ]
    }
   ],
   "source": [
    "# question = \"How many orders were paid using each payment_method in the orders table?\"\n",
    "# question = \"Who are the top 5 customers payting with PayPal method? I wanna know thier ages and names\"\n",
    "question = \"Who are the top 5 spenders? I wanna know thier ages and names and their most payment method\"\n",
    "response = broinsight.generate_sql(\n",
    "    context=catalog.to_sql_metadata([\"customers\", \"orders\"]),\n",
    "    message=question\n",
    "\n",
    ")\n",
    "print(response['content'])"
   ]
  },
  {
   "cell_type": "code",
   "execution_count": 67,
   "id": "60fc39ac",
   "metadata": {},
   "outputs": [],
   "source": [
    "sql_query = response['content'].split(\"```sql\")[-1].split(\"```\")[0]\n",
    "result = catalog.query(sql_query)"
   ]
  },
  {
   "cell_type": "code",
   "execution_count": 68,
   "id": "f8a5d7fd",
   "metadata": {},
   "outputs": [
    {
     "data": {
      "text/html": [
       "<div>\n",
       "<style scoped>\n",
       "    .dataframe tbody tr th:only-of-type {\n",
       "        vertical-align: middle;\n",
       "    }\n",
       "\n",
       "    .dataframe tbody tr th {\n",
       "        vertical-align: top;\n",
       "    }\n",
       "\n",
       "    .dataframe thead th {\n",
       "        text-align: right;\n",
       "    }\n",
       "</style>\n",
       "<table border=\"1\" class=\"dataframe\">\n",
       "  <thead>\n",
       "    <tr style=\"text-align: right;\">\n",
       "      <th></th>\n",
       "      <th>name</th>\n",
       "      <th>age</th>\n",
       "      <th>payment_method</th>\n",
       "      <th>total_amount</th>\n",
       "    </tr>\n",
       "  </thead>\n",
       "  <tbody>\n",
       "    <tr>\n",
       "      <th>0</th>\n",
       "      <td>Customer_62</td>\n",
       "      <td>45</td>\n",
       "      <td>Bank Transfer</td>\n",
       "      <td>2797.00</td>\n",
       "    </tr>\n",
       "    <tr>\n",
       "      <th>1</th>\n",
       "      <td>Customer_2</td>\n",
       "      <td>69</td>\n",
       "      <td>Credit Card</td>\n",
       "      <td>2119.07</td>\n",
       "    </tr>\n",
       "    <tr>\n",
       "      <th>2</th>\n",
       "      <td>Customer_89</td>\n",
       "      <td>48</td>\n",
       "      <td>PayPal</td>\n",
       "      <td>1923.45</td>\n",
       "    </tr>\n",
       "    <tr>\n",
       "      <th>3</th>\n",
       "      <td>Customer_44</td>\n",
       "      <td>74</td>\n",
       "      <td>Bank Transfer</td>\n",
       "      <td>1919.80</td>\n",
       "    </tr>\n",
       "    <tr>\n",
       "      <th>4</th>\n",
       "      <td>Customer_88</td>\n",
       "      <td>31</td>\n",
       "      <td>Credit Card</td>\n",
       "      <td>1553.44</td>\n",
       "    </tr>\n",
       "  </tbody>\n",
       "</table>\n",
       "</div>"
      ],
      "text/plain": [
       "          name  age payment_method  total_amount\n",
       "0  Customer_62   45  Bank Transfer       2797.00\n",
       "1   Customer_2   69    Credit Card       2119.07\n",
       "2  Customer_89   48         PayPal       1923.45\n",
       "3  Customer_44   74  Bank Transfer       1919.80\n",
       "4  Customer_88   31    Credit Card       1553.44"
      ]
     },
     "execution_count": 68,
     "metadata": {},
     "output_type": "execute_result"
    }
   ],
   "source": [
    "result"
   ]
  },
  {
   "cell_type": "code",
   "execution_count": 69,
   "id": "97dfbe4f",
   "metadata": {},
   "outputs": [
    {
     "name": "stdout",
     "output_type": "stream",
     "text": [
      "Here are the five customers who spent the most, in order from highest to lowest:\n",
      "\n",
      "| Rank | Customer | Age | Payment Method |\n",
      "|------|----------|-----|----------------|\n",
      "| 1 | Customer_62 | 45 | Bank Transfer |\n",
      "| 2 | Customer_2 | 69 | Credit Card |\n",
      "| 3 | Customer_89 | 48 | PayPal |\n",
      "| 4 | Customer_44 | 74 | Bank Transfer |\n",
      "| 5 | Customer_88 | 31 | Credit Card |\n",
      "\n",
      "**What this tells us**\n",
      "\n",
      "- **Bank Transfer** is the most common payment method among the top spenders (appearing twice).  \n",
      "- The top spender, Customer_62, is a 45‑year‑old, which might suggest that mid‑age customers are high‑value.  \n",
      "- Credit Card and PayPal also appear, indicating a mix of payment preferences.\n",
      "\n",
      "**Next steps you might consider**\n",
      "\n",
      "1. **Targeted offers** – send personalized promotions to these high‑spending customers, especially using the payment method they already prefer.  \n",
      "2. **Retention focus** – since they’re already spending a lot, a loyalty program could keep them engaged.  \n",
      "3. **Cross‑sell analysis** – check if these customers are purchasing similar product categories; if so, bundle offers could increase basket size.  \n",
      "\n",
      "Let me know if you’d like deeper insights into their purchase patterns or how to craft a campaign around these findings!\n"
     ]
    }
   ],
   "source": [
    "response = broinsight.ask_data(\n",
    "    context=result.to_string(),\n",
    "    message=question\n",
    ")\n",
    "print(response['content'])"
   ]
  },
  {
   "cell_type": "code",
   "execution_count": 70,
   "id": "5ab616d5",
   "metadata": {},
   "outputs": [
    {
     "data": {
      "application/vnd.plotly.v1+json": {
       "config": {
        "plotlyServerURL": "https://plot.ly"
       },
       "data": [
        {
         "customdata": [
          [
           45,
           "Bank Transfer"
          ],
          [
           74,
           "Bank Transfer"
          ]
         ],
         "hovertemplate": "Age=%{customdata[0]}<extra></extra>",
         "legendgroup": "Bank Transfer",
         "marker": {
          "color": "#636efa",
          "pattern": {
           "shape": ""
          }
         },
         "name": "Bank Transfer",
         "orientation": "h",
         "showlegend": true,
         "textposition": "outside",
         "texttemplate": "$%{x:,.2f}",
         "type": "bar",
         "x": {
          "bdata": "AAAAAADapUAzMzMzM/+dQA==",
          "dtype": "f8"
         },
         "xaxis": "x",
         "y": [
          "Customer_62",
          "Customer_44"
         ],
         "yaxis": "y"
        },
        {
         "customdata": [
          [
           69,
           "Credit Card"
          ],
          [
           31,
           "Credit Card"
          ]
         ],
         "hovertemplate": "Age=%{customdata[0]}<extra></extra>",
         "legendgroup": "Credit Card",
         "marker": {
          "color": "#EF553B",
          "pattern": {
           "shape": ""
          }
         },
         "name": "Credit Card",
         "orientation": "h",
         "showlegend": true,
         "textposition": "outside",
         "texttemplate": "$%{x:,.2f}",
         "type": "bar",
         "x": {
          "bdata": "cT0K1yOOoED2KFyPwkWYQA==",
          "dtype": "f8"
         },
         "xaxis": "x",
         "y": [
          "Customer_2",
          "Customer_88"
         ],
         "yaxis": "y"
        },
        {
         "customdata": [
          [
           48,
           "PayPal"
          ]
         ],
         "hovertemplate": "Age=%{customdata[0]}<extra></extra>",
         "legendgroup": "PayPal",
         "marker": {
          "color": "#00cc96",
          "pattern": {
           "shape": ""
          }
         },
         "name": "PayPal",
         "orientation": "h",
         "showlegend": true,
         "textposition": "outside",
         "texttemplate": "$%{x:,.2f}",
         "type": "bar",
         "x": {
          "bdata": "zMzMzMwNnkA=",
          "dtype": "f8"
         },
         "xaxis": "x",
         "y": [
          "Customer_89"
         ],
         "yaxis": "y"
        }
       ],
       "layout": {
        "barmode": "relative",
        "height": 400,
        "legend": {
         "title": {
          "text": "Payment Method"
         },
         "tracegroupgap": 0
        },
        "margin": {
         "b": 20,
         "l": 150,
         "r": 20,
         "t": 80
        },
        "template": {
         "data": {
          "bar": [
           {
            "error_x": {
             "color": "#2a3f5f"
            },
            "error_y": {
             "color": "#2a3f5f"
            },
            "marker": {
             "line": {
              "color": "#E5ECF6",
              "width": 0.5
             },
             "pattern": {
              "fillmode": "overlay",
              "size": 10,
              "solidity": 0.2
             }
            },
            "type": "bar"
           }
          ],
          "barpolar": [
           {
            "marker": {
             "line": {
              "color": "#E5ECF6",
              "width": 0.5
             },
             "pattern": {
              "fillmode": "overlay",
              "size": 10,
              "solidity": 0.2
             }
            },
            "type": "barpolar"
           }
          ],
          "carpet": [
           {
            "aaxis": {
             "endlinecolor": "#2a3f5f",
             "gridcolor": "white",
             "linecolor": "white",
             "minorgridcolor": "white",
             "startlinecolor": "#2a3f5f"
            },
            "baxis": {
             "endlinecolor": "#2a3f5f",
             "gridcolor": "white",
             "linecolor": "white",
             "minorgridcolor": "white",
             "startlinecolor": "#2a3f5f"
            },
            "type": "carpet"
           }
          ],
          "choropleth": [
           {
            "colorbar": {
             "outlinewidth": 0,
             "ticks": ""
            },
            "type": "choropleth"
           }
          ],
          "contour": [
           {
            "colorbar": {
             "outlinewidth": 0,
             "ticks": ""
            },
            "colorscale": [
             [
              0,
              "#0d0887"
             ],
             [
              0.1111111111111111,
              "#46039f"
             ],
             [
              0.2222222222222222,
              "#7201a8"
             ],
             [
              0.3333333333333333,
              "#9c179e"
             ],
             [
              0.4444444444444444,
              "#bd3786"
             ],
             [
              0.5555555555555556,
              "#d8576b"
             ],
             [
              0.6666666666666666,
              "#ed7953"
             ],
             [
              0.7777777777777778,
              "#fb9f3a"
             ],
             [
              0.8888888888888888,
              "#fdca26"
             ],
             [
              1,
              "#f0f921"
             ]
            ],
            "type": "contour"
           }
          ],
          "contourcarpet": [
           {
            "colorbar": {
             "outlinewidth": 0,
             "ticks": ""
            },
            "type": "contourcarpet"
           }
          ],
          "heatmap": [
           {
            "colorbar": {
             "outlinewidth": 0,
             "ticks": ""
            },
            "colorscale": [
             [
              0,
              "#0d0887"
             ],
             [
              0.1111111111111111,
              "#46039f"
             ],
             [
              0.2222222222222222,
              "#7201a8"
             ],
             [
              0.3333333333333333,
              "#9c179e"
             ],
             [
              0.4444444444444444,
              "#bd3786"
             ],
             [
              0.5555555555555556,
              "#d8576b"
             ],
             [
              0.6666666666666666,
              "#ed7953"
             ],
             [
              0.7777777777777778,
              "#fb9f3a"
             ],
             [
              0.8888888888888888,
              "#fdca26"
             ],
             [
              1,
              "#f0f921"
             ]
            ],
            "type": "heatmap"
           }
          ],
          "histogram": [
           {
            "marker": {
             "pattern": {
              "fillmode": "overlay",
              "size": 10,
              "solidity": 0.2
             }
            },
            "type": "histogram"
           }
          ],
          "histogram2d": [
           {
            "colorbar": {
             "outlinewidth": 0,
             "ticks": ""
            },
            "colorscale": [
             [
              0,
              "#0d0887"
             ],
             [
              0.1111111111111111,
              "#46039f"
             ],
             [
              0.2222222222222222,
              "#7201a8"
             ],
             [
              0.3333333333333333,
              "#9c179e"
             ],
             [
              0.4444444444444444,
              "#bd3786"
             ],
             [
              0.5555555555555556,
              "#d8576b"
             ],
             [
              0.6666666666666666,
              "#ed7953"
             ],
             [
              0.7777777777777778,
              "#fb9f3a"
             ],
             [
              0.8888888888888888,
              "#fdca26"
             ],
             [
              1,
              "#f0f921"
             ]
            ],
            "type": "histogram2d"
           }
          ],
          "histogram2dcontour": [
           {
            "colorbar": {
             "outlinewidth": 0,
             "ticks": ""
            },
            "colorscale": [
             [
              0,
              "#0d0887"
             ],
             [
              0.1111111111111111,
              "#46039f"
             ],
             [
              0.2222222222222222,
              "#7201a8"
             ],
             [
              0.3333333333333333,
              "#9c179e"
             ],
             [
              0.4444444444444444,
              "#bd3786"
             ],
             [
              0.5555555555555556,
              "#d8576b"
             ],
             [
              0.6666666666666666,
              "#ed7953"
             ],
             [
              0.7777777777777778,
              "#fb9f3a"
             ],
             [
              0.8888888888888888,
              "#fdca26"
             ],
             [
              1,
              "#f0f921"
             ]
            ],
            "type": "histogram2dcontour"
           }
          ],
          "mesh3d": [
           {
            "colorbar": {
             "outlinewidth": 0,
             "ticks": ""
            },
            "type": "mesh3d"
           }
          ],
          "parcoords": [
           {
            "line": {
             "colorbar": {
              "outlinewidth": 0,
              "ticks": ""
             }
            },
            "type": "parcoords"
           }
          ],
          "pie": [
           {
            "automargin": true,
            "type": "pie"
           }
          ],
          "scatter": [
           {
            "fillpattern": {
             "fillmode": "overlay",
             "size": 10,
             "solidity": 0.2
            },
            "type": "scatter"
           }
          ],
          "scatter3d": [
           {
            "line": {
             "colorbar": {
              "outlinewidth": 0,
              "ticks": ""
             }
            },
            "marker": {
             "colorbar": {
              "outlinewidth": 0,
              "ticks": ""
             }
            },
            "type": "scatter3d"
           }
          ],
          "scattercarpet": [
           {
            "marker": {
             "colorbar": {
              "outlinewidth": 0,
              "ticks": ""
             }
            },
            "type": "scattercarpet"
           }
          ],
          "scattergeo": [
           {
            "marker": {
             "colorbar": {
              "outlinewidth": 0,
              "ticks": ""
             }
            },
            "type": "scattergeo"
           }
          ],
          "scattergl": [
           {
            "marker": {
             "colorbar": {
              "outlinewidth": 0,
              "ticks": ""
             }
            },
            "type": "scattergl"
           }
          ],
          "scattermap": [
           {
            "marker": {
             "colorbar": {
              "outlinewidth": 0,
              "ticks": ""
             }
            },
            "type": "scattermap"
           }
          ],
          "scattermapbox": [
           {
            "marker": {
             "colorbar": {
              "outlinewidth": 0,
              "ticks": ""
             }
            },
            "type": "scattermapbox"
           }
          ],
          "scatterpolar": [
           {
            "marker": {
             "colorbar": {
              "outlinewidth": 0,
              "ticks": ""
             }
            },
            "type": "scatterpolar"
           }
          ],
          "scatterpolargl": [
           {
            "marker": {
             "colorbar": {
              "outlinewidth": 0,
              "ticks": ""
             }
            },
            "type": "scatterpolargl"
           }
          ],
          "scatterternary": [
           {
            "marker": {
             "colorbar": {
              "outlinewidth": 0,
              "ticks": ""
             }
            },
            "type": "scatterternary"
           }
          ],
          "surface": [
           {
            "colorbar": {
             "outlinewidth": 0,
             "ticks": ""
            },
            "colorscale": [
             [
              0,
              "#0d0887"
             ],
             [
              0.1111111111111111,
              "#46039f"
             ],
             [
              0.2222222222222222,
              "#7201a8"
             ],
             [
              0.3333333333333333,
              "#9c179e"
             ],
             [
              0.4444444444444444,
              "#bd3786"
             ],
             [
              0.5555555555555556,
              "#d8576b"
             ],
             [
              0.6666666666666666,
              "#ed7953"
             ],
             [
              0.7777777777777778,
              "#fb9f3a"
             ],
             [
              0.8888888888888888,
              "#fdca26"
             ],
             [
              1,
              "#f0f921"
             ]
            ],
            "type": "surface"
           }
          ],
          "table": [
           {
            "cells": {
             "fill": {
              "color": "#EBF0F8"
             },
             "line": {
              "color": "white"
             }
            },
            "header": {
             "fill": {
              "color": "#C8D4E3"
             },
             "line": {
              "color": "white"
             }
            },
            "type": "table"
           }
          ]
         },
         "layout": {
          "annotationdefaults": {
           "arrowcolor": "#2a3f5f",
           "arrowhead": 0,
           "arrowwidth": 1
          },
          "autotypenumbers": "strict",
          "coloraxis": {
           "colorbar": {
            "outlinewidth": 0,
            "ticks": ""
           }
          },
          "colorscale": {
           "diverging": [
            [
             0,
             "#8e0152"
            ],
            [
             0.1,
             "#c51b7d"
            ],
            [
             0.2,
             "#de77ae"
            ],
            [
             0.3,
             "#f1b6da"
            ],
            [
             0.4,
             "#fde0ef"
            ],
            [
             0.5,
             "#f7f7f7"
            ],
            [
             0.6,
             "#e6f5d0"
            ],
            [
             0.7,
             "#b8e186"
            ],
            [
             0.8,
             "#7fbc41"
            ],
            [
             0.9,
             "#4d9221"
            ],
            [
             1,
             "#276419"
            ]
           ],
           "sequential": [
            [
             0,
             "#0d0887"
            ],
            [
             0.1111111111111111,
             "#46039f"
            ],
            [
             0.2222222222222222,
             "#7201a8"
            ],
            [
             0.3333333333333333,
             "#9c179e"
            ],
            [
             0.4444444444444444,
             "#bd3786"
            ],
            [
             0.5555555555555556,
             "#d8576b"
            ],
            [
             0.6666666666666666,
             "#ed7953"
            ],
            [
             0.7777777777777778,
             "#fb9f3a"
            ],
            [
             0.8888888888888888,
             "#fdca26"
            ],
            [
             1,
             "#f0f921"
            ]
           ],
           "sequentialminus": [
            [
             0,
             "#0d0887"
            ],
            [
             0.1111111111111111,
             "#46039f"
            ],
            [
             0.2222222222222222,
             "#7201a8"
            ],
            [
             0.3333333333333333,
             "#9c179e"
            ],
            [
             0.4444444444444444,
             "#bd3786"
            ],
            [
             0.5555555555555556,
             "#d8576b"
            ],
            [
             0.6666666666666666,
             "#ed7953"
            ],
            [
             0.7777777777777778,
             "#fb9f3a"
            ],
            [
             0.8888888888888888,
             "#fdca26"
            ],
            [
             1,
             "#f0f921"
            ]
           ]
          },
          "colorway": [
           "#636efa",
           "#EF553B",
           "#00cc96",
           "#ab63fa",
           "#FFA15A",
           "#19d3f3",
           "#FF6692",
           "#B6E880",
           "#FF97FF",
           "#FECB52"
          ],
          "font": {
           "color": "#2a3f5f"
          },
          "geo": {
           "bgcolor": "white",
           "lakecolor": "white",
           "landcolor": "#E5ECF6",
           "showlakes": true,
           "showland": true,
           "subunitcolor": "white"
          },
          "hoverlabel": {
           "align": "left"
          },
          "hovermode": "closest",
          "mapbox": {
           "style": "light"
          },
          "paper_bgcolor": "white",
          "plot_bgcolor": "#E5ECF6",
          "polar": {
           "angularaxis": {
            "gridcolor": "white",
            "linecolor": "white",
            "ticks": ""
           },
           "bgcolor": "#E5ECF6",
           "radialaxis": {
            "gridcolor": "white",
            "linecolor": "white",
            "ticks": ""
           }
          },
          "scene": {
           "xaxis": {
            "backgroundcolor": "#E5ECF6",
            "gridcolor": "white",
            "gridwidth": 2,
            "linecolor": "white",
            "showbackground": true,
            "ticks": "",
            "zerolinecolor": "white"
           },
           "yaxis": {
            "backgroundcolor": "#E5ECF6",
            "gridcolor": "white",
            "gridwidth": 2,
            "linecolor": "white",
            "showbackground": true,
            "ticks": "",
            "zerolinecolor": "white"
           },
           "zaxis": {
            "backgroundcolor": "#E5ECF6",
            "gridcolor": "white",
            "gridwidth": 2,
            "linecolor": "white",
            "showbackground": true,
            "ticks": "",
            "zerolinecolor": "white"
           }
          },
          "shapedefaults": {
           "line": {
            "color": "#2a3f5f"
           }
          },
          "ternary": {
           "aaxis": {
            "gridcolor": "white",
            "linecolor": "white",
            "ticks": ""
           },
           "baxis": {
            "gridcolor": "white",
            "linecolor": "white",
            "ticks": ""
           },
           "bgcolor": "#E5ECF6",
           "caxis": {
            "gridcolor": "white",
            "linecolor": "white",
            "ticks": ""
           }
          },
          "title": {
           "x": 0.05
          },
          "xaxis": {
           "automargin": true,
           "gridcolor": "white",
           "linecolor": "white",
           "ticks": "",
           "title": {
            "standoff": 15
           },
           "zerolinecolor": "white",
           "zerolinewidth": 2
          },
          "yaxis": {
           "automargin": true,
           "gridcolor": "white",
           "linecolor": "white",
           "ticks": "",
           "title": {
            "standoff": 15
           },
           "zerolinecolor": "white",
           "zerolinewidth": 2
          }
         }
        },
        "title": {
         "text": "Top 5 Spenders by Total Amount"
        },
        "xaxis": {
         "anchor": "y",
         "domain": [
          0,
          1
         ],
         "title": {
          "text": "Total Amount (USD)"
         }
        },
        "yaxis": {
         "anchor": "x",
         "domain": [
          0,
          1
         ],
         "title": {
          "text": "Customer"
         }
        }
       }
      }
     },
     "metadata": {},
     "output_type": "display_data"
    }
   ],
   "source": [
    "response = broinsight.create_chart(\n",
    "    query_result=result,\n",
    "    message=question\n",
    ")\n",
    "response['chart']"
   ]
  },
  {
   "cell_type": "code",
   "execution_count": 71,
   "id": "03c128a0",
   "metadata": {},
   "outputs": [],
   "source": [
    "import boto3\n",
    "session = boto3.Session()\n",
    "credentials = session.get_credentials()\n",
    "bedrock = boto3.client(\n",
    "    service_name='bedrock-runtime', \n",
    "    aws_access_key_id=credentials.access_key,\n",
    "    aws_secret_access_key=credentials.secret_key,\n",
    "    aws_session_token=credentials.token or None,\n",
    "    region_name='us-west-2'\n",
    ")\n"
   ]
  },
  {
   "cell_type": "code",
   "execution_count": 154,
   "id": "0a8f3feb",
   "metadata": {},
   "outputs": [],
   "source": [
    "import boto3\n",
    "import time\n",
    "\n",
    "aws_config = dict(\n",
    "    aws_access_key_id=credentials.access_key,\n",
    "    aws_secret_access_key=credentials.secret_key,\n",
    "    aws_session_token=credentials.token or None,\n",
    "    region_name='us-west-2'    \n",
    ")\n",
    "class BaseLLM:\n",
    "    def __init__(self, *args, **kwargs): pass\n",
    "    def UserMessage(self, text): pass\n",
    "    def AIMessage(self, text): pass\n",
    "    def SystemMessage(self, text): pass\n",
    "    def OutputMessage(self, text): pass\n",
    "    def run(self, system_prompt, messages): pass\n",
    "\n",
    "class BedrockOpenAI(BaseLLM):\n",
    "    def __init__(self, model_id, aws_configs, temperature=0.1):\n",
    "        self.model_id = model_id\n",
    "        self.aws_configs = aws_configs\n",
    "        self.temperature = temperature\n",
    "\n",
    "    def get_model(self):\n",
    "        model = boto3.client(\n",
    "            service_name='bedrock-runtime',\n",
    "            **self.aws_configs\n",
    "        )\n",
    "        return model\n",
    "    def SystemMessage(self, text):\n",
    "        return [{\"text\": text}]\n",
    "    \n",
    "    def UserMessage(self, text):\n",
    "        return {\"role\":\"user\", \"content\": [{\"text\": text}]}\n",
    "    \n",
    "    def AIMessage(self, text):\n",
    "        return {\"role\":\"user\", \"content\": [{\"text\": text}]}\n",
    "    \n",
    "    def OutputMessage(self, response):\n",
    "        return dict(\n",
    "            content=[i['text'] for i in response['output']['message']['content'] if 'text' in i][-1],\n",
    "            model=self.model_id,\n",
    "            processed=response['processed'],\n",
    "            tokens=dict(\n",
    "                input=response['usage'][\"inputTokens\"],\n",
    "                output=response['usage'][\"outputTokens\"]\n",
    "            )\n",
    "        )\n",
    "\n",
    "    def run(self, system_prompt, messages):\n",
    "        start = time.time()\n",
    "        model = self.get_model()\n",
    "        response = model.converse(\n",
    "            modelId=self.model_id,\n",
    "            system=self.SystemMessage(text=system_prompt),\n",
    "            messages=messages,\n",
    "            inferenceConfig=dict(\n",
    "                temperature=self.temperature\n",
    "            )\n",
    "        )\n",
    "        response['processed'] = time.time() - start\n",
    "        response = self.OutputMessage(response=response)\n",
    "        return response"
   ]
  },
  {
   "cell_type": "code",
   "execution_count": 158,
   "id": "8a0f08e6",
   "metadata": {},
   "outputs": [],
   "source": [
    "model_id=\"openai.gpt-oss-20b-1:0\"\n",
    "bedrock = BedrockOpenAI(\n",
    "    model_id=model_id,\n",
    "    aws_configs=aws_config\n",
    ")\n",
    "\n",
    "response = bedrock.run(\n",
    "    system_prompt=\"You are a helpful assistant\",\n",
    "    messages=[\n",
    "        bedrock.UserMessage(\"Hello, how are you?\")\n",
    "    ]\n",
    ")"
   ]
  },
  {
   "cell_type": "code",
   "execution_count": 157,
   "id": "451ffa8d",
   "metadata": {},
   "outputs": [
    {
     "data": {
      "text/plain": [
       "{'content': 'Hello! I’m doing great—thanks for asking. How about you? Anything on your mind today?',\n",
       " 'model': 'openai.gpt-oss-20b-1:0',\n",
       " 'processed': 1.3433969020843506,\n",
       " 'tokens': {'input': 84, 'output': 61}}"
      ]
     },
     "execution_count": 157,
     "metadata": {},
     "output_type": "execute_result"
    }
   ],
   "source": [
    "response"
   ]
  },
  {
   "cell_type": "code",
   "execution_count": 138,
   "id": "a81c42b1",
   "metadata": {},
   "outputs": [
    {
     "data": {
      "text/plain": [
       "{'content': 'Hello! I’m doing great—thanks for asking. How about you? Anything on your mind today?',\n",
       " 'model': 'openai.gpt-oss-20b-1:0',\n",
       " 'processed': 1.4777162075042725,\n",
       " 'tokens': {'input': 84, 'output': 61}}"
      ]
     },
     "execution_count": 138,
     "metadata": {},
     "output_type": "execute_result"
    }
   ],
   "source": [
    "from broinsight.experiment.bedrock import AWSConfig\n",
    "\n",
    "aws_configs = AWSConfig(\n",
    "    aws_access_key_id=credentials.access_key,\n",
    "    aws_secret_access_key=credentials.secret_key,\n",
    "    aws_session_token=credentials.token or None,\n",
    "    region_name='us-west-2'\n",
    ")\n",
    "\n",
    "model_id=\"openai.gpt-oss-20b-1:0\"\n",
    "bedrock = BedrockOpenAI(\n",
    "    model_id=model_id,\n",
    "    aws_configs=aws_config\n",
    ")\n",
    "\n",
    "response = bedrock.run(\n",
    "    system_prompt=\"You are a helpful assistant\",\n",
    "    messages=[\n",
    "        bedrock.UserMessage(\"Hello, how are you?\")\n",
    "    ]\n",
    ")\n",
    "response"
   ]
  },
  {
   "cell_type": "code",
   "execution_count": null,
   "id": "be471ecc",
   "metadata": {},
   "outputs": [],
   "source": []
  }
 ],
 "metadata": {
  "kernelspec": {
   "display_name": "broinsight",
   "language": "python",
   "name": "python3"
  },
  "language_info": {
   "codemirror_mode": {
    "name": "ipython",
    "version": 3
   },
   "file_extension": ".py",
   "mimetype": "text/x-python",
   "name": "python",
   "nbconvert_exporter": "python",
   "pygments_lexer": "ipython3",
   "version": "3.12.11"
  }
 },
 "nbformat": 4,
 "nbformat_minor": 5
}
