{
 "cells": [
  {
   "cell_type": "code",
   "execution_count": 1,
   "id": "b20a5dcd",
   "metadata": {},
   "outputs": [],
   "source": [
    "%load_ext autoreload\n",
    "%autoreload 2"
   ]
  },
  {
   "cell_type": "code",
   "execution_count": 2,
   "id": "8bbb0932",
   "metadata": {},
   "outputs": [
    {
     "data": {
      "text/plain": [
       "['total_bill', 'tip', 'sex', 'smoker', 'day', 'time', 'size']"
      ]
     },
     "execution_count": 2,
     "metadata": {},
     "output_type": "execute_result"
    }
   ],
   "source": [
    "import duckdb\n",
    "import pandas as pd\n",
    "import seaborn as sns\n",
    "\n",
    "tips = sns.load_dataset(\"tips\")\n",
    "\n",
    "tips.columns.tolist()"
   ]
  },
  {
   "cell_type": "code",
   "execution_count": 3,
   "id": "afd6caec",
   "metadata": {},
   "outputs": [
    {
     "data": {
      "text/html": [
       "<div>\n",
       "<style scoped>\n",
       "    .dataframe tbody tr th:only-of-type {\n",
       "        vertical-align: middle;\n",
       "    }\n",
       "\n",
       "    .dataframe tbody tr th {\n",
       "        vertical-align: top;\n",
       "    }\n",
       "\n",
       "    .dataframe thead th {\n",
       "        text-align: right;\n",
       "    }\n",
       "</style>\n",
       "<table border=\"1\" class=\"dataframe\">\n",
       "  <thead>\n",
       "    <tr style=\"text-align: right;\">\n",
       "      <th></th>\n",
       "      <th>total_bill</th>\n",
       "      <th>tip</th>\n",
       "      <th>sex</th>\n",
       "      <th>smoker</th>\n",
       "      <th>day</th>\n",
       "      <th>time</th>\n",
       "      <th>size</th>\n",
       "    </tr>\n",
       "  </thead>\n",
       "  <tbody>\n",
       "    <tr>\n",
       "      <th>0</th>\n",
       "      <td>16.99</td>\n",
       "      <td>1.01</td>\n",
       "      <td>Female</td>\n",
       "      <td>No</td>\n",
       "      <td>Sun</td>\n",
       "      <td>Dinner</td>\n",
       "      <td>2</td>\n",
       "    </tr>\n",
       "    <tr>\n",
       "      <th>1</th>\n",
       "      <td>10.34</td>\n",
       "      <td>1.66</td>\n",
       "      <td>Male</td>\n",
       "      <td>No</td>\n",
       "      <td>Sun</td>\n",
       "      <td>Dinner</td>\n",
       "      <td>3</td>\n",
       "    </tr>\n",
       "    <tr>\n",
       "      <th>2</th>\n",
       "      <td>21.01</td>\n",
       "      <td>3.50</td>\n",
       "      <td>Male</td>\n",
       "      <td>No</td>\n",
       "      <td>Sun</td>\n",
       "      <td>Dinner</td>\n",
       "      <td>3</td>\n",
       "    </tr>\n",
       "    <tr>\n",
       "      <th>3</th>\n",
       "      <td>23.68</td>\n",
       "      <td>3.31</td>\n",
       "      <td>Male</td>\n",
       "      <td>No</td>\n",
       "      <td>Sun</td>\n",
       "      <td>Dinner</td>\n",
       "      <td>2</td>\n",
       "    </tr>\n",
       "    <tr>\n",
       "      <th>4</th>\n",
       "      <td>24.59</td>\n",
       "      <td>3.61</td>\n",
       "      <td>Female</td>\n",
       "      <td>No</td>\n",
       "      <td>Sun</td>\n",
       "      <td>Dinner</td>\n",
       "      <td>4</td>\n",
       "    </tr>\n",
       "  </tbody>\n",
       "</table>\n",
       "</div>"
      ],
      "text/plain": [
       "   total_bill   tip     sex smoker  day    time  size\n",
       "0       16.99  1.01  Female     No  Sun  Dinner     2\n",
       "1       10.34  1.66    Male     No  Sun  Dinner     3\n",
       "2       21.01  3.50    Male     No  Sun  Dinner     3\n",
       "3       23.68  3.31    Male     No  Sun  Dinner     2\n",
       "4       24.59  3.61  Female     No  Sun  Dinner     4"
      ]
     },
     "execution_count": 3,
     "metadata": {},
     "output_type": "execute_result"
    }
   ],
   "source": [
    "tips.head()"
   ]
  },
  {
   "cell_type": "code",
   "execution_count": 4,
   "id": "03a13fef",
   "metadata": {},
   "outputs": [
    {
     "data": {
      "text/html": [
       "<div>\n",
       "<style scoped>\n",
       "    .dataframe tbody tr th:only-of-type {\n",
       "        vertical-align: middle;\n",
       "    }\n",
       "\n",
       "    .dataframe tbody tr th {\n",
       "        vertical-align: top;\n",
       "    }\n",
       "\n",
       "    .dataframe thead th {\n",
       "        text-align: right;\n",
       "    }\n",
       "</style>\n",
       "<table border=\"1\" class=\"dataframe\">\n",
       "  <thead>\n",
       "    <tr style=\"text-align: right;\">\n",
       "      <th></th>\n",
       "      <th>data_types</th>\n",
       "      <th>missing_values</th>\n",
       "      <th>missing_values_pct</th>\n",
       "      <th>unique_values</th>\n",
       "      <th>unique_values_pct</th>\n",
       "      <th>most_frequent</th>\n",
       "      <th>statistics</th>\n",
       "    </tr>\n",
       "  </thead>\n",
       "  <tbody>\n",
       "    <tr>\n",
       "      <th>total_bill</th>\n",
       "      <td>float</td>\n",
       "      <td>0</td>\n",
       "      <td>0.0</td>\n",
       "      <td>229</td>\n",
       "      <td>0.94</td>\n",
       "      <td>{13.42: 3, 13.81: 2, 15.98: 2, 17.92: 2, 10.07...</td>\n",
       "      <td>{'min': 3.07, 'max': 50.81, 'mean': 19.79, 'me...</td>\n",
       "    </tr>\n",
       "    <tr>\n",
       "      <th>tip</th>\n",
       "      <td>float</td>\n",
       "      <td>0</td>\n",
       "      <td>0.0</td>\n",
       "      <td>123</td>\n",
       "      <td>0.50</td>\n",
       "      <td>{2.0: 33, 3.0: 23, 4.0: 12, 5.0: 10, 2.5: 10}</td>\n",
       "      <td>{'min': 1.0, 'max': 10.0, 'mean': 3.0, 'median...</td>\n",
       "    </tr>\n",
       "    <tr>\n",
       "      <th>sex</th>\n",
       "      <td>string</td>\n",
       "      <td>0</td>\n",
       "      <td>0.0</td>\n",
       "      <td>2</td>\n",
       "      <td>0.01</td>\n",
       "      <td>{'Male': 157, 'Female': 87}</td>\n",
       "      <td>{'mode': 'Male', 'avg_length': 4.71, 'min_leng...</td>\n",
       "    </tr>\n",
       "    <tr>\n",
       "      <th>smoker</th>\n",
       "      <td>string</td>\n",
       "      <td>0</td>\n",
       "      <td>0.0</td>\n",
       "      <td>2</td>\n",
       "      <td>0.01</td>\n",
       "      <td>{'No': 151, 'Yes': 93}</td>\n",
       "      <td>{'mode': 'No', 'avg_length': 2.38, 'min_length...</td>\n",
       "    </tr>\n",
       "    <tr>\n",
       "      <th>day</th>\n",
       "      <td>string</td>\n",
       "      <td>0</td>\n",
       "      <td>0.0</td>\n",
       "      <td>4</td>\n",
       "      <td>0.02</td>\n",
       "      <td>{'Sat': 87, 'Sun': 76, 'Thur': 62, 'Fri': 19}</td>\n",
       "      <td>{'mode': 'Sat', 'avg_length': 3.25, 'min_lengt...</td>\n",
       "    </tr>\n",
       "    <tr>\n",
       "      <th>time</th>\n",
       "      <td>string</td>\n",
       "      <td>0</td>\n",
       "      <td>0.0</td>\n",
       "      <td>2</td>\n",
       "      <td>0.01</td>\n",
       "      <td>{'Dinner': 176, 'Lunch': 68}</td>\n",
       "      <td>{'mode': 'Dinner', 'avg_length': 5.72, 'min_le...</td>\n",
       "    </tr>\n",
       "    <tr>\n",
       "      <th>size</th>\n",
       "      <td>integer</td>\n",
       "      <td>0</td>\n",
       "      <td>0.0</td>\n",
       "      <td>6</td>\n",
       "      <td>0.02</td>\n",
       "      <td>{2: 156, 3: 38, 4: 37, 5: 5, 1: 4}</td>\n",
       "      <td>{'min': 1.0, 'max': 6.0, 'mean': 2.57, 'median...</td>\n",
       "    </tr>\n",
       "  </tbody>\n",
       "</table>\n",
       "</div>"
      ],
      "text/plain": [
       "           data_types  missing_values  missing_values_pct  unique_values  \\\n",
       "total_bill      float               0                 0.0            229   \n",
       "tip             float               0                 0.0            123   \n",
       "sex            string               0                 0.0              2   \n",
       "smoker         string               0                 0.0              2   \n",
       "day            string               0                 0.0              4   \n",
       "time           string               0                 0.0              2   \n",
       "size          integer               0                 0.0              6   \n",
       "\n",
       "            unique_values_pct  \\\n",
       "total_bill               0.94   \n",
       "tip                      0.50   \n",
       "sex                      0.01   \n",
       "smoker                   0.01   \n",
       "day                      0.02   \n",
       "time                     0.01   \n",
       "size                     0.02   \n",
       "\n",
       "                                                most_frequent  \\\n",
       "total_bill  {13.42: 3, 13.81: 2, 15.98: 2, 17.92: 2, 10.07...   \n",
       "tip             {2.0: 33, 3.0: 23, 4.0: 12, 5.0: 10, 2.5: 10}   \n",
       "sex                               {'Male': 157, 'Female': 87}   \n",
       "smoker                                 {'No': 151, 'Yes': 93}   \n",
       "day             {'Sat': 87, 'Sun': 76, 'Thur': 62, 'Fri': 19}   \n",
       "time                             {'Dinner': 176, 'Lunch': 68}   \n",
       "size                       {2: 156, 3: 38, 4: 37, 5: 5, 1: 4}   \n",
       "\n",
       "                                                   statistics  \n",
       "total_bill  {'min': 3.07, 'max': 50.81, 'mean': 19.79, 'me...  \n",
       "tip         {'min': 1.0, 'max': 10.0, 'mean': 3.0, 'median...  \n",
       "sex         {'mode': 'Male', 'avg_length': 4.71, 'min_leng...  \n",
       "smoker      {'mode': 'No', 'avg_length': 2.38, 'min_length...  \n",
       "day         {'mode': 'Sat', 'avg_length': 3.25, 'min_lengt...  \n",
       "time        {'mode': 'Dinner', 'avg_length': 5.72, 'min_le...  \n",
       "size        {'min': 1.0, 'max': 6.0, 'mean': 2.57, 'median...  "
      ]
     },
     "execution_count": 4,
     "metadata": {},
     "output_type": "execute_result"
    }
   ],
   "source": [
    "from broinsight.data_quality.field_profile import field_profile\n",
    "\n",
    "tips_metadata = field_profile(tips)\n",
    "pd.DataFrame.from_dict(tips_metadata, orient=\"index\")"
   ]
  },
  {
   "cell_type": "code",
   "execution_count": 5,
   "id": "79f053e1",
   "metadata": {},
   "outputs": [],
   "source": [
    "descriptions = dict(\n",
    "    total_bill=\"the amount of paid bill of the meal\",\n",
    "    tip=\"the amount of tip that customers paid\",\n",
    "    sex=\"the gender of customers\",\n",
    "    smoker=\"it indicates that a customer is a smoker or not. if No means a customer is a non-smoker, Yes means a customer is a smoker.\",\n",
    "    day=\"this is a day of the week when a customer having a meal here. i.e. Mon, Tue, Wed, Thu, Fri, Sat, Sun\",\n",
    "    time=\"the time of the meal. it can be either Dinner or Lunch\",\n",
    "    size=\"the number of dishes that customers have\",\n",
    ")"
   ]
  },
  {
   "cell_type": "code",
   "execution_count": 6,
   "id": "67361b3c",
   "metadata": {},
   "outputs": [
    {
     "data": {
      "text/plain": [
       "[None, None, None, None, None, None, None]"
      ]
     },
     "execution_count": 6,
     "metadata": {},
     "output_type": "execute_result"
    }
   ],
   "source": [
    "[tips_metadata[feat].update(dict(description=descriptions[feat])) for feat in tips.columns.tolist()]"
   ]
  },
  {
   "cell_type": "code",
   "execution_count": 7,
   "id": "ea266f99",
   "metadata": {},
   "outputs": [],
   "source": [
    "from broinsight.experiment.ollama import LocalOpenAI\n",
    "model = LocalOpenAI()"
   ]
  },
  {
   "cell_type": "code",
   "execution_count": 8,
   "id": "85e5ea66",
   "metadata": {},
   "outputs": [
    {
     "name": "stdout",
     "output_type": "stream",
     "text": [
      "Hi there!  \n",
      "From the metadata you shared, we have a tidy dataset that captures a few key aspects of each dining experience. Here’s a quick snapshot of what each column represents:\n",
      "\n",
      "| Column | Type | What it tells you |\n",
      "|--------|------|-------------------|\n",
      "| **total_bill** | float | The full amount paid for the meal (USD) |\n",
      "| **tip** | float | The tip given by the customer (USD) |\n",
      "| **sex** | string | Customer gender (Male/Female) |\n",
      "| **smoker** | string | Whether the customer smokes (Yes/No) |\n",
      "| **day** | string | Day of the week the meal was served |\n",
      "| **time** | string | Meal time (Lunch/Dinner) |\n",
      "| **size** | integer | Number of people in the party |\n",
      "\n",
      "All columns are complete (no missing values) and the dataset contains 239 individual records.  \n",
      "\n",
      "---\n",
      "\n",
      "## Ready to dig deeper?  \n",
      "Here are **five specific, actionable questions** you could explore next. Each one taps into a different angle of the data and can uncover insights that are useful for operations, marketing, or customer experience.\n",
      "\n",
      "1. **What’s the average tip percentage by day of the week?**  \n",
      "   *Why it matters:* Knowing which days attract higher tips can guide staffing and promotional strategies for those peak times.\n",
      "\n",
      "2. **Do smokers leave higher or lower tips compared to non‑smokers?**  \n",
      "   *Why it matters:* This can inform targeted service improvements or loyalty programs for specific customer segments.\n",
      "\n",
      "3. **How does the average total bill vary between lunch and dinner?**  \n",
      "   *Why it matters:* Understanding the price sensitivity of diners at different times helps optimize menu pricing and inventory planning.\n",
      "\n",
      "4. **Which party size generates the highest average bill?**  \n",
      "   *Why it matters:* Identifying the most profitable group sizes can help you tailor seating, upsell strategies, and reservation policies.\n",
      "\n",
      "5. **Is there a gender difference in tip amounts on weekends versus weekdays?**  \n",
      "   *Why it matters:* Reveals potential behavioral patterns that could influence staff training and customer engagement initiatives.\n",
      "\n",
      "Feel free to pick any of these questions (or let me know if you’d like to explore another angle). Happy analyzing!\n"
     ]
    }
   ],
   "source": [
    "from broprompt import Prompt\n",
    "\n",
    "prompt = Prompt.from_markdown(\"broinsight/prompt_hub/guide_question.md\")\n",
    "metadata = \"METADATA:\\n\\n{metadata}\\n\\n\".format(metadata=\"\\n\".join([\"{field}: {detail}\".format(field=field, detail=detail) for field, detail in tips_metadata.items()]))\n",
    "user_input = \"USER_INPUT:\\n\\nWhat data do we have?\"\n",
    "response = model.run(system_prompt=prompt.str, messages=[model.UserMessage(text=metadata+user_input)])\n",
    "\n",
    "print(response['content'])"
   ]
  },
  {
   "cell_type": "code",
   "execution_count": 9,
   "id": "046295a4",
   "metadata": {},
   "outputs": [
    {
     "name": "stdout",
     "output_type": "stream",
     "text": [
      "```text\n",
      "This table records every dining visit at the restaurant. For each meal it shows how much the customer paid (total bill), how much tip was left, the day of the week, whether it was lunch or dinner, how many people were in the party, and a few basic customer details such as gender and smoking status.  \n",
      "\n",
      "The data is used to understand revenue patterns, tip behavior, and customer traffic. It helps managers decide when to schedule staff, how to price menus, and which days or meal types bring in the most money. Marketing teams can use it to target promotions to specific groups (e.g., families, smokers, weekday diners). Finance uses it to track sales and forecast cash flow.  \n",
      "\n",
      "Typical users include restaurant managers, operations planners, finance and accounting staff, marketing analysts, and data analysts who turn these numbers into reports and dashboards.\n"
     ]
    }
   ],
   "source": [
    "prompt = Prompt.from_markdown(\"broinsight/prompt_hub/table_descriptor.md\")\n",
    "metadata = \"METADATA:\\n\\n{metadata}\\n\\n\".format(metadata=\"\\n\".join([\"{field}: {detail}\".format(field=field, detail=detail) for field, detail in tips_metadata.items()]))\n",
    "response = model.run(system_prompt=prompt.str, messages=[model.UserMessage(text=metadata)])\n",
    "\n",
    "print(response[\"content\"])"
   ]
  },
  {
   "cell_type": "code",
   "execution_count": 10,
   "id": "8d7d126a",
   "metadata": {},
   "outputs": [],
   "source": [
    "table_name = \"tips\"\n",
    "table_description = response['content'].split(\"```text\")[-1].split(\"```\")[0]\n",
    "\n",
    "table_metadata = dict(\n",
    "    table_name=table_name,\n",
    "    table_description=table_description,\n",
    ")\n",
    "table_metadata.update(tips_metadata)"
   ]
  },
  {
   "cell_type": "code",
   "execution_count": null,
   "id": "7a72ff66",
   "metadata": {},
   "outputs": [],
   "source": [
    "# question = \"Does smoker tip differently than non-smoker breaking down by time of day?\"\n",
    "# question = \"Which sex gives the better tips?\"\n",
    "question = \"Which sex gives the better tips than one another?\"\n",
    "# question = \"Which sex has the most dinner?\"\n",
    "# question = \"Based on sex, smoker type and meal of the day, which customer group paid most in tips?\"\n",
    "# question = \"Based on sex, smoker type and meal of the day, which customer group paid most in tips? I wanna see all comparisons.\"\n",
    "\n",
    "prompt = Prompt.from_markdown(\"broinsight/prompt_hub/generate_sql.md\")\n",
    "metadata = \"METADATA:\\n\\n{metadata}\\n\\n\".format(metadata=\"\\n\".join([\"{field}: {detail}\".format(field=field, detail=detail) for field, detail in table_metadata.items()]))\n",
    "user_input = \"USER_INPUT:\\n\\n{question}\".format(question=question)\n",
    "response = model.run(system_prompt=prompt.str, messages=[model.UserMessage(text=metadata+user_input)])\n",
    "\n",
    "print(response[\"content\"])"
   ]
  },
  {
   "cell_type": "code",
   "execution_count": null,
   "id": "792cbd59",
   "metadata": {},
   "outputs": [
    {
     "name": "stdout",
     "output_type": "stream",
     "text": [
      "\n",
      "SELECT \n",
      "    sex,\n",
      "    AVG(tip) AS avg_tip\n",
      "FROM \n",
      "    tips\n",
      "GROUP BY \n",
      "    sex\n",
      "ORDER BY \n",
      "    avg_tip DESC\n",
      "LIMIT 1;\n",
      "\n"
     ]
    }
   ],
   "source": [
    "sql_query = response['content'].split(\"```sql\")[-1].split(\"```\")[0]\n",
    "print(sql_query)"
   ]
  },
  {
   "cell_type": "code",
   "execution_count": null,
   "id": "306245ea",
   "metadata": {},
   "outputs": [
    {
     "data": {
      "text/html": [
       "<div>\n",
       "<style scoped>\n",
       "    .dataframe tbody tr th:only-of-type {\n",
       "        vertical-align: middle;\n",
       "    }\n",
       "\n",
       "    .dataframe tbody tr th {\n",
       "        vertical-align: top;\n",
       "    }\n",
       "\n",
       "    .dataframe thead th {\n",
       "        text-align: right;\n",
       "    }\n",
       "</style>\n",
       "<table border=\"1\" class=\"dataframe\">\n",
       "  <thead>\n",
       "    <tr style=\"text-align: right;\">\n",
       "      <th></th>\n",
       "      <th>sex</th>\n",
       "      <th>avg_tip</th>\n",
       "    </tr>\n",
       "  </thead>\n",
       "  <tbody>\n",
       "    <tr>\n",
       "      <th>0</th>\n",
       "      <td>Male</td>\n",
       "      <td>3.089618</td>\n",
       "    </tr>\n",
       "  </tbody>\n",
       "</table>\n",
       "</div>"
      ],
      "text/plain": [
       "    sex   avg_tip\n",
       "0  Male  3.089618"
      ]
     },
     "execution_count": 34,
     "metadata": {},
     "output_type": "execute_result"
    }
   ],
   "source": [
    "import duckdb\n",
    "conn = duckdb.connect()\n",
    "conn.register(\"tips\", tips)\n",
    "query_result = conn.execute(sql_query).df()\n",
    "query_result"
   ]
  },
  {
   "cell_type": "code",
   "execution_count": null,
   "id": "f575a2a2",
   "metadata": {},
   "outputs": [
    {
     "name": "stdout",
     "output_type": "stream",
     "text": [
      "It looks like the snippet you shared contains only one observation—**Male** with an average tip of **$3.09** (the “n” at the end probably indicates the number of observations for that group).  \n",
      "Because we don’t have the corresponding average for **Female** (or any other sex categories), I can’t say which group tips better based on this data alone.\n",
      "\n",
      "If you have the full dataset, you could compute the average tip for each sex and compare them. For example, in Python/pandas you could do:\n",
      "\n",
      "```python\n",
      "tips.groupby('sex')['tip'].mean()\n",
      "```\n",
      "\n",
      "That would give you a clear comparison. Let me know if you’d like help running that analysis or interpreting the results!\n"
     ]
    }
   ],
   "source": [
    "prompt = Prompt.from_markdown(\"broinsight/prompt_hub/chat.md\")\n",
    "context = \"CONTEXT:\\n\\n{context}n\\n\".format(context=query_result.to_string())\n",
    "user_input = \"USER_INPUT:\\n\\n{question}\".format(question=question)\n",
    "response = model.run(system_prompt=prompt.str, messages=[model.UserMessage(text=context+user_input)])\n",
    "\n",
    "print(response[\"content\"])"
   ]
  },
  {
   "cell_type": "code",
   "execution_count": null,
   "id": "70c1786c",
   "metadata": {},
   "outputs": [],
   "source": [
    "# 1. LLM generates function code\n",
    "prompt = Prompt.from_markdown(\"broinsight/prompt_hub/chart_builder.md\")\n",
    "data = \"DATA:\\n\\n{data}\\n\\n\".format(data=query_result.to_string())\n",
    "user_input = \"USER_INPUT:\\n\\n{question}\".format(question=question)\n",
    "response = model.run(system_prompt=prompt.str, messages=[\n",
    "    model.UserMessage(text=data+user_input)\n",
    "])"
   ]
  },
  {
   "cell_type": "code",
   "execution_count": null,
   "id": "e5fece24",
   "metadata": {},
   "outputs": [
    {
     "name": "stdout",
     "output_type": "stream",
     "text": [
      "```python\n",
      "def create_chart(data):\n",
      "    import plotly.express as px\n",
      "    import pandas as pd\n",
      "\n",
      "    # Ensure the DataFrame contains the required columns\n",
      "    if not {'sex', 'avg_tip'}.issubset(data.columns):\n",
      "        raise ValueError(\"Data must contain 'sex' and 'avg_tip' columns.\")\n",
      "\n",
      "    # Drop rows with missing values in relevant columns\n",
      "    df_clean = data.dropna(subset=['sex', 'avg_tip']).copy()\n",
      "\n",
      "    # Sort by avg_tip for better visual ordering\n",
      "    df_clean = df_clean.sort_values('avg_tip', ascending=False)\n",
      "\n",
      "    fig = px.bar(\n",
      "        df_clean,\n",
      "        x='sex',\n",
      "        y='avg_tip',\n",
      "        color='sex',\n",
      "        text='avg_tip',\n",
      "        title='Average Tip by Sex',\n",
      "        labels={\n",
      "            'sex': 'Sex',\n",
      "            'avg_tip': 'Average Tip ($)'\n",
      "        },\n",
      "        color_discrete_map={'Male': '#1f77b4', 'Female': '#ff7f0e'}\n",
      "    )\n",
      "\n",
      "    # Improve layout\n",
      "    fig.update_traces(textposition='outside')\n",
      "    fig.update_layout(\n",
      "        yaxis=dict(tickprefix=\"$\", title_font=dict(size=12)),\n",
      "        xaxis=dict(title_font=dict(size=12)),\n",
      "        legend=dict(title=None),\n",
      "        title=dict(x=0.5, xanchor='center'),\n",
      "        uniformtext_minsize=8,\n",
      "        uniformtext_mode='hide'\n",
      "    )\n",
      "\n",
      "    return fig\n",
      "```\n"
     ]
    }
   ],
   "source": [
    "print(response['content'])"
   ]
  },
  {
   "cell_type": "code",
   "execution_count": null,
   "id": "9eba4b07",
   "metadata": {},
   "outputs": [],
   "source": [
    "function_code = response['content'].split(\"```python\")[-1].split(\"```\")[0]\n",
    "\n",
    "# 2. Execute to create function\n",
    "exec(function_code)  # Now create_chart function exists\n",
    "\n",
    "# 3. Call with actual data\n",
    "fig = create_chart(query_result)"
   ]
  },
  {
   "cell_type": "code",
   "execution_count": null,
   "id": "9e63721c",
   "metadata": {},
   "outputs": [
    {
     "data": {
      "application/vnd.plotly.v1+json": {
       "config": {
        "plotlyServerURL": "https://plot.ly"
       },
       "data": [
        {
         "hovertemplate": "Sex=%{x}<br>Average Tip ($)=%{text}<extra></extra>",
         "legendgroup": "Male",
         "marker": {
          "color": "#1f77b4",
          "pattern": {
           "shape": ""
          }
         },
         "name": "Male",
         "orientation": "v",
         "showlegend": true,
         "text": {
          "bdata": "a+oejom3CEA=",
          "dtype": "f8"
         },
         "textposition": "outside",
         "type": "bar",
         "x": [
          "Male"
         ],
         "xaxis": "x",
         "y": {
          "bdata": "a+oejom3CEA=",
          "dtype": "f8"
         },
         "yaxis": "y"
        }
       ],
       "layout": {
        "barmode": "relative",
        "legend": {
         "title": {},
         "tracegroupgap": 0
        },
        "template": {
         "data": {
          "bar": [
           {
            "error_x": {
             "color": "#2a3f5f"
            },
            "error_y": {
             "color": "#2a3f5f"
            },
            "marker": {
             "line": {
              "color": "#E5ECF6",
              "width": 0.5
             },
             "pattern": {
              "fillmode": "overlay",
              "size": 10,
              "solidity": 0.2
             }
            },
            "type": "bar"
           }
          ],
          "barpolar": [
           {
            "marker": {
             "line": {
              "color": "#E5ECF6",
              "width": 0.5
             },
             "pattern": {
              "fillmode": "overlay",
              "size": 10,
              "solidity": 0.2
             }
            },
            "type": "barpolar"
           }
          ],
          "carpet": [
           {
            "aaxis": {
             "endlinecolor": "#2a3f5f",
             "gridcolor": "white",
             "linecolor": "white",
             "minorgridcolor": "white",
             "startlinecolor": "#2a3f5f"
            },
            "baxis": {
             "endlinecolor": "#2a3f5f",
             "gridcolor": "white",
             "linecolor": "white",
             "minorgridcolor": "white",
             "startlinecolor": "#2a3f5f"
            },
            "type": "carpet"
           }
          ],
          "choropleth": [
           {
            "colorbar": {
             "outlinewidth": 0,
             "ticks": ""
            },
            "type": "choropleth"
           }
          ],
          "contour": [
           {
            "colorbar": {
             "outlinewidth": 0,
             "ticks": ""
            },
            "colorscale": [
             [
              0,
              "#0d0887"
             ],
             [
              0.1111111111111111,
              "#46039f"
             ],
             [
              0.2222222222222222,
              "#7201a8"
             ],
             [
              0.3333333333333333,
              "#9c179e"
             ],
             [
              0.4444444444444444,
              "#bd3786"
             ],
             [
              0.5555555555555556,
              "#d8576b"
             ],
             [
              0.6666666666666666,
              "#ed7953"
             ],
             [
              0.7777777777777778,
              "#fb9f3a"
             ],
             [
              0.8888888888888888,
              "#fdca26"
             ],
             [
              1,
              "#f0f921"
             ]
            ],
            "type": "contour"
           }
          ],
          "contourcarpet": [
           {
            "colorbar": {
             "outlinewidth": 0,
             "ticks": ""
            },
            "type": "contourcarpet"
           }
          ],
          "heatmap": [
           {
            "colorbar": {
             "outlinewidth": 0,
             "ticks": ""
            },
            "colorscale": [
             [
              0,
              "#0d0887"
             ],
             [
              0.1111111111111111,
              "#46039f"
             ],
             [
              0.2222222222222222,
              "#7201a8"
             ],
             [
              0.3333333333333333,
              "#9c179e"
             ],
             [
              0.4444444444444444,
              "#bd3786"
             ],
             [
              0.5555555555555556,
              "#d8576b"
             ],
             [
              0.6666666666666666,
              "#ed7953"
             ],
             [
              0.7777777777777778,
              "#fb9f3a"
             ],
             [
              0.8888888888888888,
              "#fdca26"
             ],
             [
              1,
              "#f0f921"
             ]
            ],
            "type": "heatmap"
           }
          ],
          "histogram": [
           {
            "marker": {
             "pattern": {
              "fillmode": "overlay",
              "size": 10,
              "solidity": 0.2
             }
            },
            "type": "histogram"
           }
          ],
          "histogram2d": [
           {
            "colorbar": {
             "outlinewidth": 0,
             "ticks": ""
            },
            "colorscale": [
             [
              0,
              "#0d0887"
             ],
             [
              0.1111111111111111,
              "#46039f"
             ],
             [
              0.2222222222222222,
              "#7201a8"
             ],
             [
              0.3333333333333333,
              "#9c179e"
             ],
             [
              0.4444444444444444,
              "#bd3786"
             ],
             [
              0.5555555555555556,
              "#d8576b"
             ],
             [
              0.6666666666666666,
              "#ed7953"
             ],
             [
              0.7777777777777778,
              "#fb9f3a"
             ],
             [
              0.8888888888888888,
              "#fdca26"
             ],
             [
              1,
              "#f0f921"
             ]
            ],
            "type": "histogram2d"
           }
          ],
          "histogram2dcontour": [
           {
            "colorbar": {
             "outlinewidth": 0,
             "ticks": ""
            },
            "colorscale": [
             [
              0,
              "#0d0887"
             ],
             [
              0.1111111111111111,
              "#46039f"
             ],
             [
              0.2222222222222222,
              "#7201a8"
             ],
             [
              0.3333333333333333,
              "#9c179e"
             ],
             [
              0.4444444444444444,
              "#bd3786"
             ],
             [
              0.5555555555555556,
              "#d8576b"
             ],
             [
              0.6666666666666666,
              "#ed7953"
             ],
             [
              0.7777777777777778,
              "#fb9f3a"
             ],
             [
              0.8888888888888888,
              "#fdca26"
             ],
             [
              1,
              "#f0f921"
             ]
            ],
            "type": "histogram2dcontour"
           }
          ],
          "mesh3d": [
           {
            "colorbar": {
             "outlinewidth": 0,
             "ticks": ""
            },
            "type": "mesh3d"
           }
          ],
          "parcoords": [
           {
            "line": {
             "colorbar": {
              "outlinewidth": 0,
              "ticks": ""
             }
            },
            "type": "parcoords"
           }
          ],
          "pie": [
           {
            "automargin": true,
            "type": "pie"
           }
          ],
          "scatter": [
           {
            "fillpattern": {
             "fillmode": "overlay",
             "size": 10,
             "solidity": 0.2
            },
            "type": "scatter"
           }
          ],
          "scatter3d": [
           {
            "line": {
             "colorbar": {
              "outlinewidth": 0,
              "ticks": ""
             }
            },
            "marker": {
             "colorbar": {
              "outlinewidth": 0,
              "ticks": ""
             }
            },
            "type": "scatter3d"
           }
          ],
          "scattercarpet": [
           {
            "marker": {
             "colorbar": {
              "outlinewidth": 0,
              "ticks": ""
             }
            },
            "type": "scattercarpet"
           }
          ],
          "scattergeo": [
           {
            "marker": {
             "colorbar": {
              "outlinewidth": 0,
              "ticks": ""
             }
            },
            "type": "scattergeo"
           }
          ],
          "scattergl": [
           {
            "marker": {
             "colorbar": {
              "outlinewidth": 0,
              "ticks": ""
             }
            },
            "type": "scattergl"
           }
          ],
          "scattermap": [
           {
            "marker": {
             "colorbar": {
              "outlinewidth": 0,
              "ticks": ""
             }
            },
            "type": "scattermap"
           }
          ],
          "scattermapbox": [
           {
            "marker": {
             "colorbar": {
              "outlinewidth": 0,
              "ticks": ""
             }
            },
            "type": "scattermapbox"
           }
          ],
          "scatterpolar": [
           {
            "marker": {
             "colorbar": {
              "outlinewidth": 0,
              "ticks": ""
             }
            },
            "type": "scatterpolar"
           }
          ],
          "scatterpolargl": [
           {
            "marker": {
             "colorbar": {
              "outlinewidth": 0,
              "ticks": ""
             }
            },
            "type": "scatterpolargl"
           }
          ],
          "scatterternary": [
           {
            "marker": {
             "colorbar": {
              "outlinewidth": 0,
              "ticks": ""
             }
            },
            "type": "scatterternary"
           }
          ],
          "surface": [
           {
            "colorbar": {
             "outlinewidth": 0,
             "ticks": ""
            },
            "colorscale": [
             [
              0,
              "#0d0887"
             ],
             [
              0.1111111111111111,
              "#46039f"
             ],
             [
              0.2222222222222222,
              "#7201a8"
             ],
             [
              0.3333333333333333,
              "#9c179e"
             ],
             [
              0.4444444444444444,
              "#bd3786"
             ],
             [
              0.5555555555555556,
              "#d8576b"
             ],
             [
              0.6666666666666666,
              "#ed7953"
             ],
             [
              0.7777777777777778,
              "#fb9f3a"
             ],
             [
              0.8888888888888888,
              "#fdca26"
             ],
             [
              1,
              "#f0f921"
             ]
            ],
            "type": "surface"
           }
          ],
          "table": [
           {
            "cells": {
             "fill": {
              "color": "#EBF0F8"
             },
             "line": {
              "color": "white"
             }
            },
            "header": {
             "fill": {
              "color": "#C8D4E3"
             },
             "line": {
              "color": "white"
             }
            },
            "type": "table"
           }
          ]
         },
         "layout": {
          "annotationdefaults": {
           "arrowcolor": "#2a3f5f",
           "arrowhead": 0,
           "arrowwidth": 1
          },
          "autotypenumbers": "strict",
          "coloraxis": {
           "colorbar": {
            "outlinewidth": 0,
            "ticks": ""
           }
          },
          "colorscale": {
           "diverging": [
            [
             0,
             "#8e0152"
            ],
            [
             0.1,
             "#c51b7d"
            ],
            [
             0.2,
             "#de77ae"
            ],
            [
             0.3,
             "#f1b6da"
            ],
            [
             0.4,
             "#fde0ef"
            ],
            [
             0.5,
             "#f7f7f7"
            ],
            [
             0.6,
             "#e6f5d0"
            ],
            [
             0.7,
             "#b8e186"
            ],
            [
             0.8,
             "#7fbc41"
            ],
            [
             0.9,
             "#4d9221"
            ],
            [
             1,
             "#276419"
            ]
           ],
           "sequential": [
            [
             0,
             "#0d0887"
            ],
            [
             0.1111111111111111,
             "#46039f"
            ],
            [
             0.2222222222222222,
             "#7201a8"
            ],
            [
             0.3333333333333333,
             "#9c179e"
            ],
            [
             0.4444444444444444,
             "#bd3786"
            ],
            [
             0.5555555555555556,
             "#d8576b"
            ],
            [
             0.6666666666666666,
             "#ed7953"
            ],
            [
             0.7777777777777778,
             "#fb9f3a"
            ],
            [
             0.8888888888888888,
             "#fdca26"
            ],
            [
             1,
             "#f0f921"
            ]
           ],
           "sequentialminus": [
            [
             0,
             "#0d0887"
            ],
            [
             0.1111111111111111,
             "#46039f"
            ],
            [
             0.2222222222222222,
             "#7201a8"
            ],
            [
             0.3333333333333333,
             "#9c179e"
            ],
            [
             0.4444444444444444,
             "#bd3786"
            ],
            [
             0.5555555555555556,
             "#d8576b"
            ],
            [
             0.6666666666666666,
             "#ed7953"
            ],
            [
             0.7777777777777778,
             "#fb9f3a"
            ],
            [
             0.8888888888888888,
             "#fdca26"
            ],
            [
             1,
             "#f0f921"
            ]
           ]
          },
          "colorway": [
           "#636efa",
           "#EF553B",
           "#00cc96",
           "#ab63fa",
           "#FFA15A",
           "#19d3f3",
           "#FF6692",
           "#B6E880",
           "#FF97FF",
           "#FECB52"
          ],
          "font": {
           "color": "#2a3f5f"
          },
          "geo": {
           "bgcolor": "white",
           "lakecolor": "white",
           "landcolor": "#E5ECF6",
           "showlakes": true,
           "showland": true,
           "subunitcolor": "white"
          },
          "hoverlabel": {
           "align": "left"
          },
          "hovermode": "closest",
          "mapbox": {
           "style": "light"
          },
          "paper_bgcolor": "white",
          "plot_bgcolor": "#E5ECF6",
          "polar": {
           "angularaxis": {
            "gridcolor": "white",
            "linecolor": "white",
            "ticks": ""
           },
           "bgcolor": "#E5ECF6",
           "radialaxis": {
            "gridcolor": "white",
            "linecolor": "white",
            "ticks": ""
           }
          },
          "scene": {
           "xaxis": {
            "backgroundcolor": "#E5ECF6",
            "gridcolor": "white",
            "gridwidth": 2,
            "linecolor": "white",
            "showbackground": true,
            "ticks": "",
            "zerolinecolor": "white"
           },
           "yaxis": {
            "backgroundcolor": "#E5ECF6",
            "gridcolor": "white",
            "gridwidth": 2,
            "linecolor": "white",
            "showbackground": true,
            "ticks": "",
            "zerolinecolor": "white"
           },
           "zaxis": {
            "backgroundcolor": "#E5ECF6",
            "gridcolor": "white",
            "gridwidth": 2,
            "linecolor": "white",
            "showbackground": true,
            "ticks": "",
            "zerolinecolor": "white"
           }
          },
          "shapedefaults": {
           "line": {
            "color": "#2a3f5f"
           }
          },
          "ternary": {
           "aaxis": {
            "gridcolor": "white",
            "linecolor": "white",
            "ticks": ""
           },
           "baxis": {
            "gridcolor": "white",
            "linecolor": "white",
            "ticks": ""
           },
           "bgcolor": "#E5ECF6",
           "caxis": {
            "gridcolor": "white",
            "linecolor": "white",
            "ticks": ""
           }
          },
          "title": {
           "x": 0.05
          },
          "xaxis": {
           "automargin": true,
           "gridcolor": "white",
           "linecolor": "white",
           "ticks": "",
           "title": {
            "standoff": 15
           },
           "zerolinecolor": "white",
           "zerolinewidth": 2
          },
          "yaxis": {
           "automargin": true,
           "gridcolor": "white",
           "linecolor": "white",
           "ticks": "",
           "title": {
            "standoff": 15
           },
           "zerolinecolor": "white",
           "zerolinewidth": 2
          }
         }
        },
        "title": {
         "text": "Average Tip by Sex",
         "x": 0.5,
         "xanchor": "center"
        },
        "uniformtext": {
         "minsize": 8,
         "mode": "hide"
        },
        "xaxis": {
         "anchor": "y",
         "categoryarray": [
          "Male"
         ],
         "categoryorder": "array",
         "domain": [
          0,
          1
         ],
         "title": {
          "font": {
           "size": 12
          },
          "text": "Sex"
         }
        },
        "yaxis": {
         "anchor": "x",
         "domain": [
          0,
          1
         ],
         "tickprefix": "$",
         "title": {
          "font": {
           "size": 12
          },
          "text": "Average Tip ($)"
         }
        }
       }
      }
     },
     "metadata": {},
     "output_type": "display_data"
    }
   ],
   "source": [
    "fig.show()"
   ]
  },
  {
   "cell_type": "code",
   "execution_count": 55,
   "id": "07b00798",
   "metadata": {},
   "outputs": [],
   "source": [
    "# 4. Display with fallback\n",
    "try:\n",
    "    fig.show()\n",
    "except ValueError:\n",
    "    fig.show(renderer=\"browser\")  # Fallback to browser\n"
   ]
  },
  {
   "cell_type": "code",
   "execution_count": null,
   "id": "b08e0c95",
   "metadata": {},
   "outputs": [],
   "source": []
  }
 ],
 "metadata": {
  "kernelspec": {
   "display_name": "broinsight",
   "language": "python",
   "name": "python3"
  },
  "language_info": {
   "codemirror_mode": {
    "name": "ipython",
    "version": 3
   },
   "file_extension": ".py",
   "mimetype": "text/x-python",
   "name": "python",
   "nbconvert_exporter": "python",
   "pygments_lexer": "ipython3",
   "version": "3.12.11"
  }
 },
 "nbformat": 4,
 "nbformat_minor": 5
}
