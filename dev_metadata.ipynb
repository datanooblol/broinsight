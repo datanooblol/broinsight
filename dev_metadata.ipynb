{
 "cells": [
  {
   "cell_type": "code",
   "execution_count": 1,
   "id": "b20a5dcd",
   "metadata": {},
   "outputs": [],
   "source": [
    "%load_ext autoreload\n",
    "%autoreload 2"
   ]
  },
  {
   "cell_type": "code",
   "execution_count": 2,
   "id": "8bbb0932",
   "metadata": {},
   "outputs": [
    {
     "data": {
      "text/plain": [
       "['total_bill', 'tip', 'sex', 'smoker', 'day', 'time', 'size']"
      ]
     },
     "execution_count": 2,
     "metadata": {},
     "output_type": "execute_result"
    }
   ],
   "source": [
    "import duckdb\n",
    "import pandas as pd\n",
    "import seaborn as sns\n",
    "\n",
    "tips = sns.load_dataset(\"tips\")\n",
    "\n",
    "tips.columns.tolist()"
   ]
  },
  {
   "cell_type": "code",
   "execution_count": 3,
   "id": "afd6caec",
   "metadata": {},
   "outputs": [
    {
     "data": {
      "text/html": [
       "<div>\n",
       "<style scoped>\n",
       "    .dataframe tbody tr th:only-of-type {\n",
       "        vertical-align: middle;\n",
       "    }\n",
       "\n",
       "    .dataframe tbody tr th {\n",
       "        vertical-align: top;\n",
       "    }\n",
       "\n",
       "    .dataframe thead th {\n",
       "        text-align: right;\n",
       "    }\n",
       "</style>\n",
       "<table border=\"1\" class=\"dataframe\">\n",
       "  <thead>\n",
       "    <tr style=\"text-align: right;\">\n",
       "      <th></th>\n",
       "      <th>total_bill</th>\n",
       "      <th>tip</th>\n",
       "      <th>sex</th>\n",
       "      <th>smoker</th>\n",
       "      <th>day</th>\n",
       "      <th>time</th>\n",
       "      <th>size</th>\n",
       "    </tr>\n",
       "  </thead>\n",
       "  <tbody>\n",
       "    <tr>\n",
       "      <th>0</th>\n",
       "      <td>16.99</td>\n",
       "      <td>1.01</td>\n",
       "      <td>Female</td>\n",
       "      <td>No</td>\n",
       "      <td>Sun</td>\n",
       "      <td>Dinner</td>\n",
       "      <td>2</td>\n",
       "    </tr>\n",
       "    <tr>\n",
       "      <th>1</th>\n",
       "      <td>10.34</td>\n",
       "      <td>1.66</td>\n",
       "      <td>Male</td>\n",
       "      <td>No</td>\n",
       "      <td>Sun</td>\n",
       "      <td>Dinner</td>\n",
       "      <td>3</td>\n",
       "    </tr>\n",
       "    <tr>\n",
       "      <th>2</th>\n",
       "      <td>21.01</td>\n",
       "      <td>3.50</td>\n",
       "      <td>Male</td>\n",
       "      <td>No</td>\n",
       "      <td>Sun</td>\n",
       "      <td>Dinner</td>\n",
       "      <td>3</td>\n",
       "    </tr>\n",
       "    <tr>\n",
       "      <th>3</th>\n",
       "      <td>23.68</td>\n",
       "      <td>3.31</td>\n",
       "      <td>Male</td>\n",
       "      <td>No</td>\n",
       "      <td>Sun</td>\n",
       "      <td>Dinner</td>\n",
       "      <td>2</td>\n",
       "    </tr>\n",
       "    <tr>\n",
       "      <th>4</th>\n",
       "      <td>24.59</td>\n",
       "      <td>3.61</td>\n",
       "      <td>Female</td>\n",
       "      <td>No</td>\n",
       "      <td>Sun</td>\n",
       "      <td>Dinner</td>\n",
       "      <td>4</td>\n",
       "    </tr>\n",
       "  </tbody>\n",
       "</table>\n",
       "</div>"
      ],
      "text/plain": [
       "   total_bill   tip     sex smoker  day    time  size\n",
       "0       16.99  1.01  Female     No  Sun  Dinner     2\n",
       "1       10.34  1.66    Male     No  Sun  Dinner     3\n",
       "2       21.01  3.50    Male     No  Sun  Dinner     3\n",
       "3       23.68  3.31    Male     No  Sun  Dinner     2\n",
       "4       24.59  3.61  Female     No  Sun  Dinner     4"
      ]
     },
     "execution_count": 3,
     "metadata": {},
     "output_type": "execute_result"
    }
   ],
   "source": [
    "tips.head()"
   ]
  },
  {
   "cell_type": "code",
   "execution_count": 4,
   "id": "03a13fef",
   "metadata": {},
   "outputs": [
    {
     "data": {
      "text/html": [
       "<div>\n",
       "<style scoped>\n",
       "    .dataframe tbody tr th:only-of-type {\n",
       "        vertical-align: middle;\n",
       "    }\n",
       "\n",
       "    .dataframe tbody tr th {\n",
       "        vertical-align: top;\n",
       "    }\n",
       "\n",
       "    .dataframe thead th {\n",
       "        text-align: right;\n",
       "    }\n",
       "</style>\n",
       "<table border=\"1\" class=\"dataframe\">\n",
       "  <thead>\n",
       "    <tr style=\"text-align: right;\">\n",
       "      <th></th>\n",
       "      <th>data_types</th>\n",
       "      <th>missing_values</th>\n",
       "      <th>missing_values_pct</th>\n",
       "      <th>unique_values</th>\n",
       "      <th>unique_values_pct</th>\n",
       "      <th>most_frequent</th>\n",
       "      <th>statistics</th>\n",
       "    </tr>\n",
       "  </thead>\n",
       "  <tbody>\n",
       "    <tr>\n",
       "      <th>total_bill</th>\n",
       "      <td>float</td>\n",
       "      <td>0</td>\n",
       "      <td>0.0</td>\n",
       "      <td>229</td>\n",
       "      <td>0.94</td>\n",
       "      <td>{13.42: 3, 13.81: 2, 15.98: 2, 17.92: 2, 10.07...</td>\n",
       "      <td>{'min': 3.07, 'max': 50.81, 'mean': 19.79, 'me...</td>\n",
       "    </tr>\n",
       "    <tr>\n",
       "      <th>tip</th>\n",
       "      <td>float</td>\n",
       "      <td>0</td>\n",
       "      <td>0.0</td>\n",
       "      <td>123</td>\n",
       "      <td>0.50</td>\n",
       "      <td>{2.0: 33, 3.0: 23, 4.0: 12, 5.0: 10, 2.5: 10}</td>\n",
       "      <td>{'min': 1.0, 'max': 10.0, 'mean': 3.0, 'median...</td>\n",
       "    </tr>\n",
       "    <tr>\n",
       "      <th>sex</th>\n",
       "      <td>string</td>\n",
       "      <td>0</td>\n",
       "      <td>0.0</td>\n",
       "      <td>2</td>\n",
       "      <td>0.01</td>\n",
       "      <td>{'Male': 157, 'Female': 87}</td>\n",
       "      <td>{'mode': 'Male', 'avg_length': 4.71, 'min_leng...</td>\n",
       "    </tr>\n",
       "    <tr>\n",
       "      <th>smoker</th>\n",
       "      <td>string</td>\n",
       "      <td>0</td>\n",
       "      <td>0.0</td>\n",
       "      <td>2</td>\n",
       "      <td>0.01</td>\n",
       "      <td>{'No': 151, 'Yes': 93}</td>\n",
       "      <td>{'mode': 'No', 'avg_length': 2.38, 'min_length...</td>\n",
       "    </tr>\n",
       "    <tr>\n",
       "      <th>day</th>\n",
       "      <td>string</td>\n",
       "      <td>0</td>\n",
       "      <td>0.0</td>\n",
       "      <td>4</td>\n",
       "      <td>0.02</td>\n",
       "      <td>{'Sat': 87, 'Sun': 76, 'Thur': 62, 'Fri': 19}</td>\n",
       "      <td>{'mode': 'Sat', 'avg_length': 3.25, 'min_lengt...</td>\n",
       "    </tr>\n",
       "    <tr>\n",
       "      <th>time</th>\n",
       "      <td>string</td>\n",
       "      <td>0</td>\n",
       "      <td>0.0</td>\n",
       "      <td>2</td>\n",
       "      <td>0.01</td>\n",
       "      <td>{'Dinner': 176, 'Lunch': 68}</td>\n",
       "      <td>{'mode': 'Dinner', 'avg_length': 5.72, 'min_le...</td>\n",
       "    </tr>\n",
       "    <tr>\n",
       "      <th>size</th>\n",
       "      <td>integer</td>\n",
       "      <td>0</td>\n",
       "      <td>0.0</td>\n",
       "      <td>6</td>\n",
       "      <td>0.02</td>\n",
       "      <td>{2: 156, 3: 38, 4: 37, 5: 5, 1: 4}</td>\n",
       "      <td>{'min': 1.0, 'max': 6.0, 'mean': 2.57, 'median...</td>\n",
       "    </tr>\n",
       "  </tbody>\n",
       "</table>\n",
       "</div>"
      ],
      "text/plain": [
       "           data_types  missing_values  missing_values_pct  unique_values  \\\n",
       "total_bill      float               0                 0.0            229   \n",
       "tip             float               0                 0.0            123   \n",
       "sex            string               0                 0.0              2   \n",
       "smoker         string               0                 0.0              2   \n",
       "day            string               0                 0.0              4   \n",
       "time           string               0                 0.0              2   \n",
       "size          integer               0                 0.0              6   \n",
       "\n",
       "            unique_values_pct  \\\n",
       "total_bill               0.94   \n",
       "tip                      0.50   \n",
       "sex                      0.01   \n",
       "smoker                   0.01   \n",
       "day                      0.02   \n",
       "time                     0.01   \n",
       "size                     0.02   \n",
       "\n",
       "                                                most_frequent  \\\n",
       "total_bill  {13.42: 3, 13.81: 2, 15.98: 2, 17.92: 2, 10.07...   \n",
       "tip             {2.0: 33, 3.0: 23, 4.0: 12, 5.0: 10, 2.5: 10}   \n",
       "sex                               {'Male': 157, 'Female': 87}   \n",
       "smoker                                 {'No': 151, 'Yes': 93}   \n",
       "day             {'Sat': 87, 'Sun': 76, 'Thur': 62, 'Fri': 19}   \n",
       "time                             {'Dinner': 176, 'Lunch': 68}   \n",
       "size                       {2: 156, 3: 38, 4: 37, 5: 5, 1: 4}   \n",
       "\n",
       "                                                   statistics  \n",
       "total_bill  {'min': 3.07, 'max': 50.81, 'mean': 19.79, 'me...  \n",
       "tip         {'min': 1.0, 'max': 10.0, 'mean': 3.0, 'median...  \n",
       "sex         {'mode': 'Male', 'avg_length': 4.71, 'min_leng...  \n",
       "smoker      {'mode': 'No', 'avg_length': 2.38, 'min_length...  \n",
       "day         {'mode': 'Sat', 'avg_length': 3.25, 'min_lengt...  \n",
       "time        {'mode': 'Dinner', 'avg_length': 5.72, 'min_le...  \n",
       "size        {'min': 1.0, 'max': 6.0, 'mean': 2.57, 'median...  "
      ]
     },
     "execution_count": 4,
     "metadata": {},
     "output_type": "execute_result"
    }
   ],
   "source": [
    "from broinsight.data_quality.field_profile import field_profile\n",
    "\n",
    "tips_metadata = field_profile(tips)\n",
    "pd.DataFrame.from_dict(tips_metadata, orient=\"index\")"
   ]
  },
  {
   "cell_type": "code",
   "execution_count": 5,
   "id": "70b1a60a",
   "metadata": {},
   "outputs": [
    {
     "data": {
      "text/plain": [
       "{'total_bill': {'data_types': 'float',\n",
       "  'missing_values': 0,\n",
       "  'missing_values_pct': 0.0,\n",
       "  'unique_values': 229,\n",
       "  'unique_values_pct': 0.94,\n",
       "  'most_frequent': {13.42: 3, 13.81: 2, 15.98: 2, 17.92: 2, 10.07: 2},\n",
       "  'statistics': {'min': 3.07,\n",
       "   'max': 50.81,\n",
       "   'mean': 19.79,\n",
       "   'median': 17.8,\n",
       "   'std': 8.9,\n",
       "   'var': 79.25,\n",
       "   'skew': 1.13,\n",
       "   'kurt': 1.22,\n",
       "   'iqr': 10.78,\n",
       "   'cv': 0.45,\n",
       "   'lower_bound': -2.82,\n",
       "   'upper_bound': 40.3}},\n",
       " 'tip': {'data_types': 'float',\n",
       "  'missing_values': 0,\n",
       "  'missing_values_pct': 0.0,\n",
       "  'unique_values': 123,\n",
       "  'unique_values_pct': 0.5,\n",
       "  'most_frequent': {2.0: 33, 3.0: 23, 4.0: 12, 5.0: 10, 2.5: 10},\n",
       "  'statistics': {'min': 1.0,\n",
       "   'max': 10.0,\n",
       "   'mean': 3.0,\n",
       "   'median': 2.9,\n",
       "   'std': 1.38,\n",
       "   'var': 1.91,\n",
       "   'skew': 1.47,\n",
       "   'kurt': 3.65,\n",
       "   'iqr': 1.56,\n",
       "   'cv': 0.46,\n",
       "   'lower_bound': -0.34,\n",
       "   'upper_bound': 5.91}},\n",
       " 'sex': {'data_types': 'string',\n",
       "  'missing_values': 0,\n",
       "  'missing_values_pct': 0.0,\n",
       "  'unique_values': 2,\n",
       "  'unique_values_pct': 0.01,\n",
       "  'most_frequent': {'Male': 157, 'Female': 87},\n",
       "  'statistics': {'mode': 'Male',\n",
       "   'avg_length': 4.71,\n",
       "   'min_length': 4.0,\n",
       "   'max_length': 6.0,\n",
       "   'empty_count': 0.0,\n",
       "   'whitespace_count': 0.0,\n",
       "   'pattern_consistency': 0.01}},\n",
       " 'smoker': {'data_types': 'string',\n",
       "  'missing_values': 0,\n",
       "  'missing_values_pct': 0.0,\n",
       "  'unique_values': 2,\n",
       "  'unique_values_pct': 0.01,\n",
       "  'most_frequent': {'No': 151, 'Yes': 93},\n",
       "  'statistics': {'mode': 'No',\n",
       "   'avg_length': 2.38,\n",
       "   'min_length': 2.0,\n",
       "   'max_length': 3.0,\n",
       "   'empty_count': 0.0,\n",
       "   'whitespace_count': 0.0,\n",
       "   'pattern_consistency': 0.01}},\n",
       " 'day': {'data_types': 'string',\n",
       "  'missing_values': 0,\n",
       "  'missing_values_pct': 0.0,\n",
       "  'unique_values': 4,\n",
       "  'unique_values_pct': 0.02,\n",
       "  'most_frequent': {'Sat': 87, 'Sun': 76, 'Thur': 62, 'Fri': 19},\n",
       "  'statistics': {'mode': 'Sat',\n",
       "   'avg_length': 3.25,\n",
       "   'min_length': 3.0,\n",
       "   'max_length': 4.0,\n",
       "   'empty_count': 0.0,\n",
       "   'whitespace_count': 0.0,\n",
       "   'pattern_consistency': 0.02}},\n",
       " 'time': {'data_types': 'string',\n",
       "  'missing_values': 0,\n",
       "  'missing_values_pct': 0.0,\n",
       "  'unique_values': 2,\n",
       "  'unique_values_pct': 0.01,\n",
       "  'most_frequent': {'Dinner': 176, 'Lunch': 68},\n",
       "  'statistics': {'mode': 'Dinner',\n",
       "   'avg_length': 5.72,\n",
       "   'min_length': 5.0,\n",
       "   'max_length': 6.0,\n",
       "   'empty_count': 0.0,\n",
       "   'whitespace_count': 0.0,\n",
       "   'pattern_consistency': 0.01}},\n",
       " 'size': {'data_types': 'integer',\n",
       "  'missing_values': 0,\n",
       "  'missing_values_pct': 0.0,\n",
       "  'unique_values': 6,\n",
       "  'unique_values_pct': 0.02,\n",
       "  'most_frequent': {2: 156, 3: 38, 4: 37, 5: 5, 1: 4},\n",
       "  'statistics': {'min': 1.0,\n",
       "   'max': 6.0,\n",
       "   'mean': 2.57,\n",
       "   'median': 2.0,\n",
       "   'std': 0.95,\n",
       "   'var': 0.9,\n",
       "   'skew': 1.45,\n",
       "   'kurt': 1.73,\n",
       "   'iqr': 1.0,\n",
       "   'cv': 0.37,\n",
       "   'lower_bound': 0.5,\n",
       "   'upper_bound': 4.5}}}"
      ]
     },
     "execution_count": 5,
     "metadata": {},
     "output_type": "execute_result"
    }
   ],
   "source": [
    "tips_metadata"
   ]
  },
  {
   "cell_type": "code",
   "execution_count": 6,
   "id": "79f053e1",
   "metadata": {},
   "outputs": [],
   "source": [
    "descriptions = dict(\n",
    "    total_bill=\"the amount of paid bill of the meal\",\n",
    "    tip=\"the amount of tip that customers paid\",\n",
    "    sex=\"the gender of customers\",\n",
    "    smoker=\"it indicates that a customer is a smoker or not. if No means a customer is a non-smoker, Yes means a customer is a smoker.\",\n",
    "    day=\"this is a day of the week when a customer having a meal here. i.e. Mon, Tue, Wed, Thu, Fri, Sat, Sun\",\n",
    "    time=\"the time of the meal. it can be either Dinner or Lunch\",\n",
    "    size=\"the number of dishes that customers have\",\n",
    ")"
   ]
  },
  {
   "cell_type": "code",
   "execution_count": 7,
   "id": "67361b3c",
   "metadata": {},
   "outputs": [
    {
     "data": {
      "text/plain": [
       "[None, None, None, None, None, None, None]"
      ]
     },
     "execution_count": 7,
     "metadata": {},
     "output_type": "execute_result"
    }
   ],
   "source": [
    "[tips_metadata[feat].update(dict(description=descriptions[feat])) for feat in tips.columns.tolist()]"
   ]
  },
  {
   "cell_type": "code",
   "execution_count": 8,
   "id": "ea266f99",
   "metadata": {},
   "outputs": [],
   "source": [
    "from broinsight.experiment.ollama import LocalOpenAI\n",
    "model = LocalOpenAI()"
   ]
  },
  {
   "cell_type": "code",
   "execution_count": 9,
   "id": "85e5ea66",
   "metadata": {},
   "outputs": [
    {
     "name": "stdout",
     "output_type": "stream",
     "text": [
      "Hi there!  \n",
      "From the metadata you shared, your dataset captures a snapshot of restaurant visits. Here’s a quick rundown of what’s available:\n",
      "\n",
      "| Variable | Type | What it represents | Key stats |\n",
      "|----------|------|--------------------|-----------|\n",
      "| **total_bill** | float | Amount customers paid for their meal | $3.07 – $50.81 (avg $19.79) |\n",
      "| **tip** | float | Tip given by the customer | $1 – $10 (avg $3.00) |\n",
      "| **sex** | string | Customer gender | Male / Female |\n",
      "| **smoker** | string | Whether the customer smokes | Yes / No |\n",
      "| **day** | string | Day of the week the visit occurred | Sat, Sun, Thu, Fri |\n",
      "| **time** | string | Meal time | Dinner / Lunch |\n",
      "| **size** | integer | Number of people in the party | 1 – 6 (avg 2.57) |\n",
      "\n",
      "With these fields you can explore a variety of business questions—from how tips vary by day or time, to whether party size influences the total bill.\n",
      "\n",
      "---\n",
      "\n",
      "### 3‑5 actionable questions you might want to ask next\n",
      "\n",
      "1. **What is the average tip amount for each day of the week?**  \n",
      "   *Why it matters:* Helps you understand peak tipping days and adjust staffing or promotions accordingly.\n",
      "\n",
      "2. **How does the total bill differ between lunch and dinner?**  \n",
      "   *Why it matters:* Reveals whether dinner guests spend more, which can guide menu pricing or special offers.\n",
      "\n",
      "3. **Does party size have a strong correlation with the total bill?**  \n",
      "   *Why it matters:* Identifies whether larger groups drive higher revenue, informing seating or upselling strategies.\n",
      "\n",
      "4. **Are smokers more likely to tip higher or lower than non‑smokers?**  \n",
      "   *Why it matters:* Provides insight into customer behavior that could influence service training or targeted promotions.\n",
      "\n",
      "5. **Which gender tends to spend more on average, and does that vary by day or time?**  \n",
      "   *Why it matters:* Helps tailor marketing or menu recommendations to the demographics that bring the most revenue.\n",
      "\n",
      "Feel free to pick any of these to dive into, or let me know if there’s a specific area you’d like to explore further!\n"
     ]
    }
   ],
   "source": [
    "from broprompt import Prompt\n",
    "\n",
    "prompt = Prompt.from_markdown(\"broinsight/prompt_hub/guide_question.md\")\n",
    "metadata = \"METADATA:\\n\\n{metadata}\\n\\n\".format(metadata=\"\\n\".join([\"{field}: {detail}\".format(field=field, detail=detail) for field, detail in tips_metadata.items()]))\n",
    "user_input = \"USER_INPUT:\\n\\nWhat data do we have?\"\n",
    "response = model.run(system_prompt=prompt.str, messages=[model.UserMessage(text=metadata+user_input)])\n",
    "\n",
    "print(response['content'])"
   ]
  },
  {
   "cell_type": "code",
   "execution_count": 10,
   "id": "046295a4",
   "metadata": {},
   "outputs": [
    {
     "name": "stdout",
     "output_type": "stream",
     "text": [
      "```text\n",
      "This table records every dining visit at the restaurant.  \n",
      "Each row captures the total amount the customer paid, the tip they left, the\n",
      "gender and smoking status of the diner, the day of the week and whether the\n",
      "meal was lunch or dinner, and how many dishes were ordered.  \n",
      "\n",
      "Key business uses  \n",
      "• Track revenue and tip trends by day, meal time, or party size.  \n",
      "• Identify patterns in spending or tipping that could inform pricing or\n",
      "promotion decisions.  \n",
      "• Assess how customer demographics (gender, smoker) or group size affect\n",
      "spending and tip levels.  \n",
      "• Plan staffing and inventory by knowing peak days and meal periods.  \n",
      "\n",
      "Relationships to other processes  \n",
      "• Finance: feeds daily revenue and tip reporting.  \n",
      "• Marketing: helps target promotions to high‑spending or tip‑generous groups.  \n",
      "• Operations: supports scheduling and supply‑chain decisions.  \n",
      "\n",
      "Typical users  \n",
      "• Restaurant managers and owners for day‑to‑day and strategic decisions.  \n",
      "• Finance teams for revenue and tip analysis.  \n",
      "• Marketing and sales staff for customer segmentation and campaign planning.  \n",
      "• Operations planners for staffing and inventory forecasting.\n"
     ]
    }
   ],
   "source": [
    "prompt = Prompt.from_markdown(\"broinsight/prompt_hub/table_descriptor.md\")\n",
    "metadata = \"METADATA:\\n\\n{metadata}\\n\\n\".format(metadata=\"\\n\".join([\"{field}: {detail}\".format(field=field, detail=detail) for field, detail in tips_metadata.items()]))\n",
    "response = model.run(system_prompt=prompt.str, messages=[model.UserMessage(text=metadata)])\n",
    "\n",
    "print(response[\"content\"])"
   ]
  },
  {
   "cell_type": "code",
   "execution_count": 11,
   "id": "8d7d126a",
   "metadata": {},
   "outputs": [],
   "source": [
    "table_name = \"tips\"\n",
    "table_description = response['content'].split(\"```text\")[-1].split(\"```\")[0]\n",
    "\n",
    "table_metadata = dict(\n",
    "    table_name=table_name,\n",
    "    table_description=table_description,\n",
    ")\n",
    "table_metadata.update(tips_metadata)"
   ]
  },
  {
   "cell_type": "code",
   "execution_count": 67,
   "id": "7a72ff66",
   "metadata": {},
   "outputs": [
    {
     "name": "stdout",
     "output_type": "stream",
     "text": [
      "```sql\n",
      "-- Count of shop visits recorded in the tips table\n",
      "SELECT COUNT(*) AS shop_visits\n",
      "FROM tips;\n",
      "\n",
      "-- Source for global population figure: United Nations World Population Prospects\n",
      "```\n"
     ]
    }
   ],
   "source": [
    "question = \"I wanna know how many people visit my shop compare to global population and tell me the source of information.\"\n",
    "# question = \"Does smoker tip differently than non-smoker breaking down by time of day?\"\n",
    "# question = \"Which sex gives the better tips?\"\n",
    "# question = \"Which sex gives the better tips than one another?\"\n",
    "# question = \"I wanna know that weekend have a size bigger than weekday or not? If so how many?\"\n",
    "# question = \"อยากรู้ว่า คนกินข้าวเยอะ ในวันไหนมากกว่ากัน ระหว่าง วันจันทร์ และ วันศุกร์ เป็นจำนวนเท่าไหร่?\"\n",
    "# question = \"I wanna know how many people are in between smoker and non-smoker groups. Also, do you know which brand of ciggaratte do the smoker prefer in our restaurant?\"\n",
    "# question = \"Which sex has the most dinner?\"\n",
    "# question = \"Based on sex, smoker type and meal of the day, which customer group paid most in tips?\"\n",
    "# question = \"Based on sex, smoker type and meal of the day, which customer group paid most in tips? I wanna see all comparisons.\"\n",
    "\n",
    "prompt = Prompt.from_markdown(\"broinsight/prompt_hub/generate_sql.md\")\n",
    "metadata = \"METADATA:\\n\\n{metadata}\\n\\n\".format(metadata=\"\\n\".join([\"{field}: {detail}\".format(field=field, detail=detail) for field, detail in table_metadata.items()]))\n",
    "user_input = \"USER_INPUT:\\n\\n{question}\".format(question=question)\n",
    "response = model.run(system_prompt=prompt.str, messages=[model.UserMessage(text=metadata+user_input)])\n",
    "\n",
    "print(response[\"content\"])"
   ]
  },
  {
   "cell_type": "code",
   "execution_count": 68,
   "id": "792cbd59",
   "metadata": {},
   "outputs": [
    {
     "name": "stdout",
     "output_type": "stream",
     "text": [
      "\n",
      "-- Count of shop visits recorded in the tips table\n",
      "SELECT COUNT(*) AS shop_visits\n",
      "FROM tips;\n",
      "\n",
      "-- Source for global population figure: United Nations World Population Prospects\n",
      "\n"
     ]
    }
   ],
   "source": [
    "sql_query = response['content'].split(\"```sql\")[-1].split(\"```\")[0]\n",
    "print(sql_query)"
   ]
  },
  {
   "cell_type": "code",
   "execution_count": 69,
   "id": "306245ea",
   "metadata": {},
   "outputs": [
    {
     "data": {
      "text/html": [
       "<div>\n",
       "<style scoped>\n",
       "    .dataframe tbody tr th:only-of-type {\n",
       "        vertical-align: middle;\n",
       "    }\n",
       "\n",
       "    .dataframe tbody tr th {\n",
       "        vertical-align: top;\n",
       "    }\n",
       "\n",
       "    .dataframe thead th {\n",
       "        text-align: right;\n",
       "    }\n",
       "</style>\n",
       "<table border=\"1\" class=\"dataframe\">\n",
       "  <thead>\n",
       "    <tr style=\"text-align: right;\">\n",
       "      <th></th>\n",
       "      <th>shop_visits</th>\n",
       "    </tr>\n",
       "  </thead>\n",
       "  <tbody>\n",
       "    <tr>\n",
       "      <th>0</th>\n",
       "      <td>244</td>\n",
       "    </tr>\n",
       "  </tbody>\n",
       "</table>\n",
       "</div>"
      ],
      "text/plain": [
       "   shop_visits\n",
       "0          244"
      ]
     },
     "execution_count": 69,
     "metadata": {},
     "output_type": "execute_result"
    }
   ],
   "source": [
    "import duckdb\n",
    "conn = duckdb.connect()\n",
    "conn.register(\"tips\", tips)\n",
    "query_result = conn.execute(sql_query).df()\n",
    "query_result"
   ]
  },
  {
   "cell_type": "code",
   "execution_count": 70,
   "id": "f575a2a2",
   "metadata": {},
   "outputs": [
    {
     "name": "stdout",
     "output_type": "stream",
     "text": [
      "### Quick Answer  \n",
      "- **Shop visits**: 244 (the figure you provided)  \n",
      "- **Global population**: ≈ 8 billion (World Bank/UN estimate)  \n",
      "- **Proportion**:  \n",
      "  \\[\n",
      "  \\frac{244}{8{,}000{,}000{,}000}\\;=\\;3.05\\times10^{-8}\n",
      "  \\]\n",
      "  That’s about **0.000003 %** of the world’s people.  \n",
      "- **Source for global population**:  \n",
      "  *World Bank – World Development Indicators* (latest 2023 estimate) and the *United Nations World Population Prospects* (2022 revision).  \n",
      "  (Both are freely available online and updated annually.)\n",
      "\n",
      "---\n",
      "\n",
      "## How the numbers line up\n",
      "\n",
      "| Metric | Value | Notes |\n",
      "|--------|-------|-------|\n",
      "| **Shop visits** | 244 | From your data; not clear if daily, weekly, monthly, etc. |\n",
      "| **Global population** | 8 billion | 2023 estimate (World Bank). |\n",
      "| **Visits per person worldwide** | 3.05 × 10⁻⁸ | Very small fraction. |\n",
      "\n",
      "> **Interpretation** – 244 visits is an incredibly tiny slice of the global population.  \n",
      "> If you’re looking at *daily* visits, that would be roughly 0.000003 % of all people in the world.  \n",
      "> If those 244 visits represent a longer period (say a month or a year), the comparison still holds but the absolute “share” of the global population remains minuscule.\n",
      "\n",
      "---\n",
      "\n",
      "## Things to consider\n",
      "\n",
      "1. **Timeframe of the 244 visits**  \n",
      "   * Is that a daily foot‑fall count? A weekly total?  \n",
      "   * Knowing the period helps you compare to broader metrics (e.g., average daily visits in the city, region, or industry).\n",
      "\n",
      "2. **Local vs. global context**  \n",
      "   * For most retailers, a useful benchmark is *your local population* or *the population of your catch‑ment area*, not the entire planet.  \n",
      "   * If your shop is in a city of 2 million people, 244 daily visits would be about 12 % of the city’s population (again, assuming those are unique visitors).\n",
      "\n",
      "3. **Data quality**  \n",
      "   * Double‑check that “244n” isn’t a typo. The trailing “n” could be a formatting artifact.  \n",
      "   * Ensure the visits are counted consistently (e.g., entry counters, sales logs, loyalty program data).\n",
      "\n",
      "---\n",
      "\n",
      "## Suggested next steps\n",
      "\n",
      "| Action | Why it helps | Quick tip |\n",
      "|--------|--------------|-----------|\n",
      "| **Clarify the period** | Gives meaningful context | Ask the data provider or look at timestamps |\n",
      "| **Add unique‑visitor counts** | Avoid double‑counting | Use loyalty cards or mobile app check‑ins |\n",
      "| **Compare to local benchmarks** | Realistic performance metric | Grab city or regional foot‑fall stats |\n",
      "| **Track trends over time** | Identify growth or decline | Plot visits monthly or quarterly |\n",
      "\n",
      "---\n",
      "\n",
      "### Final note\n",
      "\n",
      "I’ve used the most recent publicly available global population figure (World Bank 2023). If you need the exact source URL or want to see how that number is derived, let me know—I can pull the specific table link for you. And if you can share a bit more about what “244n” represents, I can help you interpret it in a more business‑relevant way.\n"
     ]
    }
   ],
   "source": [
    "prompt = Prompt.from_markdown(\"broinsight/prompt_hub/chat.md\")\n",
    "context = \"CONTEXT:\\n\\n{context}n\\n\".format(context=query_result.to_string())\n",
    "user_input = \"USER_INPUT:\\n\\n{question}\".format(question=question)\n",
    "response = model.run(system_prompt=prompt.str, messages=[model.UserMessage(text=context+user_input)])\n",
    "\n",
    "print(response[\"content\"])"
   ]
  },
  {
   "cell_type": "code",
   "execution_count": 71,
   "id": "70c1786c",
   "metadata": {},
   "outputs": [],
   "source": [
    "# 1. LLM generates function code\n",
    "prompt = Prompt.from_markdown(\"broinsight/prompt_hub/chart_builder.md\")\n",
    "data = \"DATA:\\n\\n{data}\\n\\n\".format(data=query_result.to_string())\n",
    "user_input = \"USER_INPUT:\\n\\n{question}\".format(question=question)\n",
    "response = model.run(system_prompt=prompt.str, messages=[\n",
    "    model.UserMessage(text=data+user_input)\n",
    "])"
   ]
  },
  {
   "cell_type": "code",
   "execution_count": 72,
   "id": "e5fece24",
   "metadata": {},
   "outputs": [
    {
     "name": "stdout",
     "output_type": "stream",
     "text": [
      "```python\n",
      "def create_chart(data):\n",
      "    import plotly.express as px\n",
      "    import plotly.graph_objects as go\n",
      "    import pandas as pd\n",
      "    \n",
      "    # Extract shop visits count\n",
      "    shop_visits = data['shop_visits'].iloc[0]\n",
      "    \n",
      "    # Global population estimate (World Bank, 2023)\n",
      "    global_population = 7_900_000_000\n",
      "    \n",
      "    # Build comparison DataFrame\n",
      "    comp_df = pd.DataFrame({\n",
      "        'Metric': ['Shop Visits', 'Global Population'],\n",
      "        'Count': [shop_visits, global_population]\n",
      "    })\n",
      "    \n",
      "    # Create bar chart with logarithmic y-axis to handle scale difference\n",
      "    fig = px.bar(\n",
      "        comp_df,\n",
      "        x='Metric',\n",
      "        y='Count',\n",
      "        title='Shop Visits vs Global Population',\n",
      "        labels={'Metric': 'Metric', 'Count': 'Count'},\n",
      "        text='Count'\n",
      "    )\n",
      "    \n",
      "    # Update layout for log scale and better appearance\n",
      "    fig.update_layout(\n",
      "        yaxis=dict(type='log', title='Count (log scale)'),\n",
      "        xaxis=dict(title='Metric'),\n",
      "        title=dict(x=0.5),\n",
      "        uniformtext_minsize=8,\n",
      "        uniformtext_mode='hide'\n",
      "    )\n",
      "    \n",
      "    # Add source annotation\n",
      "    fig.add_annotation(\n",
      "        x=0.5,\n",
      "        y=-0.15,\n",
      "        xref='paper',\n",
      "        yref='paper',\n",
      "        text='Source: World Bank, 2023',\n",
      "        showarrow=False,\n",
      "        font=dict(size=10, color='gray')\n",
      "    )\n",
      "    \n",
      "    return fig\n",
      "```\n"
     ]
    }
   ],
   "source": [
    "print(response['content'])"
   ]
  },
  {
   "cell_type": "code",
   "execution_count": 73,
   "id": "9eba4b07",
   "metadata": {},
   "outputs": [],
   "source": [
    "function_code = response['content'].split(\"```python\")[-1].split(\"```\")[0]\n",
    "\n",
    "# 2. Execute to create function\n",
    "exec(function_code)  # Now create_chart function exists\n",
    "\n",
    "# 3. Call with actual data\n",
    "fig = create_chart(query_result)"
   ]
  },
  {
   "cell_type": "code",
   "execution_count": 75,
   "id": "9e63721c",
   "metadata": {},
   "outputs": [
    {
     "data": {
      "application/vnd.plotly.v1+json": {
       "config": {
        "plotlyServerURL": "https://plot.ly"
       },
       "data": [
        {
         "hovertemplate": "Metric=%{x}<br>Count=%{text}<extra></extra>",
         "legendgroup": "",
         "marker": {
          "color": "#636efa",
          "pattern": {
           "shape": ""
          }
         },
         "name": "",
         "orientation": "v",
         "showlegend": false,
         "text": {
          "bdata": "AAAAAACAbkAAAADwBm79QQ==",
          "dtype": "f8"
         },
         "textposition": "auto",
         "type": "bar",
         "x": [
          "Shop Visits",
          "Global Population"
         ],
         "xaxis": "x",
         "y": [
          244,
          7900000000
         ],
         "yaxis": "y"
        }
       ],
       "layout": {
        "annotations": [
         {
          "font": {
           "color": "gray",
           "size": 10
          },
          "showarrow": false,
          "text": "Source: World Bank, 2023",
          "x": 0.5,
          "xref": "paper",
          "y": -0.15,
          "yref": "paper"
         }
        ],
        "barmode": "relative",
        "legend": {
         "tracegroupgap": 0
        },
        "template": {
         "data": {
          "bar": [
           {
            "error_x": {
             "color": "#2a3f5f"
            },
            "error_y": {
             "color": "#2a3f5f"
            },
            "marker": {
             "line": {
              "color": "#E5ECF6",
              "width": 0.5
             },
             "pattern": {
              "fillmode": "overlay",
              "size": 10,
              "solidity": 0.2
             }
            },
            "type": "bar"
           }
          ],
          "barpolar": [
           {
            "marker": {
             "line": {
              "color": "#E5ECF6",
              "width": 0.5
             },
             "pattern": {
              "fillmode": "overlay",
              "size": 10,
              "solidity": 0.2
             }
            },
            "type": "barpolar"
           }
          ],
          "carpet": [
           {
            "aaxis": {
             "endlinecolor": "#2a3f5f",
             "gridcolor": "white",
             "linecolor": "white",
             "minorgridcolor": "white",
             "startlinecolor": "#2a3f5f"
            },
            "baxis": {
             "endlinecolor": "#2a3f5f",
             "gridcolor": "white",
             "linecolor": "white",
             "minorgridcolor": "white",
             "startlinecolor": "#2a3f5f"
            },
            "type": "carpet"
           }
          ],
          "choropleth": [
           {
            "colorbar": {
             "outlinewidth": 0,
             "ticks": ""
            },
            "type": "choropleth"
           }
          ],
          "contour": [
           {
            "colorbar": {
             "outlinewidth": 0,
             "ticks": ""
            },
            "colorscale": [
             [
              0,
              "#0d0887"
             ],
             [
              0.1111111111111111,
              "#46039f"
             ],
             [
              0.2222222222222222,
              "#7201a8"
             ],
             [
              0.3333333333333333,
              "#9c179e"
             ],
             [
              0.4444444444444444,
              "#bd3786"
             ],
             [
              0.5555555555555556,
              "#d8576b"
             ],
             [
              0.6666666666666666,
              "#ed7953"
             ],
             [
              0.7777777777777778,
              "#fb9f3a"
             ],
             [
              0.8888888888888888,
              "#fdca26"
             ],
             [
              1,
              "#f0f921"
             ]
            ],
            "type": "contour"
           }
          ],
          "contourcarpet": [
           {
            "colorbar": {
             "outlinewidth": 0,
             "ticks": ""
            },
            "type": "contourcarpet"
           }
          ],
          "heatmap": [
           {
            "colorbar": {
             "outlinewidth": 0,
             "ticks": ""
            },
            "colorscale": [
             [
              0,
              "#0d0887"
             ],
             [
              0.1111111111111111,
              "#46039f"
             ],
             [
              0.2222222222222222,
              "#7201a8"
             ],
             [
              0.3333333333333333,
              "#9c179e"
             ],
             [
              0.4444444444444444,
              "#bd3786"
             ],
             [
              0.5555555555555556,
              "#d8576b"
             ],
             [
              0.6666666666666666,
              "#ed7953"
             ],
             [
              0.7777777777777778,
              "#fb9f3a"
             ],
             [
              0.8888888888888888,
              "#fdca26"
             ],
             [
              1,
              "#f0f921"
             ]
            ],
            "type": "heatmap"
           }
          ],
          "histogram": [
           {
            "marker": {
             "pattern": {
              "fillmode": "overlay",
              "size": 10,
              "solidity": 0.2
             }
            },
            "type": "histogram"
           }
          ],
          "histogram2d": [
           {
            "colorbar": {
             "outlinewidth": 0,
             "ticks": ""
            },
            "colorscale": [
             [
              0,
              "#0d0887"
             ],
             [
              0.1111111111111111,
              "#46039f"
             ],
             [
              0.2222222222222222,
              "#7201a8"
             ],
             [
              0.3333333333333333,
              "#9c179e"
             ],
             [
              0.4444444444444444,
              "#bd3786"
             ],
             [
              0.5555555555555556,
              "#d8576b"
             ],
             [
              0.6666666666666666,
              "#ed7953"
             ],
             [
              0.7777777777777778,
              "#fb9f3a"
             ],
             [
              0.8888888888888888,
              "#fdca26"
             ],
             [
              1,
              "#f0f921"
             ]
            ],
            "type": "histogram2d"
           }
          ],
          "histogram2dcontour": [
           {
            "colorbar": {
             "outlinewidth": 0,
             "ticks": ""
            },
            "colorscale": [
             [
              0,
              "#0d0887"
             ],
             [
              0.1111111111111111,
              "#46039f"
             ],
             [
              0.2222222222222222,
              "#7201a8"
             ],
             [
              0.3333333333333333,
              "#9c179e"
             ],
             [
              0.4444444444444444,
              "#bd3786"
             ],
             [
              0.5555555555555556,
              "#d8576b"
             ],
             [
              0.6666666666666666,
              "#ed7953"
             ],
             [
              0.7777777777777778,
              "#fb9f3a"
             ],
             [
              0.8888888888888888,
              "#fdca26"
             ],
             [
              1,
              "#f0f921"
             ]
            ],
            "type": "histogram2dcontour"
           }
          ],
          "mesh3d": [
           {
            "colorbar": {
             "outlinewidth": 0,
             "ticks": ""
            },
            "type": "mesh3d"
           }
          ],
          "parcoords": [
           {
            "line": {
             "colorbar": {
              "outlinewidth": 0,
              "ticks": ""
             }
            },
            "type": "parcoords"
           }
          ],
          "pie": [
           {
            "automargin": true,
            "type": "pie"
           }
          ],
          "scatter": [
           {
            "fillpattern": {
             "fillmode": "overlay",
             "size": 10,
             "solidity": 0.2
            },
            "type": "scatter"
           }
          ],
          "scatter3d": [
           {
            "line": {
             "colorbar": {
              "outlinewidth": 0,
              "ticks": ""
             }
            },
            "marker": {
             "colorbar": {
              "outlinewidth": 0,
              "ticks": ""
             }
            },
            "type": "scatter3d"
           }
          ],
          "scattercarpet": [
           {
            "marker": {
             "colorbar": {
              "outlinewidth": 0,
              "ticks": ""
             }
            },
            "type": "scattercarpet"
           }
          ],
          "scattergeo": [
           {
            "marker": {
             "colorbar": {
              "outlinewidth": 0,
              "ticks": ""
             }
            },
            "type": "scattergeo"
           }
          ],
          "scattergl": [
           {
            "marker": {
             "colorbar": {
              "outlinewidth": 0,
              "ticks": ""
             }
            },
            "type": "scattergl"
           }
          ],
          "scattermap": [
           {
            "marker": {
             "colorbar": {
              "outlinewidth": 0,
              "ticks": ""
             }
            },
            "type": "scattermap"
           }
          ],
          "scattermapbox": [
           {
            "marker": {
             "colorbar": {
              "outlinewidth": 0,
              "ticks": ""
             }
            },
            "type": "scattermapbox"
           }
          ],
          "scatterpolar": [
           {
            "marker": {
             "colorbar": {
              "outlinewidth": 0,
              "ticks": ""
             }
            },
            "type": "scatterpolar"
           }
          ],
          "scatterpolargl": [
           {
            "marker": {
             "colorbar": {
              "outlinewidth": 0,
              "ticks": ""
             }
            },
            "type": "scatterpolargl"
           }
          ],
          "scatterternary": [
           {
            "marker": {
             "colorbar": {
              "outlinewidth": 0,
              "ticks": ""
             }
            },
            "type": "scatterternary"
           }
          ],
          "surface": [
           {
            "colorbar": {
             "outlinewidth": 0,
             "ticks": ""
            },
            "colorscale": [
             [
              0,
              "#0d0887"
             ],
             [
              0.1111111111111111,
              "#46039f"
             ],
             [
              0.2222222222222222,
              "#7201a8"
             ],
             [
              0.3333333333333333,
              "#9c179e"
             ],
             [
              0.4444444444444444,
              "#bd3786"
             ],
             [
              0.5555555555555556,
              "#d8576b"
             ],
             [
              0.6666666666666666,
              "#ed7953"
             ],
             [
              0.7777777777777778,
              "#fb9f3a"
             ],
             [
              0.8888888888888888,
              "#fdca26"
             ],
             [
              1,
              "#f0f921"
             ]
            ],
            "type": "surface"
           }
          ],
          "table": [
           {
            "cells": {
             "fill": {
              "color": "#EBF0F8"
             },
             "line": {
              "color": "white"
             }
            },
            "header": {
             "fill": {
              "color": "#C8D4E3"
             },
             "line": {
              "color": "white"
             }
            },
            "type": "table"
           }
          ]
         },
         "layout": {
          "annotationdefaults": {
           "arrowcolor": "#2a3f5f",
           "arrowhead": 0,
           "arrowwidth": 1
          },
          "autotypenumbers": "strict",
          "coloraxis": {
           "colorbar": {
            "outlinewidth": 0,
            "ticks": ""
           }
          },
          "colorscale": {
           "diverging": [
            [
             0,
             "#8e0152"
            ],
            [
             0.1,
             "#c51b7d"
            ],
            [
             0.2,
             "#de77ae"
            ],
            [
             0.3,
             "#f1b6da"
            ],
            [
             0.4,
             "#fde0ef"
            ],
            [
             0.5,
             "#f7f7f7"
            ],
            [
             0.6,
             "#e6f5d0"
            ],
            [
             0.7,
             "#b8e186"
            ],
            [
             0.8,
             "#7fbc41"
            ],
            [
             0.9,
             "#4d9221"
            ],
            [
             1,
             "#276419"
            ]
           ],
           "sequential": [
            [
             0,
             "#0d0887"
            ],
            [
             0.1111111111111111,
             "#46039f"
            ],
            [
             0.2222222222222222,
             "#7201a8"
            ],
            [
             0.3333333333333333,
             "#9c179e"
            ],
            [
             0.4444444444444444,
             "#bd3786"
            ],
            [
             0.5555555555555556,
             "#d8576b"
            ],
            [
             0.6666666666666666,
             "#ed7953"
            ],
            [
             0.7777777777777778,
             "#fb9f3a"
            ],
            [
             0.8888888888888888,
             "#fdca26"
            ],
            [
             1,
             "#f0f921"
            ]
           ],
           "sequentialminus": [
            [
             0,
             "#0d0887"
            ],
            [
             0.1111111111111111,
             "#46039f"
            ],
            [
             0.2222222222222222,
             "#7201a8"
            ],
            [
             0.3333333333333333,
             "#9c179e"
            ],
            [
             0.4444444444444444,
             "#bd3786"
            ],
            [
             0.5555555555555556,
             "#d8576b"
            ],
            [
             0.6666666666666666,
             "#ed7953"
            ],
            [
             0.7777777777777778,
             "#fb9f3a"
            ],
            [
             0.8888888888888888,
             "#fdca26"
            ],
            [
             1,
             "#f0f921"
            ]
           ]
          },
          "colorway": [
           "#636efa",
           "#EF553B",
           "#00cc96",
           "#ab63fa",
           "#FFA15A",
           "#19d3f3",
           "#FF6692",
           "#B6E880",
           "#FF97FF",
           "#FECB52"
          ],
          "font": {
           "color": "#2a3f5f"
          },
          "geo": {
           "bgcolor": "white",
           "lakecolor": "white",
           "landcolor": "#E5ECF6",
           "showlakes": true,
           "showland": true,
           "subunitcolor": "white"
          },
          "hoverlabel": {
           "align": "left"
          },
          "hovermode": "closest",
          "mapbox": {
           "style": "light"
          },
          "paper_bgcolor": "white",
          "plot_bgcolor": "#E5ECF6",
          "polar": {
           "angularaxis": {
            "gridcolor": "white",
            "linecolor": "white",
            "ticks": ""
           },
           "bgcolor": "#E5ECF6",
           "radialaxis": {
            "gridcolor": "white",
            "linecolor": "white",
            "ticks": ""
           }
          },
          "scene": {
           "xaxis": {
            "backgroundcolor": "#E5ECF6",
            "gridcolor": "white",
            "gridwidth": 2,
            "linecolor": "white",
            "showbackground": true,
            "ticks": "",
            "zerolinecolor": "white"
           },
           "yaxis": {
            "backgroundcolor": "#E5ECF6",
            "gridcolor": "white",
            "gridwidth": 2,
            "linecolor": "white",
            "showbackground": true,
            "ticks": "",
            "zerolinecolor": "white"
           },
           "zaxis": {
            "backgroundcolor": "#E5ECF6",
            "gridcolor": "white",
            "gridwidth": 2,
            "linecolor": "white",
            "showbackground": true,
            "ticks": "",
            "zerolinecolor": "white"
           }
          },
          "shapedefaults": {
           "line": {
            "color": "#2a3f5f"
           }
          },
          "ternary": {
           "aaxis": {
            "gridcolor": "white",
            "linecolor": "white",
            "ticks": ""
           },
           "baxis": {
            "gridcolor": "white",
            "linecolor": "white",
            "ticks": ""
           },
           "bgcolor": "#E5ECF6",
           "caxis": {
            "gridcolor": "white",
            "linecolor": "white",
            "ticks": ""
           }
          },
          "title": {
           "x": 0.05
          },
          "xaxis": {
           "automargin": true,
           "gridcolor": "white",
           "linecolor": "white",
           "ticks": "",
           "title": {
            "standoff": 15
           },
           "zerolinecolor": "white",
           "zerolinewidth": 2
          },
          "yaxis": {
           "automargin": true,
           "gridcolor": "white",
           "linecolor": "white",
           "ticks": "",
           "title": {
            "standoff": 15
           },
           "zerolinecolor": "white",
           "zerolinewidth": 2
          }
         }
        },
        "title": {
         "text": "Shop Visits vs Global Population",
         "x": 0.5
        },
        "uniformtext": {
         "minsize": 8,
         "mode": "hide"
        },
        "xaxis": {
         "anchor": "y",
         "domain": [
          0,
          1
         ],
         "title": {
          "text": "Metric"
         }
        },
        "yaxis": {
         "anchor": "x",
         "domain": [
          0,
          1
         ],
         "title": {
          "text": "Count (log scale)"
         },
         "type": "log"
        }
       }
      }
     },
     "metadata": {},
     "output_type": "display_data"
    }
   ],
   "source": [
    "fig.show()"
   ]
  },
  {
   "cell_type": "code",
   "execution_count": 55,
   "id": "07b00798",
   "metadata": {},
   "outputs": [],
   "source": [
    "# 4. Display with fallback\n",
    "try:\n",
    "    fig.show()\n",
    "except ValueError:\n",
    "    fig.show(renderer=\"browser\")  # Fallback to browser\n"
   ]
  },
  {
   "cell_type": "code",
   "execution_count": null,
   "id": "b08e0c95",
   "metadata": {},
   "outputs": [],
   "source": []
  }
 ],
 "metadata": {
  "kernelspec": {
   "display_name": "broinsight",
   "language": "python",
   "name": "python3"
  },
  "language_info": {
   "codemirror_mode": {
    "name": "ipython",
    "version": 3
   },
   "file_extension": ".py",
   "mimetype": "text/x-python",
   "name": "python",
   "nbconvert_exporter": "python",
   "pygments_lexer": "ipython3",
   "version": "3.12.11"
  }
 },
 "nbformat": 4,
 "nbformat_minor": 5
}
