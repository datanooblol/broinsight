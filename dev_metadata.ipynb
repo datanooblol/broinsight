{
 "cells": [
  {
   "cell_type": "code",
   "execution_count": 20,
   "id": "b20a5dcd",
   "metadata": {},
   "outputs": [
    {
     "name": "stdout",
     "output_type": "stream",
     "text": [
      "The autoreload extension is already loaded. To reload it, use:\n",
      "  %reload_ext autoreload\n"
     ]
    }
   ],
   "source": [
    "%load_ext autoreload\n",
    "%autoreload 2"
   ]
  },
  {
   "cell_type": "code",
   "execution_count": 21,
   "id": "8bbb0932",
   "metadata": {},
   "outputs": [
    {
     "data": {
      "text/plain": [
       "['total_bill', 'tip', 'sex', 'smoker', 'day', 'time', 'size']"
      ]
     },
     "execution_count": 21,
     "metadata": {},
     "output_type": "execute_result"
    }
   ],
   "source": [
    "import duckdb\n",
    "import pandas as pd\n",
    "import seaborn as sns\n",
    "\n",
    "tips = sns.load_dataset(\"tips\")\n",
    "\n",
    "tips.columns.tolist()"
   ]
  },
  {
   "cell_type": "code",
   "execution_count": 22,
   "id": "afd6caec",
   "metadata": {},
   "outputs": [
    {
     "data": {
      "text/html": [
       "<div>\n",
       "<style scoped>\n",
       "    .dataframe tbody tr th:only-of-type {\n",
       "        vertical-align: middle;\n",
       "    }\n",
       "\n",
       "    .dataframe tbody tr th {\n",
       "        vertical-align: top;\n",
       "    }\n",
       "\n",
       "    .dataframe thead th {\n",
       "        text-align: right;\n",
       "    }\n",
       "</style>\n",
       "<table border=\"1\" class=\"dataframe\">\n",
       "  <thead>\n",
       "    <tr style=\"text-align: right;\">\n",
       "      <th></th>\n",
       "      <th>total_bill</th>\n",
       "      <th>tip</th>\n",
       "      <th>sex</th>\n",
       "      <th>smoker</th>\n",
       "      <th>day</th>\n",
       "      <th>time</th>\n",
       "      <th>size</th>\n",
       "    </tr>\n",
       "  </thead>\n",
       "  <tbody>\n",
       "    <tr>\n",
       "      <th>0</th>\n",
       "      <td>16.99</td>\n",
       "      <td>1.01</td>\n",
       "      <td>Female</td>\n",
       "      <td>No</td>\n",
       "      <td>Sun</td>\n",
       "      <td>Dinner</td>\n",
       "      <td>2</td>\n",
       "    </tr>\n",
       "    <tr>\n",
       "      <th>1</th>\n",
       "      <td>10.34</td>\n",
       "      <td>1.66</td>\n",
       "      <td>Male</td>\n",
       "      <td>No</td>\n",
       "      <td>Sun</td>\n",
       "      <td>Dinner</td>\n",
       "      <td>3</td>\n",
       "    </tr>\n",
       "    <tr>\n",
       "      <th>2</th>\n",
       "      <td>21.01</td>\n",
       "      <td>3.50</td>\n",
       "      <td>Male</td>\n",
       "      <td>No</td>\n",
       "      <td>Sun</td>\n",
       "      <td>Dinner</td>\n",
       "      <td>3</td>\n",
       "    </tr>\n",
       "    <tr>\n",
       "      <th>3</th>\n",
       "      <td>23.68</td>\n",
       "      <td>3.31</td>\n",
       "      <td>Male</td>\n",
       "      <td>No</td>\n",
       "      <td>Sun</td>\n",
       "      <td>Dinner</td>\n",
       "      <td>2</td>\n",
       "    </tr>\n",
       "    <tr>\n",
       "      <th>4</th>\n",
       "      <td>24.59</td>\n",
       "      <td>3.61</td>\n",
       "      <td>Female</td>\n",
       "      <td>No</td>\n",
       "      <td>Sun</td>\n",
       "      <td>Dinner</td>\n",
       "      <td>4</td>\n",
       "    </tr>\n",
       "  </tbody>\n",
       "</table>\n",
       "</div>"
      ],
      "text/plain": [
       "   total_bill   tip     sex smoker  day    time  size\n",
       "0       16.99  1.01  Female     No  Sun  Dinner     2\n",
       "1       10.34  1.66    Male     No  Sun  Dinner     3\n",
       "2       21.01  3.50    Male     No  Sun  Dinner     3\n",
       "3       23.68  3.31    Male     No  Sun  Dinner     2\n",
       "4       24.59  3.61  Female     No  Sun  Dinner     4"
      ]
     },
     "execution_count": 22,
     "metadata": {},
     "output_type": "execute_result"
    }
   ],
   "source": [
    "tips.head()"
   ]
  },
  {
   "cell_type": "code",
   "execution_count": 23,
   "id": "03a13fef",
   "metadata": {},
   "outputs": [
    {
     "data": {
      "text/html": [
       "<div>\n",
       "<style scoped>\n",
       "    .dataframe tbody tr th:only-of-type {\n",
       "        vertical-align: middle;\n",
       "    }\n",
       "\n",
       "    .dataframe tbody tr th {\n",
       "        vertical-align: top;\n",
       "    }\n",
       "\n",
       "    .dataframe thead th {\n",
       "        text-align: right;\n",
       "    }\n",
       "</style>\n",
       "<table border=\"1\" class=\"dataframe\">\n",
       "  <thead>\n",
       "    <tr style=\"text-align: right;\">\n",
       "      <th></th>\n",
       "      <th>data_types</th>\n",
       "      <th>missing_values</th>\n",
       "      <th>missing_values_pct</th>\n",
       "      <th>unique_values</th>\n",
       "      <th>unique_values_pct</th>\n",
       "      <th>most_frequent</th>\n",
       "      <th>statistics</th>\n",
       "    </tr>\n",
       "  </thead>\n",
       "  <tbody>\n",
       "    <tr>\n",
       "      <th>total_bill</th>\n",
       "      <td>float</td>\n",
       "      <td>0</td>\n",
       "      <td>0.0</td>\n",
       "      <td>229</td>\n",
       "      <td>0.94</td>\n",
       "      <td>{13.42: 3, 21.01: 2, 20.69: 2, 10.33: 2, 10.34...</td>\n",
       "      <td>{'min': 3.07, 'max': 50.81, 'mean': 19.79, 'me...</td>\n",
       "    </tr>\n",
       "    <tr>\n",
       "      <th>tip</th>\n",
       "      <td>float</td>\n",
       "      <td>0</td>\n",
       "      <td>0.0</td>\n",
       "      <td>123</td>\n",
       "      <td>0.50</td>\n",
       "      <td>{2.0: 33, 3.0: 23, 4.0: 12, 2.5: 10, 5.0: 10}</td>\n",
       "      <td>{'min': 1.0, 'max': 10.0, 'mean': 3.0, 'median...</td>\n",
       "    </tr>\n",
       "    <tr>\n",
       "      <th>sex</th>\n",
       "      <td>string</td>\n",
       "      <td>0</td>\n",
       "      <td>0.0</td>\n",
       "      <td>2</td>\n",
       "      <td>0.01</td>\n",
       "      <td>{'Male': 157, 'Female': 87}</td>\n",
       "      <td>{'mode': 'Male', 'avg_length': 4.71, 'min_leng...</td>\n",
       "    </tr>\n",
       "    <tr>\n",
       "      <th>smoker</th>\n",
       "      <td>string</td>\n",
       "      <td>0</td>\n",
       "      <td>0.0</td>\n",
       "      <td>2</td>\n",
       "      <td>0.01</td>\n",
       "      <td>{'No': 151, 'Yes': 93}</td>\n",
       "      <td>{'mode': 'No', 'avg_length': 2.38, 'min_length...</td>\n",
       "    </tr>\n",
       "    <tr>\n",
       "      <th>day</th>\n",
       "      <td>string</td>\n",
       "      <td>0</td>\n",
       "      <td>0.0</td>\n",
       "      <td>4</td>\n",
       "      <td>0.02</td>\n",
       "      <td>{'Sat': 87, 'Sun': 76, 'Thur': 62, 'Fri': 19}</td>\n",
       "      <td>{'mode': 'Sat', 'avg_length': 3.25, 'min_lengt...</td>\n",
       "    </tr>\n",
       "    <tr>\n",
       "      <th>time</th>\n",
       "      <td>string</td>\n",
       "      <td>0</td>\n",
       "      <td>0.0</td>\n",
       "      <td>2</td>\n",
       "      <td>0.01</td>\n",
       "      <td>{'Dinner': 176, 'Lunch': 68}</td>\n",
       "      <td>{'mode': 'Dinner', 'avg_length': 5.72, 'min_le...</td>\n",
       "    </tr>\n",
       "    <tr>\n",
       "      <th>size</th>\n",
       "      <td>integer</td>\n",
       "      <td>0</td>\n",
       "      <td>0.0</td>\n",
       "      <td>6</td>\n",
       "      <td>0.02</td>\n",
       "      <td>{2: 156, 3: 38, 4: 37, 5: 5, 1: 4}</td>\n",
       "      <td>{'min': 1.0, 'max': 6.0, 'mean': 2.57, 'median...</td>\n",
       "    </tr>\n",
       "  </tbody>\n",
       "</table>\n",
       "</div>"
      ],
      "text/plain": [
       "           data_types  missing_values  missing_values_pct  unique_values  \\\n",
       "total_bill      float               0                 0.0            229   \n",
       "tip             float               0                 0.0            123   \n",
       "sex            string               0                 0.0              2   \n",
       "smoker         string               0                 0.0              2   \n",
       "day            string               0                 0.0              4   \n",
       "time           string               0                 0.0              2   \n",
       "size          integer               0                 0.0              6   \n",
       "\n",
       "            unique_values_pct  \\\n",
       "total_bill               0.94   \n",
       "tip                      0.50   \n",
       "sex                      0.01   \n",
       "smoker                   0.01   \n",
       "day                      0.02   \n",
       "time                     0.01   \n",
       "size                     0.02   \n",
       "\n",
       "                                                most_frequent  \\\n",
       "total_bill  {13.42: 3, 21.01: 2, 20.69: 2, 10.33: 2, 10.34...   \n",
       "tip             {2.0: 33, 3.0: 23, 4.0: 12, 2.5: 10, 5.0: 10}   \n",
       "sex                               {'Male': 157, 'Female': 87}   \n",
       "smoker                                 {'No': 151, 'Yes': 93}   \n",
       "day             {'Sat': 87, 'Sun': 76, 'Thur': 62, 'Fri': 19}   \n",
       "time                             {'Dinner': 176, 'Lunch': 68}   \n",
       "size                       {2: 156, 3: 38, 4: 37, 5: 5, 1: 4}   \n",
       "\n",
       "                                                   statistics  \n",
       "total_bill  {'min': 3.07, 'max': 50.81, 'mean': 19.79, 'me...  \n",
       "tip         {'min': 1.0, 'max': 10.0, 'mean': 3.0, 'median...  \n",
       "sex         {'mode': 'Male', 'avg_length': 4.71, 'min_leng...  \n",
       "smoker      {'mode': 'No', 'avg_length': 2.38, 'min_length...  \n",
       "day         {'mode': 'Sat', 'avg_length': 3.25, 'min_lengt...  \n",
       "time        {'mode': 'Dinner', 'avg_length': 5.72, 'min_le...  \n",
       "size        {'min': 1.0, 'max': 6.0, 'mean': 2.57, 'median...  "
      ]
     },
     "execution_count": 23,
     "metadata": {},
     "output_type": "execute_result"
    }
   ],
   "source": [
    "from broinsight.data_quality.field_profile import field_profile\n",
    "\n",
    "tips_metadata = field_profile(tips)\n",
    "pd.DataFrame.from_dict(tips_metadata, orient=\"index\")"
   ]
  },
  {
   "cell_type": "code",
   "execution_count": 24,
   "id": "70b1a60a",
   "metadata": {},
   "outputs": [
    {
     "data": {
      "text/plain": [
       "{'total_bill': {'data_types': 'float',\n",
       "  'missing_values': 0,\n",
       "  'missing_values_pct': 0.0,\n",
       "  'unique_values': 229,\n",
       "  'unique_values_pct': 0.94,\n",
       "  'most_frequent': {13.42: 3, 21.01: 2, 20.69: 2, 10.33: 2, 10.34: 2},\n",
       "  'statistics': {'min': 3.07,\n",
       "   'max': 50.81,\n",
       "   'mean': 19.79,\n",
       "   'median': 17.8,\n",
       "   'std': 8.9,\n",
       "   'var': 79.25,\n",
       "   'skew': 1.13,\n",
       "   'kurt': 1.22,\n",
       "   'iqr': 10.78,\n",
       "   'cv': 0.45,\n",
       "   'lower_bound': -2.82,\n",
       "   'upper_bound': 40.3}},\n",
       " 'tip': {'data_types': 'float',\n",
       "  'missing_values': 0,\n",
       "  'missing_values_pct': 0.0,\n",
       "  'unique_values': 123,\n",
       "  'unique_values_pct': 0.5,\n",
       "  'most_frequent': {2.0: 33, 3.0: 23, 4.0: 12, 2.5: 10, 5.0: 10},\n",
       "  'statistics': {'min': 1.0,\n",
       "   'max': 10.0,\n",
       "   'mean': 3.0,\n",
       "   'median': 2.9,\n",
       "   'std': 1.38,\n",
       "   'var': 1.91,\n",
       "   'skew': 1.47,\n",
       "   'kurt': 3.65,\n",
       "   'iqr': 1.56,\n",
       "   'cv': 0.46,\n",
       "   'lower_bound': -0.34,\n",
       "   'upper_bound': 5.91}},\n",
       " 'sex': {'data_types': 'string',\n",
       "  'missing_values': 0,\n",
       "  'missing_values_pct': 0.0,\n",
       "  'unique_values': 2,\n",
       "  'unique_values_pct': 0.01,\n",
       "  'most_frequent': {'Male': 157, 'Female': 87},\n",
       "  'statistics': {'mode': 'Male',\n",
       "   'avg_length': 4.71,\n",
       "   'min_length': 4.0,\n",
       "   'max_length': 6.0,\n",
       "   'empty_count': 0.0,\n",
       "   'whitespace_count': 0.0,\n",
       "   'pattern_consistency': 0.01}},\n",
       " 'smoker': {'data_types': 'string',\n",
       "  'missing_values': 0,\n",
       "  'missing_values_pct': 0.0,\n",
       "  'unique_values': 2,\n",
       "  'unique_values_pct': 0.01,\n",
       "  'most_frequent': {'No': 151, 'Yes': 93},\n",
       "  'statistics': {'mode': 'No',\n",
       "   'avg_length': 2.38,\n",
       "   'min_length': 2.0,\n",
       "   'max_length': 3.0,\n",
       "   'empty_count': 0.0,\n",
       "   'whitespace_count': 0.0,\n",
       "   'pattern_consistency': 0.01}},\n",
       " 'day': {'data_types': 'string',\n",
       "  'missing_values': 0,\n",
       "  'missing_values_pct': 0.0,\n",
       "  'unique_values': 4,\n",
       "  'unique_values_pct': 0.02,\n",
       "  'most_frequent': {'Sat': 87, 'Sun': 76, 'Thur': 62, 'Fri': 19},\n",
       "  'statistics': {'mode': 'Sat',\n",
       "   'avg_length': 3.25,\n",
       "   'min_length': 3.0,\n",
       "   'max_length': 4.0,\n",
       "   'empty_count': 0.0,\n",
       "   'whitespace_count': 0.0,\n",
       "   'pattern_consistency': 0.02}},\n",
       " 'time': {'data_types': 'string',\n",
       "  'missing_values': 0,\n",
       "  'missing_values_pct': 0.0,\n",
       "  'unique_values': 2,\n",
       "  'unique_values_pct': 0.01,\n",
       "  'most_frequent': {'Dinner': 176, 'Lunch': 68},\n",
       "  'statistics': {'mode': 'Dinner',\n",
       "   'avg_length': 5.72,\n",
       "   'min_length': 5.0,\n",
       "   'max_length': 6.0,\n",
       "   'empty_count': 0.0,\n",
       "   'whitespace_count': 0.0,\n",
       "   'pattern_consistency': 0.01}},\n",
       " 'size': {'data_types': 'integer',\n",
       "  'missing_values': 0,\n",
       "  'missing_values_pct': 0.0,\n",
       "  'unique_values': 6,\n",
       "  'unique_values_pct': 0.02,\n",
       "  'most_frequent': {2: 156, 3: 38, 4: 37, 5: 5, 1: 4},\n",
       "  'statistics': {'min': 1.0,\n",
       "   'max': 6.0,\n",
       "   'mean': 2.57,\n",
       "   'median': 2.0,\n",
       "   'std': 0.95,\n",
       "   'var': 0.9,\n",
       "   'skew': 1.45,\n",
       "   'kurt': 1.73,\n",
       "   'iqr': 1.0,\n",
       "   'cv': 0.37,\n",
       "   'lower_bound': 0.5,\n",
       "   'upper_bound': 4.5}}}"
      ]
     },
     "execution_count": 24,
     "metadata": {},
     "output_type": "execute_result"
    }
   ],
   "source": [
    "tips_metadata"
   ]
  },
  {
   "cell_type": "code",
   "execution_count": 25,
   "id": "79f053e1",
   "metadata": {},
   "outputs": [],
   "source": [
    "descriptions = dict(\n",
    "    total_bill=\"the amount of paid bill of the meal\",\n",
    "    tip=\"the amount of tip that customers paid\",\n",
    "    sex=\"the gender of customers\",\n",
    "    smoker=\"it indicates that a customer is a smoker or not. if No means a customer is a non-smoker, Yes means a customer is a smoker.\",\n",
    "    day=\"this is a day of the week when a customer having a meal here. i.e. Mon, Tue, Wed, Thu, Fri, Sat, Sun\",\n",
    "    time=\"the time of the meal. it can be either Dinner or Lunch\",\n",
    "    size=\"the number of dishes that customers have\",\n",
    ")"
   ]
  },
  {
   "cell_type": "code",
   "execution_count": 26,
   "id": "67361b3c",
   "metadata": {},
   "outputs": [
    {
     "data": {
      "text/plain": [
       "[None, None, None, None, None, None, None]"
      ]
     },
     "execution_count": 26,
     "metadata": {},
     "output_type": "execute_result"
    }
   ],
   "source": [
    "[tips_metadata[feat].update(dict(description=descriptions[feat])) for feat in tips.columns.tolist()]"
   ]
  },
  {
   "cell_type": "code",
   "execution_count": 27,
   "id": "ea266f99",
   "metadata": {},
   "outputs": [],
   "source": [
    "from broinsight.experiment.ollama import LocalOpenAI\n",
    "model = LocalOpenAI()"
   ]
  },
  {
   "cell_type": "code",
   "execution_count": 28,
   "id": "85e5ea66",
   "metadata": {},
   "outputs": [
    {
     "name": "stdout",
     "output_type": "stream",
     "text": [
      "Here are some areas you might want to explore:\n",
      "\n",
      "Customer demographics  \n",
      "- What is the average tip for Male customers compared to Female customers?  \n",
      "- How does the average total_bill differ between smokers and non‑smokers?  \n",
      "\n",
      "Dining patterns  \n",
      "- Which day of the week has the highest average total_bill?  \n",
      "- Is there a difference in average tip between Lunch and Dinner times?  \n",
      "\n",
      "Group size influence  \n",
      "- What is the average total_bill for groups of size 1 compared to groups of size 2?  \n",
      "- How does the average tip change for larger groups (size 4 or more) versus smaller groups?  \n",
      "\n",
      "Just ask me any of these questions and I'll analyze your data to get the answers!\n"
     ]
    }
   ],
   "source": [
    "from broprompt import Prompt\n",
    "\n",
    "prompt = Prompt.from_markdown(\"broinsight/prompt_hub/guide_question.md\")\n",
    "metadata = \"METADATA:\\n\\n{metadata}\\n\\n\".format(metadata=\"\\n\".join([\"{field}: {detail}\".format(field=field, detail=detail) for field, detail in tips_metadata.items()]))\n",
    "# user_input = \"USER_INPUT:\\n\\nWhat data do we have?\"\n",
    "user_input = \"USER_INPUT:\\n\\nI wanna know about customers\"\n",
    "# response = model.run(system_prompt=prompt.str, messages=[model.UserMessage(text=metadata+user_input)])\n",
    "response = model.run(system_prompt=prompt.str, messages=[model.UserMessage(text=metadata)])\n",
    "\n",
    "print(response['content'])"
   ]
  },
  {
   "cell_type": "code",
   "execution_count": 29,
   "id": "046295a4",
   "metadata": {},
   "outputs": [
    {
     "name": "stdout",
     "output_type": "stream",
     "text": [
      "This data shows how much customers pay for meals, the tips they leave, and basic details about when and by whom they dine. It lets managers see which days and times bring the most revenue, how party size and customer habits affect spending, and where to focus promotions. With these insights, restaurants can boost sales, optimize staffing, and tailor marketing to the most profitable segments.\n"
     ]
    }
   ],
   "source": [
    "prompt = Prompt.from_markdown(\"broinsight/prompt_hub/table_descriptor.md\")\n",
    "metadata = \"METADATA:\\n\\n{metadata}\\n\\n\".format(metadata=\"\\n\".join([\"{field}: {detail}\".format(field=field, detail=detail) for field, detail in tips_metadata.items()]))\n",
    "response = model.run(system_prompt=prompt.str, messages=[model.UserMessage(text=metadata)])\n",
    "\n",
    "print(response[\"content\"])"
   ]
  },
  {
   "cell_type": "code",
   "execution_count": 30,
   "id": "8d7d126a",
   "metadata": {},
   "outputs": [],
   "source": [
    "table_name = \"tips\"\n",
    "table_description = response['content'].split(\"```text\")[-1].split(\"```\")[0]\n",
    "\n",
    "table_metadata = dict(\n",
    "    table_name=table_name,\n",
    "    table_description=table_description,\n",
    ")\n",
    "table_metadata.update(tips_metadata)"
   ]
  },
  {
   "cell_type": "code",
   "execution_count": 31,
   "id": "7a72ff66",
   "metadata": {},
   "outputs": [
    {
     "name": "stdout",
     "output_type": "stream",
     "text": [
      "```sql\n",
      "WITH avg_tips AS (\n",
      "    SELECT\n",
      "        time,\n",
      "        ROUND(AVG(tip), 2) AS avg_tip\n",
      "    FROM tips\n",
      "    GROUP BY time\n",
      ")\n",
      "SELECT\n",
      "    lunch.avg_tip          AS lunch_avg_tip,\n",
      "    dinner.avg_tip         AS dinner_avg_tip,\n",
      "    CASE\n",
      "        WHEN dinner.avg_tip > lunch.avg_tip THEN 'Dinner'\n",
      "        ELSE 'Lunch'\n",
      "    END                     AS higher_tip,\n",
      "    ROUND(\n",
      "        (GREATEST(dinner.avg_tip, lunch.avg_tip) - LEAST(dinner.avg_tip, lunch.avg_tip))\n",
      "        / NULLIF(LEAST(dinner.avg_tip, lunch.avg_tip), 0) * 100,\n",
      "        2\n",
      "    )                       AS percent_higher\n",
      "FROM\n",
      "    (SELECT avg_tip FROM avg_tips WHERE time = 'Lunch') lunch\n",
      "CROSS JOIN\n",
      "    (SELECT avg_tip FROM avg_tips WHERE time = 'Dinner') dinner;\n",
      "```\n"
     ]
    }
   ],
   "source": [
    "# question = \"I wanna know how many people visit my shop compare to global population and tell me the source of information.\"\n",
    "# question = \"I wanna see the relationship between average total bill and average tips of segments of sex and smoker.\"\n",
    "# question = \"Does smoker tip differently than non-smoker breaking down by time of day?\"\n",
    "# question = \"Which sex gives the better tips?\"\n",
    "# question = \"Which sex gives the better tips than one another?\"\n",
    "# question = \"I wanna know that weekend have a size bigger than weekday or not? If so how many?\"\n",
    "# question = \"อยากรู้ว่า คนกินข้าวเยอะ ในวันไหนมากกว่ากัน ระหว่าง วันจันทร์ และ วันศุกร์ เป็นจำนวนเท่าไหร่?\"\n",
    "# question = \"I wanna know how many people are in between smoker and non-smoker groups. Also, do you know which brand of ciggaratte do the smoker prefer in our restaurant?\"\n",
    "# question = \"Which sex has the most dinner?\"\n",
    "# question = \"Based on sex, smoker type and meal of the day, which customer group paid most in tips?\"\n",
    "# question = \"Based on sex, smoker type and meal of the day, which customer group paid most in tips? I wanna see all comparisons.\"\n",
    "# question = \"What is the average `tip` given the `size` of the party?\"\n",
    "# question = \"Is there a difference in average tip between Lunch and Dinner using the time and tip fields?\"\n",
    "question = \"What are the average tip amounts of lunch and dinner? Also which one is higher and by percentage?\"\n",
    "\n",
    "prompt = Prompt.from_markdown(\"broinsight/prompt_hub/generate_sql.md\")\n",
    "metadata = \"METADATA:\\n\\n{metadata}\\n\\n\".format(metadata=\"\\n\".join([\"{field}: {detail}\".format(field=field, detail=detail) for field, detail in table_metadata.items()]))\n",
    "user_input = \"USER_INPUT:\\n\\n{question}\".format(question=question)\n",
    "response = model.run(system_prompt=prompt.str, messages=[model.UserMessage(text=metadata+user_input)])\n",
    "\n",
    "print(response[\"content\"])"
   ]
  },
  {
   "cell_type": "code",
   "execution_count": 32,
   "id": "792cbd59",
   "metadata": {},
   "outputs": [
    {
     "name": "stdout",
     "output_type": "stream",
     "text": [
      "\n",
      "WITH avg_tips AS (\n",
      "    SELECT\n",
      "        time,\n",
      "        ROUND(AVG(tip), 2) AS avg_tip\n",
      "    FROM tips\n",
      "    GROUP BY time\n",
      ")\n",
      "SELECT\n",
      "    lunch.avg_tip          AS lunch_avg_tip,\n",
      "    dinner.avg_tip         AS dinner_avg_tip,\n",
      "    CASE\n",
      "        WHEN dinner.avg_tip > lunch.avg_tip THEN 'Dinner'\n",
      "        ELSE 'Lunch'\n",
      "    END                     AS higher_tip,\n",
      "    ROUND(\n",
      "        (GREATEST(dinner.avg_tip, lunch.avg_tip) - LEAST(dinner.avg_tip, lunch.avg_tip))\n",
      "        / NULLIF(LEAST(dinner.avg_tip, lunch.avg_tip), 0) * 100,\n",
      "        2\n",
      "    )                       AS percent_higher\n",
      "FROM\n",
      "    (SELECT avg_tip FROM avg_tips WHERE time = 'Lunch') lunch\n",
      "CROSS JOIN\n",
      "    (SELECT avg_tip FROM avg_tips WHERE time = 'Dinner') dinner;\n",
      "\n"
     ]
    }
   ],
   "source": [
    "sql_query = response['content'].split(\"```sql\")[-1].split(\"```\")[0]\n",
    "print(sql_query)"
   ]
  },
  {
   "cell_type": "code",
   "execution_count": 33,
   "id": "306245ea",
   "metadata": {},
   "outputs": [
    {
     "data": {
      "text/html": [
       "<div>\n",
       "<style scoped>\n",
       "    .dataframe tbody tr th:only-of-type {\n",
       "        vertical-align: middle;\n",
       "    }\n",
       "\n",
       "    .dataframe tbody tr th {\n",
       "        vertical-align: top;\n",
       "    }\n",
       "\n",
       "    .dataframe thead th {\n",
       "        text-align: right;\n",
       "    }\n",
       "</style>\n",
       "<table border=\"1\" class=\"dataframe\">\n",
       "  <thead>\n",
       "    <tr style=\"text-align: right;\">\n",
       "      <th></th>\n",
       "      <th>lunch_avg_tip</th>\n",
       "      <th>dinner_avg_tip</th>\n",
       "      <th>higher_tip</th>\n",
       "      <th>percent_higher</th>\n",
       "    </tr>\n",
       "  </thead>\n",
       "  <tbody>\n",
       "    <tr>\n",
       "      <th>0</th>\n",
       "      <td>2.73</td>\n",
       "      <td>3.1</td>\n",
       "      <td>Dinner</td>\n",
       "      <td>13.55</td>\n",
       "    </tr>\n",
       "  </tbody>\n",
       "</table>\n",
       "</div>"
      ],
      "text/plain": [
       "   lunch_avg_tip  dinner_avg_tip higher_tip  percent_higher\n",
       "0           2.73             3.1     Dinner           13.55"
      ]
     },
     "execution_count": 33,
     "metadata": {},
     "output_type": "execute_result"
    }
   ],
   "source": [
    "import duckdb\n",
    "conn = duckdb.connect()\n",
    "conn.register(\"tips\", tips)\n",
    "query_result = conn.execute(sql_query).df()\n",
    "query_result"
   ]
  },
  {
   "cell_type": "code",
   "execution_count": 34,
   "id": "f575a2a2",
   "metadata": {},
   "outputs": [
    {
     "name": "stdout",
     "output_type": "stream",
     "text": [
      "From the data you’ve shared:\n",
      "\n",
      "- **Lunch average tip:** **$2.73**  \n",
      "- **Dinner average tip:** **$3.10**  \n",
      "\n",
      "The dinner tip is the higher amount. According to the “percent_higher” column, dinner tips are about **13.55 %** higher than lunch tips. \n",
      "\n",
      "So, if you’re looking to boost overall tipping or compare service periods, dinner clearly pulls ahead—roughly one‑and‑a‑half dollars per meal, which translates to a noticeable 13.5 % lift over lunch. This could influence staffing, menu pricing, or promotional focus during dinner hours.\n"
     ]
    }
   ],
   "source": [
    "prompt = Prompt.from_markdown(\"broinsight/prompt_hub/chat.md\")\n",
    "context = \"CONTEXT:\\n\\n{context}n\\n\".format(context=query_result.to_string())\n",
    "user_input = \"USER_INPUT:\\n\\n{question}\".format(question=question)\n",
    "response = model.run(system_prompt=prompt.str, messages=[model.UserMessage(text=context+user_input)])\n",
    "\n",
    "print(response[\"content\"])"
   ]
  },
  {
   "cell_type": "code",
   "execution_count": 35,
   "id": "70c1786c",
   "metadata": {},
   "outputs": [],
   "source": [
    "# 1. LLM generates function code\n",
    "prompt = Prompt.from_markdown(\"broinsight/prompt_hub/chart_builder.md\")\n",
    "data = \"DATA:\\n\\n{data}\\n\\n\".format(data=query_result.to_string())\n",
    "user_input = \"USER_INPUT:\\n\\n{question}\".format(question=question)\n",
    "response = model.run(system_prompt=prompt.str, messages=[\n",
    "    model.UserMessage(text=data+user_input)\n",
    "])"
   ]
  },
  {
   "cell_type": "code",
   "execution_count": 36,
   "id": "e5fece24",
   "metadata": {},
   "outputs": [
    {
     "name": "stdout",
     "output_type": "stream",
     "text": [
      "```python\n",
      "def create_chart(data):\n",
      "    import plotly.graph_objects as go\n",
      "    import pandas as pd\n",
      "\n",
      "    # Ensure we have the expected columns\n",
      "    expected_cols = {'lunch_avg_tip', 'dinner_avg_tip', 'higher_tip', 'percent_higher'}\n",
      "    if not expected_cols.issubset(set(data.columns)):\n",
      "        raise ValueError(f\"Data must contain columns: {expected_cols}\")\n",
      "\n",
      "    # Extract values\n",
      "    lunch_tip = data['lunch_avg_tip'].iloc[0]\n",
      "    dinner_tip = data['dinner_avg_tip'].iloc[0]\n",
      "    higher = data['higher_tip'].iloc[0]\n",
      "    percent = data['percent_higher'].iloc[0]\n",
      "\n",
      "    # Create bar chart\n",
      "    fig = go.Figure(data=[\n",
      "        go.Bar(name='Lunch', x=['Lunch'], y=[lunch_tip], marker_color='steelblue'),\n",
      "        go.Bar(name='Dinner', x=['Dinner'], y=[dinner_tip], marker_color='indianred')\n",
      "    ])\n",
      "\n",
      "    # Add annotation for higher tip and percentage\n",
      "    annotation_text = f\"**{higher}** is higher by **{percent:.2f}%**\"\n",
      "    fig.add_annotation(\n",
      "        x=0.5, y=1.15, xref='paper', yref='paper',\n",
      "        text=annotation_text,\n",
      "        showarrow=False,\n",
      "        font=dict(size=14, color='black')\n",
      "    )\n",
      "\n",
      "    # Update layout for clarity\n",
      "    fig.update_layout(\n",
      "        title='Average Tip Amounts: Lunch vs Dinner',\n",
      "        yaxis_title='Average Tip ($)',\n",
      "        barmode='group',\n",
      "        legend_title_text='Meal Type',\n",
      "        template='plotly_white',\n",
      "        margin=dict(l=50, r=50, t=80, b=50)\n",
      "    )\n",
      "\n",
      "    return fig\n",
      "```\n"
     ]
    }
   ],
   "source": [
    "print(response['content'])"
   ]
  },
  {
   "cell_type": "code",
   "execution_count": 37,
   "id": "9eba4b07",
   "metadata": {},
   "outputs": [],
   "source": [
    "function_code = response['content'].split(\"```python\")[-1].split(\"```\")[0]\n",
    "\n",
    "# 2. Execute to create function\n",
    "exec(function_code)  # Now create_chart function exists\n",
    "\n",
    "# 3. Call with actual data\n",
    "fig = create_chart(query_result)"
   ]
  },
  {
   "cell_type": "code",
   "execution_count": 38,
   "id": "962e340c",
   "metadata": {},
   "outputs": [
    {
     "data": {
      "application/vnd.plotly.v1+json": {
       "config": {
        "plotlyServerURL": "https://plot.ly"
       },
       "data": [
        {
         "marker": {
          "color": "steelblue"
         },
         "name": "Lunch",
         "type": "bar",
         "x": [
          "Lunch"
         ],
         "y": [
          2.73
         ]
        },
        {
         "marker": {
          "color": "indianred"
         },
         "name": "Dinner",
         "type": "bar",
         "x": [
          "Dinner"
         ],
         "y": [
          3.1
         ]
        }
       ],
       "layout": {
        "annotations": [
         {
          "font": {
           "color": "black",
           "size": 14
          },
          "showarrow": false,
          "text": "**Dinner** is higher by **13.55%**",
          "x": 0.5,
          "xref": "paper",
          "y": 1.15,
          "yref": "paper"
         }
        ],
        "barmode": "group",
        "legend": {
         "title": {
          "text": "Meal Type"
         }
        },
        "margin": {
         "b": 50,
         "l": 50,
         "r": 50,
         "t": 80
        },
        "template": {
         "data": {
          "bar": [
           {
            "error_x": {
             "color": "#2a3f5f"
            },
            "error_y": {
             "color": "#2a3f5f"
            },
            "marker": {
             "line": {
              "color": "white",
              "width": 0.5
             },
             "pattern": {
              "fillmode": "overlay",
              "size": 10,
              "solidity": 0.2
             }
            },
            "type": "bar"
           }
          ],
          "barpolar": [
           {
            "marker": {
             "line": {
              "color": "white",
              "width": 0.5
             },
             "pattern": {
              "fillmode": "overlay",
              "size": 10,
              "solidity": 0.2
             }
            },
            "type": "barpolar"
           }
          ],
          "carpet": [
           {
            "aaxis": {
             "endlinecolor": "#2a3f5f",
             "gridcolor": "#C8D4E3",
             "linecolor": "#C8D4E3",
             "minorgridcolor": "#C8D4E3",
             "startlinecolor": "#2a3f5f"
            },
            "baxis": {
             "endlinecolor": "#2a3f5f",
             "gridcolor": "#C8D4E3",
             "linecolor": "#C8D4E3",
             "minorgridcolor": "#C8D4E3",
             "startlinecolor": "#2a3f5f"
            },
            "type": "carpet"
           }
          ],
          "choropleth": [
           {
            "colorbar": {
             "outlinewidth": 0,
             "ticks": ""
            },
            "type": "choropleth"
           }
          ],
          "contour": [
           {
            "colorbar": {
             "outlinewidth": 0,
             "ticks": ""
            },
            "colorscale": [
             [
              0,
              "#0d0887"
             ],
             [
              0.1111111111111111,
              "#46039f"
             ],
             [
              0.2222222222222222,
              "#7201a8"
             ],
             [
              0.3333333333333333,
              "#9c179e"
             ],
             [
              0.4444444444444444,
              "#bd3786"
             ],
             [
              0.5555555555555556,
              "#d8576b"
             ],
             [
              0.6666666666666666,
              "#ed7953"
             ],
             [
              0.7777777777777778,
              "#fb9f3a"
             ],
             [
              0.8888888888888888,
              "#fdca26"
             ],
             [
              1,
              "#f0f921"
             ]
            ],
            "type": "contour"
           }
          ],
          "contourcarpet": [
           {
            "colorbar": {
             "outlinewidth": 0,
             "ticks": ""
            },
            "type": "contourcarpet"
           }
          ],
          "heatmap": [
           {
            "colorbar": {
             "outlinewidth": 0,
             "ticks": ""
            },
            "colorscale": [
             [
              0,
              "#0d0887"
             ],
             [
              0.1111111111111111,
              "#46039f"
             ],
             [
              0.2222222222222222,
              "#7201a8"
             ],
             [
              0.3333333333333333,
              "#9c179e"
             ],
             [
              0.4444444444444444,
              "#bd3786"
             ],
             [
              0.5555555555555556,
              "#d8576b"
             ],
             [
              0.6666666666666666,
              "#ed7953"
             ],
             [
              0.7777777777777778,
              "#fb9f3a"
             ],
             [
              0.8888888888888888,
              "#fdca26"
             ],
             [
              1,
              "#f0f921"
             ]
            ],
            "type": "heatmap"
           }
          ],
          "histogram": [
           {
            "marker": {
             "pattern": {
              "fillmode": "overlay",
              "size": 10,
              "solidity": 0.2
             }
            },
            "type": "histogram"
           }
          ],
          "histogram2d": [
           {
            "colorbar": {
             "outlinewidth": 0,
             "ticks": ""
            },
            "colorscale": [
             [
              0,
              "#0d0887"
             ],
             [
              0.1111111111111111,
              "#46039f"
             ],
             [
              0.2222222222222222,
              "#7201a8"
             ],
             [
              0.3333333333333333,
              "#9c179e"
             ],
             [
              0.4444444444444444,
              "#bd3786"
             ],
             [
              0.5555555555555556,
              "#d8576b"
             ],
             [
              0.6666666666666666,
              "#ed7953"
             ],
             [
              0.7777777777777778,
              "#fb9f3a"
             ],
             [
              0.8888888888888888,
              "#fdca26"
             ],
             [
              1,
              "#f0f921"
             ]
            ],
            "type": "histogram2d"
           }
          ],
          "histogram2dcontour": [
           {
            "colorbar": {
             "outlinewidth": 0,
             "ticks": ""
            },
            "colorscale": [
             [
              0,
              "#0d0887"
             ],
             [
              0.1111111111111111,
              "#46039f"
             ],
             [
              0.2222222222222222,
              "#7201a8"
             ],
             [
              0.3333333333333333,
              "#9c179e"
             ],
             [
              0.4444444444444444,
              "#bd3786"
             ],
             [
              0.5555555555555556,
              "#d8576b"
             ],
             [
              0.6666666666666666,
              "#ed7953"
             ],
             [
              0.7777777777777778,
              "#fb9f3a"
             ],
             [
              0.8888888888888888,
              "#fdca26"
             ],
             [
              1,
              "#f0f921"
             ]
            ],
            "type": "histogram2dcontour"
           }
          ],
          "mesh3d": [
           {
            "colorbar": {
             "outlinewidth": 0,
             "ticks": ""
            },
            "type": "mesh3d"
           }
          ],
          "parcoords": [
           {
            "line": {
             "colorbar": {
              "outlinewidth": 0,
              "ticks": ""
             }
            },
            "type": "parcoords"
           }
          ],
          "pie": [
           {
            "automargin": true,
            "type": "pie"
           }
          ],
          "scatter": [
           {
            "fillpattern": {
             "fillmode": "overlay",
             "size": 10,
             "solidity": 0.2
            },
            "type": "scatter"
           }
          ],
          "scatter3d": [
           {
            "line": {
             "colorbar": {
              "outlinewidth": 0,
              "ticks": ""
             }
            },
            "marker": {
             "colorbar": {
              "outlinewidth": 0,
              "ticks": ""
             }
            },
            "type": "scatter3d"
           }
          ],
          "scattercarpet": [
           {
            "marker": {
             "colorbar": {
              "outlinewidth": 0,
              "ticks": ""
             }
            },
            "type": "scattercarpet"
           }
          ],
          "scattergeo": [
           {
            "marker": {
             "colorbar": {
              "outlinewidth": 0,
              "ticks": ""
             }
            },
            "type": "scattergeo"
           }
          ],
          "scattergl": [
           {
            "marker": {
             "colorbar": {
              "outlinewidth": 0,
              "ticks": ""
             }
            },
            "type": "scattergl"
           }
          ],
          "scattermap": [
           {
            "marker": {
             "colorbar": {
              "outlinewidth": 0,
              "ticks": ""
             }
            },
            "type": "scattermap"
           }
          ],
          "scattermapbox": [
           {
            "marker": {
             "colorbar": {
              "outlinewidth": 0,
              "ticks": ""
             }
            },
            "type": "scattermapbox"
           }
          ],
          "scatterpolar": [
           {
            "marker": {
             "colorbar": {
              "outlinewidth": 0,
              "ticks": ""
             }
            },
            "type": "scatterpolar"
           }
          ],
          "scatterpolargl": [
           {
            "marker": {
             "colorbar": {
              "outlinewidth": 0,
              "ticks": ""
             }
            },
            "type": "scatterpolargl"
           }
          ],
          "scatterternary": [
           {
            "marker": {
             "colorbar": {
              "outlinewidth": 0,
              "ticks": ""
             }
            },
            "type": "scatterternary"
           }
          ],
          "surface": [
           {
            "colorbar": {
             "outlinewidth": 0,
             "ticks": ""
            },
            "colorscale": [
             [
              0,
              "#0d0887"
             ],
             [
              0.1111111111111111,
              "#46039f"
             ],
             [
              0.2222222222222222,
              "#7201a8"
             ],
             [
              0.3333333333333333,
              "#9c179e"
             ],
             [
              0.4444444444444444,
              "#bd3786"
             ],
             [
              0.5555555555555556,
              "#d8576b"
             ],
             [
              0.6666666666666666,
              "#ed7953"
             ],
             [
              0.7777777777777778,
              "#fb9f3a"
             ],
             [
              0.8888888888888888,
              "#fdca26"
             ],
             [
              1,
              "#f0f921"
             ]
            ],
            "type": "surface"
           }
          ],
          "table": [
           {
            "cells": {
             "fill": {
              "color": "#EBF0F8"
             },
             "line": {
              "color": "white"
             }
            },
            "header": {
             "fill": {
              "color": "#C8D4E3"
             },
             "line": {
              "color": "white"
             }
            },
            "type": "table"
           }
          ]
         },
         "layout": {
          "annotationdefaults": {
           "arrowcolor": "#2a3f5f",
           "arrowhead": 0,
           "arrowwidth": 1
          },
          "autotypenumbers": "strict",
          "coloraxis": {
           "colorbar": {
            "outlinewidth": 0,
            "ticks": ""
           }
          },
          "colorscale": {
           "diverging": [
            [
             0,
             "#8e0152"
            ],
            [
             0.1,
             "#c51b7d"
            ],
            [
             0.2,
             "#de77ae"
            ],
            [
             0.3,
             "#f1b6da"
            ],
            [
             0.4,
             "#fde0ef"
            ],
            [
             0.5,
             "#f7f7f7"
            ],
            [
             0.6,
             "#e6f5d0"
            ],
            [
             0.7,
             "#b8e186"
            ],
            [
             0.8,
             "#7fbc41"
            ],
            [
             0.9,
             "#4d9221"
            ],
            [
             1,
             "#276419"
            ]
           ],
           "sequential": [
            [
             0,
             "#0d0887"
            ],
            [
             0.1111111111111111,
             "#46039f"
            ],
            [
             0.2222222222222222,
             "#7201a8"
            ],
            [
             0.3333333333333333,
             "#9c179e"
            ],
            [
             0.4444444444444444,
             "#bd3786"
            ],
            [
             0.5555555555555556,
             "#d8576b"
            ],
            [
             0.6666666666666666,
             "#ed7953"
            ],
            [
             0.7777777777777778,
             "#fb9f3a"
            ],
            [
             0.8888888888888888,
             "#fdca26"
            ],
            [
             1,
             "#f0f921"
            ]
           ],
           "sequentialminus": [
            [
             0,
             "#0d0887"
            ],
            [
             0.1111111111111111,
             "#46039f"
            ],
            [
             0.2222222222222222,
             "#7201a8"
            ],
            [
             0.3333333333333333,
             "#9c179e"
            ],
            [
             0.4444444444444444,
             "#bd3786"
            ],
            [
             0.5555555555555556,
             "#d8576b"
            ],
            [
             0.6666666666666666,
             "#ed7953"
            ],
            [
             0.7777777777777778,
             "#fb9f3a"
            ],
            [
             0.8888888888888888,
             "#fdca26"
            ],
            [
             1,
             "#f0f921"
            ]
           ]
          },
          "colorway": [
           "#636efa",
           "#EF553B",
           "#00cc96",
           "#ab63fa",
           "#FFA15A",
           "#19d3f3",
           "#FF6692",
           "#B6E880",
           "#FF97FF",
           "#FECB52"
          ],
          "font": {
           "color": "#2a3f5f"
          },
          "geo": {
           "bgcolor": "white",
           "lakecolor": "white",
           "landcolor": "white",
           "showlakes": true,
           "showland": true,
           "subunitcolor": "#C8D4E3"
          },
          "hoverlabel": {
           "align": "left"
          },
          "hovermode": "closest",
          "mapbox": {
           "style": "light"
          },
          "paper_bgcolor": "white",
          "plot_bgcolor": "white",
          "polar": {
           "angularaxis": {
            "gridcolor": "#EBF0F8",
            "linecolor": "#EBF0F8",
            "ticks": ""
           },
           "bgcolor": "white",
           "radialaxis": {
            "gridcolor": "#EBF0F8",
            "linecolor": "#EBF0F8",
            "ticks": ""
           }
          },
          "scene": {
           "xaxis": {
            "backgroundcolor": "white",
            "gridcolor": "#DFE8F3",
            "gridwidth": 2,
            "linecolor": "#EBF0F8",
            "showbackground": true,
            "ticks": "",
            "zerolinecolor": "#EBF0F8"
           },
           "yaxis": {
            "backgroundcolor": "white",
            "gridcolor": "#DFE8F3",
            "gridwidth": 2,
            "linecolor": "#EBF0F8",
            "showbackground": true,
            "ticks": "",
            "zerolinecolor": "#EBF0F8"
           },
           "zaxis": {
            "backgroundcolor": "white",
            "gridcolor": "#DFE8F3",
            "gridwidth": 2,
            "linecolor": "#EBF0F8",
            "showbackground": true,
            "ticks": "",
            "zerolinecolor": "#EBF0F8"
           }
          },
          "shapedefaults": {
           "line": {
            "color": "#2a3f5f"
           }
          },
          "ternary": {
           "aaxis": {
            "gridcolor": "#DFE8F3",
            "linecolor": "#A2B1C6",
            "ticks": ""
           },
           "baxis": {
            "gridcolor": "#DFE8F3",
            "linecolor": "#A2B1C6",
            "ticks": ""
           },
           "bgcolor": "white",
           "caxis": {
            "gridcolor": "#DFE8F3",
            "linecolor": "#A2B1C6",
            "ticks": ""
           }
          },
          "title": {
           "x": 0.05
          },
          "xaxis": {
           "automargin": true,
           "gridcolor": "#EBF0F8",
           "linecolor": "#EBF0F8",
           "ticks": "",
           "title": {
            "standoff": 15
           },
           "zerolinecolor": "#EBF0F8",
           "zerolinewidth": 2
          },
          "yaxis": {
           "automargin": true,
           "gridcolor": "#EBF0F8",
           "linecolor": "#EBF0F8",
           "ticks": "",
           "title": {
            "standoff": 15
           },
           "zerolinecolor": "#EBF0F8",
           "zerolinewidth": 2
          }
         }
        },
        "title": {
         "text": "Average Tip Amounts: Lunch vs Dinner"
        },
        "yaxis": {
         "title": {
          "text": "Average Tip ($)"
         }
        }
       }
      }
     },
     "metadata": {},
     "output_type": "display_data"
    }
   ],
   "source": [
    "fig.show()"
   ]
  },
  {
   "cell_type": "code",
   "execution_count": null,
   "id": "23d50412",
   "metadata": {},
   "outputs": [],
   "source": []
  }
 ],
 "metadata": {
  "kernelspec": {
   "display_name": "broinsight",
   "language": "python",
   "name": "python3"
  },
  "language_info": {
   "codemirror_mode": {
    "name": "ipython",
    "version": 3
   },
   "file_extension": ".py",
   "mimetype": "text/x-python",
   "name": "python",
   "nbconvert_exporter": "python",
   "pygments_lexer": "ipython3",
   "version": "3.12.9"
  }
 },
 "nbformat": 4,
 "nbformat_minor": 5
}
