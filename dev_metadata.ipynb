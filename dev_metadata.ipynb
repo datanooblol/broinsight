{
 "cells": [
  {
   "cell_type": "code",
   "execution_count": 20,
   "id": "b20a5dcd",
   "metadata": {},
   "outputs": [
    {
     "name": "stdout",
     "output_type": "stream",
     "text": [
      "The autoreload extension is already loaded. To reload it, use:\n",
      "  %reload_ext autoreload\n"
     ]
    }
   ],
   "source": [
    "%load_ext autoreload\n",
    "%autoreload 2"
   ]
  },
  {
   "cell_type": "code",
   "execution_count": 21,
   "id": "2fdcf891",
   "metadata": {},
   "outputs": [],
   "source": [
    "import seaborn as sns\n",
    "# from broinsight.utils.data_catalog import DataCatalog\n",
    "# from broinsight.broinsight import BroInsight\n",
    "from broinsight import DataCatalog, BroInsight\n",
    "from broinsight.experiment.ollama import LocalOpenAI\n",
    "\n",
    "tips_metadata = dict(\n",
    "    total_bill=\"the amount of paid bill of the meal\",\n",
    "    tip=\"the amount of tip that customers paid\",\n",
    "    sex=\"the gender of customers\",\n",
    "    smoker=\"it indicates that a customer is a smoker or not. if No means a customer is a non-smoker, Yes means a customer is a smoker.\",\n",
    "    day=\"this is a day of the week when a customer having a meal here. i.e. Mon, Tue, Wed, Thu, Fri, Sat, Sun\",\n",
    "    time=\"the time of the meal. it can be either Dinner or Lunch\",\n",
    "    size=\"the number of dishes that customers have\",\n",
    ")\n",
    "table_description = \"Restaurant visit records showing bills, tips, customer info...\"\n",
    "catalog = DataCatalog()\n",
    "catalog.create_table(\"tips\", sns.load_dataset(\"tips\"), metadata=dict(table_description=table_description, description=tips_metadata))\n",
    "broinsight = BroInsight(llm=LocalOpenAI(), catalog=catalog)"
   ]
  },
  {
   "cell_type": "code",
   "execution_count": 22,
   "id": "7cb0ef43",
   "metadata": {},
   "outputs": [
    {
     "data": {
      "text/plain": [
       "{'tips': {'type': 'pandas',\n",
       "  'path': None,\n",
       "  'metadata': {'table_description': 'Restaurant visit records showing bills, tips, customer info...',\n",
       "   'description': {'total_bill': 'the amount of paid bill of the meal',\n",
       "    'tip': 'the amount of tip that customers paid',\n",
       "    'sex': 'the gender of customers',\n",
       "    'smoker': 'it indicates that a customer is a smoker or not. if No means a customer is a non-smoker, Yes means a customer is a smoker.',\n",
       "    'day': 'this is a day of the week when a customer having a meal here. i.e. Mon, Tue, Wed, Thu, Fri, Sat, Sun',\n",
       "    'time': 'the time of the meal. it can be either Dinner or Lunch',\n",
       "    'size': 'the number of dishes that customers have'}}}}"
      ]
     },
     "execution_count": 22,
     "metadata": {},
     "output_type": "execute_result"
    }
   ],
   "source": [
    "catalog._tables"
   ]
  },
  {
   "cell_type": "code",
   "execution_count": 23,
   "id": "99f7f539",
   "metadata": {},
   "outputs": [
    {
     "data": {
      "text/html": [
       "<div>\n",
       "<style scoped>\n",
       "    .dataframe tbody tr th:only-of-type {\n",
       "        vertical-align: middle;\n",
       "    }\n",
       "\n",
       "    .dataframe tbody tr th {\n",
       "        vertical-align: top;\n",
       "    }\n",
       "\n",
       "    .dataframe thead th {\n",
       "        text-align: right;\n",
       "    }\n",
       "</style>\n",
       "<table border=\"1\" class=\"dataframe\">\n",
       "  <thead>\n",
       "    <tr style=\"text-align: right;\">\n",
       "      <th></th>\n",
       "      <th>total_bill</th>\n",
       "      <th>tip</th>\n",
       "      <th>sex</th>\n",
       "      <th>smoker</th>\n",
       "      <th>day</th>\n",
       "      <th>time</th>\n",
       "      <th>size</th>\n",
       "    </tr>\n",
       "  </thead>\n",
       "  <tbody>\n",
       "    <tr>\n",
       "      <th>0</th>\n",
       "      <td>16.99</td>\n",
       "      <td>1.01</td>\n",
       "      <td>Female</td>\n",
       "      <td>No</td>\n",
       "      <td>Sun</td>\n",
       "      <td>Dinner</td>\n",
       "      <td>2</td>\n",
       "    </tr>\n",
       "    <tr>\n",
       "      <th>1</th>\n",
       "      <td>10.34</td>\n",
       "      <td>1.66</td>\n",
       "      <td>Male</td>\n",
       "      <td>No</td>\n",
       "      <td>Sun</td>\n",
       "      <td>Dinner</td>\n",
       "      <td>3</td>\n",
       "    </tr>\n",
       "    <tr>\n",
       "      <th>2</th>\n",
       "      <td>21.01</td>\n",
       "      <td>3.50</td>\n",
       "      <td>Male</td>\n",
       "      <td>No</td>\n",
       "      <td>Sun</td>\n",
       "      <td>Dinner</td>\n",
       "      <td>3</td>\n",
       "    </tr>\n",
       "    <tr>\n",
       "      <th>3</th>\n",
       "      <td>23.68</td>\n",
       "      <td>3.31</td>\n",
       "      <td>Male</td>\n",
       "      <td>No</td>\n",
       "      <td>Sun</td>\n",
       "      <td>Dinner</td>\n",
       "      <td>2</td>\n",
       "    </tr>\n",
       "    <tr>\n",
       "      <th>4</th>\n",
       "      <td>24.59</td>\n",
       "      <td>3.61</td>\n",
       "      <td>Female</td>\n",
       "      <td>No</td>\n",
       "      <td>Sun</td>\n",
       "      <td>Dinner</td>\n",
       "      <td>4</td>\n",
       "    </tr>\n",
       "  </tbody>\n",
       "</table>\n",
       "</div>"
      ],
      "text/plain": [
       "   total_bill   tip     sex smoker  day    time  size\n",
       "0       16.99  1.01  Female     No  Sun  Dinner     2\n",
       "1       10.34  1.66    Male     No  Sun  Dinner     3\n",
       "2       21.01  3.50    Male     No  Sun  Dinner     3\n",
       "3       23.68  3.31    Male     No  Sun  Dinner     2\n",
       "4       24.59  3.61  Female     No  Sun  Dinner     4"
      ]
     },
     "execution_count": 23,
     "metadata": {},
     "output_type": "execute_result"
    }
   ],
   "source": [
    "catalog.query(\"SELECT * FROM tips LIMIT 5\")"
   ]
  },
  {
   "cell_type": "code",
   "execution_count": 24,
   "id": "886a13d8",
   "metadata": {},
   "outputs": [
    {
     "name": "stdout",
     "output_type": "stream",
     "text": [
      "**Data Transformation Recommendations for Your Machine‑Learning Pipeline**\n",
      "\n",
      "| Field | Current Status | Why Transform? | Suggested Transformation |\n",
      "|-------|----------------|----------------|---------------------------|\n",
      "| **total_bill** | Float, moderately skewed (skew = 1.13) | Skewed targets can bias distance‑based models (KNN, SVM) and tree‑based models may over‑fit to long tails. | • Log‑transform (`log1p`) or Box‑Cox (if all values > 0). <br>• After transform, apply **StandardScaler** (zero‑mean, unit‑variance). |\n",
      "| **tip** | Float, moderately skewed (skew = 1.47) | Same rationale as above. | • Log‑transform (`log1p`) or Box‑Cox. <br>• Scale with **StandardScaler**. |\n",
      "| **size** | Integer, moderately skewed (skew = 1.45) | Small range but skewness can affect linear models and clustering. | • Log‑transform or **PowerTransformer** (Yeo‑Johnson works with zeros). <br>• Scale thereafter. |\n",
      "| **sex, smoker, day, time** | Categorical (2–4 unique values) | Machine‑learning algorithms need numeric input. | • One‑hot encode (get‑dummies) or use **OrdinalEncoder** if order is meaningful (not in this case). |\n",
      "| **Duplicate record** | 1 duplicate | Duplicate can inflate the importance of that observation and bias model evaluation. | • Remove the duplicate or flag it for downstream analysis. |\n",
      "\n",
      "### Why These Transformations Matter\n",
      "\n",
      "1. **Skewness** – Log/Box‑Cox transformations reduce right‑skew, making distributions more Gaussian‑like, which improves the performance of algorithms that assume normality (linear regression, logistic regression, etc.) and stabilizes variance for tree‑based methods.\n",
      "2. **Scaling** – Standardizing numeric features ensures that distance‑based models (KNN, SVM) and regularized linear models treat all features equally.\n",
      "3. **Categorical Encoding** – Converting strings to numeric format allows the model to interpret them; one‑hot encoding preserves the non‑ordinal nature of the categories.\n",
      "4. **Duplicates** – Removing duplicates prevents over‑representation of a single observation, leading to more reliable cross‑validation and generalization.\n",
      "\n",
      "### Practical Steps\n",
      "\n",
      "1. **Remove the duplicate row** (e.g., `df.drop_duplicates()`).\n",
      "2. **Transform numeric columns**:\n",
      "   ```python\n",
      "   from sklearn.preprocessing import PowerTransformer, StandardScaler\n",
      "   pt = PowerTransformer(method='yeo-johnson')\n",
      "   numeric_cols = ['total_bill', 'tip', 'size']\n",
      "   df[numeric_cols] = pt.fit_transform(df[numeric_cols])\n",
      "   scaler = StandardScaler()\n",
      "   df[numeric_cols] = scaler.fit_transform(df[numeric_cols])\n",
      "   ```\n",
      "   *If you prefer a simple log, use `np.log1p` instead of `PowerTransformer`.*\n",
      "\n",
      "3. **Encode categoricals**:\n",
      "   ```python\n",
      "   df = pd.get_dummies(df, columns=['sex', 'smoker', 'day', 'time'], drop_first=True)\n",
      "   ```\n",
      "4. **Verify**:\n",
      "   - Re‑check skewness (should be close to 0).\n",
      "   - Ensure no new missing values.\n",
      "   - Inspect the distribution of transformed features.\n",
      "\n",
      "### Next Steps\n",
      "\n",
      "- **Split** the data into training/validation/test sets.\n",
      "- **Choose** models (e.g., Gradient Boosting, Random Forest, or a simple linear regression if the goal is to predict `tip`).\n",
      "- **Evaluate** with appropriate metrics (MAE, RMSE, R² for regression; accuracy, F1 for classification if you target categorical outcomes).\n",
      "- **Iterate**: If performance is sub‑optimal, consider additional feature engineering (interaction terms, polynomial features) or more advanced scaling (robust scaler).\n",
      "\n",
      "---\n",
      "\n",
      "**Overall Recommendation**: The dataset is *Good* for analysis, but applying the above transformations will maximize model performance and reliability. Proceed with the pipeline, starting with duplicate removal and the described preprocessing steps.\n"
     ]
    }
   ],
   "source": [
    "response = broinsight.assess_data_quality(\"tips\", \"Which data transformation methods do I need to do for machine learning project?\")\n",
    "print(response['content'])"
   ]
  },
  {
   "cell_type": "code",
   "execution_count": 25,
   "id": "8a9c63d1",
   "metadata": {},
   "outputs": [],
   "source": [
    "suggestions = broinsight.suggest_questions(\n",
    "    message=\"As a new manager, which day should I plan to have more staff to work?\",\n",
    "    tables=[\"tips\"]\n",
    ")"
   ]
  },
  {
   "cell_type": "code",
   "execution_count": 26,
   "id": "00cda4c3",
   "metadata": {},
   "outputs": [
    {
     "name": "stdout",
     "output_type": "stream",
     "text": [
      "Based on your role and goals, here are some areas you might want to explore:\n",
      "\n",
      "**Staffing Needs by Day**\n",
      "- Which day has the highest average total_bill?  \n",
      "- Which day has the largest average size of parties?  \n",
      "- Which day has the most orders (highest record count)?\n",
      "\n",
      "**Revenue and Tip Patterns by Day**\n",
      "- Which day has the highest average tip?  \n",
      "- Which day has the highest total tip revenue (sum of tip)?\n",
      "\n",
      "**Customer Traffic by Day**\n",
      "- Which day has the highest number of customers (sum of size)?  \n",
      "- Which day has the highest average number of customers per order (average size)?\n",
      "\n",
      "Just ask me any of these questions and I'll analyze your data to get the answers!\n"
     ]
    }
   ],
   "source": [
    "print(suggestions['content'])"
   ]
  },
  {
   "cell_type": "code",
   "execution_count": 27,
   "id": "8cdfc1b1",
   "metadata": {},
   "outputs": [],
   "source": [
    "# question = \"I wanna know how many people visit my shop compare to global population and tell me the source of information.\"\n",
    "# question = \"I wanna see the relationship between average total bill and average tips of segments of sex and smoker.\"\n",
    "# question = \"Does smoker tip differently than non-smoker breaking down by time of day?\"\n",
    "# question = \"Which sex gives the better tips?\"\n",
    "# question = \"Which sex gives the better tips than one another?\"\n",
    "# question = \"I wanna know that weekend have a size bigger than weekday or not? If so how many?\"\n",
    "# question = \"อยากรู้ว่า คนกินข้าวเยอะ ในวันไหนมากกว่ากัน ระหว่าง วันจันทร์ และ วันศุกร์ เป็นจำนวนเท่าไหร่?\"\n",
    "# question = \"I wanna know how many people are in between smoker and non-smoker groups. Also, do you know which brand of ciggaratte do the smoker prefer in our restaurant?\"\n",
    "# question = \"Which sex has the most dinner?\"\n",
    "# question = \"Based on sex, smoker type and meal of the day, which customer group paid most in tips?\"\n",
    "question = \"Based on sex, smoker type and meal of the day, which customer group paid most in tips? I wanna see all comparisons.\"\n",
    "# question = \"What is the average `tip` given the `size` of the party?\"\n",
    "# question = \"Is there a difference in average tip between Lunch and Dinner using the time and tip fields?\"\n",
    "# question = \"What are the average tip amounts of lunch and dinner? Also which one is higher and by percentage?\"\n",
    "# question = \"How many customers order with a party size of 5 or larger?\"\n",
    "# question = \"Is there a significant difference in total_bill between weekends (Sat, Sun) and weekdays (Thur)?\"\n",
    "# question = \"Which day has the greatest total number of transactions (count of rows)?\"\n",
    "# question = \"Which day has the greatest total number of transactions (count of rows)? Also I wanna see everyday.\"\n",
    "\n",
    "sql = broinsight.generate_sql(question, tables=[\"tips\"])\n",
    "sql_query = sql['content'].split(\"```sql\")[-1].split(\"```\")[0]"
   ]
  },
  {
   "cell_type": "code",
   "execution_count": 28,
   "id": "4fb06ad6",
   "metadata": {},
   "outputs": [
    {
     "name": "stdout",
     "output_type": "stream",
     "text": [
      "\n",
      "WITH tip_stats AS (\n",
      "    SELECT\n",
      "        sex,\n",
      "        smoker,\n",
      "        time,\n",
      "        COUNT(*)          AS visits,\n",
      "        SUM(tip)          AS total_tip,\n",
      "        AVG(tip)          AS avg_tip\n",
      "    FROM tips\n",
      "    GROUP BY sex, smoker, time\n",
      ")\n",
      "SELECT\n",
      "    sex,\n",
      "    smoker,\n",
      "    time,\n",
      "    visits,\n",
      "    total_tip,\n",
      "    avg_tip,\n",
      "    DENSE_RANK() OVER (ORDER BY avg_tip DESC) AS tip_rank\n",
      "FROM tip_stats\n",
      "ORDER BY tip_rank, sex, smoker, time;\n",
      "\n"
     ]
    }
   ],
   "source": [
    "print(sql_query)"
   ]
  },
  {
   "cell_type": "code",
   "execution_count": 29,
   "id": "2708ffff",
   "metadata": {},
   "outputs": [
    {
     "data": {
      "text/html": [
       "<div>\n",
       "<style scoped>\n",
       "    .dataframe tbody tr th:only-of-type {\n",
       "        vertical-align: middle;\n",
       "    }\n",
       "\n",
       "    .dataframe tbody tr th {\n",
       "        vertical-align: top;\n",
       "    }\n",
       "\n",
       "    .dataframe thead th {\n",
       "        text-align: right;\n",
       "    }\n",
       "</style>\n",
       "<table border=\"1\" class=\"dataframe\">\n",
       "  <thead>\n",
       "    <tr style=\"text-align: right;\">\n",
       "      <th></th>\n",
       "      <th>sex</th>\n",
       "      <th>smoker</th>\n",
       "      <th>time</th>\n",
       "      <th>visits</th>\n",
       "      <th>total_tip</th>\n",
       "      <th>avg_tip</th>\n",
       "      <th>tip_rank</th>\n",
       "    </tr>\n",
       "  </thead>\n",
       "  <tbody>\n",
       "    <tr>\n",
       "      <th>0</th>\n",
       "      <td>Male</td>\n",
       "      <td>No</td>\n",
       "      <td>Dinner</td>\n",
       "      <td>77</td>\n",
       "      <td>243.17</td>\n",
       "      <td>3.158052</td>\n",
       "      <td>1</td>\n",
       "    </tr>\n",
       "    <tr>\n",
       "      <th>1</th>\n",
       "      <td>Male</td>\n",
       "      <td>Yes</td>\n",
       "      <td>Dinner</td>\n",
       "      <td>47</td>\n",
       "      <td>146.79</td>\n",
       "      <td>3.123191</td>\n",
       "      <td>2</td>\n",
       "    </tr>\n",
       "    <tr>\n",
       "      <th>2</th>\n",
       "      <td>Female</td>\n",
       "      <td>No</td>\n",
       "      <td>Dinner</td>\n",
       "      <td>29</td>\n",
       "      <td>88.28</td>\n",
       "      <td>3.044138</td>\n",
       "      <td>3</td>\n",
       "    </tr>\n",
       "    <tr>\n",
       "      <th>3</th>\n",
       "      <td>Female</td>\n",
       "      <td>Yes</td>\n",
       "      <td>Dinner</td>\n",
       "      <td>23</td>\n",
       "      <td>67.83</td>\n",
       "      <td>2.949130</td>\n",
       "      <td>4</td>\n",
       "    </tr>\n",
       "    <tr>\n",
       "      <th>4</th>\n",
       "      <td>Male</td>\n",
       "      <td>No</td>\n",
       "      <td>Lunch</td>\n",
       "      <td>20</td>\n",
       "      <td>58.83</td>\n",
       "      <td>2.941500</td>\n",
       "      <td>5</td>\n",
       "    </tr>\n",
       "    <tr>\n",
       "      <th>5</th>\n",
       "      <td>Female</td>\n",
       "      <td>Yes</td>\n",
       "      <td>Lunch</td>\n",
       "      <td>10</td>\n",
       "      <td>28.91</td>\n",
       "      <td>2.891000</td>\n",
       "      <td>6</td>\n",
       "    </tr>\n",
       "    <tr>\n",
       "      <th>6</th>\n",
       "      <td>Male</td>\n",
       "      <td>Yes</td>\n",
       "      <td>Lunch</td>\n",
       "      <td>13</td>\n",
       "      <td>36.28</td>\n",
       "      <td>2.790769</td>\n",
       "      <td>7</td>\n",
       "    </tr>\n",
       "    <tr>\n",
       "      <th>7</th>\n",
       "      <td>Female</td>\n",
       "      <td>No</td>\n",
       "      <td>Lunch</td>\n",
       "      <td>25</td>\n",
       "      <td>61.49</td>\n",
       "      <td>2.459600</td>\n",
       "      <td>8</td>\n",
       "    </tr>\n",
       "  </tbody>\n",
       "</table>\n",
       "</div>"
      ],
      "text/plain": [
       "      sex smoker    time  visits  total_tip   avg_tip  tip_rank\n",
       "0    Male     No  Dinner      77     243.17  3.158052         1\n",
       "1    Male    Yes  Dinner      47     146.79  3.123191         2\n",
       "2  Female     No  Dinner      29      88.28  3.044138         3\n",
       "3  Female    Yes  Dinner      23      67.83  2.949130         4\n",
       "4    Male     No   Lunch      20      58.83  2.941500         5\n",
       "5  Female    Yes   Lunch      10      28.91  2.891000         6\n",
       "6    Male    Yes   Lunch      13      36.28  2.790769         7\n",
       "7  Female     No   Lunch      25      61.49  2.459600         8"
      ]
     },
     "execution_count": 29,
     "metadata": {},
     "output_type": "execute_result"
    }
   ],
   "source": [
    "catalog.query(sql_query)"
   ]
  },
  {
   "cell_type": "code",
   "execution_count": 30,
   "id": "030e44ce",
   "metadata": {},
   "outputs": [
    {
     "name": "stdout",
     "output_type": "stream",
     "text": [
      "**Who tipped the most?**  \n",
      "The biggest tip‑gathering group is **Male, Non‑Smoker, Dinner** – they brought in **$243.17** in total tips.  \n",
      "\n",
      "Below is a quick comparison of all the groups in the data set, ranked by the amount of tips they generated.  \n",
      "\n",
      "| Rank | Sex    | Smoker | Meal  | Total Tips | Avg Tip per Visit | Visits |\n",
      "|------|--------|--------|-------|------------|-------------------|--------|\n",
      "| 1    | Male   | No     | Dinner| **$243.17**| 3.16 | 77 |\n",
      "| 2    | Male   | Yes    | Dinner| $146.79 | 3.12 | 47 |\n",
      "| 3    | Female | No     | Dinner| $88.28  | 3.04 | 29 |\n",
      "| 4    | Female | Yes    | Dinner| $67.83  | 2.95 | 23 |\n",
      "| 5    | Female | No     | Lunch | $61.49  | 2.46 | 25 |\n",
      "| 6    | Male   | No     | Lunch | $58.83  | 2.94 | 20 |\n",
      "| 7    | Male   | Yes    | Lunch | $36.28  | 2.79 | 13 |\n",
      "| 8    | Female | Yes    | Lunch | $28.91  | 2.89 | 10 |\n",
      "\n",
      "### What does this mean for the business?\n",
      "\n",
      "- **Dinner is the tip‑heavy meal**: Every dinner group outpaces its lunch counterpart, with a roughly 2–3× higher total tip amount.  \n",
      "- **Male, Non‑Smoker diners are the biggest contributors**: This segment not only has the highest total tips but also the highest average tip per visit.  \n",
      "- **Smokers tip slightly less on average**: Across both meals, the “Yes” smoker rows trail the “No” smoker rows by a small margin.  \n",
      "- **Lunch still matters**: Though lower overall, the Female, Non‑Smoker lunch group isn’t far behind the Male, Non‑Smoker lunch group in total tips, suggesting that targeting this segment could be worthwhile.\n",
      "\n",
      "### Practical next steps\n",
      "\n",
      "1. **Promotions for dinner** – Consider loyalty perks or special offers aimed at dinner guests, especially targeting male, non‑smoker diners who already tip the most.  \n",
      "2. **Upsell to smokers** – Since smokers tip slightly less, a brief training on recommending higher‑margin items or premium drinks could boost tip totals.  \n",
      "3. **Lunch‑time campaigns** – Run a small promotion for lunch to encourage the Female, Non‑Smoker group to visit more often, potentially increasing overall tip revenue.  \n",
      "4. **Further analysis** – Look at other variables (time of day, table size, service staff) to see if the same patterns hold or if there are hidden opportunities to increase tips.\n",
      "\n",
      "Feel free to let me know if you’d like deeper dives into any of these segments or if you want to explore other dimensions of the data!\n"
     ]
    }
   ],
   "source": [
    "answer = broinsight.ask_data(message=f\"{question}. Create a chart that is easy to read and understand.\", visualize=True)\n",
    "print(answer['content'])"
   ]
  },
  {
   "cell_type": "code",
   "execution_count": 31,
   "id": "91517bc9",
   "metadata": {},
   "outputs": [
    {
     "data": {
      "application/vnd.plotly.v1+json": {
       "config": {
        "plotlyServerURL": "https://plot.ly"
       },
       "data": [
        {
         "alignmentgroup": "True",
         "hovertemplate": "Smoker=No<br>sex=Male<br>Meal Time=%{x}<br>Total Tips ($)=%{y}<extra></extra>",
         "legendgroup": "No",
         "marker": {
          "color": "#636efa",
          "pattern": {
           "shape": ""
          }
         },
         "name": "No",
         "offsetgroup": "No",
         "orientation": "v",
         "showlegend": true,
         "textposition": "auto",
         "type": "bar",
         "x": [
          "Dinner",
          "Lunch"
         ],
         "xaxis": "x2",
         "y": {
          "bdata": "OwrXo3BlbkAK16NwPWpNQA==",
          "dtype": "f8"
         },
         "yaxis": "y2"
        },
        {
         "alignmentgroup": "True",
         "hovertemplate": "Smoker=No<br>sex=Female<br>Meal Time=%{x}<br>Total Tips ($)=%{y}<extra></extra>",
         "legendgroup": "No",
         "marker": {
          "color": "#636efa",
          "pattern": {
           "shape": ""
          }
         },
         "name": "No",
         "offsetgroup": "No",
         "orientation": "v",
         "showlegend": false,
         "textposition": "auto",
         "type": "bar",
         "x": [
          "Dinner",
          "Lunch"
         ],
         "xaxis": "x",
         "y": {
          "bdata": "U7gehesRVkAfhetRuL5OQA==",
          "dtype": "f8"
         },
         "yaxis": "y"
        },
        {
         "alignmentgroup": "True",
         "hovertemplate": "Smoker=Yes<br>sex=Male<br>Meal Time=%{x}<br>Total Tips ($)=%{y}<extra></extra>",
         "legendgroup": "Yes",
         "marker": {
          "color": "#EF553B",
          "pattern": {
           "shape": ""
          }
         },
         "name": "Yes",
         "offsetgroup": "Yes",
         "orientation": "v",
         "showlegend": true,
         "textposition": "auto",
         "type": "bar",
         "x": [
          "Dinner",
          "Lunch"
         ],
         "xaxis": "x2",
         "y": {
          "bdata": "4noUrkdZYkCkcD0K1yNCQA==",
          "dtype": "f8"
         },
         "yaxis": "y2"
        },
        {
         "alignmentgroup": "True",
         "hovertemplate": "Smoker=Yes<br>sex=Female<br>Meal Time=%{x}<br>Total Tips ($)=%{y}<extra></extra>",
         "legendgroup": "Yes",
         "marker": {
          "color": "#EF553B",
          "pattern": {
           "shape": ""
          }
         },
         "name": "Yes",
         "offsetgroup": "Yes",
         "orientation": "v",
         "showlegend": false,
         "textposition": "auto",
         "type": "bar",
         "x": [
          "Dinner",
          "Lunch"
         ],
         "xaxis": "x",
         "y": {
          "bdata": "hetRuB71UEAqXI/C9eg8QA==",
          "dtype": "f8"
         },
         "yaxis": "y"
        }
       ],
       "layout": {
        "annotations": [
         {
          "font": {},
          "showarrow": false,
          "text": "Female",
          "textangle": 90,
          "x": 0.98,
          "xanchor": "left",
          "xref": "paper",
          "y": 0.2425,
          "yanchor": "middle",
          "yref": "paper"
         },
         {
          "font": {},
          "showarrow": false,
          "text": "Male",
          "textangle": 90,
          "x": 0.98,
          "xanchor": "left",
          "xref": "paper",
          "y": 0.7575000000000001,
          "yanchor": "middle",
          "yref": "paper"
         }
        ],
        "barmode": "group",
        "height": 500,
        "legend": {
         "title": {
          "text": "Smoker"
         },
         "tracegroupgap": 0
        },
        "margin": {
         "b": 60,
         "l": 60,
         "r": 30,
         "t": 80
        },
        "template": {
         "data": {
          "bar": [
           {
            "error_x": {
             "color": "#2a3f5f"
            },
            "error_y": {
             "color": "#2a3f5f"
            },
            "marker": {
             "line": {
              "color": "#E5ECF6",
              "width": 0.5
             },
             "pattern": {
              "fillmode": "overlay",
              "size": 10,
              "solidity": 0.2
             }
            },
            "type": "bar"
           }
          ],
          "barpolar": [
           {
            "marker": {
             "line": {
              "color": "#E5ECF6",
              "width": 0.5
             },
             "pattern": {
              "fillmode": "overlay",
              "size": 10,
              "solidity": 0.2
             }
            },
            "type": "barpolar"
           }
          ],
          "carpet": [
           {
            "aaxis": {
             "endlinecolor": "#2a3f5f",
             "gridcolor": "white",
             "linecolor": "white",
             "minorgridcolor": "white",
             "startlinecolor": "#2a3f5f"
            },
            "baxis": {
             "endlinecolor": "#2a3f5f",
             "gridcolor": "white",
             "linecolor": "white",
             "minorgridcolor": "white",
             "startlinecolor": "#2a3f5f"
            },
            "type": "carpet"
           }
          ],
          "choropleth": [
           {
            "colorbar": {
             "outlinewidth": 0,
             "ticks": ""
            },
            "type": "choropleth"
           }
          ],
          "contour": [
           {
            "colorbar": {
             "outlinewidth": 0,
             "ticks": ""
            },
            "colorscale": [
             [
              0,
              "#0d0887"
             ],
             [
              0.1111111111111111,
              "#46039f"
             ],
             [
              0.2222222222222222,
              "#7201a8"
             ],
             [
              0.3333333333333333,
              "#9c179e"
             ],
             [
              0.4444444444444444,
              "#bd3786"
             ],
             [
              0.5555555555555556,
              "#d8576b"
             ],
             [
              0.6666666666666666,
              "#ed7953"
             ],
             [
              0.7777777777777778,
              "#fb9f3a"
             ],
             [
              0.8888888888888888,
              "#fdca26"
             ],
             [
              1,
              "#f0f921"
             ]
            ],
            "type": "contour"
           }
          ],
          "contourcarpet": [
           {
            "colorbar": {
             "outlinewidth": 0,
             "ticks": ""
            },
            "type": "contourcarpet"
           }
          ],
          "heatmap": [
           {
            "colorbar": {
             "outlinewidth": 0,
             "ticks": ""
            },
            "colorscale": [
             [
              0,
              "#0d0887"
             ],
             [
              0.1111111111111111,
              "#46039f"
             ],
             [
              0.2222222222222222,
              "#7201a8"
             ],
             [
              0.3333333333333333,
              "#9c179e"
             ],
             [
              0.4444444444444444,
              "#bd3786"
             ],
             [
              0.5555555555555556,
              "#d8576b"
             ],
             [
              0.6666666666666666,
              "#ed7953"
             ],
             [
              0.7777777777777778,
              "#fb9f3a"
             ],
             [
              0.8888888888888888,
              "#fdca26"
             ],
             [
              1,
              "#f0f921"
             ]
            ],
            "type": "heatmap"
           }
          ],
          "histogram": [
           {
            "marker": {
             "pattern": {
              "fillmode": "overlay",
              "size": 10,
              "solidity": 0.2
             }
            },
            "type": "histogram"
           }
          ],
          "histogram2d": [
           {
            "colorbar": {
             "outlinewidth": 0,
             "ticks": ""
            },
            "colorscale": [
             [
              0,
              "#0d0887"
             ],
             [
              0.1111111111111111,
              "#46039f"
             ],
             [
              0.2222222222222222,
              "#7201a8"
             ],
             [
              0.3333333333333333,
              "#9c179e"
             ],
             [
              0.4444444444444444,
              "#bd3786"
             ],
             [
              0.5555555555555556,
              "#d8576b"
             ],
             [
              0.6666666666666666,
              "#ed7953"
             ],
             [
              0.7777777777777778,
              "#fb9f3a"
             ],
             [
              0.8888888888888888,
              "#fdca26"
             ],
             [
              1,
              "#f0f921"
             ]
            ],
            "type": "histogram2d"
           }
          ],
          "histogram2dcontour": [
           {
            "colorbar": {
             "outlinewidth": 0,
             "ticks": ""
            },
            "colorscale": [
             [
              0,
              "#0d0887"
             ],
             [
              0.1111111111111111,
              "#46039f"
             ],
             [
              0.2222222222222222,
              "#7201a8"
             ],
             [
              0.3333333333333333,
              "#9c179e"
             ],
             [
              0.4444444444444444,
              "#bd3786"
             ],
             [
              0.5555555555555556,
              "#d8576b"
             ],
             [
              0.6666666666666666,
              "#ed7953"
             ],
             [
              0.7777777777777778,
              "#fb9f3a"
             ],
             [
              0.8888888888888888,
              "#fdca26"
             ],
             [
              1,
              "#f0f921"
             ]
            ],
            "type": "histogram2dcontour"
           }
          ],
          "mesh3d": [
           {
            "colorbar": {
             "outlinewidth": 0,
             "ticks": ""
            },
            "type": "mesh3d"
           }
          ],
          "parcoords": [
           {
            "line": {
             "colorbar": {
              "outlinewidth": 0,
              "ticks": ""
             }
            },
            "type": "parcoords"
           }
          ],
          "pie": [
           {
            "automargin": true,
            "type": "pie"
           }
          ],
          "scatter": [
           {
            "fillpattern": {
             "fillmode": "overlay",
             "size": 10,
             "solidity": 0.2
            },
            "type": "scatter"
           }
          ],
          "scatter3d": [
           {
            "line": {
             "colorbar": {
              "outlinewidth": 0,
              "ticks": ""
             }
            },
            "marker": {
             "colorbar": {
              "outlinewidth": 0,
              "ticks": ""
             }
            },
            "type": "scatter3d"
           }
          ],
          "scattercarpet": [
           {
            "marker": {
             "colorbar": {
              "outlinewidth": 0,
              "ticks": ""
             }
            },
            "type": "scattercarpet"
           }
          ],
          "scattergeo": [
           {
            "marker": {
             "colorbar": {
              "outlinewidth": 0,
              "ticks": ""
             }
            },
            "type": "scattergeo"
           }
          ],
          "scattergl": [
           {
            "marker": {
             "colorbar": {
              "outlinewidth": 0,
              "ticks": ""
             }
            },
            "type": "scattergl"
           }
          ],
          "scattermap": [
           {
            "marker": {
             "colorbar": {
              "outlinewidth": 0,
              "ticks": ""
             }
            },
            "type": "scattermap"
           }
          ],
          "scattermapbox": [
           {
            "marker": {
             "colorbar": {
              "outlinewidth": 0,
              "ticks": ""
             }
            },
            "type": "scattermapbox"
           }
          ],
          "scatterpolar": [
           {
            "marker": {
             "colorbar": {
              "outlinewidth": 0,
              "ticks": ""
             }
            },
            "type": "scatterpolar"
           }
          ],
          "scatterpolargl": [
           {
            "marker": {
             "colorbar": {
              "outlinewidth": 0,
              "ticks": ""
             }
            },
            "type": "scatterpolargl"
           }
          ],
          "scatterternary": [
           {
            "marker": {
             "colorbar": {
              "outlinewidth": 0,
              "ticks": ""
             }
            },
            "type": "scatterternary"
           }
          ],
          "surface": [
           {
            "colorbar": {
             "outlinewidth": 0,
             "ticks": ""
            },
            "colorscale": [
             [
              0,
              "#0d0887"
             ],
             [
              0.1111111111111111,
              "#46039f"
             ],
             [
              0.2222222222222222,
              "#7201a8"
             ],
             [
              0.3333333333333333,
              "#9c179e"
             ],
             [
              0.4444444444444444,
              "#bd3786"
             ],
             [
              0.5555555555555556,
              "#d8576b"
             ],
             [
              0.6666666666666666,
              "#ed7953"
             ],
             [
              0.7777777777777778,
              "#fb9f3a"
             ],
             [
              0.8888888888888888,
              "#fdca26"
             ],
             [
              1,
              "#f0f921"
             ]
            ],
            "type": "surface"
           }
          ],
          "table": [
           {
            "cells": {
             "fill": {
              "color": "#EBF0F8"
             },
             "line": {
              "color": "white"
             }
            },
            "header": {
             "fill": {
              "color": "#C8D4E3"
             },
             "line": {
              "color": "white"
             }
            },
            "type": "table"
           }
          ]
         },
         "layout": {
          "annotationdefaults": {
           "arrowcolor": "#2a3f5f",
           "arrowhead": 0,
           "arrowwidth": 1
          },
          "autotypenumbers": "strict",
          "coloraxis": {
           "colorbar": {
            "outlinewidth": 0,
            "ticks": ""
           }
          },
          "colorscale": {
           "diverging": [
            [
             0,
             "#8e0152"
            ],
            [
             0.1,
             "#c51b7d"
            ],
            [
             0.2,
             "#de77ae"
            ],
            [
             0.3,
             "#f1b6da"
            ],
            [
             0.4,
             "#fde0ef"
            ],
            [
             0.5,
             "#f7f7f7"
            ],
            [
             0.6,
             "#e6f5d0"
            ],
            [
             0.7,
             "#b8e186"
            ],
            [
             0.8,
             "#7fbc41"
            ],
            [
             0.9,
             "#4d9221"
            ],
            [
             1,
             "#276419"
            ]
           ],
           "sequential": [
            [
             0,
             "#0d0887"
            ],
            [
             0.1111111111111111,
             "#46039f"
            ],
            [
             0.2222222222222222,
             "#7201a8"
            ],
            [
             0.3333333333333333,
             "#9c179e"
            ],
            [
             0.4444444444444444,
             "#bd3786"
            ],
            [
             0.5555555555555556,
             "#d8576b"
            ],
            [
             0.6666666666666666,
             "#ed7953"
            ],
            [
             0.7777777777777778,
             "#fb9f3a"
            ],
            [
             0.8888888888888888,
             "#fdca26"
            ],
            [
             1,
             "#f0f921"
            ]
           ],
           "sequentialminus": [
            [
             0,
             "#0d0887"
            ],
            [
             0.1111111111111111,
             "#46039f"
            ],
            [
             0.2222222222222222,
             "#7201a8"
            ],
            [
             0.3333333333333333,
             "#9c179e"
            ],
            [
             0.4444444444444444,
             "#bd3786"
            ],
            [
             0.5555555555555556,
             "#d8576b"
            ],
            [
             0.6666666666666666,
             "#ed7953"
            ],
            [
             0.7777777777777778,
             "#fb9f3a"
            ],
            [
             0.8888888888888888,
             "#fdca26"
            ],
            [
             1,
             "#f0f921"
            ]
           ]
          },
          "colorway": [
           "#636efa",
           "#EF553B",
           "#00cc96",
           "#ab63fa",
           "#FFA15A",
           "#19d3f3",
           "#FF6692",
           "#B6E880",
           "#FF97FF",
           "#FECB52"
          ],
          "font": {
           "color": "#2a3f5f"
          },
          "geo": {
           "bgcolor": "white",
           "lakecolor": "white",
           "landcolor": "#E5ECF6",
           "showlakes": true,
           "showland": true,
           "subunitcolor": "white"
          },
          "hoverlabel": {
           "align": "left"
          },
          "hovermode": "closest",
          "mapbox": {
           "style": "light"
          },
          "paper_bgcolor": "white",
          "plot_bgcolor": "#E5ECF6",
          "polar": {
           "angularaxis": {
            "gridcolor": "white",
            "linecolor": "white",
            "ticks": ""
           },
           "bgcolor": "#E5ECF6",
           "radialaxis": {
            "gridcolor": "white",
            "linecolor": "white",
            "ticks": ""
           }
          },
          "scene": {
           "xaxis": {
            "backgroundcolor": "#E5ECF6",
            "gridcolor": "white",
            "gridwidth": 2,
            "linecolor": "white",
            "showbackground": true,
            "ticks": "",
            "zerolinecolor": "white"
           },
           "yaxis": {
            "backgroundcolor": "#E5ECF6",
            "gridcolor": "white",
            "gridwidth": 2,
            "linecolor": "white",
            "showbackground": true,
            "ticks": "",
            "zerolinecolor": "white"
           },
           "zaxis": {
            "backgroundcolor": "#E5ECF6",
            "gridcolor": "white",
            "gridwidth": 2,
            "linecolor": "white",
            "showbackground": true,
            "ticks": "",
            "zerolinecolor": "white"
           }
          },
          "shapedefaults": {
           "line": {
            "color": "#2a3f5f"
           }
          },
          "ternary": {
           "aaxis": {
            "gridcolor": "white",
            "linecolor": "white",
            "ticks": ""
           },
           "baxis": {
            "gridcolor": "white",
            "linecolor": "white",
            "ticks": ""
           },
           "bgcolor": "#E5ECF6",
           "caxis": {
            "gridcolor": "white",
            "linecolor": "white",
            "ticks": ""
           }
          },
          "title": {
           "x": 0.05
          },
          "xaxis": {
           "automargin": true,
           "gridcolor": "white",
           "linecolor": "white",
           "ticks": "",
           "title": {
            "standoff": 15
           },
           "zerolinecolor": "white",
           "zerolinewidth": 2
          },
          "yaxis": {
           "automargin": true,
           "gridcolor": "white",
           "linecolor": "white",
           "ticks": "",
           "title": {
            "standoff": 15
           },
           "zerolinecolor": "white",
           "zerolinewidth": 2
          }
         }
        },
        "title": {
         "text": "Total Tips by Sex, Smoker Status, and Meal Time"
        },
        "xaxis": {
         "anchor": "y",
         "categoryarray": [
          "Lunch",
          "Dinner"
         ],
         "categoryorder": "array",
         "domain": [
          0,
          0.98
         ],
         "title": {
          "text": "Meal Time"
         }
        },
        "xaxis2": {
         "anchor": "y2",
         "domain": [
          0,
          0.98
         ],
         "matches": "x",
         "showticklabels": false
        },
        "yaxis": {
         "anchor": "x",
         "domain": [
          0,
          0.485
         ],
         "title": {
          "text": "Total Tips ($)"
         }
        },
        "yaxis2": {
         "anchor": "x2",
         "domain": [
          0.515,
          1
         ],
         "matches": "y",
         "title": {
          "text": "Total Tips ($)"
         }
        }
       }
      }
     },
     "metadata": {},
     "output_type": "display_data"
    }
   ],
   "source": [
    "answer['chart']"
   ]
  },
  {
   "cell_type": "code",
   "execution_count": null,
   "id": "23d50412",
   "metadata": {},
   "outputs": [],
   "source": []
  }
 ],
 "metadata": {
  "kernelspec": {
   "display_name": "broinsight",
   "language": "python",
   "name": "python3"
  },
  "language_info": {
   "codemirror_mode": {
    "name": "ipython",
    "version": 3
   },
   "file_extension": ".py",
   "mimetype": "text/x-python",
   "name": "python",
   "nbconvert_exporter": "python",
   "pygments_lexer": "ipython3",
   "version": "3.12.9"
  }
 },
 "nbformat": 4,
 "nbformat_minor": 5
}
