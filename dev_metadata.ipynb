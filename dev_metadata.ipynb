{
 "cells": [
  {
   "cell_type": "code",
   "execution_count": 1,
   "id": "b20a5dcd",
   "metadata": {},
   "outputs": [],
   "source": [
    "%load_ext autoreload\n",
    "%autoreload 2"
   ]
  },
  {
   "cell_type": "code",
   "execution_count": 2,
   "id": "2fdcf891",
   "metadata": {},
   "outputs": [],
   "source": [
    "import seaborn as sns\n",
    "from broinsight.utils.data_catalog import DataCatalog\n",
    "from broinsight.broinsight import BroInsight\n",
    "from broinsight.experiment.ollama import LocalOpenAI\n",
    "\n",
    "tips_metadata = dict(\n",
    "    total_bill=\"the amount of paid bill of the meal\",\n",
    "    tip=\"the amount of tip that customers paid\",\n",
    "    sex=\"the gender of customers\",\n",
    "    smoker=\"it indicates that a customer is a smoker or not. if No means a customer is a non-smoker, Yes means a customer is a smoker.\",\n",
    "    day=\"this is a day of the week when a customer having a meal here. i.e. Mon, Tue, Wed, Thu, Fri, Sat, Sun\",\n",
    "    time=\"the time of the meal. it can be either Dinner or Lunch\",\n",
    "    size=\"the number of dishes that customers have\",\n",
    ")\n",
    "table_description = \"Restaurant visit records showing bills, tips, customer info...\"\n",
    "catalog = DataCatalog()\n",
    "catalog.create_table(\"tips\", sns.load_dataset(\"tips\"), metadata=dict(table_description=table_description, description=tips_metadata))\n",
    "broinsight = BroInsight(llm=LocalOpenAI(), catalog=catalog)"
   ]
  },
  {
   "cell_type": "code",
   "execution_count": 3,
   "id": "7cb0ef43",
   "metadata": {},
   "outputs": [
    {
     "data": {
      "text/plain": [
       "{'tips': {'type': 'pandas',\n",
       "  'path': None,\n",
       "  'metadata': {'table_description': 'Restaurant visit records showing bills, tips, customer info...',\n",
       "   'description': {'total_bill': 'the amount of paid bill of the meal',\n",
       "    'tip': 'the amount of tip that customers paid',\n",
       "    'sex': 'the gender of customers',\n",
       "    'smoker': 'it indicates that a customer is a smoker or not. if No means a customer is a non-smoker, Yes means a customer is a smoker.',\n",
       "    'day': 'this is a day of the week when a customer having a meal here. i.e. Mon, Tue, Wed, Thu, Fri, Sat, Sun',\n",
       "    'time': 'the time of the meal. it can be either Dinner or Lunch',\n",
       "    'size': 'the number of dishes that customers have'}}}}"
      ]
     },
     "execution_count": 3,
     "metadata": {},
     "output_type": "execute_result"
    }
   ],
   "source": [
    "catalog._tables"
   ]
  },
  {
   "cell_type": "code",
   "execution_count": 4,
   "id": "99f7f539",
   "metadata": {},
   "outputs": [
    {
     "data": {
      "text/html": [
       "<div>\n",
       "<style scoped>\n",
       "    .dataframe tbody tr th:only-of-type {\n",
       "        vertical-align: middle;\n",
       "    }\n",
       "\n",
       "    .dataframe tbody tr th {\n",
       "        vertical-align: top;\n",
       "    }\n",
       "\n",
       "    .dataframe thead th {\n",
       "        text-align: right;\n",
       "    }\n",
       "</style>\n",
       "<table border=\"1\" class=\"dataframe\">\n",
       "  <thead>\n",
       "    <tr style=\"text-align: right;\">\n",
       "      <th></th>\n",
       "      <th>total_bill</th>\n",
       "      <th>tip</th>\n",
       "      <th>sex</th>\n",
       "      <th>smoker</th>\n",
       "      <th>day</th>\n",
       "      <th>time</th>\n",
       "      <th>size</th>\n",
       "    </tr>\n",
       "  </thead>\n",
       "  <tbody>\n",
       "    <tr>\n",
       "      <th>0</th>\n",
       "      <td>16.99</td>\n",
       "      <td>1.01</td>\n",
       "      <td>Female</td>\n",
       "      <td>No</td>\n",
       "      <td>Sun</td>\n",
       "      <td>Dinner</td>\n",
       "      <td>2</td>\n",
       "    </tr>\n",
       "    <tr>\n",
       "      <th>1</th>\n",
       "      <td>10.34</td>\n",
       "      <td>1.66</td>\n",
       "      <td>Male</td>\n",
       "      <td>No</td>\n",
       "      <td>Sun</td>\n",
       "      <td>Dinner</td>\n",
       "      <td>3</td>\n",
       "    </tr>\n",
       "    <tr>\n",
       "      <th>2</th>\n",
       "      <td>21.01</td>\n",
       "      <td>3.50</td>\n",
       "      <td>Male</td>\n",
       "      <td>No</td>\n",
       "      <td>Sun</td>\n",
       "      <td>Dinner</td>\n",
       "      <td>3</td>\n",
       "    </tr>\n",
       "    <tr>\n",
       "      <th>3</th>\n",
       "      <td>23.68</td>\n",
       "      <td>3.31</td>\n",
       "      <td>Male</td>\n",
       "      <td>No</td>\n",
       "      <td>Sun</td>\n",
       "      <td>Dinner</td>\n",
       "      <td>2</td>\n",
       "    </tr>\n",
       "    <tr>\n",
       "      <th>4</th>\n",
       "      <td>24.59</td>\n",
       "      <td>3.61</td>\n",
       "      <td>Female</td>\n",
       "      <td>No</td>\n",
       "      <td>Sun</td>\n",
       "      <td>Dinner</td>\n",
       "      <td>4</td>\n",
       "    </tr>\n",
       "  </tbody>\n",
       "</table>\n",
       "</div>"
      ],
      "text/plain": [
       "   total_bill   tip     sex smoker  day    time  size\n",
       "0       16.99  1.01  Female     No  Sun  Dinner     2\n",
       "1       10.34  1.66    Male     No  Sun  Dinner     3\n",
       "2       21.01  3.50    Male     No  Sun  Dinner     3\n",
       "3       23.68  3.31    Male     No  Sun  Dinner     2\n",
       "4       24.59  3.61  Female     No  Sun  Dinner     4"
      ]
     },
     "execution_count": 4,
     "metadata": {},
     "output_type": "execute_result"
    }
   ],
   "source": [
    "catalog.query(\"SELECT * FROM tips LIMIT 5\")"
   ]
  },
  {
   "cell_type": "code",
   "execution_count": 5,
   "id": "886a13d8",
   "metadata": {},
   "outputs": [
    {
     "name": "stdout",
     "output_type": "stream",
     "text": [
      "**Data Quality Assessment:** **NEEDS ATTENTION** – overall the data is clean, but a few transformations will improve model performance.\n",
      "\n",
      "---\n",
      "\n",
      "### 1. Duplicate Removal\n",
      "| Issue | Severity | Action |\n",
      "|-------|----------|--------|\n",
      "| 1 duplicate record (0.41 % of the dataset) | Minor | Remove the duplicate with `df.drop_duplicates()` before any further processing. |\n",
      "\n",
      "---\n",
      "\n",
      "### 2. Numeric Features (total_bill, tip, size)\n",
      "\n",
      "| Feature | Skewness | Transformation | Rationale |\n",
      "|---------|----------|----------------|-----------|\n",
      "| total_bill | 1.13 | **Log‑1‑Plus** (`log1p`) or **Box‑Cox** | Reduces right‑skew, stabilizes variance, improves linearity for many models. |\n",
      "| tip | 1.47 | **Log‑1‑Plus** (`log1p`) | Helps models that assume normality of residuals (e.g., linear regression). |\n",
      "| size | 1.45 | **Optional** – treat as categorical (one‑hot) or keep numeric if model can handle integer counts. | Small cardinality; encoding as one‑hot captures non‑linear relationships better. |\n",
      "\n",
      "**Scaling (recommended for all numeric columns):**  \n",
      "- **StandardScaler** (zero mean, unit variance) for tree‑based models or **MinMaxScaler** if you plan to use models sensitive to feature scale (e.g., SVM, neural nets).  \n",
      "- Place scaling inside a `Pipeline` to avoid data leakage.\n",
      "\n",
      "---\n",
      "\n",
      "### 3. Categorical Features (sex, smoker, day, time)\n",
      "\n",
      "| Feature | Cardinality | Recommended Encoding | Why |\n",
      "|---------|-------------|----------------------|-----|\n",
      "| sex | 2 | **One‑Hot** (or binary encoding) | Keeps interpretability; no ordinal relation. |\n",
      "| smoker | 2 | **One‑Hot** | Same as above. |\n",
      "| day | 4 | **One‑Hot** | Captures day‑of‑week effects; low cardinality. |\n",
      "| time | 2 | **One‑Hot** | Distinguishes lunch vs dinner; no ordinal relation. |\n",
      "\n",
      "*Implementation tip:* Use `pd.get_dummies()` or `OneHotEncoder` inside a `ColumnTransformer`.  \n",
      "If you use tree‑based models (e.g., XGBoost, Random Forest), one‑hot is still safe and often improves performance.\n",
      "\n",
      "---\n",
      "\n",
      "### 4. Feature Engineering (Optional but Beneficial)\n",
      "\n",
      "| Idea | When to Apply | Expected Benefit |\n",
      "|------|---------------|------------------|\n",
      "| **Interaction**: `total_bill * size` | If larger parties tend to tip more | Captures group‑size effect on tip. |\n",
      "| **Ratio**: `tip / total_bill` | Directly models tip percentage | Useful target for regression. |\n",
      "| **Weekend Indicator**: `day in ['Sat','Sun']` | If weekend spending differs | Adds a simple binary signal. |\n",
      "\n",
      "Add engineered features after the base transformations but before model training.\n",
      "\n",
      "---\n",
      "\n",
      "### 5. Pipeline Summary\n",
      "\n",
      "```python\n",
      "from sklearn.compose import ColumnTransformer\n",
      "from sklearn.preprocessing import OneHotEncoder, StandardScaler, FunctionTransformer\n",
      "from sklearn.pipeline import Pipeline\n",
      "from sklearn.model_selection import train_test_split\n",
      "from sklearn.ensemble import RandomForestRegressor\n",
      "\n",
      "numeric_features = ['total_bill', 'tip', 'size']\n",
      "categorical_features = ['sex', 'smoker', 'day', 'time']\n",
      "\n",
      "numeric_transformer = Pipeline(steps=[\n",
      "    ('log', FunctionTransformer(np.log1p, validate=False)),  # log1p for skewness\n",
      "    ('scale', StandardScaler())\n",
      "])\n",
      "\n",
      "categorical_transformer = OneHotEncoder(drop='first')  # drop first to avoid dummy trap\n",
      "\n",
      "preprocessor = ColumnTransformer(\n",
      "    transformers=[\n",
      "        ('num', numeric_transformer, numeric_features),\n",
      "        ('cat', categorical_transformer, categorical_features)\n",
      "    ])\n",
      "\n",
      "model = Pipeline(steps=[('preprocess', preprocessor),\n",
      "                       ('regressor', RandomForestRegressor(random_state=42))])\n",
      "\n",
      "X_train, X_test, y_train, y_test = train_test_split(df.drop('tip', axis=1), df['tip'], test_size=0.2, random_state=42)\n",
      "model.fit(X_train, y_train)\n",
      "```\n",
      "\n",
      "---\n",
      "\n",
      "### 6. Next Steps\n",
      "\n",
      "1. **Remove duplicates** – simple but ensures consistency.  \n",
      "2. **Apply the above transformations** – log‑transform skewed numerics, one‑hot encode categoricals, scale numerics.  \n",
      "3. **Validate** – check distribution of transformed features, confirm no remaining extreme outliers.  \n",
      "4. **Proceed to model training** – start with baseline models (e.g., linear regression, random forest) and iterate.\n",
      "\n",
      "---\n",
      "\n",
      "**Overall Recommendation:**  \n",
      "The dataset is ready for modeling after applying modest preprocessing: duplicate removal, log‑scaling of skewed numerics, one‑hot encoding of low‑cardinality categoricals, and optional feature engineering. These steps will stabilize distributions, prevent leakage, and give models the best chance to learn meaningful patterns.\n"
     ]
    }
   ],
   "source": [
    "response = broinsight.assess_data_quality(\"tips\", \"Which data transformation methods do I need to do for machine learning project?\")\n",
    "print(response['content'])"
   ]
  },
  {
   "cell_type": "code",
   "execution_count": 6,
   "id": "8a9c63d1",
   "metadata": {},
   "outputs": [],
   "source": [
    "suggestions = broinsight.suggest_questions(\n",
    "    message=\"As a new manager, which day should I plan to have more staff to work?\",\n",
    "    tables=[\"tips\"]\n",
    ")"
   ]
  },
  {
   "cell_type": "code",
   "execution_count": 7,
   "id": "00cda4c3",
   "metadata": {},
   "outputs": [
    {
     "name": "stdout",
     "output_type": "stream",
     "text": [
      "Based on your role and goals, here are some areas you might want to explore:\n",
      "\n",
      "Staffing Needs by Day\n",
      "- Which day has the highest average group size (size) and should therefore have more staff?\n",
      "- On which day do customers spend the most on total_bill on average, indicating higher traffic and need for more staff?\n",
      "\n",
      "Customer Traffic Patterns\n",
      "- How many customers visit on each day of the week (day) on average?\n",
      "- Which day has the highest average number of customers (size) combined with high total_bill?\n",
      "\n",
      "Revenue and Tips\n",
      "- Which day generates the highest total revenue (sum of total_bill)?\n",
      "- Which day has the highest average tip amount (tip) per customer?\n",
      "\n",
      "Just ask me any of these questions and I'll analyze your data to get the answers!\n"
     ]
    }
   ],
   "source": [
    "print(suggestions['content'])"
   ]
  },
  {
   "cell_type": "code",
   "execution_count": 15,
   "id": "8cdfc1b1",
   "metadata": {},
   "outputs": [],
   "source": [
    "# question = \"I wanna know how many people visit my shop compare to global population and tell me the source of information.\"\n",
    "# question = \"I wanna see the relationship between average total bill and average tips of segments of sex and smoker.\"\n",
    "# question = \"Does smoker tip differently than non-smoker breaking down by time of day?\"\n",
    "# question = \"Which sex gives the better tips?\"\n",
    "# question = \"Which sex gives the better tips than one another?\"\n",
    "# question = \"I wanna know that weekend have a size bigger than weekday or not? If so how many?\"\n",
    "# question = \"อยากรู้ว่า คนกินข้าวเยอะ ในวันไหนมากกว่ากัน ระหว่าง วันจันทร์ และ วันศุกร์ เป็นจำนวนเท่าไหร่?\"\n",
    "# question = \"I wanna know how many people are in between smoker and non-smoker groups. Also, do you know which brand of ciggaratte do the smoker prefer in our restaurant?\"\n",
    "# question = \"Which sex has the most dinner?\"\n",
    "# question = \"Based on sex, smoker type and meal of the day, which customer group paid most in tips?\"\n",
    "question = \"Based on sex, smoker type and meal of the day, which customer group paid most in tips? I wanna see all comparisons.\"\n",
    "# question = \"What is the average `tip` given the `size` of the party?\"\n",
    "# question = \"Is there a difference in average tip between Lunch and Dinner using the time and tip fields?\"\n",
    "# question = \"What are the average tip amounts of lunch and dinner? Also which one is higher and by percentage?\"\n",
    "# question = \"How many customers order with a party size of 5 or larger?\"\n",
    "# question = \"Is there a significant difference in total_bill between weekends (Sat, Sun) and weekdays (Thur)?\"\n",
    "# question = \"Which day has the greatest total number of transactions (count of rows)?\"\n",
    "# question = \"Which day has the greatest total number of transactions (count of rows)? Also I wanna see everyday.\"\n",
    "\n",
    "sql = broinsight.generate_sql(question, tables=[\"tips\"])\n",
    "sql_query = sql['content'].split(\"```sql\")[-1].split(\"```\")[0]"
   ]
  },
  {
   "cell_type": "code",
   "execution_count": 16,
   "id": "4fb06ad6",
   "metadata": {},
   "outputs": [
    {
     "name": "stdout",
     "output_type": "stream",
     "text": [
      "\n",
      "SELECT\n",
      "    sex,\n",
      "    smoker,\n",
      "    time,\n",
      "    SUM(tip)   AS total_tip,\n",
      "    AVG(tip)   AS avg_tip\n",
      "FROM tips\n",
      "GROUP BY sex, smoker, time\n",
      "ORDER BY total_tip DESC;\n",
      "\n"
     ]
    }
   ],
   "source": [
    "print(sql_query)"
   ]
  },
  {
   "cell_type": "code",
   "execution_count": 17,
   "id": "2708ffff",
   "metadata": {},
   "outputs": [
    {
     "data": {
      "text/html": [
       "<div>\n",
       "<style scoped>\n",
       "    .dataframe tbody tr th:only-of-type {\n",
       "        vertical-align: middle;\n",
       "    }\n",
       "\n",
       "    .dataframe tbody tr th {\n",
       "        vertical-align: top;\n",
       "    }\n",
       "\n",
       "    .dataframe thead th {\n",
       "        text-align: right;\n",
       "    }\n",
       "</style>\n",
       "<table border=\"1\" class=\"dataframe\">\n",
       "  <thead>\n",
       "    <tr style=\"text-align: right;\">\n",
       "      <th></th>\n",
       "      <th>sex</th>\n",
       "      <th>smoker</th>\n",
       "      <th>time</th>\n",
       "      <th>total_tip</th>\n",
       "      <th>avg_tip</th>\n",
       "    </tr>\n",
       "  </thead>\n",
       "  <tbody>\n",
       "    <tr>\n",
       "      <th>0</th>\n",
       "      <td>Male</td>\n",
       "      <td>No</td>\n",
       "      <td>Dinner</td>\n",
       "      <td>243.17</td>\n",
       "      <td>3.158052</td>\n",
       "    </tr>\n",
       "    <tr>\n",
       "      <th>1</th>\n",
       "      <td>Male</td>\n",
       "      <td>Yes</td>\n",
       "      <td>Dinner</td>\n",
       "      <td>146.79</td>\n",
       "      <td>3.123191</td>\n",
       "    </tr>\n",
       "    <tr>\n",
       "      <th>2</th>\n",
       "      <td>Female</td>\n",
       "      <td>No</td>\n",
       "      <td>Dinner</td>\n",
       "      <td>88.28</td>\n",
       "      <td>3.044138</td>\n",
       "    </tr>\n",
       "    <tr>\n",
       "      <th>3</th>\n",
       "      <td>Female</td>\n",
       "      <td>Yes</td>\n",
       "      <td>Dinner</td>\n",
       "      <td>67.83</td>\n",
       "      <td>2.949130</td>\n",
       "    </tr>\n",
       "    <tr>\n",
       "      <th>4</th>\n",
       "      <td>Female</td>\n",
       "      <td>No</td>\n",
       "      <td>Lunch</td>\n",
       "      <td>61.49</td>\n",
       "      <td>2.459600</td>\n",
       "    </tr>\n",
       "    <tr>\n",
       "      <th>5</th>\n",
       "      <td>Male</td>\n",
       "      <td>No</td>\n",
       "      <td>Lunch</td>\n",
       "      <td>58.83</td>\n",
       "      <td>2.941500</td>\n",
       "    </tr>\n",
       "    <tr>\n",
       "      <th>6</th>\n",
       "      <td>Male</td>\n",
       "      <td>Yes</td>\n",
       "      <td>Lunch</td>\n",
       "      <td>36.28</td>\n",
       "      <td>2.790769</td>\n",
       "    </tr>\n",
       "    <tr>\n",
       "      <th>7</th>\n",
       "      <td>Female</td>\n",
       "      <td>Yes</td>\n",
       "      <td>Lunch</td>\n",
       "      <td>28.91</td>\n",
       "      <td>2.891000</td>\n",
       "    </tr>\n",
       "  </tbody>\n",
       "</table>\n",
       "</div>"
      ],
      "text/plain": [
       "      sex smoker    time  total_tip   avg_tip\n",
       "0    Male     No  Dinner     243.17  3.158052\n",
       "1    Male    Yes  Dinner     146.79  3.123191\n",
       "2  Female     No  Dinner      88.28  3.044138\n",
       "3  Female    Yes  Dinner      67.83  2.949130\n",
       "4  Female     No   Lunch      61.49  2.459600\n",
       "5    Male     No   Lunch      58.83  2.941500\n",
       "6    Male    Yes   Lunch      36.28  2.790769\n",
       "7  Female    Yes   Lunch      28.91  2.891000"
      ]
     },
     "execution_count": 17,
     "metadata": {},
     "output_type": "execute_result"
    }
   ],
   "source": [
    "catalog.query(sql_query)"
   ]
  },
  {
   "cell_type": "code",
   "execution_count": 18,
   "id": "030e44ce",
   "metadata": {},
   "outputs": [
    {
     "name": "stdout",
     "output_type": "stream",
     "text": [
      "**Which customer group tipped the most?**\n",
      "\n",
      "From the data you provided, the single group that brought in the highest total tip amount is:\n",
      "\n",
      "| Sex | Smoker | Day | **Total Tip** | Avg Tip | Visits |\n",
      "|-----|--------|-----|---------------|---------|--------|\n",
      "| Male | No | Sun | **133.96** | 3.12 | 43 |\n",
      "\n",
      "That’s the top spot by far. The next highest groups are:\n",
      "\n",
      "| Sex | Smoker | Day | Total Tip |\n",
      "|-----|--------|-----|-----------|\n",
      "| Male | No | Sat | 104.21 |\n",
      "| Male | Yes | Sat | 77.74 |\n",
      "| Female | No | Thur | 61.49 |\n",
      "| Male | No | Thur | 58.83 |\n",
      "| Male | Yes | Sun | 52.82 |\n",
      "| Female | No | Sun | 46.61 |\n",
      "| … | … | … | … |\n",
      "\n",
      "*(The full list is sorted from highest to lowest total_tip.)*\n",
      "\n",
      "---\n",
      "\n",
      "### What does this mean for the business?\n",
      "\n",
      "| Insight | Why it matters | Suggested action |\n",
      "|---------|----------------|------------------|\n",
      "| **Male, non‑smokers on Sunday** dominate tip revenue | Sunday is a prime day for high‑spending male diners who don’t smoke. | Consider targeted promotions (e.g., “Sunday Special” for male guests) or loyalty perks for this segment. |\n",
      "| **Male, non‑smokers on Saturday** are the second biggest contributors | Saturdays also bring strong tip revenue from the same group. | Keep Saturday specials consistent; perhaps add a “Weekend” upsell. |\n",
      "| **Female, non‑smokers on Sunday** have a solid average tip** | Although total volume is lower, their average tip (3.33) is high. | Offer premium menu items or bundles that could increase their spend further. |\n",
      "| **Smokers (male or female)** generally tip less** | Smokers bring lower total and average tips. | Explore whether a smoke‑free environment or incentives could shift behavior. |\n",
      "\n",
      "---\n",
      "\n",
      "### Next steps & follow‑up questions\n",
      "\n",
      "1. **Check if the high totals are due to a few large‑spending tables or many moderate ones.**  \n",
      "   *Do you have per‑visit tip data to see if a few “big spenders” are driving the numbers?*\n",
      "\n",
      "2. **Seasonal trends** – Do these patterns hold throughout the year, or are Sundays/Saturdays only peaks in certain months?  \n",
      "   *Could we look at monthly breakdowns?*\n",
      "\n",
      "3. **Promotions impact** – Have recent promotions targeted these groups?  \n",
      "   *Was there a campaign that coincided with the Sunday spikes?*\n",
      "\n",
      "4. **Cost side** – Compare tip revenue to cost of service (e.g., staff hours, food costs) on those days to assess profitability.  \n",
      "   *Do we have the cost data?*\n",
      "\n",
      "Feel free to let me know which of these you'd like to dive into next!\n"
     ]
    },
    {
     "name": "stderr",
     "output_type": "stream",
     "text": [
      "<string>:14: FutureWarning:\n",
      "\n",
      "The default of observed=False is deprecated and will be changed to True in a future version of pandas. Pass observed=False to retain current behavior or observed=True to adopt the future default and silence this warning.\n",
      "\n"
     ]
    }
   ],
   "source": [
    "answer = broinsight.ask_data(message=f\"{question}. Create a chart that is easy to read and understand.\", visualize=True)\n",
    "print(answer['content'])"
   ]
  },
  {
   "cell_type": "code",
   "execution_count": 19,
   "id": "91517bc9",
   "metadata": {},
   "outputs": [
    {
     "data": {
      "application/vnd.plotly.v1+json": {
       "config": {
        "plotlyServerURL": "https://plot.ly"
       },
       "data": [
        {
         "alignmentgroup": "True",
         "hovertemplate": "Sex=Male<br>smoker=Yes<br>Day of Week=%{x}<br>Total Tips ($)=%{y}<extra></extra>",
         "legendgroup": "Male",
         "marker": {
          "color": "#636efa",
          "pattern": {
           "shape": ""
          }
         },
         "name": "Male",
         "offsetgroup": "Male",
         "orientation": "v",
         "showlegend": true,
         "textposition": "auto",
         "type": "bar",
         "x": [
          "Fri",
          "Sat",
          "Thur",
          "Sun"
         ],
         "xaxis": "x2",
         "y": {
          "bdata": "rkfhehTuNUCOwvUoXG9TQBSuR+F6lD5AKVyPwvVoSkA=",
          "dtype": "f8"
         },
         "yaxis": "y2"
        },
        {
         "alignmentgroup": "True",
         "hovertemplate": "Sex=Male<br>smoker=No<br>Day of Week=%{x}<br>Total Tips ($)=%{y}<extra></extra>",
         "legendgroup": "Male",
         "marker": {
          "color": "#636efa",
          "pattern": {
           "shape": ""
          }
         },
         "name": "Male",
         "offsetgroup": "Male",
         "orientation": "v",
         "showlegend": false,
         "textposition": "auto",
         "type": "bar",
         "x": [
          "Fri",
          "Sat",
          "Thur",
          "Sun"
         ],
         "xaxis": "x",
         "y": {
          "bdata": "AAAAAAAAFEA+CtejcA1aQArXo3A9ak1AIIXrUbi+YEA=",
          "dtype": "f8"
         },
         "yaxis": "y"
        },
        {
         "alignmentgroup": "True",
         "hovertemplate": "Sex=Female<br>smoker=Yes<br>Day of Week=%{x}<br>Total Tips ($)=%{y}<extra></extra>",
         "legendgroup": "Female",
         "marker": {
          "color": "#EF553B",
          "pattern": {
           "shape": ""
          }
         },
         "name": "Female",
         "offsetgroup": "Female",
         "orientation": "v",
         "showlegend": true,
         "textposition": "auto",
         "type": "bar",
         "x": [
          "Fri",
          "Sat",
          "Thur",
          "Sun"
         ],
         "xaxis": "x2",
         "y": {
          "bdata": "SOF6FK7HMkClcD0K14NFQK9H4XoU7jRAAAAAAAAALEA=",
          "dtype": "f8"
         },
         "yaxis": "y2"
        },
        {
         "alignmentgroup": "True",
         "hovertemplate": "Sex=Female<br>smoker=No<br>Day of Week=%{x}<br>Total Tips ($)=%{y}<extra></extra>",
         "legendgroup": "Female",
         "marker": {
          "color": "#EF553B",
          "pattern": {
           "shape": ""
          }
         },
         "name": "Female",
         "offsetgroup": "Female",
         "orientation": "v",
         "showlegend": false,
         "textposition": "auto",
         "type": "bar",
         "x": [
          "Fri",
          "Sat",
          "Thur",
          "Sun"
         ],
         "xaxis": "x",
         "y": {
          "bdata": "AAAAAAAAGUD2KFyPwrVBQB+F61G4vk5ArkfhehROR0A=",
          "dtype": "f8"
         },
         "yaxis": "y"
        }
       ],
       "layout": {
        "annotations": [
         {
          "font": {},
          "showarrow": false,
          "text": "smoker=No",
          "textangle": 90,
          "x": 0.98,
          "xanchor": "left",
          "xref": "paper",
          "y": 0.2425,
          "yanchor": "middle",
          "yref": "paper"
         },
         {
          "font": {},
          "showarrow": false,
          "text": "smoker=Yes",
          "textangle": 90,
          "x": 0.98,
          "xanchor": "left",
          "xref": "paper",
          "y": 0.7575000000000001,
          "yanchor": "middle",
          "yref": "paper"
         }
        ],
        "barmode": "group",
        "height": 600,
        "legend": {
         "title": {
          "text": "Sex"
         },
         "tracegroupgap": 0
        },
        "margin": {
         "b": 80,
         "l": 80,
         "r": 40,
         "t": 80
        },
        "template": {
         "data": {
          "bar": [
           {
            "error_x": {
             "color": "#2a3f5f"
            },
            "error_y": {
             "color": "#2a3f5f"
            },
            "marker": {
             "line": {
              "color": "#E5ECF6",
              "width": 0.5
             },
             "pattern": {
              "fillmode": "overlay",
              "size": 10,
              "solidity": 0.2
             }
            },
            "type": "bar"
           }
          ],
          "barpolar": [
           {
            "marker": {
             "line": {
              "color": "#E5ECF6",
              "width": 0.5
             },
             "pattern": {
              "fillmode": "overlay",
              "size": 10,
              "solidity": 0.2
             }
            },
            "type": "barpolar"
           }
          ],
          "carpet": [
           {
            "aaxis": {
             "endlinecolor": "#2a3f5f",
             "gridcolor": "white",
             "linecolor": "white",
             "minorgridcolor": "white",
             "startlinecolor": "#2a3f5f"
            },
            "baxis": {
             "endlinecolor": "#2a3f5f",
             "gridcolor": "white",
             "linecolor": "white",
             "minorgridcolor": "white",
             "startlinecolor": "#2a3f5f"
            },
            "type": "carpet"
           }
          ],
          "choropleth": [
           {
            "colorbar": {
             "outlinewidth": 0,
             "ticks": ""
            },
            "type": "choropleth"
           }
          ],
          "contour": [
           {
            "colorbar": {
             "outlinewidth": 0,
             "ticks": ""
            },
            "colorscale": [
             [
              0,
              "#0d0887"
             ],
             [
              0.1111111111111111,
              "#46039f"
             ],
             [
              0.2222222222222222,
              "#7201a8"
             ],
             [
              0.3333333333333333,
              "#9c179e"
             ],
             [
              0.4444444444444444,
              "#bd3786"
             ],
             [
              0.5555555555555556,
              "#d8576b"
             ],
             [
              0.6666666666666666,
              "#ed7953"
             ],
             [
              0.7777777777777778,
              "#fb9f3a"
             ],
             [
              0.8888888888888888,
              "#fdca26"
             ],
             [
              1,
              "#f0f921"
             ]
            ],
            "type": "contour"
           }
          ],
          "contourcarpet": [
           {
            "colorbar": {
             "outlinewidth": 0,
             "ticks": ""
            },
            "type": "contourcarpet"
           }
          ],
          "heatmap": [
           {
            "colorbar": {
             "outlinewidth": 0,
             "ticks": ""
            },
            "colorscale": [
             [
              0,
              "#0d0887"
             ],
             [
              0.1111111111111111,
              "#46039f"
             ],
             [
              0.2222222222222222,
              "#7201a8"
             ],
             [
              0.3333333333333333,
              "#9c179e"
             ],
             [
              0.4444444444444444,
              "#bd3786"
             ],
             [
              0.5555555555555556,
              "#d8576b"
             ],
             [
              0.6666666666666666,
              "#ed7953"
             ],
             [
              0.7777777777777778,
              "#fb9f3a"
             ],
             [
              0.8888888888888888,
              "#fdca26"
             ],
             [
              1,
              "#f0f921"
             ]
            ],
            "type": "heatmap"
           }
          ],
          "histogram": [
           {
            "marker": {
             "pattern": {
              "fillmode": "overlay",
              "size": 10,
              "solidity": 0.2
             }
            },
            "type": "histogram"
           }
          ],
          "histogram2d": [
           {
            "colorbar": {
             "outlinewidth": 0,
             "ticks": ""
            },
            "colorscale": [
             [
              0,
              "#0d0887"
             ],
             [
              0.1111111111111111,
              "#46039f"
             ],
             [
              0.2222222222222222,
              "#7201a8"
             ],
             [
              0.3333333333333333,
              "#9c179e"
             ],
             [
              0.4444444444444444,
              "#bd3786"
             ],
             [
              0.5555555555555556,
              "#d8576b"
             ],
             [
              0.6666666666666666,
              "#ed7953"
             ],
             [
              0.7777777777777778,
              "#fb9f3a"
             ],
             [
              0.8888888888888888,
              "#fdca26"
             ],
             [
              1,
              "#f0f921"
             ]
            ],
            "type": "histogram2d"
           }
          ],
          "histogram2dcontour": [
           {
            "colorbar": {
             "outlinewidth": 0,
             "ticks": ""
            },
            "colorscale": [
             [
              0,
              "#0d0887"
             ],
             [
              0.1111111111111111,
              "#46039f"
             ],
             [
              0.2222222222222222,
              "#7201a8"
             ],
             [
              0.3333333333333333,
              "#9c179e"
             ],
             [
              0.4444444444444444,
              "#bd3786"
             ],
             [
              0.5555555555555556,
              "#d8576b"
             ],
             [
              0.6666666666666666,
              "#ed7953"
             ],
             [
              0.7777777777777778,
              "#fb9f3a"
             ],
             [
              0.8888888888888888,
              "#fdca26"
             ],
             [
              1,
              "#f0f921"
             ]
            ],
            "type": "histogram2dcontour"
           }
          ],
          "mesh3d": [
           {
            "colorbar": {
             "outlinewidth": 0,
             "ticks": ""
            },
            "type": "mesh3d"
           }
          ],
          "parcoords": [
           {
            "line": {
             "colorbar": {
              "outlinewidth": 0,
              "ticks": ""
             }
            },
            "type": "parcoords"
           }
          ],
          "pie": [
           {
            "automargin": true,
            "type": "pie"
           }
          ],
          "scatter": [
           {
            "fillpattern": {
             "fillmode": "overlay",
             "size": 10,
             "solidity": 0.2
            },
            "type": "scatter"
           }
          ],
          "scatter3d": [
           {
            "line": {
             "colorbar": {
              "outlinewidth": 0,
              "ticks": ""
             }
            },
            "marker": {
             "colorbar": {
              "outlinewidth": 0,
              "ticks": ""
             }
            },
            "type": "scatter3d"
           }
          ],
          "scattercarpet": [
           {
            "marker": {
             "colorbar": {
              "outlinewidth": 0,
              "ticks": ""
             }
            },
            "type": "scattercarpet"
           }
          ],
          "scattergeo": [
           {
            "marker": {
             "colorbar": {
              "outlinewidth": 0,
              "ticks": ""
             }
            },
            "type": "scattergeo"
           }
          ],
          "scattergl": [
           {
            "marker": {
             "colorbar": {
              "outlinewidth": 0,
              "ticks": ""
             }
            },
            "type": "scattergl"
           }
          ],
          "scattermap": [
           {
            "marker": {
             "colorbar": {
              "outlinewidth": 0,
              "ticks": ""
             }
            },
            "type": "scattermap"
           }
          ],
          "scattermapbox": [
           {
            "marker": {
             "colorbar": {
              "outlinewidth": 0,
              "ticks": ""
             }
            },
            "type": "scattermapbox"
           }
          ],
          "scatterpolar": [
           {
            "marker": {
             "colorbar": {
              "outlinewidth": 0,
              "ticks": ""
             }
            },
            "type": "scatterpolar"
           }
          ],
          "scatterpolargl": [
           {
            "marker": {
             "colorbar": {
              "outlinewidth": 0,
              "ticks": ""
             }
            },
            "type": "scatterpolargl"
           }
          ],
          "scatterternary": [
           {
            "marker": {
             "colorbar": {
              "outlinewidth": 0,
              "ticks": ""
             }
            },
            "type": "scatterternary"
           }
          ],
          "surface": [
           {
            "colorbar": {
             "outlinewidth": 0,
             "ticks": ""
            },
            "colorscale": [
             [
              0,
              "#0d0887"
             ],
             [
              0.1111111111111111,
              "#46039f"
             ],
             [
              0.2222222222222222,
              "#7201a8"
             ],
             [
              0.3333333333333333,
              "#9c179e"
             ],
             [
              0.4444444444444444,
              "#bd3786"
             ],
             [
              0.5555555555555556,
              "#d8576b"
             ],
             [
              0.6666666666666666,
              "#ed7953"
             ],
             [
              0.7777777777777778,
              "#fb9f3a"
             ],
             [
              0.8888888888888888,
              "#fdca26"
             ],
             [
              1,
              "#f0f921"
             ]
            ],
            "type": "surface"
           }
          ],
          "table": [
           {
            "cells": {
             "fill": {
              "color": "#EBF0F8"
             },
             "line": {
              "color": "white"
             }
            },
            "header": {
             "fill": {
              "color": "#C8D4E3"
             },
             "line": {
              "color": "white"
             }
            },
            "type": "table"
           }
          ]
         },
         "layout": {
          "annotationdefaults": {
           "arrowcolor": "#2a3f5f",
           "arrowhead": 0,
           "arrowwidth": 1
          },
          "autotypenumbers": "strict",
          "coloraxis": {
           "colorbar": {
            "outlinewidth": 0,
            "ticks": ""
           }
          },
          "colorscale": {
           "diverging": [
            [
             0,
             "#8e0152"
            ],
            [
             0.1,
             "#c51b7d"
            ],
            [
             0.2,
             "#de77ae"
            ],
            [
             0.3,
             "#f1b6da"
            ],
            [
             0.4,
             "#fde0ef"
            ],
            [
             0.5,
             "#f7f7f7"
            ],
            [
             0.6,
             "#e6f5d0"
            ],
            [
             0.7,
             "#b8e186"
            ],
            [
             0.8,
             "#7fbc41"
            ],
            [
             0.9,
             "#4d9221"
            ],
            [
             1,
             "#276419"
            ]
           ],
           "sequential": [
            [
             0,
             "#0d0887"
            ],
            [
             0.1111111111111111,
             "#46039f"
            ],
            [
             0.2222222222222222,
             "#7201a8"
            ],
            [
             0.3333333333333333,
             "#9c179e"
            ],
            [
             0.4444444444444444,
             "#bd3786"
            ],
            [
             0.5555555555555556,
             "#d8576b"
            ],
            [
             0.6666666666666666,
             "#ed7953"
            ],
            [
             0.7777777777777778,
             "#fb9f3a"
            ],
            [
             0.8888888888888888,
             "#fdca26"
            ],
            [
             1,
             "#f0f921"
            ]
           ],
           "sequentialminus": [
            [
             0,
             "#0d0887"
            ],
            [
             0.1111111111111111,
             "#46039f"
            ],
            [
             0.2222222222222222,
             "#7201a8"
            ],
            [
             0.3333333333333333,
             "#9c179e"
            ],
            [
             0.4444444444444444,
             "#bd3786"
            ],
            [
             0.5555555555555556,
             "#d8576b"
            ],
            [
             0.6666666666666666,
             "#ed7953"
            ],
            [
             0.7777777777777778,
             "#fb9f3a"
            ],
            [
             0.8888888888888888,
             "#fdca26"
            ],
            [
             1,
             "#f0f921"
            ]
           ]
          },
          "colorway": [
           "#636efa",
           "#EF553B",
           "#00cc96",
           "#ab63fa",
           "#FFA15A",
           "#19d3f3",
           "#FF6692",
           "#B6E880",
           "#FF97FF",
           "#FECB52"
          ],
          "font": {
           "color": "#2a3f5f"
          },
          "geo": {
           "bgcolor": "white",
           "lakecolor": "white",
           "landcolor": "#E5ECF6",
           "showlakes": true,
           "showland": true,
           "subunitcolor": "white"
          },
          "hoverlabel": {
           "align": "left"
          },
          "hovermode": "closest",
          "mapbox": {
           "style": "light"
          },
          "paper_bgcolor": "white",
          "plot_bgcolor": "#E5ECF6",
          "polar": {
           "angularaxis": {
            "gridcolor": "white",
            "linecolor": "white",
            "ticks": ""
           },
           "bgcolor": "#E5ECF6",
           "radialaxis": {
            "gridcolor": "white",
            "linecolor": "white",
            "ticks": ""
           }
          },
          "scene": {
           "xaxis": {
            "backgroundcolor": "#E5ECF6",
            "gridcolor": "white",
            "gridwidth": 2,
            "linecolor": "white",
            "showbackground": true,
            "ticks": "",
            "zerolinecolor": "white"
           },
           "yaxis": {
            "backgroundcolor": "#E5ECF6",
            "gridcolor": "white",
            "gridwidth": 2,
            "linecolor": "white",
            "showbackground": true,
            "ticks": "",
            "zerolinecolor": "white"
           },
           "zaxis": {
            "backgroundcolor": "#E5ECF6",
            "gridcolor": "white",
            "gridwidth": 2,
            "linecolor": "white",
            "showbackground": true,
            "ticks": "",
            "zerolinecolor": "white"
           }
          },
          "shapedefaults": {
           "line": {
            "color": "#2a3f5f"
           }
          },
          "ternary": {
           "aaxis": {
            "gridcolor": "white",
            "linecolor": "white",
            "ticks": ""
           },
           "baxis": {
            "gridcolor": "white",
            "linecolor": "white",
            "ticks": ""
           },
           "bgcolor": "#E5ECF6",
           "caxis": {
            "gridcolor": "white",
            "linecolor": "white",
            "ticks": ""
           }
          },
          "title": {
           "x": 0.05
          },
          "xaxis": {
           "automargin": true,
           "gridcolor": "white",
           "linecolor": "white",
           "ticks": "",
           "title": {
            "standoff": 15
           },
           "zerolinecolor": "white",
           "zerolinewidth": 2
          },
          "yaxis": {
           "automargin": true,
           "gridcolor": "white",
           "linecolor": "white",
           "ticks": "",
           "title": {
            "standoff": 15
           },
           "zerolinecolor": "white",
           "zerolinewidth": 2
          }
         }
        },
        "title": {
         "text": "Total Tips by Sex, Smoker Status, and Day of Week"
        },
        "xaxis": {
         "anchor": "y",
         "categoryarray": [
          "Fri",
          "Sat",
          "Thur",
          "Sun"
         ],
         "categoryorder": "array",
         "domain": [
          0,
          0.98
         ],
         "title": {
          "text": "Day of Week"
         }
        },
        "xaxis2": {
         "anchor": "y2",
         "domain": [
          0,
          0.98
         ],
         "matches": "x",
         "showticklabels": false,
         "title": {
          "text": "Day of Week"
         }
        },
        "yaxis": {
         "anchor": "x",
         "domain": [
          0,
          0.485
         ],
         "title": {
          "text": "Total Tips ($)"
         }
        },
        "yaxis2": {
         "anchor": "x2",
         "domain": [
          0.515,
          1
         ],
         "matches": "y",
         "title": {
          "text": "Total Tips ($)"
         }
        }
       }
      }
     },
     "metadata": {},
     "output_type": "display_data"
    }
   ],
   "source": [
    "answer['chart']"
   ]
  },
  {
   "cell_type": "code",
   "execution_count": null,
   "id": "23d50412",
   "metadata": {},
   "outputs": [],
   "source": []
  }
 ],
 "metadata": {
  "kernelspec": {
   "display_name": "broinsight",
   "language": "python",
   "name": "python3"
  },
  "language_info": {
   "codemirror_mode": {
    "name": "ipython",
    "version": 3
   },
   "file_extension": ".py",
   "mimetype": "text/x-python",
   "name": "python",
   "nbconvert_exporter": "python",
   "pygments_lexer": "ipython3",
   "version": "3.12.9"
  }
 },
 "nbformat": 4,
 "nbformat_minor": 5
}
