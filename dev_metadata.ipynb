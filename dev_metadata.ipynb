{
 "cells": [
  {
   "cell_type": "code",
   "execution_count": 1,
   "id": "b20a5dcd",
   "metadata": {},
   "outputs": [],
   "source": [
    "%load_ext autoreload\n",
    "%autoreload 2"
   ]
  },
  {
   "cell_type": "code",
   "execution_count": 2,
   "id": "8bbb0932",
   "metadata": {},
   "outputs": [
    {
     "data": {
      "text/plain": [
       "['total_bill', 'tip', 'sex', 'smoker', 'day', 'time', 'size']"
      ]
     },
     "execution_count": 2,
     "metadata": {},
     "output_type": "execute_result"
    }
   ],
   "source": [
    "import duckdb\n",
    "import pandas as pd\n",
    "import seaborn as sns\n",
    "\n",
    "tips = sns.load_dataset(\"tips\")\n",
    "\n",
    "tips.columns.tolist()"
   ]
  },
  {
   "cell_type": "code",
   "execution_count": 3,
   "id": "afd6caec",
   "metadata": {},
   "outputs": [
    {
     "data": {
      "text/html": [
       "<div>\n",
       "<style scoped>\n",
       "    .dataframe tbody tr th:only-of-type {\n",
       "        vertical-align: middle;\n",
       "    }\n",
       "\n",
       "    .dataframe tbody tr th {\n",
       "        vertical-align: top;\n",
       "    }\n",
       "\n",
       "    .dataframe thead th {\n",
       "        text-align: right;\n",
       "    }\n",
       "</style>\n",
       "<table border=\"1\" class=\"dataframe\">\n",
       "  <thead>\n",
       "    <tr style=\"text-align: right;\">\n",
       "      <th></th>\n",
       "      <th>total_bill</th>\n",
       "      <th>tip</th>\n",
       "      <th>sex</th>\n",
       "      <th>smoker</th>\n",
       "      <th>day</th>\n",
       "      <th>time</th>\n",
       "      <th>size</th>\n",
       "    </tr>\n",
       "  </thead>\n",
       "  <tbody>\n",
       "    <tr>\n",
       "      <th>0</th>\n",
       "      <td>16.99</td>\n",
       "      <td>1.01</td>\n",
       "      <td>Female</td>\n",
       "      <td>No</td>\n",
       "      <td>Sun</td>\n",
       "      <td>Dinner</td>\n",
       "      <td>2</td>\n",
       "    </tr>\n",
       "    <tr>\n",
       "      <th>1</th>\n",
       "      <td>10.34</td>\n",
       "      <td>1.66</td>\n",
       "      <td>Male</td>\n",
       "      <td>No</td>\n",
       "      <td>Sun</td>\n",
       "      <td>Dinner</td>\n",
       "      <td>3</td>\n",
       "    </tr>\n",
       "    <tr>\n",
       "      <th>2</th>\n",
       "      <td>21.01</td>\n",
       "      <td>3.50</td>\n",
       "      <td>Male</td>\n",
       "      <td>No</td>\n",
       "      <td>Sun</td>\n",
       "      <td>Dinner</td>\n",
       "      <td>3</td>\n",
       "    </tr>\n",
       "    <tr>\n",
       "      <th>3</th>\n",
       "      <td>23.68</td>\n",
       "      <td>3.31</td>\n",
       "      <td>Male</td>\n",
       "      <td>No</td>\n",
       "      <td>Sun</td>\n",
       "      <td>Dinner</td>\n",
       "      <td>2</td>\n",
       "    </tr>\n",
       "    <tr>\n",
       "      <th>4</th>\n",
       "      <td>24.59</td>\n",
       "      <td>3.61</td>\n",
       "      <td>Female</td>\n",
       "      <td>No</td>\n",
       "      <td>Sun</td>\n",
       "      <td>Dinner</td>\n",
       "      <td>4</td>\n",
       "    </tr>\n",
       "  </tbody>\n",
       "</table>\n",
       "</div>"
      ],
      "text/plain": [
       "   total_bill   tip     sex smoker  day    time  size\n",
       "0       16.99  1.01  Female     No  Sun  Dinner     2\n",
       "1       10.34  1.66    Male     No  Sun  Dinner     3\n",
       "2       21.01  3.50    Male     No  Sun  Dinner     3\n",
       "3       23.68  3.31    Male     No  Sun  Dinner     2\n",
       "4       24.59  3.61  Female     No  Sun  Dinner     4"
      ]
     },
     "execution_count": 3,
     "metadata": {},
     "output_type": "execute_result"
    }
   ],
   "source": [
    "tips.head()"
   ]
  },
  {
   "cell_type": "code",
   "execution_count": 4,
   "id": "03a13fef",
   "metadata": {},
   "outputs": [
    {
     "data": {
      "text/html": [
       "<div>\n",
       "<style scoped>\n",
       "    .dataframe tbody tr th:only-of-type {\n",
       "        vertical-align: middle;\n",
       "    }\n",
       "\n",
       "    .dataframe tbody tr th {\n",
       "        vertical-align: top;\n",
       "    }\n",
       "\n",
       "    .dataframe thead th {\n",
       "        text-align: right;\n",
       "    }\n",
       "</style>\n",
       "<table border=\"1\" class=\"dataframe\">\n",
       "  <thead>\n",
       "    <tr style=\"text-align: right;\">\n",
       "      <th></th>\n",
       "      <th>data_types</th>\n",
       "      <th>missing_values</th>\n",
       "      <th>missing_values_pct</th>\n",
       "      <th>unique_values</th>\n",
       "      <th>unique_values_pct</th>\n",
       "      <th>most_frequent</th>\n",
       "      <th>statistics</th>\n",
       "    </tr>\n",
       "  </thead>\n",
       "  <tbody>\n",
       "    <tr>\n",
       "      <th>total_bill</th>\n",
       "      <td>float</td>\n",
       "      <td>0</td>\n",
       "      <td>0.0</td>\n",
       "      <td>229</td>\n",
       "      <td>0.94</td>\n",
       "      <td>{13.42: 3, 13.81: 2, 15.98: 2, 17.92: 2, 10.07...</td>\n",
       "      <td>{'min': 3.07, 'max': 50.81, 'mean': 19.79, 'me...</td>\n",
       "    </tr>\n",
       "    <tr>\n",
       "      <th>tip</th>\n",
       "      <td>float</td>\n",
       "      <td>0</td>\n",
       "      <td>0.0</td>\n",
       "      <td>123</td>\n",
       "      <td>0.50</td>\n",
       "      <td>{2.0: 33, 3.0: 23, 4.0: 12, 5.0: 10, 2.5: 10}</td>\n",
       "      <td>{'min': 1.0, 'max': 10.0, 'mean': 3.0, 'median...</td>\n",
       "    </tr>\n",
       "    <tr>\n",
       "      <th>sex</th>\n",
       "      <td>string</td>\n",
       "      <td>0</td>\n",
       "      <td>0.0</td>\n",
       "      <td>2</td>\n",
       "      <td>0.01</td>\n",
       "      <td>{'Male': 157, 'Female': 87}</td>\n",
       "      <td>{'mode': 'Male', 'avg_length': 4.71, 'min_leng...</td>\n",
       "    </tr>\n",
       "    <tr>\n",
       "      <th>smoker</th>\n",
       "      <td>string</td>\n",
       "      <td>0</td>\n",
       "      <td>0.0</td>\n",
       "      <td>2</td>\n",
       "      <td>0.01</td>\n",
       "      <td>{'No': 151, 'Yes': 93}</td>\n",
       "      <td>{'mode': 'No', 'avg_length': 2.38, 'min_length...</td>\n",
       "    </tr>\n",
       "    <tr>\n",
       "      <th>day</th>\n",
       "      <td>string</td>\n",
       "      <td>0</td>\n",
       "      <td>0.0</td>\n",
       "      <td>4</td>\n",
       "      <td>0.02</td>\n",
       "      <td>{'Sat': 87, 'Sun': 76, 'Thur': 62, 'Fri': 19}</td>\n",
       "      <td>{'mode': 'Sat', 'avg_length': 3.25, 'min_lengt...</td>\n",
       "    </tr>\n",
       "    <tr>\n",
       "      <th>time</th>\n",
       "      <td>string</td>\n",
       "      <td>0</td>\n",
       "      <td>0.0</td>\n",
       "      <td>2</td>\n",
       "      <td>0.01</td>\n",
       "      <td>{'Dinner': 176, 'Lunch': 68}</td>\n",
       "      <td>{'mode': 'Dinner', 'avg_length': 5.72, 'min_le...</td>\n",
       "    </tr>\n",
       "    <tr>\n",
       "      <th>size</th>\n",
       "      <td>integer</td>\n",
       "      <td>0</td>\n",
       "      <td>0.0</td>\n",
       "      <td>6</td>\n",
       "      <td>0.02</td>\n",
       "      <td>{2: 156, 3: 38, 4: 37, 5: 5, 1: 4}</td>\n",
       "      <td>{'min': 1.0, 'max': 6.0, 'mean': 2.57, 'median...</td>\n",
       "    </tr>\n",
       "  </tbody>\n",
       "</table>\n",
       "</div>"
      ],
      "text/plain": [
       "           data_types  missing_values  missing_values_pct  unique_values  \\\n",
       "total_bill      float               0                 0.0            229   \n",
       "tip             float               0                 0.0            123   \n",
       "sex            string               0                 0.0              2   \n",
       "smoker         string               0                 0.0              2   \n",
       "day            string               0                 0.0              4   \n",
       "time           string               0                 0.0              2   \n",
       "size          integer               0                 0.0              6   \n",
       "\n",
       "            unique_values_pct  \\\n",
       "total_bill               0.94   \n",
       "tip                      0.50   \n",
       "sex                      0.01   \n",
       "smoker                   0.01   \n",
       "day                      0.02   \n",
       "time                     0.01   \n",
       "size                     0.02   \n",
       "\n",
       "                                                most_frequent  \\\n",
       "total_bill  {13.42: 3, 13.81: 2, 15.98: 2, 17.92: 2, 10.07...   \n",
       "tip             {2.0: 33, 3.0: 23, 4.0: 12, 5.0: 10, 2.5: 10}   \n",
       "sex                               {'Male': 157, 'Female': 87}   \n",
       "smoker                                 {'No': 151, 'Yes': 93}   \n",
       "day             {'Sat': 87, 'Sun': 76, 'Thur': 62, 'Fri': 19}   \n",
       "time                             {'Dinner': 176, 'Lunch': 68}   \n",
       "size                       {2: 156, 3: 38, 4: 37, 5: 5, 1: 4}   \n",
       "\n",
       "                                                   statistics  \n",
       "total_bill  {'min': 3.07, 'max': 50.81, 'mean': 19.79, 'me...  \n",
       "tip         {'min': 1.0, 'max': 10.0, 'mean': 3.0, 'median...  \n",
       "sex         {'mode': 'Male', 'avg_length': 4.71, 'min_leng...  \n",
       "smoker      {'mode': 'No', 'avg_length': 2.38, 'min_length...  \n",
       "day         {'mode': 'Sat', 'avg_length': 3.25, 'min_lengt...  \n",
       "time        {'mode': 'Dinner', 'avg_length': 5.72, 'min_le...  \n",
       "size        {'min': 1.0, 'max': 6.0, 'mean': 2.57, 'median...  "
      ]
     },
     "execution_count": 4,
     "metadata": {},
     "output_type": "execute_result"
    }
   ],
   "source": [
    "from broinsight.data_quality.field_profile import field_profile\n",
    "\n",
    "tips_metadata = field_profile(tips)\n",
    "pd.DataFrame.from_dict(tips_metadata, orient=\"index\")"
   ]
  },
  {
   "cell_type": "code",
   "execution_count": 5,
   "id": "70b1a60a",
   "metadata": {},
   "outputs": [
    {
     "data": {
      "text/plain": [
       "{'total_bill': {'data_types': 'float',\n",
       "  'missing_values': 0,\n",
       "  'missing_values_pct': 0.0,\n",
       "  'unique_values': 229,\n",
       "  'unique_values_pct': 0.94,\n",
       "  'most_frequent': {13.42: 3, 13.81: 2, 15.98: 2, 17.92: 2, 10.07: 2},\n",
       "  'statistics': {'min': 3.07,\n",
       "   'max': 50.81,\n",
       "   'mean': 19.79,\n",
       "   'median': 17.8,\n",
       "   'std': 8.9,\n",
       "   'var': 79.25,\n",
       "   'skew': 1.13,\n",
       "   'kurt': 1.22,\n",
       "   'iqr': 10.78,\n",
       "   'cv': 0.45,\n",
       "   'lower_bound': -2.82,\n",
       "   'upper_bound': 40.3}},\n",
       " 'tip': {'data_types': 'float',\n",
       "  'missing_values': 0,\n",
       "  'missing_values_pct': 0.0,\n",
       "  'unique_values': 123,\n",
       "  'unique_values_pct': 0.5,\n",
       "  'most_frequent': {2.0: 33, 3.0: 23, 4.0: 12, 5.0: 10, 2.5: 10},\n",
       "  'statistics': {'min': 1.0,\n",
       "   'max': 10.0,\n",
       "   'mean': 3.0,\n",
       "   'median': 2.9,\n",
       "   'std': 1.38,\n",
       "   'var': 1.91,\n",
       "   'skew': 1.47,\n",
       "   'kurt': 3.65,\n",
       "   'iqr': 1.56,\n",
       "   'cv': 0.46,\n",
       "   'lower_bound': -0.34,\n",
       "   'upper_bound': 5.91}},\n",
       " 'sex': {'data_types': 'string',\n",
       "  'missing_values': 0,\n",
       "  'missing_values_pct': 0.0,\n",
       "  'unique_values': 2,\n",
       "  'unique_values_pct': 0.01,\n",
       "  'most_frequent': {'Male': 157, 'Female': 87},\n",
       "  'statistics': {'mode': 'Male',\n",
       "   'avg_length': 4.71,\n",
       "   'min_length': 4.0,\n",
       "   'max_length': 6.0,\n",
       "   'empty_count': 0.0,\n",
       "   'whitespace_count': 0.0,\n",
       "   'pattern_consistency': 0.01}},\n",
       " 'smoker': {'data_types': 'string',\n",
       "  'missing_values': 0,\n",
       "  'missing_values_pct': 0.0,\n",
       "  'unique_values': 2,\n",
       "  'unique_values_pct': 0.01,\n",
       "  'most_frequent': {'No': 151, 'Yes': 93},\n",
       "  'statistics': {'mode': 'No',\n",
       "   'avg_length': 2.38,\n",
       "   'min_length': 2.0,\n",
       "   'max_length': 3.0,\n",
       "   'empty_count': 0.0,\n",
       "   'whitespace_count': 0.0,\n",
       "   'pattern_consistency': 0.01}},\n",
       " 'day': {'data_types': 'string',\n",
       "  'missing_values': 0,\n",
       "  'missing_values_pct': 0.0,\n",
       "  'unique_values': 4,\n",
       "  'unique_values_pct': 0.02,\n",
       "  'most_frequent': {'Sat': 87, 'Sun': 76, 'Thur': 62, 'Fri': 19},\n",
       "  'statistics': {'mode': 'Sat',\n",
       "   'avg_length': 3.25,\n",
       "   'min_length': 3.0,\n",
       "   'max_length': 4.0,\n",
       "   'empty_count': 0.0,\n",
       "   'whitespace_count': 0.0,\n",
       "   'pattern_consistency': 0.02}},\n",
       " 'time': {'data_types': 'string',\n",
       "  'missing_values': 0,\n",
       "  'missing_values_pct': 0.0,\n",
       "  'unique_values': 2,\n",
       "  'unique_values_pct': 0.01,\n",
       "  'most_frequent': {'Dinner': 176, 'Lunch': 68},\n",
       "  'statistics': {'mode': 'Dinner',\n",
       "   'avg_length': 5.72,\n",
       "   'min_length': 5.0,\n",
       "   'max_length': 6.0,\n",
       "   'empty_count': 0.0,\n",
       "   'whitespace_count': 0.0,\n",
       "   'pattern_consistency': 0.01}},\n",
       " 'size': {'data_types': 'integer',\n",
       "  'missing_values': 0,\n",
       "  'missing_values_pct': 0.0,\n",
       "  'unique_values': 6,\n",
       "  'unique_values_pct': 0.02,\n",
       "  'most_frequent': {2: 156, 3: 38, 4: 37, 5: 5, 1: 4},\n",
       "  'statistics': {'min': 1.0,\n",
       "   'max': 6.0,\n",
       "   'mean': 2.57,\n",
       "   'median': 2.0,\n",
       "   'std': 0.95,\n",
       "   'var': 0.9,\n",
       "   'skew': 1.45,\n",
       "   'kurt': 1.73,\n",
       "   'iqr': 1.0,\n",
       "   'cv': 0.37,\n",
       "   'lower_bound': 0.5,\n",
       "   'upper_bound': 4.5}}}"
      ]
     },
     "execution_count": 5,
     "metadata": {},
     "output_type": "execute_result"
    }
   ],
   "source": [
    "tips_metadata"
   ]
  },
  {
   "cell_type": "code",
   "execution_count": 6,
   "id": "79f053e1",
   "metadata": {},
   "outputs": [],
   "source": [
    "descriptions = dict(\n",
    "    total_bill=\"the amount of paid bill of the meal\",\n",
    "    tip=\"the amount of tip that customers paid\",\n",
    "    sex=\"the gender of customers\",\n",
    "    smoker=\"it indicates that a customer is a smoker or not. if No means a customer is a non-smoker, Yes means a customer is a smoker.\",\n",
    "    day=\"this is a day of the week when a customer having a meal here. i.e. Mon, Tue, Wed, Thu, Fri, Sat, Sun\",\n",
    "    time=\"the time of the meal. it can be either Dinner or Lunch\",\n",
    "    size=\"the number of dishes that customers have\",\n",
    ")"
   ]
  },
  {
   "cell_type": "code",
   "execution_count": 7,
   "id": "67361b3c",
   "metadata": {},
   "outputs": [
    {
     "data": {
      "text/plain": [
       "[None, None, None, None, None, None, None]"
      ]
     },
     "execution_count": 7,
     "metadata": {},
     "output_type": "execute_result"
    }
   ],
   "source": [
    "[tips_metadata[feat].update(dict(description=descriptions[feat])) for feat in tips.columns.tolist()]"
   ]
  },
  {
   "cell_type": "code",
   "execution_count": 8,
   "id": "ea266f99",
   "metadata": {},
   "outputs": [],
   "source": [
    "from broinsight.experiment.ollama import LocalOpenAI\n",
    "model = LocalOpenAI()"
   ]
  },
  {
   "cell_type": "code",
   "execution_count": 9,
   "id": "85e5ea66",
   "metadata": {},
   "outputs": [
    {
     "name": "stdout",
     "output_type": "stream",
     "text": [
      "**Here’s a quick snapshot of what the dataset contains**\n",
      "\n",
      "| Column | Data type | Key stats (min‑max, mean, etc.) | Typical values | What it tells you |\n",
      "|--------|-----------|---------------------------------|----------------|-------------------|\n",
      "| **total_bill** | float | 3.07 – 50.81 USD, mean ≈ 19.79 | Amount customers paid for the meal | The size of each bill |\n",
      "| **tip** | float | 1.0 – 10.0 USD, mean ≈ 3.0 | Amount customers tipped | How generous customers are |\n",
      "| **sex** | string | Male / Female | 157 Male, 87 Female | Gender distribution |\n",
      "| **smoker** | string | No / Yes | 151 Non‑smokers, 93 Smokers | Smoking status |\n",
      "| **day** | string | Sat, Sun, Thur, Fri | 87 Sat, 76 Sun, 62 Thur, 19 Fri | Day of the week the meal was served |\n",
      "| **time** | string | Lunch / Dinner | 176 Dinner, 68 Lunch | Meal time |\n",
      "| **size** | integer | 1 – 6 people, mean ≈ 2.57 | 2 (156), 3 (38), 4 (37) | Party size |\n",
      "\n",
      "- **Rows:** 222 (no missing values)\n",
      "- **Columns:** 7 (all clean, no nulls)\n",
      "- **Typical use‑case:** Understanding tipping behavior in a restaurant setting.\n",
      "\n",
      "---\n",
      "\n",
      "If you’d like to dive deeper—say, compare tips by day or see how party size affects the bill—just let me know and I can suggest some specific questions to explore!\n"
     ]
    }
   ],
   "source": [
    "from broprompt import Prompt\n",
    "\n",
    "prompt = Prompt.from_markdown(\"broinsight/prompt_hub/guide_question.md\")\n",
    "metadata = \"METADATA:\\n\\n{metadata}\\n\\n\".format(metadata=\"\\n\".join([\"{field}: {detail}\".format(field=field, detail=detail) for field, detail in tips_metadata.items()]))\n",
    "user_input = \"USER_INPUT:\\n\\nWhat data do we have?\"\n",
    "response = model.run(system_prompt=prompt.str, messages=[model.UserMessage(text=metadata+user_input)])\n",
    "\n",
    "print(response['content'])"
   ]
  },
  {
   "cell_type": "code",
   "execution_count": 10,
   "id": "046295a4",
   "metadata": {},
   "outputs": [
    {
     "name": "stdout",
     "output_type": "stream",
     "text": [
      "```text\n",
      "This table records every meal a customer orders at a restaurant.  \n",
      "Each row shows how much the bill was, how much tip the customer gave, when the meal happened (day of the week and lunch or dinner), how many people were in the party, and simple demographic details (gender and whether they smoke).  \n",
      "\n",
      "The data lets the restaurant:  \n",
      "• Understand tipping patterns and average spend by day, time, party size, and customer type.  \n",
      "• Forecast revenue and staffing needs for busy periods (e.g., weekends or dinner service).  \n",
      "• Evaluate the impact of promotions or menu changes on sales and tips.  \n",
      "• Identify customer segments that generate higher tips or spend more, helping target marketing or loyalty programs.  \n",
      "\n",
      "Typical users are restaurant managers, finance analysts, marketing teams, and operations planners who need quick, business‑friendly insights into sales performance and customer behavior.\n"
     ]
    }
   ],
   "source": [
    "prompt = Prompt.from_markdown(\"broinsight/prompt_hub/table_descriptor.md\")\n",
    "metadata = \"METADATA:\\n\\n{metadata}\\n\\n\".format(metadata=\"\\n\".join([\"{field}: {detail}\".format(field=field, detail=detail) for field, detail in tips_metadata.items()]))\n",
    "response = model.run(system_prompt=prompt.str, messages=[model.UserMessage(text=metadata)])\n",
    "\n",
    "print(response[\"content\"])"
   ]
  },
  {
   "cell_type": "code",
   "execution_count": 11,
   "id": "8d7d126a",
   "metadata": {},
   "outputs": [],
   "source": [
    "table_name = \"tips\"\n",
    "table_description = response['content'].split(\"```text\")[-1].split(\"```\")[0]\n",
    "\n",
    "table_metadata = dict(\n",
    "    table_name=table_name,\n",
    "    table_description=table_description,\n",
    ")\n",
    "table_metadata.update(tips_metadata)"
   ]
  },
  {
   "cell_type": "code",
   "execution_count": 20,
   "id": "7a72ff66",
   "metadata": {},
   "outputs": [
    {
     "name": "stdout",
     "output_type": "stream",
     "text": [
      "```sql\n",
      "SELECT\n",
      "    sex,\n",
      "    smoker,\n",
      "    AVG(total_bill) AS avg_total_bill,\n",
      "    AVG(tip)       AS avg_tip\n",
      "FROM\n",
      "    tips\n",
      "GROUP BY\n",
      "    sex,\n",
      "    smoker\n",
      "ORDER BY\n",
      "    avg_tip DESC;\n",
      "```\n"
     ]
    }
   ],
   "source": [
    "# question = \"I wanna know how many people visit my shop compare to global population and tell me the source of information.\"\n",
    "question = \"I wanna see the relationship between average total bill and average tips of segments of sex and smoker.\"\n",
    "# question = \"Does smoker tip differently than non-smoker breaking down by time of day?\"\n",
    "# question = \"Which sex gives the better tips?\"\n",
    "# question = \"Which sex gives the better tips than one another?\"\n",
    "# question = \"I wanna know that weekend have a size bigger than weekday or not? If so how many?\"\n",
    "# question = \"อยากรู้ว่า คนกินข้าวเยอะ ในวันไหนมากกว่ากัน ระหว่าง วันจันทร์ และ วันศุกร์ เป็นจำนวนเท่าไหร่?\"\n",
    "# question = \"I wanna know how many people are in between smoker and non-smoker groups. Also, do you know which brand of ciggaratte do the smoker prefer in our restaurant?\"\n",
    "# question = \"Which sex has the most dinner?\"\n",
    "# question = \"Based on sex, smoker type and meal of the day, which customer group paid most in tips?\"\n",
    "# question = \"Based on sex, smoker type and meal of the day, which customer group paid most in tips? I wanna see all comparisons.\"\n",
    "\n",
    "prompt = Prompt.from_markdown(\"broinsight/prompt_hub/generate_sql.md\")\n",
    "metadata = \"METADATA:\\n\\n{metadata}\\n\\n\".format(metadata=\"\\n\".join([\"{field}: {detail}\".format(field=field, detail=detail) for field, detail in table_metadata.items()]))\n",
    "user_input = \"USER_INPUT:\\n\\n{question}\".format(question=question)\n",
    "response = model.run(system_prompt=prompt.str, messages=[model.UserMessage(text=metadata+user_input)])\n",
    "\n",
    "print(response[\"content\"])"
   ]
  },
  {
   "cell_type": "code",
   "execution_count": 21,
   "id": "792cbd59",
   "metadata": {},
   "outputs": [
    {
     "name": "stdout",
     "output_type": "stream",
     "text": [
      "\n",
      "SELECT\n",
      "    sex,\n",
      "    smoker,\n",
      "    AVG(total_bill) AS avg_total_bill,\n",
      "    AVG(tip)       AS avg_tip\n",
      "FROM\n",
      "    tips\n",
      "GROUP BY\n",
      "    sex,\n",
      "    smoker\n",
      "ORDER BY\n",
      "    avg_tip DESC;\n",
      "\n"
     ]
    }
   ],
   "source": [
    "sql_query = response['content'].split(\"```sql\")[-1].split(\"```\")[0]\n",
    "print(sql_query)"
   ]
  },
  {
   "cell_type": "code",
   "execution_count": 22,
   "id": "306245ea",
   "metadata": {},
   "outputs": [
    {
     "data": {
      "text/html": [
       "<div>\n",
       "<style scoped>\n",
       "    .dataframe tbody tr th:only-of-type {\n",
       "        vertical-align: middle;\n",
       "    }\n",
       "\n",
       "    .dataframe tbody tr th {\n",
       "        vertical-align: top;\n",
       "    }\n",
       "\n",
       "    .dataframe thead th {\n",
       "        text-align: right;\n",
       "    }\n",
       "</style>\n",
       "<table border=\"1\" class=\"dataframe\">\n",
       "  <thead>\n",
       "    <tr style=\"text-align: right;\">\n",
       "      <th></th>\n",
       "      <th>sex</th>\n",
       "      <th>smoker</th>\n",
       "      <th>avg_total_bill</th>\n",
       "      <th>avg_tip</th>\n",
       "    </tr>\n",
       "  </thead>\n",
       "  <tbody>\n",
       "    <tr>\n",
       "      <th>0</th>\n",
       "      <td>Male</td>\n",
       "      <td>No</td>\n",
       "      <td>19.791237</td>\n",
       "      <td>3.113402</td>\n",
       "    </tr>\n",
       "    <tr>\n",
       "      <th>1</th>\n",
       "      <td>Male</td>\n",
       "      <td>Yes</td>\n",
       "      <td>22.284500</td>\n",
       "      <td>3.051167</td>\n",
       "    </tr>\n",
       "    <tr>\n",
       "      <th>2</th>\n",
       "      <td>Female</td>\n",
       "      <td>Yes</td>\n",
       "      <td>17.977879</td>\n",
       "      <td>2.931515</td>\n",
       "    </tr>\n",
       "    <tr>\n",
       "      <th>3</th>\n",
       "      <td>Female</td>\n",
       "      <td>No</td>\n",
       "      <td>18.105185</td>\n",
       "      <td>2.773519</td>\n",
       "    </tr>\n",
       "  </tbody>\n",
       "</table>\n",
       "</div>"
      ],
      "text/plain": [
       "      sex smoker  avg_total_bill   avg_tip\n",
       "0    Male     No       19.791237  3.113402\n",
       "1    Male    Yes       22.284500  3.051167\n",
       "2  Female    Yes       17.977879  2.931515\n",
       "3  Female     No       18.105185  2.773519"
      ]
     },
     "execution_count": 22,
     "metadata": {},
     "output_type": "execute_result"
    }
   ],
   "source": [
    "import duckdb\n",
    "conn = duckdb.connect()\n",
    "conn.register(\"tips\", tips)\n",
    "query_result = conn.execute(sql_query).df()\n",
    "query_result"
   ]
  },
  {
   "cell_type": "code",
   "execution_count": 23,
   "id": "f575a2a2",
   "metadata": {},
   "outputs": [
    {
     "name": "stdout",
     "output_type": "stream",
     "text": [
      "Sure thing!  \n",
      "Let’s break the problem into a few easy‑to‑follow steps:\n",
      "\n",
      "| What you want | How to do it | What you’ll learn |\n",
      "|---------------|--------------|-------------------|\n",
      "| **Visualize** the relationship between `avg_total_bill` and `avg_tip` for each segment | Scatter‑plot (or line‑plot) with `sex` as the hue and `smoker` as the style (or a faceted grid) | Do the tips rise with the bill? Does that trend differ for males vs. females or smokers vs. non‑smokers? |\n",
      "| **Quantify** the trend | Compute the Pearson correlation (or Spearman if the relationship looks non‑linear) inside each segment | How strong is the relationship? |\n",
      "| **Model** the trend | Fit a simple linear regression for each segment | Can we predict the tip from the bill? |\n",
      "\n",
      "Below is a quick Python notebook snippet that does all of the above using `pandas`, `seaborn` and `scipy`. Feel free to copy‑paste it into a Jupyter notebook or your favourite IDE.\n",
      "\n",
      "```python\n",
      "# ----------------------------------------------------\n",
      "# 1️⃣  Load the data\n",
      "# ----------------------------------------------------\n",
      "import pandas as pd\n",
      "import seaborn as sns\n",
      "import matplotlib.pyplot as plt\n",
      "from scipy.stats import pearsonr\n",
      "\n",
      "# Your data – copy‑paste the table you gave me\n",
      "data = {\n",
      "    'sex': ['Male', 'Male', 'Female', 'Female'],\n",
      "    'smoker': ['No', 'Yes', 'Yes', 'No'],\n",
      "    'avg_total_bill': [19.791237, 22.284500, 17.977879, 18.105185],\n",
      "    'avg_tip': [3.113402, 3.051167, 2.931515, 2.773519]\n",
      "}\n",
      "df = pd.DataFrame(data)\n",
      "\n",
      "# ----------------------------------------------------\n",
      "# 2️⃣  Visualize the relationship\n",
      "# ----------------------------------------------------\n",
      "sns.set_style(\"whitegrid\")\n",
      "\n",
      "plt.figure(figsize=(8, 6))\n",
      "sns.scatterplot(\n",
      "    data=df,\n",
      "    x='avg_total_bill',\n",
      "    y='avg_tip',\n",
      "    hue='sex',\n",
      "    style='smoker',\n",
      "    s=120,  # marker size\n",
      "    palette='Set2',\n",
      "    edgecolor='k'\n",
      ")\n",
      "\n",
      "plt.title('Avg. Tip vs. Avg. Total Bill by Sex & Smoker Status')\n",
      "plt.xlabel('Average Total Bill')\n",
      "plt.ylabel('Average Tip')\n",
      "plt.legend(title='Sex / Smoker', bbox_to_anchor=(1.05, 1), loc='upper left')\n",
      "plt.tight_layout()\n",
      "plt.show()\n",
      "\n",
      "# ----------------------------------------------------\n",
      "# 3️⃣  Compute correlations per segment\n",
      "# ----------------------------------------------------\n",
      "print(\"Correlation matrix per segment:\\n\")\n",
      "for sex in df['sex'].unique():\n",
      "    for smoker in df['smoker'].unique():\n",
      "        subset = df[(df['sex'] == sex) & (df['smoker'] == smoker)]\n",
      "        if len(subset) >= 2:  # need at least 2 points to compute corr\n",
      "            corr, pval = pearsonr(subset['avg_total_bill'], subset['avg_tip'])\n",
      "            print(f\"{sex} / {smoker}:  r = {corr:.3f} (p = {pval:.3f})\")\n",
      "        else:\n",
      "            print(f\"{sex} / {smoker}:  Not enough data points\")\n",
      "\n",
      "# ----------------------------------------------------\n",
      "# 4️⃣  Optional – fit a simple linear regression per segment\n",
      "# ----------------------------------------------------\n",
      "import statsmodels.api as sm\n",
      "\n",
      "print(\"\\nLinear regression per segment:\")\n",
      "for sex in df['sex'].unique():\n",
      "    for smoker in df['smoker'].unique():\n",
      "        subset = df[(df['sex'] == sex) & (df['smoker'] == smoker)]\n",
      "        if len(subset) >= 2:\n",
      "            X = sm.add_constant(subset['avg_total_bill'])\n",
      "            y = subset['avg_tip']\n",
      "            model = sm.OLS(y, X).fit()\n",
      "            print(f\"\\n{sex} / {smoker} regression:\")\n",
      "            print(model.summary())\n",
      "        else:\n",
      "            print(f\"{sex} / {smoker}:  Not enough data points\")\n",
      "```\n",
      "\n",
      "### What to look for\n",
      "\n",
      "| Output | Interpretation |\n",
      "|--------|----------------|\n",
      "| **Scatter plot** | If points line up roughly along a diagonal, tips tend to increase with the bill. Different colors/markers will show if the slope or intercept differs across groups. |\n",
      "| **Correlation** | `r` close to +1 → strong positive relationship; 0 → no linear relationship. A low p‑value (e.g., `<0.05`) means the correlation is statistically significant. |\n",
      "| **Regression** | The slope coefficient tells you how many dollars the tip grows per dollar increase in the bill. The `R²` value shows how much of the tip variance is explained by the bill. |\n",
      "\n",
      "### Next steps & what else you could try\n",
      "\n",
      "1. **Add more data** – With only four points you can’t do much statistical inference. A larger sample will give more reliable correlations and regression estimates.\n",
      "2. **Include more variables** – If you have the original `total_bill`, `tip`, `size`, `day`, etc., you could build a multivariate model (e.g., multiple regression, decision tree) to predict tips.\n",
      "3. **Check for non‑linearity** – Plot a LOWESS curve or use a polynomial regression if the relationship looks curvy.\n",
      "4. **Explore interaction terms** – In a regression, test whether the effect of the bill on the tip depends on sex or smoker status (`bill * sex`, `bill * smoker`).\n",
      "\n",
      "Let me know if you’d like help expanding this analysis, interpreting specific outputs, or visualizing a larger dataset!\n"
     ]
    }
   ],
   "source": [
    "prompt = Prompt.from_markdown(\"broinsight/prompt_hub/chat.md\")\n",
    "context = \"CONTEXT:\\n\\n{context}n\\n\".format(context=query_result.to_string())\n",
    "user_input = \"USER_INPUT:\\n\\n{question}\".format(question=question)\n",
    "response = model.run(system_prompt=prompt.str, messages=[model.UserMessage(text=context+user_input)])\n",
    "\n",
    "print(response[\"content\"])"
   ]
  },
  {
   "cell_type": "code",
   "execution_count": 24,
   "id": "70c1786c",
   "metadata": {},
   "outputs": [],
   "source": [
    "# 1. LLM generates function code\n",
    "prompt = Prompt.from_markdown(\"broinsight/prompt_hub/chart_builder.md\")\n",
    "data = \"DATA:\\n\\n{data}\\n\\n\".format(data=query_result.to_string())\n",
    "user_input = \"USER_INPUT:\\n\\n{question}\".format(question=question)\n",
    "response = model.run(system_prompt=prompt.str, messages=[\n",
    "    model.UserMessage(text=data+user_input)\n",
    "])"
   ]
  },
  {
   "cell_type": "code",
   "execution_count": 25,
   "id": "e5fece24",
   "metadata": {},
   "outputs": [
    {
     "name": "stdout",
     "output_type": "stream",
     "text": [
      "```python\n",
      "def create_chart(data):\n",
      "    import plotly.express as px\n",
      "    import pandas as pd\n",
      "    \n",
      "    # Ensure column names are in the DataFrame\n",
      "    cols = [c.lower() for c in data.columns]\n",
      "    # Identify numeric and categorical columns\n",
      "    numeric_cols = data.select_dtypes(include='number').columns.tolist()\n",
      "    categorical_cols = data.select_dtypes(include=['object', 'category', 'bool']).columns.tolist()\n",
      "    \n",
      "    # Define expected columns\n",
      "    exp_numeric = {'avg_total_bill', 'avg_tip'}\n",
      "    exp_categorical = {'sex', 'smoker'}\n",
      "    \n",
      "    # Check if required columns exist\n",
      "    if exp_numeric.issubset(set(cols)) and exp_categorical.issubset(set(cols)):\n",
      "        # Use original column names\n",
      "        x_col = data.columns[[c.lower() for c in data.columns].index('avg_total_bill')]\n",
      "        y_col = data.columns[[c.lower() for c in data.columns].index('avg_tip')]\n",
      "        color_col = data.columns[[c.lower() for c in data.columns].index('sex')]\n",
      "        symbol_col = data.columns[[c.lower() for c in data.columns].index('smoker')]\n",
      "        \n",
      "        fig = px.scatter(\n",
      "            data,\n",
      "            x=x_col,\n",
      "            y=y_col,\n",
      "            color=color_col,\n",
      "            symbol=symbol_col,\n",
      "            title='Average Total Bill vs. Average Tip by Sex and Smoker Status',\n",
      "            labels={\n",
      "                x_col: 'Average Total Bill ($)',\n",
      "                y_col: 'Average Tip ($)',\n",
      "                color_col: 'Sex',\n",
      "                symbol_col: 'Smoker'\n",
      "            },\n",
      "            hover_data=[x_col, y_col, color_col, symbol_col]\n",
      "        )\n",
      "        fig.update_traces(marker=dict(size=12, line=dict(width=1, color='DarkSlateGrey')))\n",
      "        fig.update_layout(\n",
      "            legend_title_text='',\n",
      "            template='plotly_white',\n",
      "            margin=dict(l=40, r=40, t=60, b=40)\n",
      "        )\n",
      "        return fig\n",
      "    \n",
      "    # Fallback: if missing columns, attempt a generic scatter if possible\n",
      "    if {'avg_total_bill', 'avg_tip'}.issubset(set(cols)):\n",
      "        x_col = data.columns[[c.lower() for c in data.columns].index('avg_total_bill')]\n",
      "        y_col = data.columns[[c.lower() for c in data.columns].index('avg_tip')]\n",
      "        fig = px.scatter(\n",
      "            data,\n",
      "            x=x_col,\n",
      "            y=y_col,\n",
      "            title='Average Total Bill vs. Average Tip',\n",
      "            labels={x_col: 'Average Total Bill ($)', y_col: 'Average Tip ($)'}\n",
      "        )\n",
      "        return fig\n",
      "    \n",
      "    # If data insufficient, return an empty figure with a message\n",
      "    fig = px.scatter()\n",
      "    fig.add_annotation(\n",
      "        x=0.5,\n",
      "        y=0.5,\n",
      "        text=\"Insufficient data for requested chart\",\n",
      "        showarrow=False,\n",
      "        font=dict(size=14)\n",
      "    )\n",
      "    fig.update_xaxes(visible=False)\n",
      "    fig.update_yaxes(visible=False)\n",
      "    return fig\n",
      "```\n"
     ]
    }
   ],
   "source": [
    "print(response['content'])"
   ]
  },
  {
   "cell_type": "code",
   "execution_count": 26,
   "id": "9eba4b07",
   "metadata": {},
   "outputs": [],
   "source": [
    "function_code = response['content'].split(\"```python\")[-1].split(\"```\")[0]\n",
    "\n",
    "# 2. Execute to create function\n",
    "exec(function_code)  # Now create_chart function exists\n",
    "\n",
    "# 3. Call with actual data\n",
    "fig = create_chart(query_result)"
   ]
  },
  {
   "cell_type": "code",
   "execution_count": 27,
   "id": "9e63721c",
   "metadata": {},
   "outputs": [
    {
     "data": {
      "application/vnd.plotly.v1+json": {
       "config": {
        "plotlyServerURL": "https://plot.ly"
       },
       "data": [
        {
         "customdata": [
          [
           "Male",
           "No"
          ]
         ],
         "hovertemplate": "Sex=%{customdata[0]}<br>Smoker=%{customdata[1]}<br>Average Total Bill ($)=%{x}<br>Average Tip ($)=%{y}<extra></extra>",
         "legendgroup": "Male, No",
         "marker": {
          "color": "#636efa",
          "line": {
           "color": "DarkSlateGrey",
           "width": 1
          },
          "size": 12,
          "symbol": "circle"
         },
         "mode": "markers",
         "name": "Male, No",
         "orientation": "v",
         "showlegend": true,
         "type": "scatter",
         "x": {
          "bdata": "e3H1g47KM0A=",
          "dtype": "f8"
         },
         "xaxis": "x",
         "y": {
          "bdata": "qcAXVz/oCEA=",
          "dtype": "f8"
         },
         "yaxis": "y"
        },
        {
         "customdata": [
          [
           "Male",
           "Yes"
          ]
         ],
         "hovertemplate": "Sex=%{customdata[0]}<br>Smoker=%{customdata[1]}<br>Average Total Bill ($)=%{x}<br>Average Tip ($)=%{y}<extra></extra>",
         "legendgroup": "Male, Yes",
         "marker": {
          "color": "#636efa",
          "line": {
           "color": "DarkSlateGrey",
           "width": 1
          },
          "size": 12,
          "symbol": "diamond"
         },
         "mode": "markers",
         "name": "Male, Yes",
         "orientation": "v",
         "showlegend": true,
         "type": "scatter",
         "x": {
          "bdata": "Rrbz/dRINkA=",
          "dtype": "f8"
         },
         "xaxis": "x",
         "y": {
          "bdata": "T9S/EcpoCEA=",
          "dtype": "f8"
         },
         "yaxis": "y"
        },
        {
         "customdata": [
          [
           "Female",
           "No"
          ]
         ],
         "hovertemplate": "Sex=%{customdata[0]}<br>Smoker=%{customdata[1]}<br>Average Total Bill ($)=%{x}<br>Average Tip ($)=%{y}<extra></extra>",
         "legendgroup": "Female, No",
         "marker": {
          "color": "#EF553B",
          "line": {
           "color": "DarkSlateGrey",
           "width": 1
          },
          "size": 12,
          "symbol": "circle"
         },
         "mode": "markers",
         "name": "Female, No",
         "orientation": "v",
         "showlegend": true,
         "type": "scatter",
         "x": {
          "bdata": "4WSSau0aMkA=",
          "dtype": "f8"
         },
         "xaxis": "x",
         "y": {
          "bdata": "aRkfeiowBkA=",
          "dtype": "f8"
         },
         "yaxis": "y"
        },
        {
         "customdata": [
          [
           "Female",
           "Yes"
          ]
         ],
         "hovertemplate": "Sex=%{customdata[0]}<br>Smoker=%{customdata[1]}<br>Average Total Bill ($)=%{x}<br>Average Tip ($)=%{y}<extra></extra>",
         "legendgroup": "Female, Yes",
         "marker": {
          "color": "#EF553B",
          "line": {
           "color": "DarkSlateGrey",
           "width": 1
          },
          "size": 12,
          "symbol": "diamond"
         },
         "mode": "markers",
         "name": "Female, Yes",
         "orientation": "v",
         "showlegend": true,
         "type": "scatter",
         "x": {
          "bdata": "OmSlQ1b6MUA=",
          "dtype": "f8"
         },
         "xaxis": "x",
         "y": {
          "bdata": "c+M7N75zB0A=",
          "dtype": "f8"
         },
         "yaxis": "y"
        }
       ],
       "layout": {
        "legend": {
         "title": {
          "text": ""
         },
         "tracegroupgap": 0
        },
        "margin": {
         "b": 40,
         "l": 40,
         "r": 40,
         "t": 60
        },
        "template": {
         "data": {
          "bar": [
           {
            "error_x": {
             "color": "#2a3f5f"
            },
            "error_y": {
             "color": "#2a3f5f"
            },
            "marker": {
             "line": {
              "color": "white",
              "width": 0.5
             },
             "pattern": {
              "fillmode": "overlay",
              "size": 10,
              "solidity": 0.2
             }
            },
            "type": "bar"
           }
          ],
          "barpolar": [
           {
            "marker": {
             "line": {
              "color": "white",
              "width": 0.5
             },
             "pattern": {
              "fillmode": "overlay",
              "size": 10,
              "solidity": 0.2
             }
            },
            "type": "barpolar"
           }
          ],
          "carpet": [
           {
            "aaxis": {
             "endlinecolor": "#2a3f5f",
             "gridcolor": "#C8D4E3",
             "linecolor": "#C8D4E3",
             "minorgridcolor": "#C8D4E3",
             "startlinecolor": "#2a3f5f"
            },
            "baxis": {
             "endlinecolor": "#2a3f5f",
             "gridcolor": "#C8D4E3",
             "linecolor": "#C8D4E3",
             "minorgridcolor": "#C8D4E3",
             "startlinecolor": "#2a3f5f"
            },
            "type": "carpet"
           }
          ],
          "choropleth": [
           {
            "colorbar": {
             "outlinewidth": 0,
             "ticks": ""
            },
            "type": "choropleth"
           }
          ],
          "contour": [
           {
            "colorbar": {
             "outlinewidth": 0,
             "ticks": ""
            },
            "colorscale": [
             [
              0,
              "#0d0887"
             ],
             [
              0.1111111111111111,
              "#46039f"
             ],
             [
              0.2222222222222222,
              "#7201a8"
             ],
             [
              0.3333333333333333,
              "#9c179e"
             ],
             [
              0.4444444444444444,
              "#bd3786"
             ],
             [
              0.5555555555555556,
              "#d8576b"
             ],
             [
              0.6666666666666666,
              "#ed7953"
             ],
             [
              0.7777777777777778,
              "#fb9f3a"
             ],
             [
              0.8888888888888888,
              "#fdca26"
             ],
             [
              1,
              "#f0f921"
             ]
            ],
            "type": "contour"
           }
          ],
          "contourcarpet": [
           {
            "colorbar": {
             "outlinewidth": 0,
             "ticks": ""
            },
            "type": "contourcarpet"
           }
          ],
          "heatmap": [
           {
            "colorbar": {
             "outlinewidth": 0,
             "ticks": ""
            },
            "colorscale": [
             [
              0,
              "#0d0887"
             ],
             [
              0.1111111111111111,
              "#46039f"
             ],
             [
              0.2222222222222222,
              "#7201a8"
             ],
             [
              0.3333333333333333,
              "#9c179e"
             ],
             [
              0.4444444444444444,
              "#bd3786"
             ],
             [
              0.5555555555555556,
              "#d8576b"
             ],
             [
              0.6666666666666666,
              "#ed7953"
             ],
             [
              0.7777777777777778,
              "#fb9f3a"
             ],
             [
              0.8888888888888888,
              "#fdca26"
             ],
             [
              1,
              "#f0f921"
             ]
            ],
            "type": "heatmap"
           }
          ],
          "histogram": [
           {
            "marker": {
             "pattern": {
              "fillmode": "overlay",
              "size": 10,
              "solidity": 0.2
             }
            },
            "type": "histogram"
           }
          ],
          "histogram2d": [
           {
            "colorbar": {
             "outlinewidth": 0,
             "ticks": ""
            },
            "colorscale": [
             [
              0,
              "#0d0887"
             ],
             [
              0.1111111111111111,
              "#46039f"
             ],
             [
              0.2222222222222222,
              "#7201a8"
             ],
             [
              0.3333333333333333,
              "#9c179e"
             ],
             [
              0.4444444444444444,
              "#bd3786"
             ],
             [
              0.5555555555555556,
              "#d8576b"
             ],
             [
              0.6666666666666666,
              "#ed7953"
             ],
             [
              0.7777777777777778,
              "#fb9f3a"
             ],
             [
              0.8888888888888888,
              "#fdca26"
             ],
             [
              1,
              "#f0f921"
             ]
            ],
            "type": "histogram2d"
           }
          ],
          "histogram2dcontour": [
           {
            "colorbar": {
             "outlinewidth": 0,
             "ticks": ""
            },
            "colorscale": [
             [
              0,
              "#0d0887"
             ],
             [
              0.1111111111111111,
              "#46039f"
             ],
             [
              0.2222222222222222,
              "#7201a8"
             ],
             [
              0.3333333333333333,
              "#9c179e"
             ],
             [
              0.4444444444444444,
              "#bd3786"
             ],
             [
              0.5555555555555556,
              "#d8576b"
             ],
             [
              0.6666666666666666,
              "#ed7953"
             ],
             [
              0.7777777777777778,
              "#fb9f3a"
             ],
             [
              0.8888888888888888,
              "#fdca26"
             ],
             [
              1,
              "#f0f921"
             ]
            ],
            "type": "histogram2dcontour"
           }
          ],
          "mesh3d": [
           {
            "colorbar": {
             "outlinewidth": 0,
             "ticks": ""
            },
            "type": "mesh3d"
           }
          ],
          "parcoords": [
           {
            "line": {
             "colorbar": {
              "outlinewidth": 0,
              "ticks": ""
             }
            },
            "type": "parcoords"
           }
          ],
          "pie": [
           {
            "automargin": true,
            "type": "pie"
           }
          ],
          "scatter": [
           {
            "fillpattern": {
             "fillmode": "overlay",
             "size": 10,
             "solidity": 0.2
            },
            "type": "scatter"
           }
          ],
          "scatter3d": [
           {
            "line": {
             "colorbar": {
              "outlinewidth": 0,
              "ticks": ""
             }
            },
            "marker": {
             "colorbar": {
              "outlinewidth": 0,
              "ticks": ""
             }
            },
            "type": "scatter3d"
           }
          ],
          "scattercarpet": [
           {
            "marker": {
             "colorbar": {
              "outlinewidth": 0,
              "ticks": ""
             }
            },
            "type": "scattercarpet"
           }
          ],
          "scattergeo": [
           {
            "marker": {
             "colorbar": {
              "outlinewidth": 0,
              "ticks": ""
             }
            },
            "type": "scattergeo"
           }
          ],
          "scattergl": [
           {
            "marker": {
             "colorbar": {
              "outlinewidth": 0,
              "ticks": ""
             }
            },
            "type": "scattergl"
           }
          ],
          "scattermap": [
           {
            "marker": {
             "colorbar": {
              "outlinewidth": 0,
              "ticks": ""
             }
            },
            "type": "scattermap"
           }
          ],
          "scattermapbox": [
           {
            "marker": {
             "colorbar": {
              "outlinewidth": 0,
              "ticks": ""
             }
            },
            "type": "scattermapbox"
           }
          ],
          "scatterpolar": [
           {
            "marker": {
             "colorbar": {
              "outlinewidth": 0,
              "ticks": ""
             }
            },
            "type": "scatterpolar"
           }
          ],
          "scatterpolargl": [
           {
            "marker": {
             "colorbar": {
              "outlinewidth": 0,
              "ticks": ""
             }
            },
            "type": "scatterpolargl"
           }
          ],
          "scatterternary": [
           {
            "marker": {
             "colorbar": {
              "outlinewidth": 0,
              "ticks": ""
             }
            },
            "type": "scatterternary"
           }
          ],
          "surface": [
           {
            "colorbar": {
             "outlinewidth": 0,
             "ticks": ""
            },
            "colorscale": [
             [
              0,
              "#0d0887"
             ],
             [
              0.1111111111111111,
              "#46039f"
             ],
             [
              0.2222222222222222,
              "#7201a8"
             ],
             [
              0.3333333333333333,
              "#9c179e"
             ],
             [
              0.4444444444444444,
              "#bd3786"
             ],
             [
              0.5555555555555556,
              "#d8576b"
             ],
             [
              0.6666666666666666,
              "#ed7953"
             ],
             [
              0.7777777777777778,
              "#fb9f3a"
             ],
             [
              0.8888888888888888,
              "#fdca26"
             ],
             [
              1,
              "#f0f921"
             ]
            ],
            "type": "surface"
           }
          ],
          "table": [
           {
            "cells": {
             "fill": {
              "color": "#EBF0F8"
             },
             "line": {
              "color": "white"
             }
            },
            "header": {
             "fill": {
              "color": "#C8D4E3"
             },
             "line": {
              "color": "white"
             }
            },
            "type": "table"
           }
          ]
         },
         "layout": {
          "annotationdefaults": {
           "arrowcolor": "#2a3f5f",
           "arrowhead": 0,
           "arrowwidth": 1
          },
          "autotypenumbers": "strict",
          "coloraxis": {
           "colorbar": {
            "outlinewidth": 0,
            "ticks": ""
           }
          },
          "colorscale": {
           "diverging": [
            [
             0,
             "#8e0152"
            ],
            [
             0.1,
             "#c51b7d"
            ],
            [
             0.2,
             "#de77ae"
            ],
            [
             0.3,
             "#f1b6da"
            ],
            [
             0.4,
             "#fde0ef"
            ],
            [
             0.5,
             "#f7f7f7"
            ],
            [
             0.6,
             "#e6f5d0"
            ],
            [
             0.7,
             "#b8e186"
            ],
            [
             0.8,
             "#7fbc41"
            ],
            [
             0.9,
             "#4d9221"
            ],
            [
             1,
             "#276419"
            ]
           ],
           "sequential": [
            [
             0,
             "#0d0887"
            ],
            [
             0.1111111111111111,
             "#46039f"
            ],
            [
             0.2222222222222222,
             "#7201a8"
            ],
            [
             0.3333333333333333,
             "#9c179e"
            ],
            [
             0.4444444444444444,
             "#bd3786"
            ],
            [
             0.5555555555555556,
             "#d8576b"
            ],
            [
             0.6666666666666666,
             "#ed7953"
            ],
            [
             0.7777777777777778,
             "#fb9f3a"
            ],
            [
             0.8888888888888888,
             "#fdca26"
            ],
            [
             1,
             "#f0f921"
            ]
           ],
           "sequentialminus": [
            [
             0,
             "#0d0887"
            ],
            [
             0.1111111111111111,
             "#46039f"
            ],
            [
             0.2222222222222222,
             "#7201a8"
            ],
            [
             0.3333333333333333,
             "#9c179e"
            ],
            [
             0.4444444444444444,
             "#bd3786"
            ],
            [
             0.5555555555555556,
             "#d8576b"
            ],
            [
             0.6666666666666666,
             "#ed7953"
            ],
            [
             0.7777777777777778,
             "#fb9f3a"
            ],
            [
             0.8888888888888888,
             "#fdca26"
            ],
            [
             1,
             "#f0f921"
            ]
           ]
          },
          "colorway": [
           "#636efa",
           "#EF553B",
           "#00cc96",
           "#ab63fa",
           "#FFA15A",
           "#19d3f3",
           "#FF6692",
           "#B6E880",
           "#FF97FF",
           "#FECB52"
          ],
          "font": {
           "color": "#2a3f5f"
          },
          "geo": {
           "bgcolor": "white",
           "lakecolor": "white",
           "landcolor": "white",
           "showlakes": true,
           "showland": true,
           "subunitcolor": "#C8D4E3"
          },
          "hoverlabel": {
           "align": "left"
          },
          "hovermode": "closest",
          "mapbox": {
           "style": "light"
          },
          "paper_bgcolor": "white",
          "plot_bgcolor": "white",
          "polar": {
           "angularaxis": {
            "gridcolor": "#EBF0F8",
            "linecolor": "#EBF0F8",
            "ticks": ""
           },
           "bgcolor": "white",
           "radialaxis": {
            "gridcolor": "#EBF0F8",
            "linecolor": "#EBF0F8",
            "ticks": ""
           }
          },
          "scene": {
           "xaxis": {
            "backgroundcolor": "white",
            "gridcolor": "#DFE8F3",
            "gridwidth": 2,
            "linecolor": "#EBF0F8",
            "showbackground": true,
            "ticks": "",
            "zerolinecolor": "#EBF0F8"
           },
           "yaxis": {
            "backgroundcolor": "white",
            "gridcolor": "#DFE8F3",
            "gridwidth": 2,
            "linecolor": "#EBF0F8",
            "showbackground": true,
            "ticks": "",
            "zerolinecolor": "#EBF0F8"
           },
           "zaxis": {
            "backgroundcolor": "white",
            "gridcolor": "#DFE8F3",
            "gridwidth": 2,
            "linecolor": "#EBF0F8",
            "showbackground": true,
            "ticks": "",
            "zerolinecolor": "#EBF0F8"
           }
          },
          "shapedefaults": {
           "line": {
            "color": "#2a3f5f"
           }
          },
          "ternary": {
           "aaxis": {
            "gridcolor": "#DFE8F3",
            "linecolor": "#A2B1C6",
            "ticks": ""
           },
           "baxis": {
            "gridcolor": "#DFE8F3",
            "linecolor": "#A2B1C6",
            "ticks": ""
           },
           "bgcolor": "white",
           "caxis": {
            "gridcolor": "#DFE8F3",
            "linecolor": "#A2B1C6",
            "ticks": ""
           }
          },
          "title": {
           "x": 0.05
          },
          "xaxis": {
           "automargin": true,
           "gridcolor": "#EBF0F8",
           "linecolor": "#EBF0F8",
           "ticks": "",
           "title": {
            "standoff": 15
           },
           "zerolinecolor": "#EBF0F8",
           "zerolinewidth": 2
          },
          "yaxis": {
           "automargin": true,
           "gridcolor": "#EBF0F8",
           "linecolor": "#EBF0F8",
           "ticks": "",
           "title": {
            "standoff": 15
           },
           "zerolinecolor": "#EBF0F8",
           "zerolinewidth": 2
          }
         }
        },
        "title": {
         "text": "Average Total Bill vs. Average Tip by Sex and Smoker Status"
        },
        "xaxis": {
         "anchor": "y",
         "domain": [
          0,
          1
         ],
         "title": {
          "text": "Average Total Bill ($)"
         }
        },
        "yaxis": {
         "anchor": "x",
         "domain": [
          0,
          1
         ],
         "title": {
          "text": "Average Tip ($)"
         }
        }
       }
      }
     },
     "metadata": {},
     "output_type": "display_data"
    }
   ],
   "source": [
    "fig.show()"
   ]
  },
  {
   "cell_type": "code",
   "execution_count": 55,
   "id": "07b00798",
   "metadata": {},
   "outputs": [],
   "source": [
    "# 4. Display with fallback\n",
    "try:\n",
    "    fig.show()\n",
    "except ValueError:\n",
    "    fig.show(renderer=\"browser\")  # Fallback to browser\n"
   ]
  },
  {
   "cell_type": "code",
   "execution_count": null,
   "id": "b08e0c95",
   "metadata": {},
   "outputs": [],
   "source": []
  }
 ],
 "metadata": {
  "kernelspec": {
   "display_name": "broinsight",
   "language": "python",
   "name": "python3"
  },
  "language_info": {
   "codemirror_mode": {
    "name": "ipython",
    "version": 3
   },
   "file_extension": ".py",
   "mimetype": "text/x-python",
   "name": "python",
   "nbconvert_exporter": "python",
   "pygments_lexer": "ipython3",
   "version": "3.12.9"
  }
 },
 "nbformat": 4,
 "nbformat_minor": 5
}
